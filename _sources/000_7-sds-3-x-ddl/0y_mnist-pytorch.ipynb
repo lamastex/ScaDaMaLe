{
 "cells": [
  {
   "cell_type": "markdown",
   "metadata": {},
   "source": [
    "ScaDaMaLe Course\n",
    "[site](https://lamastex.github.io/scalable-data-science/sds/3/x/) and\n",
    "[book](https://lamastex.github.io/ScaDaMaLe/index.html)\n",
    "\n",
    "Raazesh Sainudiin and Tilo Wiklund\n",
    "\n",
    "The following is from databricks blog with minor adaptations.\n",
    "\n",
    "Distributed deep learning training using PyTorch with HorovodRunner for MNIST\n",
    "=============================================================================\n",
    "\n",
    "This notebook demonstrates how to train a model for the MNIST dataset\n",
    "using PyTorch. It first shows how to train the model on a single node,\n",
    "and then shows how to adapt the code using HorovodRunner for distributed\n",
    "training.\n",
    "\n",
    "**Requirements** \\* This notebook runs on CPU or GPU clusters. \\* To run\n",
    "the notebook, create a cluster with - Two workers\n",
    "\n",
    "Cluster Specs on databricks\n",
    "---------------------------\n",
    "\n",
    "Run on `tiny-debug-cluster-(no)gpu` or another cluster with the\n",
    "following runtime specifications with CPU/non-GPU and GPU clusters,\n",
    "respectively:\n",
    "\n",
    "`* [x] Runs on 3 node non-GPU cluster with 7.4 ML     runtime (1+2 x m4.xlarge) * [x] Runs on 3 node     GPU cluster with 7.4 ML GPU runtime (1+2 x g4dn.xlarge)`\n",
    "\n",
    "Set up checkpoint location\n",
    "--------------------------\n",
    "\n",
    "The next cell creates a directory for saved checkpoint models.\n",
    "Databricks recommends saving training data under `dbfs:/ml`, which maps\n",
    "to `file:/dbfs/ml` on driver and worker nodes."
   ]
  },
  {
   "cell_type": "code",
   "execution_count": null,
   "metadata": {},
   "outputs": [],
   "source": [
    "PYTORCH_DIR = '/dbfs/ml/horovod_pytorch'"
   ]
  },
  {
   "cell_type": "markdown",
   "metadata": {},
   "source": [
    "  \n",
    "\n",
    "Prepare single-node code\n",
    "------------------------\n",
    "\n",
    "First you need to have working single-node PyTorch code. This is\n",
    "modified from [Horovod's PyTorch MNIST\n",
    "Example](https://github.com/horovod/horovod/blob/master/examples/pytorch/pytorch_mnist.py).\n",
    "\n",
    "### Define a simple convolutional network"
   ]
  },
  {
   "cell_type": "code",
   "execution_count": null,
   "metadata": {},
   "outputs": [],
   "source": [
    "import torch\n",
    "import torch.nn as nn\n",
    "import torch.nn.functional as F\n",
    "\n",
    "class Net(nn.Module):\n",
    "    def __init__(self):\n",
    "        super(Net, self).__init__()\n",
    "        self.conv1 = nn.Conv2d(1, 10, kernel_size=5)\n",
    "        self.conv2 = nn.Conv2d(10, 20, kernel_size=5)\n",
    "        self.conv2_drop = nn.Dropout2d()\n",
    "        self.fc1 = nn.Linear(320, 50)\n",
    "        self.fc2 = nn.Linear(50, 10)\n",
    "\n",
    "    def forward(self, x):\n",
    "        x = F.relu(F.max_pool2d(self.conv1(x), 2))\n",
    "        x = F.relu(F.max_pool2d(self.conv2_drop(self.conv2(x)), 2))\n",
    "        x = x.view(-1, 320)\n",
    "        x = F.relu(self.fc1(x))\n",
    "        x = F.dropout(x, training=self.training)\n",
    "        x = self.fc2(x)\n",
    "        return F.log_softmax(x)"
   ]
  },
  {
   "cell_type": "markdown",
   "metadata": {},
   "source": [
    "  \n",
    "\n",
    "### Configure single-node training"
   ]
  },
  {
   "cell_type": "code",
   "execution_count": null,
   "metadata": {},
   "outputs": [],
   "source": [
    "# Specify training parameters\n",
    "batch_size = 100\n",
    "num_epochs = 5\n",
    "momentum = 0.5\n",
    "log_interval = 100"
   ]
  },
  {
   "cell_type": "markdown",
   "metadata": {},
   "source": []
  },
  {
   "cell_type": "code",
   "execution_count": null,
   "metadata": {},
   "outputs": [],
   "source": [
    "def train_one_epoch(model, device, data_loader, optimizer, epoch):\n",
    "    model.train()\n",
    "    for batch_idx, (data, target) in enumerate(data_loader):\n",
    "        data, target = data.to(device), target.to(device)\n",
    "        optimizer.zero_grad()\n",
    "        output = model(data)\n",
    "        loss = F.nll_loss(output, target)\n",
    "        loss.backward()\n",
    "        optimizer.step()\n",
    "        if batch_idx % log_interval == 0:\n",
    "            print('Train Epoch: {} [{}/{} ({:.0f}%)]\\tLoss: {:.6f}'.format(\n",
    "                epoch, batch_idx * len(data), len(data_loader) * len(data),\n",
    "                100. * batch_idx / len(data_loader), loss.item()))"
   ]
  },
  {
   "cell_type": "markdown",
   "metadata": {},
   "source": [
    "  \n",
    "\n",
    "### Prepare log directory"
   ]
  },
  {
   "cell_type": "code",
   "execution_count": null,
   "metadata": {},
   "outputs": [],
   "source": [
    "from time import time\n",
    "import os\n",
    "\n",
    "LOG_DIR = os.path.join(PYTORCH_DIR, str(time()), 'MNISTDemo')\n",
    "os.makedirs(LOG_DIR)"
   ]
  },
  {
   "cell_type": "markdown",
   "metadata": {},
   "source": [
    "  \n",
    "\n",
    "### Create method for checkpointing and persisting model"
   ]
  },
  {
   "cell_type": "code",
   "execution_count": null,
   "metadata": {},
   "outputs": [],
   "source": [
    "def save_checkpoint(model, optimizer, epoch):\n",
    "  filepath = LOG_DIR + '/checkpoint-{epoch}.pth.tar'.format(epoch=epoch)\n",
    "  state = {\n",
    "    'model': model.state_dict(),\n",
    "    'optimizer': optimizer.state_dict(),\n",
    "  }\n",
    "  torch.save(state, filepath)"
   ]
  },
  {
   "cell_type": "markdown",
   "metadata": {},
   "source": [
    "  \n",
    "\n",
    "### Run single-node training with PyTorch"
   ]
  },
  {
   "cell_type": "code",
   "execution_count": null,
   "metadata": {},
   "outputs": [],
   "source": [
    "import torch.optim as optim\n",
    "from torchvision import datasets, transforms\n",
    "\n",
    "def train(learning_rate):\n",
    "  device = torch.device('cuda' if torch.cuda.is_available() else 'cpu')\n",
    "\n",
    "  train_dataset = datasets.MNIST(\n",
    "    'data', \n",
    "    train=True,\n",
    "    download=True,\n",
    "    transform=transforms.Compose([transforms.ToTensor(), transforms.Normalize((0.1307,), (0.3081,))]))\n",
    "  data_loader = torch.utils.data.DataLoader(train_dataset, batch_size=batch_size, shuffle=True)\n",
    "\n",
    "  model = Net().to(device)\n",
    "\n",
    "  optimizer = optim.SGD(model.parameters(), lr=learning_rate, momentum=momentum)\n",
    "\n",
    "  for epoch in range(1, num_epochs + 1):\n",
    "    train_one_epoch(model, device, data_loader, optimizer, epoch)\n",
    "    save_checkpoint(model, optimizer, epoch)"
   ]
  },
  {
   "cell_type": "markdown",
   "metadata": {},
   "source": [
    "  \n",
    "\n",
    "Run the `train` function you just created to train a model on the driver\n",
    "node."
   ]
  },
  {
   "cell_type": "code",
   "execution_count": null,
   "metadata": {},
   "outputs": [],
   "source": [
    "# Runs in  49.65 seconds on 3 node    GPU cluster\n",
    "# Runs in 118.2 seconds on 3 node non-GPU cluster\n",
    "train(learning_rate = 0.001)"
   ]
  },
  {
   "cell_type": "markdown",
   "metadata": {},
   "source": [
    "  \n",
    "\n",
    "Migrate to HorovodRunner\n",
    "------------------------\n",
    "\n",
    "HorovodRunner takes a Python method that contains deep learning training\n",
    "code with Horovod hooks. HorovodRunner pickles the method on the driver\n",
    "and distributes it to Spark workers. A Horovod MPI job is embedded as a\n",
    "Spark job using barrier execution mode."
   ]
  },
  {
   "cell_type": "code",
   "execution_count": null,
   "metadata": {},
   "outputs": [],
   "source": [
    "import horovod.torch as hvd\n",
    "from sparkdl import HorovodRunner"
   ]
  },
  {
   "cell_type": "markdown",
   "metadata": {},
   "source": []
  },
  {
   "cell_type": "code",
   "execution_count": null,
   "metadata": {},
   "outputs": [],
   "source": [
    "def train_hvd(learning_rate):\n",
    "  \n",
    "  # Initialize Horovod\n",
    "  hvd.init()  \n",
    "  device = torch.device('cuda' if torch.cuda.is_available() else 'cpu')\n",
    "  \n",
    "  if device.type == 'cuda':\n",
    "    # Pin GPU to local rank\n",
    "    torch.cuda.set_device(hvd.local_rank())\n",
    "\n",
    "  train_dataset = datasets.MNIST(\n",
    "    # Use different root directory for each worker to avoid conflicts\n",
    "    root='data-%d'% hvd.rank(),  \n",
    "    train=True, \n",
    "    download=True,\n",
    "    transform=transforms.Compose([transforms.ToTensor(), transforms.Normalize((0.1307,), (0.3081,))])\n",
    "  )\n",
    "\n",
    "  from torch.utils.data.distributed import DistributedSampler\n",
    "  \n",
    "  # Configure the sampler so that each worker gets a distinct sample of the input dataset\n",
    "  train_sampler = DistributedSampler(train_dataset, num_replicas=hvd.size(), rank=hvd.rank())\n",
    "  # Use train_sampler to load a different sample of data on each worker\n",
    "  train_loader = torch.utils.data.DataLoader(train_dataset, batch_size=batch_size, sampler=train_sampler)\n",
    "\n",
    "  model = Net().to(device)\n",
    "  \n",
    "  # The effective batch size in synchronous distributed training is scaled by the number of workers\n",
    "  # Increase learning_rate to compensate for the increased batch size\n",
    "  optimizer = optim.SGD(model.parameters(), lr=learning_rate * hvd.size(), momentum=momentum)\n",
    "\n",
    "  # Wrap the local optimizer with hvd.DistributedOptimizer so that Horovod handles the distributed optimization\n",
    "  optimizer = hvd.DistributedOptimizer(optimizer, named_parameters=model.named_parameters())\n",
    "  \n",
    "  # Broadcast initial parameters so all workers start with the same parameters\n",
    "  hvd.broadcast_parameters(model.state_dict(), root_rank=0)\n",
    "\n",
    "  for epoch in range(1, num_epochs + 1):\n",
    "    train_one_epoch(model, device, train_loader, optimizer, epoch)\n",
    "    # Save checkpoints only on worker 0 to prevent conflicts between workers\n",
    "    if hvd.rank() == 0:\n",
    "      save_checkpoint(model, optimizer, epoch)"
   ]
  },
  {
   "cell_type": "markdown",
   "metadata": {},
   "source": [
    "  \n",
    "\n",
    "Now that you have defined a training function with Horovod, you can use\n",
    "HorovodRunner to distribute the work of training the model.\n",
    "\n",
    "The HorovodRunner parameter `np` sets the number of processes. This\n",
    "example uses a cluster with two workers, each with a single GPU, so set\n",
    "`np=2`. (If you use `np=-1`, HorovodRunner trains using a single process\n",
    "on the driver node.)"
   ]
  },
  {
   "cell_type": "code",
   "execution_count": null,
   "metadata": {},
   "outputs": [],
   "source": [
    "# Runs in 51.63 seconds on 3 node     GPU cluster\n",
    "# Runs in 96.6  seconds on 3 node non-GPU cluster\n",
    "hr = HorovodRunner(np=2) \n",
    "hr.run(train_hvd, learning_rate = 0.001)"
   ]
  },
  {
   "cell_type": "markdown",
   "metadata": {},
   "source": [
    "  \n",
    "\n",
    "Under the hood, HorovodRunner takes a Python method that contains deep\n",
    "learning training code with Horovod hooks. HorovodRunner pickles the\n",
    "method on the driver and distributes it to Spark workers. A Horovod MPI\n",
    "job is embedded as a Spark job using the barrier execution mode. The\n",
    "first executor collects the IP addresses of all task executors using\n",
    "BarrierTaskContext and triggers a Horovod job using `mpirun`. Each\n",
    "Python MPI process loads the pickled user program, deserializes it, and\n",
    "runs it.\n",
    "\n",
    "For more information, see [HorovodRunner API\n",
    "documentation](https://databricks.github.io/spark-deep-learning/#api-documentation)."
   ]
  }
 ],
 "nbformat": 4,
 "nbformat_minor": 5,
 "metadata": {}
}
