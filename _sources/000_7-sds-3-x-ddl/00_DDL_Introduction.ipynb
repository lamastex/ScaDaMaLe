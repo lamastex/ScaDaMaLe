{
 "cells": [
  {
   "cell_type": "markdown",
   "metadata": {},
   "source": [
    "ScaDaMaLe Course\n",
    "[site](https://lamastex.github.io/scalable-data-science/sds/3/x/) and\n",
    "[book](https://lamastex.github.io/ScaDaMaLe/index.html)\n",
    "\n",
    "Introduction to Distributed Deep Learning (DDL) with Horovod over Tensorflow/keras and Pytorch\n",
    "==============================================================================================\n",
    "\n",
    "Raazesh Sainudiin and Tilo Wiklund\n",
    "\n",
    "This is just a set of links and notebooks from the databricks blog on\n",
    "the topic.\n",
    "\n",
    "It is meant to help you take the fastest steps into DDL including\n",
    "instructions to install and setup the right libraries and environments\n",
    "in databricks.\n",
    "\n",
    "-   https://docs.databricks.com/applications/machine-learning/train-model/distributed-training/horovod-runner.html\n",
    "    -   make this a databricks notebook:\n",
    "        https://docs.databricks.com/applications/machine-learning/train-model/distributed-training/mnist-tensorflow-keras.html\n",
    "    -   https://horovod.readthedocs.io/en/stable/keras.html\n",
    "    -   https://arxiv.org/abs/1802.05799\n",
    "    -   https://github.com/horovod/horovod"
   ]
  }
 ],
 "nbformat": 4,
 "nbformat_minor": 5,
 "metadata": {}
}
