{
 "cells": [
  {
   "cell_type": "markdown",
   "metadata": {},
   "source": [
    "[ScaDaMaLe, Scalable Data Science and Distributed Machine Learning](https://lamastex.github.io/scalable-data-science/sds/3/x/)\n",
    "==============================================================================================================================\n",
    "\n",
    "Introduction to Spark SQL\n",
    "=========================\n",
    "\n",
    "-   This notebook explains the motivation behind Spark SQL\n",
    "-   It introduces interactive SparkSQL queries and visualizations\n",
    "-   This notebook uses content from Databricks SparkSQL notebook and\n",
    "    [SparkSQL programming\n",
    "    guide](http://spark.apache.org/docs/latest/sql-programming-guide.html)\n",
    "\n",
    "### Some resources on SQL\n",
    "\n",
    "-   <https://en.wikipedia.org/wiki/SQL>\n",
    "-   <https://en.wikipedia.org/wiki/Apache_Hive>\n",
    "-   <http://www.infoq.com/articles/apache-spark-sql>\n",
    "-   <https://databricks.com/blog/2015/02/17/introducing-dataframes-in-spark-for-large-scale-data-science.html>\n",
    "-   <https://databricks.com/blog/2016/07/14/a-tale-of-three-apache-spark-apis-rdds-dataframes-and-datasets.html>\n",
    "-   **READ**:\n",
    "    [https://people.csail.mit.edu/matei/papers/2015/sigmod*spark*sql.pdf](https://people.csail.mit.edu/matei/papers/2015/sigmod_spark_sql.pdf)\n",
    "\n",
    "Some of them are embedded below in-place for your convenience."
   ]
  },
  {
   "cell_type": "code",
   "execution_count": null,
   "metadata": {},
   "outputs": [],
   "source": [
    "//This allows easy embedding of publicly available information into any other notebook\n",
    "//when viewing in git-book just ignore this block - you may have to manually chase the URL in frameIt(\"URL\").\n",
    "//Example usage:\n",
    "// displayHTML(frameIt(\"https://en.wikipedia.org/wiki/Latent_Dirichlet_allocation#Topics_in_LDA\",250))\n",
    "def frameIt( u:String, h:Int ) : String = {\n",
    "      \"\"\"<iframe \n",
    " src=\"\"\"\"+ u+\"\"\"\"\n",
    " width=\"95%\" height=\"\"\"\" + h + \"\"\"\"\n",
    " sandbox>\n",
    "  <p>\n",
    "    <a href=\"http://spark.apache.org/docs/latest/index.html\">\n",
    "      Fallback link for browsers that, unlikely, don't support frames\n",
    "    </a>\n",
    "  </p>\n",
    "</iframe>\"\"\"\n",
    "   }\n",
    "displayHTML(frameIt(\"https://en.wikipedia.org/wiki/SQL\",500))"
   ]
  },
  {
   "cell_type": "markdown",
   "metadata": {},
   "source": []
  },
  {
   "cell_type": "code",
   "execution_count": null,
   "metadata": {},
   "outputs": [],
   "source": [
    "displayHTML(frameIt(\"https://en.wikipedia.org/wiki/Apache_Hive#HiveQL\",175))"
   ]
  },
  {
   "cell_type": "markdown",
   "metadata": {},
   "source": [
    "  \n",
    "\n",
    "READ -\n",
    "<https://databricks.com/blog/2016/07/14/a-tale-of-three-apache-spark-apis-rdds-dataframes-and-datasets.html>\n",
    "\n",
    "This is an elaboration of the [Apache Spark 2.2\n",
    "sql-progamming-guide](http://spark.apache.org/docs/latest/sql-programming-guide.html).\n",
    "\n",
    "Overview\n",
    "========\n",
    "\n",
    "Spark SQL is a Spark module for structured data processing. Unlike the\n",
    "basic Spark RDD API, the interfaces provided by Spark SQL provide Spark\n",
    "with more information about the structure of both the data and the\n",
    "computation being performed. Internally, Spark SQL uses this extra\n",
    "information to perform extra optimizations. There are several ways to\n",
    "interact with Spark SQL including SQL and the Dataset API. When\n",
    "computing a result the same execution engine is used, independent of\n",
    "which API/language you are using to express the computation. This\n",
    "unification means that developers can easily switch back and forth\n",
    "between different APIs based on which provides the most natural way to\n",
    "express a given transformation.\n",
    "\n",
    "All of the examples on this page use sample data included in the Spark\n",
    "distribution and can be run in the spark-shell, pyspark shell, or sparkR\n",
    "shell.\n",
    "\n",
    "Datasets and DataFrames\n",
    "=======================\n",
    "\n",
    "A Dataset is a distributed collection of data. Dataset is a new\n",
    "interface added in Spark 1.6 that provides the benefits of RDDs (strong\n",
    "typing, ability to use powerful lambda functions) with the benefits of\n",
    "Spark SQL’s optimized execution engine. A Dataset can be\n",
    "[constructed](http://spark.apache.org/docs/latest/sql-programming-guide.html#creating-datasets)\n",
    "from JVM objects and then manipulated using functional transformations\n",
    "(map, flatMap, filter, etc.). The Dataset API is available in\n",
    "[Scala](http://spark.apache.org/docs/latest/api/scala/index.html#org.apache.spark.sql.Dataset)\n",
    "and\n",
    "[Java](http://spark.apache.org/docs/latest/api/java/index.html?org/apache/spark/sql/Dataset.html).\n",
    "Python does not have the support for the Dataset API. But due to\n",
    "Python’s dynamic nature, many of the benefits of the Dataset API are\n",
    "already available (i.e. you can access the field of a row by name\n",
    "naturally `row.columnName`). The case for R is similar.\n",
    "\n",
    "A DataFrame is a Dataset organized into named columns. It is\n",
    "conceptually equivalent to a table in a relational database or a data\n",
    "frame in R/Python, but with richer optimizations under the hood.\n",
    "DataFrames can be constructed from a wide array of\n",
    "[sources](http://spark.apache.org/docs/latest/sql-programming-guide.html#data-sources)\n",
    "such as: structured data files, tables in Hive, external databases, or\n",
    "existing RDDs. The DataFrame API is available in Scala, Java,\n",
    "[Python](http://spark.apache.org/docs/latest/api/python/pyspark.sql.html#pyspark.sql.DataFrame),\n",
    "and [R](http://spark.apache.org/docs/latest/api/R/index.html). In Scala\n",
    "and Java, a DataFrame is represented by a Dataset of Rows. In the [Scala\n",
    "API](http://spark.apache.org/docs/latest/api/scala/index.html#org.apache.spark.sql.Dataset),\n",
    "DataFrame is simply a type alias of Dataset\\[Row\\]. While, in Java API,\n",
    "users need to use `Dataset<Row>` to represent a DataFrame.\n",
    "\n",
    "Throughout this document, we will often refer to Scala/Java Datasets of\n",
    "`Rows` as DataFrames.\n",
    "\n",
    "Getting Started in Spark 2.x\n",
    "============================\n",
    "\n",
    "Starting Point: SparkSession\n",
    "----------------------------\n",
    "\n",
    "The entry point into all functionality in Spark is the\n",
    "[SparkSession](http://spark.apache.org/docs/latest/api/scala/index.html#org.apache.spark.sql.SparkSession).\n",
    "To create a basic SparkSession in your scala Spark code, just use\n",
    "`SparkSession.builder()`:\n",
    "\n",
    "\\`\\`\\` import org.apache.spark.sql.SparkSession\n",
    "\n",
    "val spark = SparkSession .builder() .appName(\"Spark SQL basic example\")\n",
    ".config(\"spark.some.config.option\", \"some-value\") .getOrCreate()\n",
    "\n",
    "// For implicit conversions like converting RDDs to DataFrames import\n",
    "spark.implicits.\\_ \\`\\`\\`\n",
    "\n",
    "Conveniently, in Databricks notebook (similar to `spark-shell`)\n",
    "`SparkSession` is already created for you and is available as `spark`."
   ]
  },
  {
   "cell_type": "code",
   "execution_count": null,
   "metadata": {},
   "outputs": [],
   "source": [
    "spark // ready-made Spark-Session"
   ]
  },
  {
   "cell_type": "markdown",
   "metadata": {},
   "source": [
    "  \n",
    "\n",
    "Creating DataFrames\n",
    "-------------------\n",
    "\n",
    "With a\n",
    "[`SparkSession`](http://spark.apache.org/docs/latest/api/scala/index.html#org.apache.spark.sql.SparkSession)\n",
    "or\n",
    "[`SQLContext`](http://spark.apache.org/docs/latest/api/scala/index.html#org.apache.spark.sql.SQLContext),\n",
    "applications can create\n",
    "[`DataFrame`](https://spark.apache.org/docs/latest/api/scala/index.html#org.apache.spark.sql.DataFrame)\n",
    "\n",
    "-   from an existing `RDD`,\n",
    "-   from a Hive table, or\n",
    "-   from various other data sources.\n",
    "\n",
    "#### Just to recap:\n",
    "\n",
    "-   A DataFrame is a distributed collection of data organized into named\n",
    "    columns (it is not strogly typed).\n",
    "-   You can think of it as being organized into table RDD of case class\n",
    "    `Row` (which is not exactly true).\n",
    "-   DataFrames, in comparison to RDDs, are backed by rich optimizations,\n",
    "    including:\n",
    "    -   tracking their own schema,\n",
    "    -   adaptive query execution,\n",
    "    -   code generation including whole stage codegen,\n",
    "    -   extensible Catalyst optimizer, and\n",
    "    -   project\n",
    "        [Tungsten](https://databricks.com/blog/2015/04/28/project-tungsten-bringing-spark-closer-to-bare-metal.html)\n",
    "        for optimized storage.\n",
    "\n",
    "> Note that performance for DataFrames is the same across languages\n",
    "> Scala, Java, Python, and R. This is due to the fact that the only\n",
    "> planning phase is language-specific (logical + physical SQL plan), not\n",
    "> the actual execution of the SQL plan.\n",
    "\n",
    "![DF speed across\n",
    "languages](https://databricks.com/wp-content/uploads/2015/02/Screen-Shot-2015-02-16-at-9.46.39-AM-1024x457.png)\n",
    "\n",
    "DataFrame Basics\n",
    "----------------\n",
    "\n",
    "#### 1. An empty DataFrame\n",
    "\n",
    "#### 2. DataFrame from a range\n",
    "\n",
    "#### 3. DataFrame from an RDD\n",
    "\n",
    "#### 4. DataFrame Operations (aka Untyped Dataset Operations)\n",
    "\n",
    "#### 5. Running SQL Queries Programmatically\n",
    "\n",
    "#### 6. Creating Datasets\n",
    "\n",
    "### 1. Making an empty DataFrame\n",
    "\n",
    "Spark has some of the pre-built methods to create simple DataFrames\n",
    "\n",
    "-   let us make an Empty DataFrame"
   ]
  },
  {
   "cell_type": "code",
   "execution_count": null,
   "metadata": {},
   "outputs": [],
   "source": [
    "val emptyDF = spark.emptyDataFrame // Ctrl+Enter to make an empty DataFrame"
   ]
  },
  {
   "cell_type": "markdown",
   "metadata": {},
   "source": [
    "  \n",
    "\n",
    "Not really interesting, or is it?\n",
    "\n",
    "**You Try!**\n",
    "\n",
    "Uncomment the following cell, put your cursor after `emptyDF.` below and\n",
    "hit Tab to see what can be done with `emptyDF`."
   ]
  },
  {
   "cell_type": "code",
   "execution_count": null,
   "metadata": {},
   "outputs": [],
   "source": [
    "//emptyDF."
   ]
  },
  {
   "cell_type": "markdown",
   "metadata": {},
   "source": [
    "  \n",
    "\n",
    "### 2. Making a DataFrame from a range\n",
    "\n",
    "Let us make a DataFrame next\n",
    "\n",
    "-   from a range of numbers, as follows:"
   ]
  },
  {
   "cell_type": "code",
   "execution_count": null,
   "metadata": {},
   "outputs": [],
   "source": [
    "val rangeDF = spark.range(0, 3).toDF() // Ctrl+Enter to make DataFrame with 0,1,2\n",
    "// sc.parallelize(1 to 3).toDF() "
   ]
  },
  {
   "cell_type": "markdown",
   "metadata": {},
   "source": [
    "  \n",
    "\n",
    "Note that Spark automatically names column as `id` and casts integers to\n",
    "type `bigint` for big integer or Long.\n",
    "\n",
    "In order to get a preview of data in DataFrame use `show()` as follows:"
   ]
  },
  {
   "cell_type": "code",
   "execution_count": null,
   "metadata": {},
   "outputs": [],
   "source": [
    "rangeDF.show() // Ctrl+Enter"
   ]
  },
  {
   "cell_type": "markdown",
   "metadata": {},
   "source": [
    "  \n",
    "\n",
    "### 3. Making a DataFrame from an RDD\n",
    "\n",
    "-   Make an RDD\n",
    "-   Conver the RDD into a DataFrame using the defualt `.toDF()` method\n",
    "-   Conver the RDD into a DataFrame using the non-default `.toDF(...)`\n",
    "    method\n",
    "-   Do it all in one line\n",
    "\n",
    "Let's first make an RDD using the `sc.parallelize` method, transform it\n",
    "by a `map` and perform the `collect` action to display it, as follows:"
   ]
  },
  {
   "cell_type": "code",
   "execution_count": null,
   "metadata": {},
   "outputs": [],
   "source": [
    "val rdd1 = sc.parallelize(1 to 5).map(i => (i, i*2))\n",
    "rdd1.collect() // Ctrl+Enter"
   ]
  },
  {
   "cell_type": "markdown",
   "metadata": {},
   "source": [
    "  \n",
    "\n",
    "Next, let us convert the RDD into DataFrame using the `.toDF()` method,\n",
    "as follows:"
   ]
  },
  {
   "cell_type": "code",
   "execution_count": null,
   "metadata": {},
   "outputs": [],
   "source": [
    "val df1 = rdd1.toDF() // Ctrl+Enter "
   ]
  },
  {
   "cell_type": "markdown",
   "metadata": {},
   "source": [
    "  \n",
    "\n",
    "As it is clear, the DataFrame has columns named `_1` and `_2`, each of\n",
    "type `int`. Let us see its content using the `.show()` method next."
   ]
  },
  {
   "cell_type": "code",
   "execution_count": null,
   "metadata": {},
   "outputs": [],
   "source": [
    "df1.show() // Ctrl+Enter"
   ]
  },
  {
   "cell_type": "markdown",
   "metadata": {},
   "source": [
    "  \n",
    "\n",
    "Note that by default, i.e. without specifying any options as in\n",
    "`toDF()`, the column names are given by `_1` and `_2`.\n",
    "\n",
    "We can easily specify column names as follows:"
   ]
  },
  {
   "cell_type": "code",
   "execution_count": null,
   "metadata": {},
   "outputs": [],
   "source": [
    "val df1 = rdd1.toDF(\"once\", \"twice\") // Ctrl+Enter\n",
    "df1.show()"
   ]
  },
  {
   "cell_type": "markdown",
   "metadata": {},
   "source": [
    "  \n",
    "\n",
    "Of course, we can do all of the above steps to make the DataFrame `df1`\n",
    "in one line and then show it, as follows:"
   ]
  },
  {
   "cell_type": "code",
   "execution_count": null,
   "metadata": {},
   "outputs": [],
   "source": [
    "val df1 = sc.parallelize(1 to 5)\n",
    "            .map(i => (i, i*2))\n",
    "            .toDF(\"once\", \"twice\") //Ctrl+enter\n",
    "df1.show()"
   ]
  },
  {
   "cell_type": "markdown",
   "metadata": {},
   "source": [
    "  \n",
    "\n",
    "### 4. DataFrame Operations (aka Untyped Dataset Operations)\n",
    "\n",
    "DataFrames provide a domain-specific language for structured data\n",
    "manipulation in\n",
    "[Scala](http://spark.apache.org/docs/latest/api/scala/index.html#org.apache.spark.sql.Dataset),\n",
    "[Java](http://spark.apache.org/docs/latest/api/java/index.html?org/apache/spark/sql/Dataset.html),\n",
    "[Python](http://spark.apache.org/docs/latest/api/python/pyspark.sql.html#pyspark.sql.DataFrame)\n",
    "and [R](http://spark.apache.org/docs/latest/api/R/SparkDataFrame.html).\n",
    "\n",
    "As mentioned above, in Spark 2.0, DataFrames are just Dataset of Rows in\n",
    "Scala and Java API. These operations are also referred as “untyped\n",
    "transformations” in contrast to “typed transformations” come with\n",
    "strongly typed Scala/Java Datasets.\n",
    "\n",
    "Here we include some basic examples of structured data processing using\n",
    "Datasets:"
   ]
  },
  {
   "cell_type": "code",
   "execution_count": null,
   "metadata": {},
   "outputs": [],
   "source": [
    "// This import is needed to use the $-notation\n",
    "import spark.implicits._\n",
    "// Print the schema in a tree format\n",
    "df1.printSchema()"
   ]
  },
  {
   "cell_type": "markdown",
   "metadata": {},
   "source": []
  },
  {
   "cell_type": "code",
   "execution_count": null,
   "metadata": {},
   "outputs": [],
   "source": [
    "// Select only the \"name\" column\n",
    "df1.select(\"once\").show()"
   ]
  },
  {
   "cell_type": "markdown",
   "metadata": {},
   "source": []
  },
  {
   "cell_type": "code",
   "execution_count": null,
   "metadata": {},
   "outputs": [],
   "source": [
    "// Select both columns, but increment the double column by 1\n",
    "df1.select($\"once\", $\"once\" + 1).show()"
   ]
  },
  {
   "cell_type": "markdown",
   "metadata": {},
   "source": []
  },
  {
   "cell_type": "code",
   "execution_count": null,
   "metadata": {},
   "outputs": [],
   "source": [
    "// Select both columns, but increment the double column by 1 and rename it as \"oncemore\"\n",
    "df1.select($\"once\", ($\"once\" * 1).as(\"oncemore\")).show()"
   ]
  },
  {
   "cell_type": "markdown",
   "metadata": {},
   "source": []
  },
  {
   "cell_type": "code",
   "execution_count": null,
   "metadata": {},
   "outputs": [],
   "source": [
    "df1.filter($\"once\" > 2).show()"
   ]
  },
  {
   "cell_type": "markdown",
   "metadata": {},
   "source": []
  },
  {
   "cell_type": "code",
   "execution_count": null,
   "metadata": {},
   "outputs": [],
   "source": [
    "// Count the number of distinct singles -  a bit boring\n",
    "df1.groupBy(\"once\").count().show()"
   ]
  },
  {
   "cell_type": "markdown",
   "metadata": {},
   "source": [
    "  \n",
    "\n",
    "Let's make a more interesting DataFrame for `groupBy` with repeated\n",
    "elements so that the `count` will be more than `1`."
   ]
  },
  {
   "cell_type": "code",
   "execution_count": null,
   "metadata": {},
   "outputs": [],
   "source": [
    "df1.show()"
   ]
  },
  {
   "cell_type": "markdown",
   "metadata": {},
   "source": []
  },
  {
   "cell_type": "code",
   "execution_count": null,
   "metadata": {},
   "outputs": [],
   "source": [
    "val df11 = sc.parallelize(3 to 5).map(i => (i, i*2)).toDF(\"once\", \"twice\") // just make a small one\n",
    "df11.show()"
   ]
  },
  {
   "cell_type": "markdown",
   "metadata": {},
   "source": []
  },
  {
   "cell_type": "code",
   "execution_count": null,
   "metadata": {},
   "outputs": [],
   "source": [
    "val df111 = df1.union(df11) // let's take the unionAll of df1 and df11 into df111\n",
    "df111.show() // df111 is obtained by simply appending the rows of df11 to df1"
   ]
  },
  {
   "cell_type": "markdown",
   "metadata": {},
   "source": []
  },
  {
   "cell_type": "code",
   "execution_count": null,
   "metadata": {},
   "outputs": [],
   "source": [
    "// Count the number of distinct singles -  a bit less boring\n",
    "df111.groupBy(\"once\").count().show()"
   ]
  },
  {
   "cell_type": "markdown",
   "metadata": {},
   "source": [
    "  \n",
    "\n",
    "For a complete list of the types of operations that can be performed on\n",
    "a Dataset refer to the [API\n",
    "Documentation](http://spark.apache.org/docs/latest/api/scala/index.html#org.apache.spark.sql.Dataset).\n",
    "\n",
    "In addition to simple column references and expressions, Datasets also\n",
    "have a rich library of functions including string manipulation, date\n",
    "arithmetic, common math operations and more. The complete list is\n",
    "available in the [DataFrame Function\n",
    "Reference](http://spark.apache.org/docs/latest/api/scala/index.html#org.apache.spark.sql.functions$).\n",
    "\n",
    "**You Try!**\n",
    "\n",
    "Uncomment the two lines in the next cell, and then fill in the `???`\n",
    "below to get a DataFrame `df2` whose first two columns are the same as\n",
    "`df1` and whose third column named triple has values that are three\n",
    "times the values in the first column."
   ]
  },
  {
   "cell_type": "code",
   "execution_count": null,
   "metadata": {},
   "outputs": [],
   "source": [
    "//val df2 = sc.parallelize(1 to 5).map(i => (i, i*2, i????)).toDF(\"single\", \"double\", \"triple\") // Ctrl+enter after editing ???\n",
    "//df2.show()"
   ]
  },
  {
   "cell_type": "markdown",
   "metadata": {},
   "source": [
    "  \n",
    "\n",
    "### 5. Running SQL Queries Programmatically\n",
    "\n",
    "The `sql` function on a `SparkSession` enables applications to run SQL\n",
    "queries programmatically and returns the result as a `DataFrame`."
   ]
  },
  {
   "cell_type": "code",
   "execution_count": null,
   "metadata": {},
   "outputs": [],
   "source": [
    "df1"
   ]
  },
  {
   "cell_type": "markdown",
   "metadata": {},
   "source": []
  },
  {
   "cell_type": "code",
   "execution_count": null,
   "metadata": {},
   "outputs": [],
   "source": [
    "// Register the DataFrame as a SQL temporary view\n",
    "df1.createOrReplaceTempView(\"sdtable\")\n",
    "\n",
    "val sqlDF = spark.sql(\"SELECT * FROM sdtable\")\n",
    "sqlDF.show()"
   ]
  },
  {
   "cell_type": "markdown",
   "metadata": {},
   "source": []
  },
  {
   "cell_type": "code",
   "execution_count": null,
   "metadata": {},
   "outputs": [],
   "source": [
    "spark.sql(\"SELECT * FROM SDTable WHERE once>2\").show()"
   ]
  },
  {
   "cell_type": "markdown",
   "metadata": {},
   "source": [
    "  \n",
    "\n",
    "### 5. Using SQL for interactively querying a table is very powerful!\n",
    "\n",
    "Note `-- comments` are how you add `comments` in SQL cells beginning\n",
    "with `%sql`.\n",
    "\n",
    "-   You can run SQL `select *` statement to see all columns of the\n",
    "    table, as follows:\n",
    "    -   This is equivalent to the above \\`display(diamondsDF)' with the\n",
    "        DataFrame"
   ]
  },
  {
   "cell_type": "code",
   "execution_count": null,
   "metadata": {},
   "outputs": [],
   "source": [
    "-- Ctrl+Enter to select all columns of the table\n",
    "select * from SDTable"
   ]
  },
  {
   "cell_type": "markdown",
   "metadata": {},
   "source": []
  },
  {
   "cell_type": "code",
   "execution_count": null,
   "metadata": {},
   "outputs": [],
   "source": [
    "-- Ctrl+Enter to select all columns of the table\n",
    "-- note table names of registered tables are case-insensitive\n",
    "select * from sdtable"
   ]
  },
  {
   "cell_type": "markdown",
   "metadata": {},
   "source": [
    "  \n",
    "\n",
    "#### Global Temporary View\n",
    "\n",
    "Temporary views in Spark SQL are session-scoped and will disappear if\n",
    "the session that creates it terminates. If you want to have a temporary\n",
    "view that is shared among all sessions and keep alive until the Spark\n",
    "application terminates, you can create a global temporary view. Global\n",
    "temporary view is tied to a system preserved database `global_temp`, and\n",
    "we must use the qualified name to refer it, e.g.\n",
    "`SELECT * FROM global_temp.view1`. See\n",
    "<http://spark.apache.org/docs/latest/sql-programming-guide.html#global-temporary-view>\n",
    "for details.\n",
    "\n",
    "6. Creating Datasets\n",
    "--------------------\n",
    "\n",
    "Datasets are similar to RDDs, however, instead of using Java\n",
    "serialization or Kryo they use a specialized\n",
    "[Encoder](http://spark.apache.org/docs/latest/api/scala/index.html#org.apache.spark.sql.Encoder)\n",
    "to serialize the objects for processing or transmitting over the\n",
    "network. While both encoders and standard serialization are responsible\n",
    "for turning an object into bytes, encoders are code generated\n",
    "dynamically and use a format that allows Spark to perform many\n",
    "operations like filtering, sorting and hashing without deserializing the\n",
    "bytes back into an object."
   ]
  },
  {
   "cell_type": "code",
   "execution_count": null,
   "metadata": {},
   "outputs": [],
   "source": [
    "val rangeDS = spark.range(0, 3) // Ctrl+Enter to make DataSet with 0,1,2; Note we added '.toDF()' to this to create a DataFrame"
   ]
  },
  {
   "cell_type": "markdown",
   "metadata": {},
   "source": []
  },
  {
   "cell_type": "code",
   "execution_count": null,
   "metadata": {},
   "outputs": [],
   "source": [
    "rangeDS.show() // the column name 'id' is made by default here"
   ]
  },
  {
   "cell_type": "markdown",
   "metadata": {},
   "source": [
    "  \n",
    "\n",
    "We can have more complicated objects in a `DataSet` too."
   ]
  },
  {
   "cell_type": "code",
   "execution_count": null,
   "metadata": {},
   "outputs": [],
   "source": [
    "// Note: Case classes in Scala 2.10 can support only up to 22 fields. To work around this limit,\n",
    "// you can use custom classes that implement the Product interface\n",
    "case class Person(name: String, age: Long)\n",
    "\n",
    "// Encoders are created for case classes\n",
    "val caseClassDS = Seq(Person(\"Andy\", 32), Person(\"Erik\",44), Person(\"Anna\", 15)).toDS()\n",
    "caseClassDS.show()"
   ]
  },
  {
   "cell_type": "markdown",
   "metadata": {},
   "source": []
  },
  {
   "cell_type": "code",
   "execution_count": null,
   "metadata": {},
   "outputs": [],
   "source": [
    "// Encoders for most common types are automatically provided by importing spark.implicits._\n",
    "val primitiveDS = Seq(1, 2, 3).toDS()\n",
    "primitiveDS.map(_ + 1).collect() // Returns: Array(2, 3, 4)"
   ]
  },
  {
   "cell_type": "markdown",
   "metadata": {},
   "source": []
  },
  {
   "cell_type": "code",
   "execution_count": null,
   "metadata": {},
   "outputs": [],
   "source": [
    "df1"
   ]
  },
  {
   "cell_type": "markdown",
   "metadata": {},
   "source": []
  },
  {
   "cell_type": "code",
   "execution_count": null,
   "metadata": {},
   "outputs": [],
   "source": [
    "df1.show"
   ]
  },
  {
   "cell_type": "markdown",
   "metadata": {},
   "source": []
  },
  {
   "cell_type": "code",
   "execution_count": null,
   "metadata": {},
   "outputs": [],
   "source": [
    "// let's make a case class for our DF so we can convert it to Dataset\n",
    "case class singleAndDoubleIntegers(once: Integer, twice: Integer)"
   ]
  },
  {
   "cell_type": "markdown",
   "metadata": {},
   "source": []
  },
  {
   "cell_type": "code",
   "execution_count": null,
   "metadata": {},
   "outputs": [],
   "source": [
    "val ds1 = df1.as[singleAndDoubleIntegers]"
   ]
  },
  {
   "cell_type": "markdown",
   "metadata": {},
   "source": []
  },
  {
   "cell_type": "code",
   "execution_count": null,
   "metadata": {},
   "outputs": [],
   "source": [
    "ds1.show()"
   ]
  },
  {
   "cell_type": "markdown",
   "metadata": {},
   "source": [
    "  \n",
    "\n",
    "------------------------------------------------------------------------\n",
    "\n",
    "------------------------------------------------------------------------\n",
    "\n",
    "Next we will play with data\n",
    "---------------------------\n",
    "\n",
    "The data here is **semi-structured tabular data** (Tab-delimited text\n",
    "file in dbfs). Let us see what Anthony Joseph in BerkeleyX/CS100.1x had\n",
    "to say about such data.\n",
    "\n",
    "### Key Data Management Concepts: Semi-Structured Tabular Data\n",
    "\n",
    "**(watch now 1:26)**:\n",
    "\n",
    "[![Semi-Structured Tabular Data by Anthony Joseph in\n",
    "BerkeleyX/CS100.1x](http://img.youtube.com/vi/G_67yUxdDbU/0.jpg)](https://www.youtube.com/watch?v=G_67yUxdDbU?rel=0&autoplay=1&modestbranding=1&start=1)\n",
    "\n",
    "------------------------------------------------------------------------\n",
    "\n",
    "Go through the databricks Introductions Now\n",
    "-------------------------------------------\n",
    "\n",
    "-   <https://docs.databricks.com/spark/latest/dataframes-datasets/introduction-to-dataframes-scala.html>\n",
    "\n",
    "-   <https://docs.databricks.com/spark/latest/dataframes-datasets/introduction-to-datasets.html>\n",
    "\n",
    "### Recommended Homework\n",
    "\n",
    "This week's recommended homework is a deep dive into the [SparkSQL\n",
    "programming\n",
    "guide](http://spark.apache.org/docs/latest/sql-programming-guide.html)."
   ]
  }
 ],
 "nbformat": 4,
 "nbformat_minor": 5,
 "metadata": {}
}
