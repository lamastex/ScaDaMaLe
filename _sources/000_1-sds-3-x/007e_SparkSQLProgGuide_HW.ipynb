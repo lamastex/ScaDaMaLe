{
 "cells": [
  {
   "cell_type": "markdown",
   "metadata": {},
   "source": [
    "[ScaDaMaLe, Scalable Data Science and Distributed Machine Learning](https://lamastex.github.io/scalable-data-science/sds/3/x/)\n",
    "==============================================================================================================================\n",
    "\n",
    "Performance Tuning\n",
    "==================\n",
    "\n",
    "Spark Sql Programming Guide\n",
    "---------------------------\n",
    "\n",
    "If you have read the spark-SQL paper and have some idea of how\n",
    "distributed sorting and joining work then you will need to know the\n",
    "following part of the programming guide to tune the performance of Spark\n",
    "SQL queries:\n",
    "\n",
    "-   https://spark.apache.org/docs/latest/sql-performance-tuning.html"
   ]
  }
 ],
 "nbformat": 4,
 "nbformat_minor": 5,
 "metadata": {}
}
