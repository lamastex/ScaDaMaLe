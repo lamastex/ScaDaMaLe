{
 "cells": [
  {
   "cell_type": "markdown",
   "metadata": {},
   "source": [
    "ScaDaMaLe Course\n",
    "[site](https://lamastex.github.io/scalable-data-science/sds/3/x/) and\n",
    "[book](https://lamastex.github.io/ScaDaMaLe/index.html)\n",
    "\n",
    "This is an elaboration of the\n",
    "<http://spark.apache.org/docs/latest/sql-programming-guide.html> by Ivan\n",
    "Sadikov and Raazesh Sainudiin.\n",
    "\n",
    "Getting Started\n",
    "===============\n",
    "\n",
    "Spark Sql Programming Guide\n",
    "---------------------------\n",
    "\n",
    "-   Starting Point: SparkSession\n",
    "-   Creating DataFrames\n",
    "-   Untyped Dataset Operations (aka DataFrame Operations)\n",
    "-   Running SQL Queries Programmatically\n",
    "-   Global Temporary View\n",
    "-   Creating Datasets\n",
    "-   Interoperating with RDDs\n",
    "    -   Inferring the Schema Using Reflection\n",
    "    -   Programmatically Specifying the Schema\n",
    "-   Scalar Functions\n",
    "-   Aggregate Functions\n",
    "\n",
    "Getting Started\n",
    "===============\n",
    "\n",
    "Starting Point: SparkSession\n",
    "----------------------------\n",
    "\n",
    "The entry point into all functionality in Spark is the\n",
    "[`SparkSession`](https://spark.apache.org/docs/latest/api/scala/org/apache/spark/sql/SparkSession.html)\n",
    "class and/or `SQLContext`/`HiveContext`. `SparkSession` is created for\n",
    "you as `spark` when you start **spark-shell** on command-line REPL or\n",
    "through a notebook server (databricks, zeppelin, jupyter, etc.). You\n",
    "will need to create `SparkSession` usually when building an application\n",
    "for submission to a Spark cluster. To create a basic `SparkSession`,\n",
    "just use `SparkSession.builder()`:\n",
    "\n",
    "\\`\\`\\` import org.apache.spark.sql.SparkSession\n",
    "\n",
    "val spark = SparkSession .builder() .appName(\"Spark SQL basic example\")\n",
    ".config(\"spark.some.config.option\", \"some-value\") .getOrCreate()\n",
    "\n",
    "// For implicit conversions like converting RDDs to DataFrames import\n",
    "spark.implicits.\\_ \\`\\`\\`\n",
    "\n",
    "Find full example code in the Spark repo at:\n",
    "\n",
    "-   <https://github.com/apache/spark/blob/master/examples/src/main/scala/org/apache/spark/examples/sql/SparkSQLExample.scala>\n",
    "\n",
    "`SparkSession` in Spark 2.0 provides builtin support for Hive features\n",
    "including the ability to write queries using HiveQL, access to Hive\n",
    "UDFs, and the ability to read data from Hive tables. To use these\n",
    "features, you do not need to have an existing Hive setup.\n",
    "\n",
    "`// You could get SparkContext and SQLContext from SparkSession val sc = spark.sparkContext val sqlContext = spark.sqlContext`\n",
    "\n",
    "But in Databricks notebook (similar to `spark-shell`) `SparkSession` is\n",
    "already created for you and is available as `spark` (similarly, `sc` and\n",
    "`sqlContext` are also available)."
   ]
  },
  {
   "cell_type": "code",
   "execution_count": null,
   "metadata": {},
   "outputs": [],
   "source": [
    "// Evaluation of the cell by Ctrl+Enter will print spark session available in notebook\n",
    "spark"
   ]
  },
  {
   "cell_type": "markdown",
   "metadata": {},
   "source": [
    "  \n",
    "\n",
    "After evaluation you should see something like this, i.e., a reference\n",
    "to the `SparkSession` you just created:\n",
    "\n",
    "`res0: org.apache.spark.sql.SparkSession = org.apache.spark.sql.SparkSession@5a289bf5`\n",
    "\n",
    "Creating DataFrames\n",
    "-------------------\n",
    "\n",
    "With a `SparkSessions`, applications can create\n",
    "[Dataset](https://spark.apache.org/docs/latest/api/scala/index.html#org.apache.spark.sql.Dataset)\n",
    "or\n",
    "[`DataFrame`](https://spark.apache.org/docs/latest/api/scala/index.html#org.apache.spark.sql.DataFrame)\n",
    "from an [existing\n",
    "`RDD`](https://spark.apache.org/docs/latest/sql-getting-started.html#interoperating-with-rdds),\n",
    "from a Hive table, or from various\n",
    "[datasources](https://spark.apache.org/docs/latest/sql-data-sources.html).\n",
    "\n",
    "Just to recap, a DataFrame is a distributed collection of data organized\n",
    "into named columns. You can think of it as an organized into table RDD\n",
    "of case class `Row` (which is not exactly true). DataFrames, in\n",
    "comparison to RDDs, are backed by rich optimizations, including tracking\n",
    "their own schema, adaptive query execution, code generation including\n",
    "whole stage codegen, extensible Catalyst optimizer, and project\n",
    "[Tungsten](https://databricks.com/blog/2015/04/28/project-tungsten-bringing-spark-closer-to-bare-metal.html).\n",
    "\n",
    "Dataset provides type-safety when working with SQL, since `Row` is\n",
    "mapped to a case class, so that each column can be referenced by\n",
    "property of that class.\n",
    "\n",
    "> Note that performance for Dataset/DataFrames is the same across\n",
    "> languages Scala, Java, Python, and R. This is due to the fact that the\n",
    "> planning phase is just language-specific, only logical plan is\n",
    "> constructed in Python, and all the physical execution is compiled and\n",
    "> executed as JVM bytecode.\n",
    "\n",
    "As an example, the following creates a DataFrame based on the content of\n",
    "a JSON file:\n",
    "\n",
    "\\`\\`\\` val df =\n",
    "spark.read.json(\"examples/src/main/resources/people.json\")\n",
    "\n",
    "// Displays the content of the DataFrame to stdout df.show() //\n",
    "+----+-------+ // | age| name| // +----+-------+ // |null|Michael| // |\n",
    "30| Andy| // | 19| Justin| // +----+-------+ \\`\\`\\`\n",
    "\n",
    "Find full example code at -\n",
    "https://raw.githubusercontent.com/apache/spark/master/examples/src/main/scala/org/apache/spark/examples/sql/SparkSQLExample.scala\n",
    "in the Spark repo.\n",
    "\n",
    "To be able to try this example in databricks we need to load the\n",
    "`people.json` file into `dbfs`. Let us do this programmatically next."
   ]
  },
  {
   "cell_type": "code",
   "execution_count": null,
   "metadata": {},
   "outputs": [],
   "source": [
    "// the following lines merely fetch the file from the URL and load it into the dbfs for us to try in databricks\n",
    "// getLines from the file at the URL\n",
    "val peopleJsonLinesFromURL = scala.io.Source.fromURL(\"https://raw.githubusercontent.com/apache/spark/master/examples/src/main/resources/people.json\").getLines\n",
    "// remove any pre-existing file at the dbfs location\n",
    "dbutils.fs.rm(\"dbfs:///datasets/spark-examples/people.json\",recurse=true)\n",
    "// convert the lines fetched from the URL to a Seq, then make it a RDD of String and finally save it as textfile to dbfs\n",
    "sc.parallelize(peopleJsonLinesFromURL.toSeq).saveAsTextFile(\"dbfs:///datasets/spark-examples/people.json\")\n",
    "// read the text file we just saved and see what it has\n",
    "sc.textFile(\"dbfs:///datasets/spark-examples/people.json\").collect.mkString(\"\\n\")"
   ]
  },
  {
   "cell_type": "markdown",
   "metadata": {},
   "source": []
  },
  {
   "cell_type": "code",
   "execution_count": null,
   "metadata": {},
   "outputs": [],
   "source": [
    "val df = spark.read.json(\"dbfs:///datasets/spark-examples/people.json\")"
   ]
  },
  {
   "cell_type": "markdown",
   "metadata": {},
   "source": []
  },
  {
   "cell_type": "code",
   "execution_count": null,
   "metadata": {},
   "outputs": [],
   "source": [
    "// you can also read into df like this\n",
    "val df = spark.read.format(\"json\").load(\"dbfs:///datasets/spark-examples/people.json\")"
   ]
  },
  {
   "cell_type": "markdown",
   "metadata": {},
   "source": []
  },
  {
   "cell_type": "code",
   "execution_count": null,
   "metadata": {},
   "outputs": [],
   "source": [
    "df.show()"
   ]
  },
  {
   "cell_type": "markdown",
   "metadata": {},
   "source": [
    "  \n",
    "\n",
    "Untyped Dataset Operations (aka DataFrame Operations)\n",
    "-----------------------------------------------------\n",
    "\n",
    "DataFrames provide a domain-specific language for structured data\n",
    "manipulation in\n",
    "[Scala](https://spark.apache.org/docs/latest/api/scala/org/apache/spark/sql/Dataset.html),\n",
    "[Java](https://spark.apache.org/docs/latest/api/java/index.html?org/apache/spark/sql/Dataset.html),\n",
    "[Python](https://spark.apache.org/docs/latest/api/python/pyspark.sql.html#pyspark.sql.DataFrame)\n",
    "and [R](https://spark.apache.org/docs/latest/api/R/SparkDataFrame.html).\n",
    "\n",
    "As mentioned above, in Spark 2.0, DataFrames are just Dataset of `Row`s\n",
    "in Scala and Java API. These operations are also referred as “untyped\n",
    "transformations” in contrast to “typed transformations” come with\n",
    "strongly typed Scala/Java Datasets.\n",
    "\n",
    "Here we include some basic examples of structured data processing using\n",
    "Datasets:"
   ]
  },
  {
   "cell_type": "code",
   "execution_count": null,
   "metadata": {},
   "outputs": [],
   "source": [
    "// This import is needed to use the $-notation\n",
    "import spark.implicits._\n",
    "// Print the schema in a tree format\n",
    "df.printSchema()"
   ]
  },
  {
   "cell_type": "markdown",
   "metadata": {},
   "source": []
  },
  {
   "cell_type": "code",
   "execution_count": null,
   "metadata": {},
   "outputs": [],
   "source": [
    "// Select only the \"name\" column\n",
    "df.select(\"name\").show()"
   ]
  },
  {
   "cell_type": "markdown",
   "metadata": {},
   "source": []
  },
  {
   "cell_type": "code",
   "execution_count": null,
   "metadata": {},
   "outputs": [],
   "source": [
    "// Select everybody, but increment the age by 1\n",
    "df.select($\"name\", $\"age\" + 1).show()"
   ]
  },
  {
   "cell_type": "markdown",
   "metadata": {},
   "source": []
  },
  {
   "cell_type": "code",
   "execution_count": null,
   "metadata": {},
   "outputs": [],
   "source": [
    "// Select people older than 21\n",
    "df.filter($\"age\" > 21).show()"
   ]
  },
  {
   "cell_type": "markdown",
   "metadata": {},
   "source": []
  },
  {
   "cell_type": "code",
   "execution_count": null,
   "metadata": {},
   "outputs": [],
   "source": [
    "// Count people by age\n",
    "df.groupBy(\"age\").count().show()"
   ]
  },
  {
   "cell_type": "markdown",
   "metadata": {},
   "source": [
    "  \n",
    "\n",
    "Find full example code at -\n",
    "https://raw.githubusercontent.com/apache/spark/master/examples/src/main/scala/org/apache/spark/examples/sql/SparkSQLExample.scala\n",
    "in the Spark repo.\n",
    "\n",
    "For a complete list of the types of operations that can be performed on\n",
    "a Dataset, refer to the [API\n",
    "Documentation](https://spark.apache.org/docs/latest/api/scala/org/apache/spark/sql/Dataset.html).\n",
    "\n",
    "In addition to simple column references and expressions, Datasets also\n",
    "have a rich library of functions including string manipulation, date\n",
    "arithmetic, common math operations and more. The complete list is\n",
    "available in the [DataFrame Function\n",
    "Reference](https://spark.apache.org/docs/latest/api/scala/org/apache/spark/sql/functions$.html).\n",
    "\n",
    "Running SQL Queries Programmatically\n",
    "------------------------------------\n",
    "\n",
    "The `sql` function on a `SparkSession` enables applications to run SQL\n",
    "queries programmatically and returns the result as a `DataFrame`."
   ]
  },
  {
   "cell_type": "code",
   "execution_count": null,
   "metadata": {},
   "outputs": [],
   "source": [
    "// Register the DataFrame as a SQL temporary view\n",
    "df.createOrReplaceTempView(\"people\")"
   ]
  },
  {
   "cell_type": "markdown",
   "metadata": {},
   "source": []
  },
  {
   "cell_type": "code",
   "execution_count": null,
   "metadata": {},
   "outputs": [],
   "source": [
    "val sqlDF = spark.sql(\"SELECT * FROM people\")\n",
    "sqlDF.show()"
   ]
  },
  {
   "cell_type": "markdown",
   "metadata": {},
   "source": [
    "  \n",
    "\n",
    "Global Temporary View\n",
    "---------------------\n",
    "\n",
    "Temporary views in Spark SQL are session-scoped and will disappear if\n",
    "the session that creates it terminates. If you want to have a temporary\n",
    "view that is shared among all sessions and keep alive until the Spark\n",
    "application terminates, you can create a global temporary view. Global\n",
    "temporary view is tied to a system preserved database `global_temp`, and\n",
    "we must use the qualified name to refer it, e.g.\n",
    "`SELECT * FROM global_temp.view1`."
   ]
  },
  {
   "cell_type": "code",
   "execution_count": null,
   "metadata": {},
   "outputs": [],
   "source": [
    "// Register the DataFrame as a global temporary view\n",
    "df.createGlobalTempView(\"people\")"
   ]
  },
  {
   "cell_type": "markdown",
   "metadata": {},
   "source": []
  },
  {
   "cell_type": "code",
   "execution_count": null,
   "metadata": {},
   "outputs": [],
   "source": [
    "// Global temporary view is tied to a system preserved database `global_temp`\n",
    "spark.sql(\"SELECT * FROM global_temp.people\").show()"
   ]
  },
  {
   "cell_type": "markdown",
   "metadata": {},
   "source": []
  },
  {
   "cell_type": "code",
   "execution_count": null,
   "metadata": {},
   "outputs": [],
   "source": [
    "// Global temporary view is cross-session\n",
    "spark.newSession().sql(\"SELECT * FROM global_temp.people\").show()"
   ]
  },
  {
   "cell_type": "markdown",
   "metadata": {},
   "source": [
    "  \n",
    "\n",
    "Creating Datasets\n",
    "-----------------\n",
    "\n",
    "Datasets are similar to RDDs, however, instead of using Java\n",
    "serialization or Kryo they use a specialized\n",
    "[Encoder](https://spark.apache.org/docs/latest/api/scala/org/apache/spark/sql/Encoder.html)\n",
    "to serialize the objects for processing or transmitting over the\n",
    "network. While both encoders and standard serialization are responsible\n",
    "for turning an object into bytes, encoders are code generated\n",
    "dynamically and use a format that allows Spark to perform many\n",
    "operations like filtering, sorting and hashing without deserializing the\n",
    "bytes back into an object."
   ]
  },
  {
   "cell_type": "code",
   "execution_count": null,
   "metadata": {},
   "outputs": [],
   "source": [
    "case class Person(name: String, age: Long)\n",
    "\n",
    "// Encoders are created for case classes\n",
    "val caseClassDS = Seq(Person(\"Andy\", 32)).toDS()\n",
    "caseClassDS.show()"
   ]
  },
  {
   "cell_type": "markdown",
   "metadata": {},
   "source": []
  },
  {
   "cell_type": "code",
   "execution_count": null,
   "metadata": {},
   "outputs": [],
   "source": [
    "// Encoders for most common types are automatically provided by importing spark.implicits._\n",
    "val primitiveDS = Seq(1, 2, 3).toDS()\n",
    "primitiveDS.map(_ + 1).collect() // Returns: Array(2, 3, 4)\n"
   ]
  },
  {
   "cell_type": "markdown",
   "metadata": {},
   "source": []
  },
  {
   "cell_type": "code",
   "execution_count": null,
   "metadata": {},
   "outputs": [],
   "source": [
    "// DataFrames can be converted to a Dataset by providing a class. Mapping will be done by name\n",
    "val path = \"dbfs:///datasets/spark-examples/people.json\"\n",
    "val peopleDS = spark.read.json(path).as[Person]\n",
    "peopleDS.show()"
   ]
  },
  {
   "cell_type": "markdown",
   "metadata": {},
   "source": [
    "  \n",
    "\n",
    "**Dataset is not available directly in PySpark or SparkR**.\n",
    "\n",
    "Interoperating with RDDs\n",
    "------------------------\n",
    "\n",
    "Spark SQL supports two different methods for converting existing RDDs\n",
    "into Datasets. The first method uses reflection to infer the schema of\n",
    "an RDD that contains specific types of objects. This reflection-based\n",
    "approach leads to more concise code and works well when you already know\n",
    "the schema while writing your Spark application.\n",
    "\n",
    "The second method for creating Datasets is through a programmatic\n",
    "interface that allows you to construct a schema and then apply it to an\n",
    "existing RDD. While this method is more verbose, it allows you to\n",
    "construct Datasets when the columns and their types are not known until\n",
    "runtime.\n",
    "\n",
    "### Inferring the Schema Using Reflection\n",
    "\n",
    "The Scala interface for Spark SQL supports automatically converting an\n",
    "RDD containing case classes to a DataFrame. The case class defines the\n",
    "schema of the table. The names of the arguments to the case class are\n",
    "read using reflection and become the names of the columns. Case classes\n",
    "can also be nested or contain complex types such as `Seq`s or `Array`s.\n",
    "This RDD can be implicitly converted to a DataFrame and then be\n",
    "registered as a table. Tables can be used in subsequent SQL statements."
   ]
  },
  {
   "cell_type": "code",
   "execution_count": null,
   "metadata": {},
   "outputs": [],
   "source": [
    "// the following lines merely fetch the file from the URL and load it into the dbfs for us to try in databricks\n",
    "// getLines from the file at the URL\n",
    "val peopleTxtLinesFromURL = scala.io.Source.fromURL(\"https://raw.githubusercontent.com/apache/spark/master/examples/src/main/resources/people.txt\").getLines\n",
    "// remove any pre-existing file at the dbfs location\n",
    "dbutils.fs.rm(\"dbfs:///datasets/spark-examples/people.txt\",recurse=true)\n",
    "// convert the lines fetched from the URL to a Seq, then make it a RDD of String and finally save it as textfile to dbfs\n",
    "sc.parallelize(peopleTxtLinesFromURL.toSeq).saveAsTextFile(\"dbfs:///datasets/spark-examples/people.txt\")\n",
    "// read the text file we just saved and see what it has\n",
    "sc.textFile(\"dbfs:///datasets/spark-examples/people.txt\").collect.mkString(\"\\n\")"
   ]
  },
  {
   "cell_type": "markdown",
   "metadata": {},
   "source": []
  },
  {
   "cell_type": "code",
   "execution_count": null,
   "metadata": {},
   "outputs": [],
   "source": [
    "sc.textFile(\"dbfs:///datasets/spark-examples/people.txt\").collect.mkString(\"\\n\")"
   ]
  },
  {
   "cell_type": "markdown",
   "metadata": {},
   "source": []
  },
  {
   "cell_type": "code",
   "execution_count": null,
   "metadata": {},
   "outputs": [],
   "source": [
    "// For implicit conversions from RDDs to DataFrames\n",
    "import spark.implicits._\n",
    "\n",
    "// make a case class\n",
    "case class Person(name: String, age: Long)\n",
    "\n",
    "// Create an RDD of Person objects from a text file, convert it to a Dataframe\n",
    "val peopleDF = spark.sparkContext\n",
    "  .textFile(\"dbfs:///datasets/spark-examples/people.txt\")\n",
    "  .map(_.split(\",\"))\n",
    "  .map(attributes => Person(attributes(0), attributes(1).trim.toLong))\n",
    "  //.map(attributes => Person(attributes(0), attributes(1).trim.toLong))\n",
    "  .toDF()"
   ]
  },
  {
   "cell_type": "markdown",
   "metadata": {},
   "source": []
  },
  {
   "cell_type": "code",
   "execution_count": null,
   "metadata": {},
   "outputs": [],
   "source": [
    "peopleDF.show"
   ]
  },
  {
   "cell_type": "markdown",
   "metadata": {},
   "source": []
  },
  {
   "cell_type": "code",
   "execution_count": null,
   "metadata": {},
   "outputs": [],
   "source": [
    "// Register the DataFrame as a temporary view\n",
    "peopleDF.createOrReplaceTempView(\"people\")"
   ]
  },
  {
   "cell_type": "markdown",
   "metadata": {},
   "source": []
  },
  {
   "cell_type": "code",
   "execution_count": null,
   "metadata": {},
   "outputs": [],
   "source": [
    "// SQL statements can be run by using the sql methods provided by Spark\n",
    "val teenagersDF = spark.sql(\"SELECT name, age FROM people WHERE age BETWEEN 13 AND 19\")"
   ]
  },
  {
   "cell_type": "markdown",
   "metadata": {},
   "source": []
  },
  {
   "cell_type": "code",
   "execution_count": null,
   "metadata": {},
   "outputs": [],
   "source": [
    "teenagersDF.show()"
   ]
  },
  {
   "cell_type": "markdown",
   "metadata": {},
   "source": []
  },
  {
   "cell_type": "code",
   "execution_count": null,
   "metadata": {},
   "outputs": [],
   "source": [
    "// The columns of a row in the result can be accessed by field index\n",
    "teenagersDF.map(teenager => \"Name: \" + teenager(0)).show()"
   ]
  },
  {
   "cell_type": "markdown",
   "metadata": {},
   "source": []
  },
  {
   "cell_type": "code",
   "execution_count": null,
   "metadata": {},
   "outputs": [],
   "source": [
    "// or by field name\n",
    "teenagersDF.map(teenager => \"Name: \" + teenager.getAs[String](\"name\")).show()"
   ]
  },
  {
   "cell_type": "markdown",
   "metadata": {},
   "source": []
  },
  {
   "cell_type": "code",
   "execution_count": null,
   "metadata": {},
   "outputs": [],
   "source": [
    "// No pre-defined encoders for Dataset[Map[K,V]], define explicitly\n",
    "implicit val mapEncoder = org.apache.spark.sql.Encoders.kryo[Map[String, Any]]"
   ]
  },
  {
   "cell_type": "markdown",
   "metadata": {},
   "source": []
  },
  {
   "cell_type": "code",
   "execution_count": null,
   "metadata": {},
   "outputs": [],
   "source": [
    "// Primitive types and case classes can be also defined as\n",
    "// import more classes here...\n",
    "//implicit val stringIntMapEncoder: Encoder[Map[String, Any]] = ExpressionEncoder()"
   ]
  },
  {
   "cell_type": "markdown",
   "metadata": {},
   "source": []
  },
  {
   "cell_type": "code",
   "execution_count": null,
   "metadata": {},
   "outputs": [],
   "source": [
    "// row.getValuesMap[T] retrieves multiple columns at once into a Map[String, T]\n",
    "teenagersDF.map(teenager => teenager.getValuesMap[Any](List(\"name\", \"age\"))).collect()"
   ]
  },
  {
   "cell_type": "markdown",
   "metadata": {},
   "source": [
    "  \n",
    "\n",
    "### Programmatically Specifying the Schema\n",
    "\n",
    "When case classes cannot be defined ahead of time (for example, the\n",
    "structure of records is encoded in a string, or a text dataset will be\n",
    "parsed and fields will be projected differently for different users), a\n",
    "`DataFrame` can be created programmatically with three steps.\n",
    "\n",
    "1.  Create an RDD of `Row`s from the original RDD;\n",
    "2.  Create the schema represented by a `StructType` matching the\n",
    "    structure of `Row`s in the RDD created in Step 1.\n",
    "3.  Apply the schema to the RDD of `Row`s via `createDataFrame` method\n",
    "    provided by `SparkSession`.\n",
    "\n",
    "For example:"
   ]
  },
  {
   "cell_type": "code",
   "execution_count": null,
   "metadata": {},
   "outputs": [],
   "source": [
    "import org.apache.spark.sql.Row\n",
    "\n",
    "import org.apache.spark.sql.types._\n",
    "\n",
    "// Create an RDD\n",
    "val peopleRDD = spark.sparkContext.textFile(\"dbfs:///datasets/spark-examples/people.txt\")"
   ]
  },
  {
   "cell_type": "markdown",
   "metadata": {},
   "source": []
  },
  {
   "cell_type": "code",
   "execution_count": null,
   "metadata": {},
   "outputs": [],
   "source": [
    "// The schema is encoded in a string\n",
    "val schemaString = \"name age\""
   ]
  },
  {
   "cell_type": "markdown",
   "metadata": {},
   "source": []
  },
  {
   "cell_type": "code",
   "execution_count": null,
   "metadata": {},
   "outputs": [],
   "source": [
    "// Generate the schema based on the string of schema\n",
    "val fields = schemaString.split(\" \")\n",
    "  .map(fieldName => StructField(fieldName, StringType, nullable = true))"
   ]
  },
  {
   "cell_type": "markdown",
   "metadata": {},
   "source": []
  },
  {
   "cell_type": "code",
   "execution_count": null,
   "metadata": {},
   "outputs": [],
   "source": [
    "val schema = StructType(fields)"
   ]
  },
  {
   "cell_type": "markdown",
   "metadata": {},
   "source": []
  },
  {
   "cell_type": "code",
   "execution_count": null,
   "metadata": {},
   "outputs": [],
   "source": [
    "// Convert records of the RDD (people) to Rows\n",
    "val rowRDD = peopleRDD\n",
    "  .map(_.split(\",\"))\n",
    "  .map(attributes => Row(attributes(0), attributes(1).trim))"
   ]
  },
  {
   "cell_type": "markdown",
   "metadata": {},
   "source": []
  },
  {
   "cell_type": "code",
   "execution_count": null,
   "metadata": {},
   "outputs": [],
   "source": [
    "// Apply the schema to the RDD\n",
    "val peopleDF = spark.createDataFrame(rowRDD, schema)"
   ]
  },
  {
   "cell_type": "markdown",
   "metadata": {},
   "source": []
  },
  {
   "cell_type": "code",
   "execution_count": null,
   "metadata": {},
   "outputs": [],
   "source": [
    "peopleDF.show"
   ]
  },
  {
   "cell_type": "markdown",
   "metadata": {},
   "source": []
  },
  {
   "cell_type": "code",
   "execution_count": null,
   "metadata": {},
   "outputs": [],
   "source": [
    "// Creates a temporary view using the DataFrame\n",
    "peopleDF.createOrReplaceTempView(\"people\")"
   ]
  },
  {
   "cell_type": "markdown",
   "metadata": {},
   "source": []
  },
  {
   "cell_type": "code",
   "execution_count": null,
   "metadata": {},
   "outputs": [],
   "source": [
    "// SQL can be run over a temporary view created using DataFrames\n",
    "val results = spark.sql(\"SELECT name FROM people\")"
   ]
  },
  {
   "cell_type": "markdown",
   "metadata": {},
   "source": []
  },
  {
   "cell_type": "code",
   "execution_count": null,
   "metadata": {},
   "outputs": [],
   "source": [
    "results.show"
   ]
  },
  {
   "cell_type": "markdown",
   "metadata": {},
   "source": []
  },
  {
   "cell_type": "code",
   "execution_count": null,
   "metadata": {},
   "outputs": [],
   "source": [
    "// The results of SQL queries are DataFrames and support all the normal RDD operations\n",
    "// The columns of a row in the result can be accessed by field index or by field name\n",
    "results.map(attributes => \"Name: \" + attributes(0)).show()"
   ]
  },
  {
   "cell_type": "markdown",
   "metadata": {},
   "source": [
    "  \n",
    "\n",
    "Find full example code at -\n",
    "https://raw.githubusercontent.com/apache/spark/master/examples/src/main/scala/org/apache/spark/examples/sql/SparkSQLExample.scala\n",
    "in the Spark repo.\n",
    "\n",
    "Scalar Functions\n",
    "----------------\n",
    "\n",
    "Scalar functions are functions that return a single value per row, as\n",
    "opposed to aggregation functions, which return a value for a group of\n",
    "rows. Spark SQL supports a variety of [Built-in Scalar\n",
    "Functions](https://spark.apache.org/docs/latest/sql-ref-functions.html#scalar-functions).\n",
    "It also supports [User Defined Scalar\n",
    "Functions](https://spark.apache.org/docs/latest/sql-ref-functions-udf-scalar.html).\n",
    "\n",
    "Aggregate Functions\n",
    "-------------------\n",
    "\n",
    "Aggregate functions are functions that return a single value on a group\n",
    "of rows. The [Built-in Aggregation\n",
    "Functions](https://spark.apache.org/docs/latest/sql-ref-functions-builtin.html#aggregate-functions)\n",
    "provide common aggregations such as `count()`, `countDistinct()`,\n",
    "`avg()`, `max()`, `min()`, etc. Users are not limited to the predefined\n",
    "aggregate functions and can create their own. For more details about\n",
    "user defined aggregate functions, please refer to the documentation of\n",
    "[User Defined Aggregate\n",
    "Functions](https://spark.apache.org/docs/latest/sql-ref-functions-udf-aggregate.html)."
   ]
  }
 ],
 "nbformat": 4,
 "nbformat_minor": 5,
 "metadata": {}
}
