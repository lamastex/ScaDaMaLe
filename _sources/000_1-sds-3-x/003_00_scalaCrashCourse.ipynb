{
 "cells": [
  {
   "cell_type": "markdown",
   "metadata": {},
   "source": [
    "ScaDaMaLe Course\n",
    "[site](https://lamastex.github.io/scalable-data-science/sds/3/x/) and\n",
    "[book](https://lamastex.github.io/ScaDaMaLe/index.html)\n",
    "\n",
    "Introduction to Scala through Scala Notebook\n",
    "--------------------------------------------\n",
    "\n",
    "For convenience we use databricks Scala notebooks like this one here.\n",
    "\n",
    "You can learn Scala locally on your own computer using Scala REPL (and\n",
    "Spark using Spark-Shell).\n",
    "\n",
    "Scala in your own computer\n",
    "--------------------------\n",
    "\n",
    "The most easy way to get Scala locally is through sbt, the Scala Build\n",
    "Tool. You can also use an IDE that integrates sbt.\n",
    "\n",
    "See: <https://docs.scala-lang.org/getting-started/index.html> to set up\n",
    "Scala in your own computer.\n",
    "\n",
    "**Software Engineering NOTE:** If you completed TASK 2 for **Cloud-free\n",
    "Computing Environment** in the notebook prefixed `002_00` using\n",
    "dockerCompose (optional exercise) then you will have Scala 2.11 with sbt\n",
    "and Spark 2.4 inside the docker services you can start and stop locally.\n",
    "Using docker volume binds you can also connect the docker container and\n",
    "its services (including local zeppelin or jupyter notebook servers as\n",
    "well as hadoop file system) to IDEs on your machine, etc.\n",
    "\n",
    "------------------------------------------------------------------------\n",
    "\n",
    "### Run a **Scala Cell**\n",
    "\n",
    "-   Run the following scala cell.\n",
    "-   Note: There is no need for any special indicator (such as `%md`)\n",
    "    necessary to create a Scala cell in a Scala notebook.\n",
    "-   You know it is a scala notebook because of the `(Scala)` appended to\n",
    "    the name of this notebook.\n",
    "-   Make sure the cell contents updates before moving on.\n",
    "-   Press **Shift+Enter** when in the cell to run it and proceed to the\n",
    "    next cell.\n",
    "    -   The cells contents should update.\n",
    "    -   Alternately, press **Ctrl+Enter** when in a cell to **run** it,\n",
    "        but not proceed to the next cell.\n",
    "-   characters following `//` are comments in scala. \\*\\*\\*"
   ]
  },
  {
   "cell_type": "code",
   "execution_count": null,
   "metadata": {},
   "outputs": [],
   "source": [
    "1+1"
   ]
  },
  {
   "cell_type": "markdown",
   "metadata": {},
   "source": []
  },
  {
   "cell_type": "code",
   "execution_count": null,
   "metadata": {},
   "outputs": [],
   "source": [
    "println(System.currentTimeMillis) // press Ctrl+Enter to evaluate println that prints its argument as a line"
   ]
  },
  {
   "cell_type": "markdown",
   "metadata": {},
   "source": [
    "  \n",
    "\n",
    "Scala Resources\n",
    "---------------\n",
    "\n",
    "You will not be learning scala systematically and thoroughly in this\n",
    "course. You will learn *to use* Scala by doing various Spark jobs.\n",
    "\n",
    "If you are interested in learning scala properly, then there are various\n",
    "resources, including:\n",
    "\n",
    "-   [scala-lang.org](http://www.scala-lang.org/) is the **core Scala\n",
    "    resource**. Bookmark the following three links:\n",
    "    -   [tour-of-scala](https://docs.scala-lang.org/tour/tour-of-scala.html) -\n",
    "        Bite-sized introductions to core language features.\n",
    "        -   we will go through the tour in a hurry now as some Scala\n",
    "            familiarity is needed immediately.\n",
    "    -   [scala-book](https://docs.scala-lang.org/overviews/scala-book/introduction.html) -\n",
    "        An online book introducing the main language features\n",
    "        -   you are expected to use this resource to figure out Scala as\n",
    "            needed.\n",
    "    -   [scala-cheatsheet](https://docs.scala-lang.org/cheatsheets/index.html) -\n",
    "        A handy cheatsheet covering the basics of Scala syntax.\n",
    "    -   [visual-scala-reference](https://superruzafa.github.io/visual-scala-reference/) -\n",
    "        This guide collects some of the most common functions of the\n",
    "        Scala Programming Language and explain them conceptual and\n",
    "        graphically in a simple way.\n",
    "-   [Online Resources](https://docs.scala-lang.org/learn.html),\n",
    "    including:\n",
    "    -   [courseera: Functional Programming Principles in\n",
    "        Scala](https://www.coursera.org/course/progfun)\n",
    "-   [Books](http://www.scala-lang.org/documentation/books.html)\n",
    "    -   [Programming in Scala, 1st Edition, Free Online\n",
    "        Reading](http://www.artima.com/pins1ed/)\n",
    "\n",
    "The main sources for the following content are (you are encouraged to\n",
    "read them for more background):\n",
    "\n",
    "-   [Martin Oderski's Scala by\n",
    "    example](https://www.scala-lang.org/old/sites/default/files/linuxsoft_archives/docu/files/ScalaByExample.pdf)\n",
    "-   [Scala crash course by Holden\n",
    "    Karau](http://lintool.github.io/SparkTutorial/slides/day1_Scala_crash_course.pdf)\n",
    "-   [Darren's brief introduction to scala and breeze for statistical\n",
    "    computing](https://darrenjw.wordpress.com/2013/12/30/brief-introduction-to-scala-and-breeze-for-statistical-computing/)\n",
    "\n",
    "Introduction to Scala\n",
    "=====================\n",
    "\n",
    "What is Scala?\n",
    "--------------\n",
    "\n",
    "\"Scala smoothly integrates object-oriented and functional programming.\n",
    "It is designed to express common programming patterns in a concise,\n",
    "elegant, and type-safe way.\" by Matrin Odersky.\n",
    "\n",
    "-   High-level language for the Java Virtual Machine (JVM)\n",
    "-   Object oriented + functional programming\n",
    "-   Statically typed\n",
    "-   Comparable in speed to Java\n",
    "-   Type inference saves us from having to write explicit types most of\n",
    "    the time Interoperates with Java\n",
    "-   Can use any Java class (inherit from, etc.)\n",
    "-   Can be called from Java code\n",
    "\n",
    "See a quick tour here:\n",
    "\n",
    "-   <https://docs.scala-lang.org/tour/tour-of-scala.html>\n",
    "\n",
    "Why Scala?\n",
    "----------\n",
    "\n",
    "-   Spark was originally written in Scala, which allows concise function\n",
    "    syntax and interactive use\n",
    "-   Spark APIs for other languages include:\n",
    "    -   Java API for standalone use\n",
    "    -   Python API added to reach a wider user community of programmes\n",
    "    -   R API added more recently to reach a wider community of data\n",
    "        analyststs\n",
    "    -   Unfortunately, Python and R APIs are generally behind Spark's\n",
    "        native Scala (for eg. GraphX is only available in Scala\n",
    "        currently and datasets are only available in Scala as of\n",
    "        20200918).\n",
    "-   See Darren Wilkinson's 11 reasons for [scala as a platform for\n",
    "    statistical computing and data\n",
    "    science](https://darrenjw.wordpress.com/2013/12/23/scala-as-a-platform-for-statistical-computing-and-data-science/).\n",
    "    It is embedded in-place below for your convenience."
   ]
  },
  {
   "cell_type": "code",
   "execution_count": null,
   "metadata": {},
   "outputs": [],
   "source": [
    "//%run \"/scalable-data-science/xtraResources/support/sdsFunctions\"\n",
    "//This allows easy embedding of publicly available information into any other notebook\n",
    "//when viewing in git-book just ignore this block - you may have to manually chase the URL in frameIt(\"URL\").\n",
    "//Example usage:\n",
    "// displayHTML(frameIt(\"https://en.wikipedia.org/wiki/Latent_Dirichlet_allocation#Topics_in_LDA\",250))\n",
    "def frameIt( u:String, h:Int ) : String = {\n",
    "      \"\"\"<iframe \n",
    " src=\"\"\"\"+ u+\"\"\"\"\n",
    " width=\"95%\" height=\"\"\"\" + h + \"\"\"\"\n",
    " sandbox>\n",
    "  <p>\n",
    "    <a href=\"http://spark.apache.org/docs/latest/index.html\">\n",
    "      Fallback link for browsers that, unlikely, don't support frames\n",
    "    </a>\n",
    "  </p>\n",
    "</iframe>\"\"\"\n",
    "   }"
   ]
  },
  {
   "cell_type": "markdown",
   "metadata": {},
   "source": []
  },
  {
   "cell_type": "code",
   "execution_count": null,
   "metadata": {},
   "outputs": [],
   "source": [
    "displayHTML(frameIt(\"https://darrenjw.wordpress.com/2013/12/23/scala-as-a-platform-for-statistical-computing-and-data-science/\",500))"
   ]
  },
  {
   "cell_type": "markdown",
   "metadata": {},
   "source": [
    "  \n",
    "\n",
    "Let's get our hands dirty in Scala\n",
    "==================================\n",
    "\n",
    "We will go through the **following** programming concepts and tasks by\n",
    "building on <https://docs.scala-lang.org/tour/basics.html>.\n",
    "\n",
    "-   **Scala Types**\n",
    "-   **Expressions and Printing**\n",
    "-   **Naming and Assignments**\n",
    "-   **Functions and Methods in Scala**\n",
    "-   **Classes and Case Classes**\n",
    "-   **Methods and Tab-completion**\n",
    "-   **Objects and Traits**\n",
    "-   Collections in Scala and Type Hierarchy\n",
    "-   Functional Programming and MapReduce\n",
    "-   Lazy Evaluations and Recursions\n",
    "\n",
    "**Remark**: You need to take a computer science course (from CourseEra,\n",
    "for example) to properly learn Scala. Here, we will learn to use Scala\n",
    "by example to accomplish our data science tasks at hand. You can learn\n",
    "more Scala as needed from various sources pointed out above in **Scala\n",
    "Resources**.\n",
    "\n",
    "Scala Types\n",
    "===========\n",
    "\n",
    "In Scala, all values have a type, including numerical values and\n",
    "functions. The diagram below illustrates a subset of the type hierarchy.\n",
    "\n",
    "![](https://docs.scala-lang.org/resources/images/tour/unified-types-diagram.svg)\n",
    "\n",
    "For now, notice some common types we will be usinf including `Int`,\n",
    "`String`, `Double`, `Unit`, `Boolean`, `List`, etc. For more details see\n",
    "<https://docs.scala-lang.org/tour/unified-types.html>. We will return to\n",
    "this at the end of the notebook after seeing a brief tour of Scala now.\n",
    "\n",
    "Expressions\n",
    "===========\n",
    "\n",
    "Expressions are computable statements such as the `1+1` we have seen\n",
    "before."
   ]
  },
  {
   "cell_type": "code",
   "execution_count": null,
   "metadata": {},
   "outputs": [],
   "source": [
    "1+1"
   ]
  },
  {
   "cell_type": "markdown",
   "metadata": {},
   "source": [
    "  \n",
    "\n",
    "We can print the output of a computed or evaluated expressions as a line\n",
    "using `println`:"
   ]
  },
  {
   "cell_type": "code",
   "execution_count": null,
   "metadata": {},
   "outputs": [],
   "source": [
    "println(1+1) // printing 2"
   ]
  },
  {
   "cell_type": "markdown",
   "metadata": {},
   "source": []
  },
  {
   "cell_type": "code",
   "execution_count": null,
   "metadata": {},
   "outputs": [],
   "source": [
    "println(\"hej hej!\") // printing a string"
   ]
  },
  {
   "cell_type": "markdown",
   "metadata": {},
   "source": [
    "  \n",
    "\n",
    "Naming and Assignments\n",
    "----------------------\n",
    "\n",
    "### value and variable as `val` and `var`\n",
    "\n",
    "You can name the results of expressions using keywords `val` and `var`.\n",
    "\n",
    "Let us assign the integer value `5` to `x` as follows:"
   ]
  },
  {
   "cell_type": "code",
   "execution_count": null,
   "metadata": {},
   "outputs": [],
   "source": [
    "val x : Int = 5 // <Ctrl+Enter> to declare a value x to be integer 5. "
   ]
  },
  {
   "cell_type": "markdown",
   "metadata": {},
   "source": [
    "  \n",
    "\n",
    "`x` is a named result and it is a value since we used the keyword `val`\n",
    "when naming it.\n",
    "\n",
    "Scala is statically typed, but it uses built-in type inference machinery\n",
    "to automatically figure out that `x` is an integer or `Int` type as\n",
    "follows. Let's declare a value `x` to be `Int` 5 next without explictly\n",
    "using `Int`."
   ]
  },
  {
   "cell_type": "code",
   "execution_count": null,
   "metadata": {},
   "outputs": [],
   "source": [
    "val x = 5    // <Ctrl+Enter> to declare a value x as Int 5 (type automatically inferred)"
   ]
  },
  {
   "cell_type": "markdown",
   "metadata": {},
   "source": [
    "  \n",
    "\n",
    "Let's declare `x` as a `Double` or double-precision floating-point type\n",
    "using decimal such as `5.0` (a digit has to follow the decimal point!)"
   ]
  },
  {
   "cell_type": "code",
   "execution_count": null,
   "metadata": {},
   "outputs": [],
   "source": [
    "val x = 5.0   // <Ctrl+Enter> to declare a value x as Double 5"
   ]
  },
  {
   "cell_type": "markdown",
   "metadata": {},
   "source": [
    "  \n",
    "\n",
    "Alternatively, we can assign `x` as a `Double` explicitly. Note that the\n",
    "decimal point is not needed in this case due to explicit typing as\n",
    "`Double`."
   ]
  },
  {
   "cell_type": "code",
   "execution_count": null,
   "metadata": {},
   "outputs": [],
   "source": [
    "val x :  Double = 5    // <Ctrl+Enter> to declare a value x as Double 5 (type automatically inferred)"
   ]
  },
  {
   "cell_type": "markdown",
   "metadata": {},
   "source": [
    "  \n",
    "\n",
    "Next note that labels need to be declared on first use. We have declared\n",
    "`x` to be a `val` which is short for *value*. This makes `x` immutable\n",
    "(cannot be changed).\n",
    "\n",
    "Thus, `x` cannot be just re-assigned, as the following code illustrates\n",
    "in the resulting error: `... error: reassignment to val`."
   ]
  },
  {
   "cell_type": "code",
   "execution_count": null,
   "metadata": {},
   "outputs": [],
   "source": [
    "//x = 10    //  uncomment and <Ctrl+Enter> to try to reassign val x to 10"
   ]
  },
  {
   "cell_type": "markdown",
   "metadata": {},
   "source": [
    "  \n",
    "\n",
    "Scala allows declaration of mutable variables as well using `var`, as\n",
    "follows:"
   ]
  },
  {
   "cell_type": "code",
   "execution_count": null,
   "metadata": {},
   "outputs": [],
   "source": [
    "var y = 2    // <Shift+Enter> to declare a variable y to be integer 2 and go to next cell"
   ]
  },
  {
   "cell_type": "markdown",
   "metadata": {},
   "source": []
  },
  {
   "cell_type": "code",
   "execution_count": null,
   "metadata": {},
   "outputs": [],
   "source": [
    "y = 3    // <Shift+Enter> to change the value of y to 3"
   ]
  },
  {
   "cell_type": "markdown",
   "metadata": {},
   "source": []
  },
  {
   "cell_type": "code",
   "execution_count": null,
   "metadata": {},
   "outputs": [],
   "source": [
    "y = y+1 // adds 1 to y"
   ]
  },
  {
   "cell_type": "markdown",
   "metadata": {},
   "source": []
  },
  {
   "cell_type": "code",
   "execution_count": null,
   "metadata": {},
   "outputs": [],
   "source": [
    "y += 2 // adds 2 to y"
   ]
  },
  {
   "cell_type": "markdown",
   "metadata": {},
   "source": []
  },
  {
   "cell_type": "code",
   "execution_count": null,
   "metadata": {},
   "outputs": [],
   "source": [
    "println(y) // the var y is 6 now"
   ]
  },
  {
   "cell_type": "markdown",
   "metadata": {},
   "source": [
    "  \n",
    "\n",
    "Blocks\n",
    "======\n",
    "\n",
    "Just combine expressions by surrounding them with `{` and `}` called a\n",
    "block."
   ]
  },
  {
   "cell_type": "code",
   "execution_count": null,
   "metadata": {},
   "outputs": [],
   "source": [
    "println({\n",
    "  val x = 1+1\n",
    "  x+2 // expression in last line is returned for the block\n",
    "})// prints 4"
   ]
  },
  {
   "cell_type": "markdown",
   "metadata": {},
   "source": []
  },
  {
   "cell_type": "code",
   "execution_count": null,
   "metadata": {},
   "outputs": [],
   "source": [
    "println({ val x=22; x+2})"
   ]
  },
  {
   "cell_type": "markdown",
   "metadata": {},
   "source": [
    "  \n",
    "\n",
    "Functions\n",
    "=========\n",
    "\n",
    "Functions are expressions that have parameters. A function takes\n",
    "arguments as input and returns expressions as output.\n",
    "\n",
    "A function can be nameless or *anonymous* and simply return an output\n",
    "from a given input. For example, the following annymous function returns\n",
    "the square of the input integer."
   ]
  },
  {
   "cell_type": "code",
   "execution_count": null,
   "metadata": {},
   "outputs": [],
   "source": [
    "(x: Int) => x*x"
   ]
  },
  {
   "cell_type": "markdown",
   "metadata": {},
   "source": [
    "  \n",
    "\n",
    "On the left of `=>` is a list of parameters with name and type. On the\n",
    "right is an expression involving the parameters.\n",
    "\n",
    "You can also name functions:"
   ]
  },
  {
   "cell_type": "code",
   "execution_count": null,
   "metadata": {},
   "outputs": [],
   "source": [
    "val multiplyByItself = (x: Int) => x*x"
   ]
  },
  {
   "cell_type": "markdown",
   "metadata": {},
   "source": []
  },
  {
   "cell_type": "code",
   "execution_count": null,
   "metadata": {},
   "outputs": [],
   "source": [
    "println(multiplyByItself(10))"
   ]
  },
  {
   "cell_type": "markdown",
   "metadata": {},
   "source": [
    "  \n",
    "\n",
    "A function can have no parameters:"
   ]
  },
  {
   "cell_type": "code",
   "execution_count": null,
   "metadata": {},
   "outputs": [],
   "source": [
    "val howManyAmI = () => 1"
   ]
  },
  {
   "cell_type": "markdown",
   "metadata": {},
   "source": []
  },
  {
   "cell_type": "code",
   "execution_count": null,
   "metadata": {},
   "outputs": [],
   "source": [
    "println(howManyAmI()) // 1"
   ]
  },
  {
   "cell_type": "markdown",
   "metadata": {},
   "source": [
    "  \n",
    "\n",
    "A function can have more than one parameter:"
   ]
  },
  {
   "cell_type": "code",
   "execution_count": null,
   "metadata": {},
   "outputs": [],
   "source": [
    "val multiplyTheseTwoIntegers = (a: Int, b: Int) => a*b"
   ]
  },
  {
   "cell_type": "markdown",
   "metadata": {},
   "source": []
  },
  {
   "cell_type": "code",
   "execution_count": null,
   "metadata": {},
   "outputs": [],
   "source": [
    "println(multiplyTheseTwoIntegers(2,4)) // 8"
   ]
  },
  {
   "cell_type": "markdown",
   "metadata": {},
   "source": [
    "  \n",
    "\n",
    "Methods\n",
    "=======\n",
    "\n",
    "Methods are very similar to functions, but a few key differences exist.\n",
    "\n",
    "Methods use the `def` keyword followed by a name, parameter list(s), a\n",
    "return type, and a body."
   ]
  },
  {
   "cell_type": "code",
   "execution_count": null,
   "metadata": {},
   "outputs": [],
   "source": [
    "def square(x: Int): Int = x*x    // <Shitf+Enter> to define a function named square"
   ]
  },
  {
   "cell_type": "markdown",
   "metadata": {},
   "source": [
    "  \n",
    "\n",
    "Note that the return type `Int` is specified after the parameter list\n",
    "and a `:`."
   ]
  },
  {
   "cell_type": "code",
   "execution_count": null,
   "metadata": {},
   "outputs": [],
   "source": [
    "square(5)    // <Shitf+Enter> to call this function on argument 5"
   ]
  },
  {
   "cell_type": "markdown",
   "metadata": {},
   "source": []
  },
  {
   "cell_type": "code",
   "execution_count": null,
   "metadata": {},
   "outputs": [],
   "source": [
    "val y = 3    // <Shitf+Enter> make val y as Int 3"
   ]
  },
  {
   "cell_type": "markdown",
   "metadata": {},
   "source": []
  },
  {
   "cell_type": "code",
   "execution_count": null,
   "metadata": {},
   "outputs": [],
   "source": [
    "square(y) // <Shitf+Enter> to call the function on val y of the right argument type Int"
   ]
  },
  {
   "cell_type": "markdown",
   "metadata": {},
   "source": []
  },
  {
   "cell_type": "code",
   "execution_count": null,
   "metadata": {},
   "outputs": [],
   "source": [
    "val x = 5.0     // let x be Double 5.0"
   ]
  },
  {
   "cell_type": "markdown",
   "metadata": {},
   "source": []
  },
  {
   "cell_type": "code",
   "execution_count": null,
   "metadata": {},
   "outputs": [],
   "source": [
    "//square(x) // <Shift+Enter> to call the function on val x of type Double will give type mismatch error"
   ]
  },
  {
   "cell_type": "markdown",
   "metadata": {},
   "source": []
  },
  {
   "cell_type": "code",
   "execution_count": null,
   "metadata": {},
   "outputs": [],
   "source": [
    "def square(x: Int): Int = { // <Shitf+Enter> to declare function in a block\n",
    "  val answer = x*x\n",
    "  answer // the last line of the function block is returned\n",
    "}"
   ]
  },
  {
   "cell_type": "markdown",
   "metadata": {},
   "source": []
  },
  {
   "cell_type": "code",
   "execution_count": null,
   "metadata": {},
   "outputs": [],
   "source": [
    "square(5000)    // <Shift+Enter> to call the function"
   ]
  },
  {
   "cell_type": "markdown",
   "metadata": {},
   "source": []
  },
  {
   "cell_type": "code",
   "execution_count": null,
   "metadata": {},
   "outputs": [],
   "source": [
    "// <Shift+Enter> to define function with input and output type as String\n",
    "def announceAndEmit(text: String): String = \n",
    "{\n",
    "  println(text)\n",
    "  text // the last line of the function block is returned\n",
    "}"
   ]
  },
  {
   "cell_type": "markdown",
   "metadata": {},
   "source": [
    "  \n",
    "\n",
    "Scala has a `return` keyword but it is rarely used as the expression in\n",
    "the last line of the multi-line block is the method's return value."
   ]
  },
  {
   "cell_type": "code",
   "execution_count": null,
   "metadata": {},
   "outputs": [],
   "source": [
    "// <Ctrl+Enter> to call function which prints as line and returns as String\n",
    "announceAndEmit(\"roger  roger\")"
   ]
  },
  {
   "cell_type": "markdown",
   "metadata": {},
   "source": [
    "  \n",
    "\n",
    "A method can have output expressions involving multiple parameter lists:"
   ]
  },
  {
   "cell_type": "code",
   "execution_count": null,
   "metadata": {},
   "outputs": [],
   "source": [
    "def multiplyAndTranslate(x: Int, y: Int)(translateBy: Int): Int = (x * y) + translateBy"
   ]
  },
  {
   "cell_type": "markdown",
   "metadata": {},
   "source": []
  },
  {
   "cell_type": "code",
   "execution_count": null,
   "metadata": {},
   "outputs": [],
   "source": [
    "println(multiplyAndTranslate(2, 3)(4))  // (2*3)+4 = 10"
   ]
  },
  {
   "cell_type": "markdown",
   "metadata": {},
   "source": [
    "  \n",
    "\n",
    "A method can have no parameter lists at all:"
   ]
  },
  {
   "cell_type": "code",
   "execution_count": null,
   "metadata": {},
   "outputs": [],
   "source": [
    "def time: Long = System.currentTimeMillis"
   ]
  },
  {
   "cell_type": "markdown",
   "metadata": {},
   "source": []
  },
  {
   "cell_type": "code",
   "execution_count": null,
   "metadata": {},
   "outputs": [],
   "source": [
    "println(\"Current time in milliseconds is \" + time)"
   ]
  },
  {
   "cell_type": "markdown",
   "metadata": {},
   "source": []
  },
  {
   "cell_type": "code",
   "execution_count": null,
   "metadata": {},
   "outputs": [],
   "source": [
    "println(\"Current time in milliseconds is \" + time)"
   ]
  },
  {
   "cell_type": "markdown",
   "metadata": {},
   "source": [
    "  \n",
    "\n",
    "Classes\n",
    "=======\n",
    "\n",
    "The `class` keyword followed by the name and constructor parameters is\n",
    "used to define a class."
   ]
  },
  {
   "cell_type": "code",
   "execution_count": null,
   "metadata": {},
   "outputs": [],
   "source": [
    "class Box(h: Int, w: Int, d: Int) {\n",
    "  def printVolume(): Unit = println(h*w*d)\n",
    "}"
   ]
  },
  {
   "cell_type": "markdown",
   "metadata": {},
   "source": [
    "  \n",
    "\n",
    "-   The return type of the method `printVolume` is `Unit`.\n",
    "-   When the return type is `Unit` it indicates that there is nothing\n",
    "    meaningful to return, similar to `void` in Java and C, but with a\n",
    "    difference.\n",
    "-   Because every Scala expression must have some value, there is\n",
    "    actually a singleton value of type `Unit`, written `()` and carrying\n",
    "    no information.\n",
    "\n",
    "We can make an instance of the class with the `new` keyword."
   ]
  },
  {
   "cell_type": "code",
   "execution_count": null,
   "metadata": {},
   "outputs": [],
   "source": [
    "val my1Cube = new Box(1,1,1)"
   ]
  },
  {
   "cell_type": "markdown",
   "metadata": {},
   "source": [
    "  \n",
    "\n",
    "And call the method on the instance."
   ]
  },
  {
   "cell_type": "code",
   "execution_count": null,
   "metadata": {},
   "outputs": [],
   "source": [
    "my1Cube.printVolume() // 1"
   ]
  },
  {
   "cell_type": "markdown",
   "metadata": {},
   "source": [
    "  \n",
    "\n",
    "Our named instance `my1Cube` of the `Box` class is immutable due to\n",
    "`val`.\n",
    "\n",
    "You can have mutable instances of the class using `var`."
   ]
  },
  {
   "cell_type": "code",
   "execution_count": null,
   "metadata": {},
   "outputs": [],
   "source": [
    "var myVaryingCuboid = new Box(1,3,2)"
   ]
  },
  {
   "cell_type": "markdown",
   "metadata": {},
   "source": []
  },
  {
   "cell_type": "code",
   "execution_count": null,
   "metadata": {},
   "outputs": [],
   "source": [
    "myVaryingCuboid.printVolume()"
   ]
  },
  {
   "cell_type": "markdown",
   "metadata": {},
   "source": []
  },
  {
   "cell_type": "code",
   "execution_count": null,
   "metadata": {},
   "outputs": [],
   "source": [
    "myVaryingCuboid = new Box(1,1,1)"
   ]
  },
  {
   "cell_type": "markdown",
   "metadata": {},
   "source": []
  },
  {
   "cell_type": "code",
   "execution_count": null,
   "metadata": {},
   "outputs": [],
   "source": [
    "myVaryingCuboid.printVolume()"
   ]
  },
  {
   "cell_type": "markdown",
   "metadata": {},
   "source": [
    "  \n",
    "\n",
    "See <https://docs.scala-lang.org/tour/classes.html> for more details as\n",
    "needed.\n",
    "\n",
    "Case Classes\n",
    "============\n",
    "\n",
    "Scala has a special type of class called a *case class* that can be\n",
    "defined with the `case class` keyword.\n",
    "\n",
    "Unlike classes, whose instances are compared by reference, instances of\n",
    "case classes are immutable by default and compared by value. This makes\n",
    "them useful for defining rows of typed values in Spark."
   ]
  },
  {
   "cell_type": "code",
   "execution_count": null,
   "metadata": {},
   "outputs": [],
   "source": [
    "case class Point(x: Int, y: Int, z: Int)"
   ]
  },
  {
   "cell_type": "markdown",
   "metadata": {},
   "source": [
    "  \n",
    "\n",
    "Case classes can be instantiated without the `new` keyword."
   ]
  },
  {
   "cell_type": "code",
   "execution_count": null,
   "metadata": {},
   "outputs": [],
   "source": [
    "val point = Point(1, 2, 3)\n",
    "val anotherPoint = Point(1, 2, 3)\n",
    "val yetAnotherPoint = Point(2, 2, 2)"
   ]
  },
  {
   "cell_type": "markdown",
   "metadata": {},
   "source": [
    "  \n",
    "\n",
    "Instances of case classes are compared by value and not by reference."
   ]
  },
  {
   "cell_type": "code",
   "execution_count": null,
   "metadata": {},
   "outputs": [],
   "source": [
    "if (point == anotherPoint) {\n",
    "  println(point + \" and \" + anotherPoint + \" are the same.\")\n",
    "} else {\n",
    "  println(point + \" and \" + anotherPoint + \" are different.\")\n",
    "} // Point(1,2,3) and Point(1,2,3) are the same.\n",
    "\n",
    "if (point == yetAnotherPoint) {\n",
    "  println(point + \" and \" + yetAnotherPoint + \" are the same.\")\n",
    "} else {\n",
    "  println(point + \" and \" + yetAnotherPoint + \" are different.\")\n",
    "} // Point(1,2,3) and Point(2,2,2) are different.\n"
   ]
  },
  {
   "cell_type": "markdown",
   "metadata": {},
   "source": [
    "  \n",
    "\n",
    "By contrast, instances of classes are compared by reference."
   ]
  },
  {
   "cell_type": "code",
   "execution_count": null,
   "metadata": {},
   "outputs": [],
   "source": [
    "myVaryingCuboid.printVolume() // should be 1 x 1 x 1"
   ]
  },
  {
   "cell_type": "markdown",
   "metadata": {},
   "source": []
  },
  {
   "cell_type": "code",
   "execution_count": null,
   "metadata": {},
   "outputs": [],
   "source": [
    "my1Cube.printVolume()  // should be 1 x 1 x 1"
   ]
  },
  {
   "cell_type": "markdown",
   "metadata": {},
   "source": []
  },
  {
   "cell_type": "code",
   "execution_count": null,
   "metadata": {},
   "outputs": [],
   "source": [
    "if (myVaryingCuboid == my1Cube) {\n",
    "  println(\"myVaryingCuboid and my1Cube are the same.\")\n",
    "} else {\n",
    "  println(\"myVaryingCuboid and my1Cube are different.\")\n",
    "} // they are compared by reference and are not the same."
   ]
  },
  {
   "cell_type": "markdown",
   "metadata": {},
   "source": [
    "  \n",
    "\n",
    "More about case classes here:\n",
    "<https://docs.scala-lang.org/tour/case-classes.html>.\n",
    "\n",
    "Methods and Tab-completion\n",
    "--------------------------\n",
    "\n",
    "Many methods of a class can be accessed by `.`."
   ]
  },
  {
   "cell_type": "code",
   "execution_count": null,
   "metadata": {},
   "outputs": [],
   "source": [
    "val s  = \"hi\"    // <Ctrl+Enter> to declare val s to String \"hi\""
   ]
  },
  {
   "cell_type": "markdown",
   "metadata": {},
   "source": [
    "  \n",
    "\n",
    "You can place the cursor after `.` following a declared object and find\n",
    "out the methods available for it as shown in the image below.\n",
    "\n",
    "![tabCompletionAfterSDot PNG\n",
    "image](https://github.com/raazesh-sainudiin/scalable-data-science/raw/master/images/week1/tabCompletionAfterSDot.png)\n",
    "\n",
    "**You Try** doing this next."
   ]
  },
  {
   "cell_type": "code",
   "execution_count": null,
   "metadata": {},
   "outputs": [],
   "source": [
    "//s.  // place cursor after the '.' and press Tab to see all available methods for s "
   ]
  },
  {
   "cell_type": "markdown",
   "metadata": {},
   "source": [
    "  \n",
    "\n",
    "For example,\n",
    "\n",
    "-   scroll down to `contains` and double-click on it.  \n",
    "-   This should lead to `s.contains` in your cell.\n",
    "-   Now add an argument String to see if `s` contains the argument, for\n",
    "    example, try:\n",
    "    -   `s.contains(\"f\")`\n",
    "    -   `s.contains(\"\")` and\n",
    "    -   `s.contains(\"i\")`"
   ]
  },
  {
   "cell_type": "code",
   "execution_count": null,
   "metadata": {},
   "outputs": [],
   "source": [
    "//s    // <Shift-Enter> recall the value of String s"
   ]
  },
  {
   "cell_type": "markdown",
   "metadata": {},
   "source": []
  },
  {
   "cell_type": "code",
   "execution_count": null,
   "metadata": {},
   "outputs": [],
   "source": [
    "s.contains(\"f\")     // <Shift-Enter> returns Boolean false since s does not contain the string \"f\""
   ]
  },
  {
   "cell_type": "markdown",
   "metadata": {},
   "source": []
  },
  {
   "cell_type": "code",
   "execution_count": null,
   "metadata": {},
   "outputs": [],
   "source": [
    "s.contains(\"\")    // <Shift-Enter> returns Boolean true since s contains the empty string \"\""
   ]
  },
  {
   "cell_type": "markdown",
   "metadata": {},
   "source": []
  },
  {
   "cell_type": "code",
   "execution_count": null,
   "metadata": {},
   "outputs": [],
   "source": [
    "s.contains(\"i\")    // <Ctrl+Enter> returns Boolean true since s contains the string \"i\""
   ]
  },
  {
   "cell_type": "markdown",
   "metadata": {},
   "source": [
    "  \n",
    "\n",
    "Objects\n",
    "=======\n",
    "\n",
    "Objects are single instances of their own definitions using the `object`\n",
    "keyword. You can think of them as singletons of their own classes."
   ]
  },
  {
   "cell_type": "code",
   "execution_count": null,
   "metadata": {},
   "outputs": [],
   "source": [
    "object IdGenerator {\n",
    "  private var currentId = 0\n",
    "  def make(): Int = {\n",
    "    currentId += 1\n",
    "    currentId\n",
    "  }\n",
    "}"
   ]
  },
  {
   "cell_type": "markdown",
   "metadata": {},
   "source": [
    "  \n",
    "\n",
    "You can access an object through its name:"
   ]
  },
  {
   "cell_type": "code",
   "execution_count": null,
   "metadata": {},
   "outputs": [],
   "source": [
    "val newId: Int = IdGenerator.make()\n",
    "val newerId: Int = IdGenerator.make()"
   ]
  },
  {
   "cell_type": "markdown",
   "metadata": {},
   "source": []
  },
  {
   "cell_type": "code",
   "execution_count": null,
   "metadata": {},
   "outputs": [],
   "source": [
    "println(newId) // 1\n",
    "println(newerId) // 2"
   ]
  },
  {
   "cell_type": "markdown",
   "metadata": {},
   "source": [
    "  \n",
    "\n",
    "For details see\n",
    "<https://docs.scala-lang.org/tour/singleton-objects.html>\n",
    "\n",
    "Traits\n",
    "======\n",
    "\n",
    "Traits are abstract data types containing certain fields and methods.\n",
    "They can be defined using the `trait` keyword.\n",
    "\n",
    "In Scala inheritance, a class can only extend one other class, but it\n",
    "can extend multiple traits."
   ]
  },
  {
   "cell_type": "code",
   "execution_count": null,
   "metadata": {},
   "outputs": [],
   "source": [
    "trait Greeter {\n",
    "  def greet(name: String): Unit\n",
    "}"
   ]
  },
  {
   "cell_type": "markdown",
   "metadata": {},
   "source": [
    "  \n",
    "\n",
    "Traits can have default implementations also."
   ]
  },
  {
   "cell_type": "code",
   "execution_count": null,
   "metadata": {},
   "outputs": [],
   "source": [
    "trait Greeter {\n",
    "  def greet(name: String): Unit =\n",
    "    println(\"Hello, \" + name + \"!\")\n",
    "}\n"
   ]
  },
  {
   "cell_type": "markdown",
   "metadata": {},
   "source": [
    "  \n",
    "\n",
    "You can extend traits with the `extends` keyword and override an\n",
    "implementation with the `override` keyword:"
   ]
  },
  {
   "cell_type": "code",
   "execution_count": null,
   "metadata": {},
   "outputs": [],
   "source": [
    "class DefaultGreeter extends Greeter\n",
    "\n",
    "class SwedishGreeter extends Greeter {\n",
    "  override def greet(name: String): Unit = {\n",
    "    println(\"Hej hej, \" + name + \"!\")\n",
    "  }\n",
    "}\n",
    "\n",
    "class CustomizableGreeter(prefix: String, postfix: String) extends Greeter {\n",
    "  override def greet(name: String): Unit = {\n",
    "    println(prefix + name + postfix)\n",
    "  }\n",
    "}"
   ]
  },
  {
   "cell_type": "markdown",
   "metadata": {},
   "source": [
    "  \n",
    "\n",
    "Instantiate the classes."
   ]
  },
  {
   "cell_type": "code",
   "execution_count": null,
   "metadata": {},
   "outputs": [],
   "source": [
    "val greeter = new DefaultGreeter()\n",
    "val swedishGreeter = new SwedishGreeter()\n",
    "val customGreeter = new CustomizableGreeter(\"How are you, \", \"?\")"
   ]
  },
  {
   "cell_type": "markdown",
   "metadata": {},
   "source": [
    "  \n",
    "\n",
    "Call the `greet` method in each case."
   ]
  },
  {
   "cell_type": "code",
   "execution_count": null,
   "metadata": {},
   "outputs": [],
   "source": [
    "greeter.greet(\"Scala developer\") // Hello, Scala developer!\n",
    "swedishGreeter.greet(\"Scala developer\") // Hej hej, Scala developer!\n",
    "customGreeter.greet(\"Scala developer\") // How are you, Scala developer?"
   ]
  },
  {
   "cell_type": "markdown",
   "metadata": {},
   "source": [
    "  \n",
    "\n",
    "A class can also be made to extend multiple traits.\n",
    "\n",
    "For more details see: <https://docs.scala-lang.org/tour/traits.html>.\n",
    "\n",
    "Main Method\n",
    "===========\n",
    "\n",
    "The main method is the entry point of a Scala program.\n",
    "\n",
    "The Java Virtual Machine requires a main method, named `main`, that\n",
    "takes an array of strings as its only argument.\n",
    "\n",
    "Using an object, you can define the main method as follows:"
   ]
  },
  {
   "cell_type": "code",
   "execution_count": null,
   "metadata": {},
   "outputs": [],
   "source": [
    "object Main {\n",
    "  def main(args: Array[String]): Unit =\n",
    "    println(\"Hello, Scala developer!\")\n",
    "}"
   ]
  },
  {
   "cell_type": "markdown",
   "metadata": {},
   "source": [
    "  \n",
    "\n",
    "What I try not do while learning a new language?\n",
    "================================================\n",
    "\n",
    "1.  I don't immediately try to ask questions like:\n",
    "\n",
    "-   \"how can I do this particular variation of some small thing I just\n",
    "    learned so I can use patterns I am used to from another language I\n",
    "    am hooked-on right now?\" immediately\n",
    "-   first go through the detailed Scala Tour on your own and then\n",
    "    through the 50 odd lessons in the Scala Book\n",
    "-   then return to 1. and ask detailed cross-language comparison\n",
    "    questions by diving deep as needed with the source and scala docs as\n",
    "    needed (google search!)."
   ]
  }
 ],
 "nbformat": 4,
 "nbformat_minor": 5,
 "metadata": {}
}
