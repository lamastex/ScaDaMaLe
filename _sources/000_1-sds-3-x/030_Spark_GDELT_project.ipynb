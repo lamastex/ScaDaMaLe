{
 "cells": [
  {
   "cell_type": "markdown",
   "metadata": {},
   "source": [
    "[ScaDaMaLe, Scalable Data Science and Distributed Machine Learning](https://lamastex.github.io/scalable-data-science/sds/3/x/)\n",
    "==============================================================================================================================\n",
    "\n",
    "Plugging into GDELT Streams\n",
    "===========================\n",
    "\n",
    "This is just a breif teaser into the world of the GDELT-project: \\*\n",
    "<https://www.gdeltproject.org/>\n",
    "\n",
    "This exposition was originally from [Mastering Spark for Data\n",
    "Science](https://books.google.se/books/about/Mastering_Spark_for_Data_Science.html?id=prkrDwAAQBAJ&source=kp_cover&redir_esc=y)\n",
    "which we will try to dive into in the geospatial modules.\n",
    "\n",
    "We will use a spark-gdelt library for Spark 3.0.1:\n",
    "\n",
    "-   <https://github.com/aamend/spark-gdelt>"
   ]
  },
  {
   "cell_type": "code",
   "execution_count": null,
   "metadata": {},
   "outputs": [],
   "source": [
    "import com.aamend.spark.gdelt._\n"
   ]
  },
  {
   "cell_type": "markdown",
   "metadata": {},
   "source": []
  },
  {
   "cell_type": "code",
   "execution_count": null,
   "metadata": {},
   "outputs": [],
   "source": [
    "import com.aamend.spark.gdelt._\n"
   ]
  },
  {
   "cell_type": "markdown",
   "metadata": {},
   "source": [
    "  \n",
    "\n",
    ">     import com.aamend.spark.gdelt._\n",
    "\n",
    "  \n",
    "\n",
    "This is just dipping our pinky toe in this ocean of information!\n",
    "================================================================\n",
    "\n",
    "Download from gdelt-project\n",
    "==========================="
   ]
  },
  {
   "cell_type": "code",
   "execution_count": null,
   "metadata": {},
   "outputs": [],
   "source": [
    "ls -al "
   ]
  },
  {
   "cell_type": "markdown",
   "metadata": {},
   "source": [
    "  \n",
    "\n",
    ">     total 428\n",
    ">     drwxr-xr-x 1 root root   4096 May 24 02:32 .\n",
    ">     drwxr-xr-x 1 root root   4096 May 24 02:32 ..\n",
    ">     drwxr-xr-x 2 root root   4096 Jan  1  1970 conf\n",
    ">     -rw-r--r-- 1 root root    731 May 23 23:24 derby.log\n",
    ">     drwxr-xr-x 3 root root   4096 May 23 23:24 eventlogs\n",
    ">     drwxr-xr-x 2 root root   4096 May 24 09:45 ganglia\n",
    ">     drwxr-xr-x 2 root root   4096 May 23 23:24 library-install-logs\n",
    ">     drwxr-xr-x 2 root root   4096 May 24 09:00 logs\n",
    ">     -rw-r--r-- 1 root root 402147 Apr  9 19:51 social-media-usage.csv"
   ]
  },
  {
   "cell_type": "code",
   "execution_count": null,
   "metadata": {},
   "outputs": [],
   "source": [
    "curl -O http://data.gdeltproject.org/gdeltv2/20190517121500.gkg.csv.zip"
   ]
  },
  {
   "cell_type": "markdown",
   "metadata": {},
   "source": [
    "  \n",
    "\n",
    ">       % Total    % Received % Xferd  Average Speed   Time    Time     Time  Current\n",
    ">                                      Dload  Upload   Total   Spent    Left  Speed\n",
    ">\n",
    ">       0     0    0     0    0     0      0      0 --:--:-- --:--:-- --:--:--     0\n",
    ">     100 7966k  100 7966k    0     0  12.0M      0 --:--:-- --:--:-- --:--:-- 12.0M"
   ]
  },
  {
   "cell_type": "code",
   "execution_count": null,
   "metadata": {},
   "outputs": [],
   "source": [
    "curl -O http://data.gdeltproject.org/gdeltv2/20190523121500.gkg.csv.zip"
   ]
  },
  {
   "cell_type": "markdown",
   "metadata": {},
   "source": [
    "  \n",
    "\n",
    ">       % Total    % Received % Xferd  Average Speed   Time    Time     Time  Current\n",
    ">                                      Dload  Upload   Total   Spent    Left  Speed\n",
    ">\n",
    ">       0     0    0     0    0     0      0      0 --:--:-- --:--:-- --:--:--     0\n",
    ">      44 9167k   44 4112k    0     0  5271k      0  0:00:01 --:--:--  0:00:01 5271k\n",
    ">     100 9167k  100 9167k    0     0  11.2M      0 --:--:-- --:--:-- --:--:-- 11.2M"
   ]
  },
  {
   "cell_type": "code",
   "execution_count": null,
   "metadata": {},
   "outputs": [],
   "source": [
    "unzip 20190517121500.gkg.csv.zip"
   ]
  },
  {
   "cell_type": "markdown",
   "metadata": {},
   "source": [
    "  \n",
    "\n",
    ">     Archive:  20190517121500.gkg.csv.zip\n",
    ">       inflating: 20190517121500.gkg.csv"
   ]
  },
  {
   "cell_type": "code",
   "execution_count": null,
   "metadata": {},
   "outputs": [],
   "source": [
    "unzip 20190523121500.gkg.csv.zip"
   ]
  },
  {
   "cell_type": "markdown",
   "metadata": {},
   "source": [
    "  \n",
    "\n",
    ">     Archive:  20190523121500.gkg.csv.zip\n",
    ">       inflating: 20190523121500.gkg.csv"
   ]
  },
  {
   "cell_type": "code",
   "execution_count": null,
   "metadata": {},
   "outputs": [],
   "source": [
    "curl -O http://data.gdeltproject.org/gdeltv2/20180416121500.gkg.csv.zip"
   ]
  },
  {
   "cell_type": "markdown",
   "metadata": {},
   "source": [
    "  \n",
    "\n",
    ">       % Total    % Received % Xferd  Average Speed   Time    Time     Time  Current\n",
    ">                                      Dload  Upload   Total   Spent    Left  Speed\n",
    ">\n",
    ">       0     0    0     0    0     0      0      0 --:--:-- --:--:-- --:--:--     0\n",
    ">       0     0    0     0    0     0      0      0 --:--:-- --:--:-- --:--:--     0\n",
    ">     100 10.3M  100 10.3M    0     0  11.4M      0 --:--:-- --:--:-- --:--:-- 11.4M"
   ]
  },
  {
   "cell_type": "code",
   "execution_count": null,
   "metadata": {},
   "outputs": [],
   "source": [
    "unzip 20180416121500.gkg.csv.zip"
   ]
  },
  {
   "cell_type": "markdown",
   "metadata": {},
   "source": [
    "  \n",
    "\n",
    ">     Archive:  20180416121500.gkg.csv.zip\n",
    ">       inflating: 20180416121500.gkg.csv"
   ]
  },
  {
   "cell_type": "code",
   "execution_count": null,
   "metadata": {},
   "outputs": [],
   "source": [
    "ls -al"
   ]
  },
  {
   "cell_type": "markdown",
   "metadata": {},
   "source": [
    "  \n",
    "\n",
    ">     total 56\n",
    ">     drwxr-xr-x 1 root root  4096 Oct 17 15:15 .\n",
    ">     drwxr-xr-x 1 root root  4096 Oct 17 14:59 ..\n",
    ">     drwxr-xr-x 2 root root  4096 Oct 17 14:58 conf\n",
    ">     -rw-r--r-- 1 root root   726 Oct 17 15:00 derby.log\n",
    ">     drwxr-xr-x 3 root root  4096 Oct 17 15:00 eventlogs\n",
    ">     drwxr-xr-x 2 root root  4096 Oct 21 11:30 ganglia\n",
    ">     drwxr-xr-x 2 root root  4096 Oct 17 15:00 library-install-logs\n",
    ">     drwxr-xr-x 2 root root 24576 Oct 21 11:34 logs"
   ]
  },
  {
   "cell_type": "code",
   "execution_count": null,
   "metadata": {},
   "outputs": [],
   "source": [
    "cp \"file:///databricks/driver/20180416121500.gkg.csv\" \"dbfs:///datasets/\""
   ]
  },
  {
   "cell_type": "markdown",
   "metadata": {},
   "source": [
    "  \n",
    "\n",
    ">     res0: Boolean = true"
   ]
  },
  {
   "cell_type": "code",
   "execution_count": null,
   "metadata": {},
   "outputs": [],
   "source": [
    "cp \"file:///databricks/driver/20190523121500.gkg.csv\" \"dbfs:///datasets/\""
   ]
  },
  {
   "cell_type": "markdown",
   "metadata": {},
   "source": [
    "  \n",
    "\n",
    ">     res0: Boolean = true"
   ]
  },
  {
   "cell_type": "code",
   "execution_count": null,
   "metadata": {},
   "outputs": [],
   "source": [
    "cp \"file:///databricks/driver/20190517121500.gkg.csv\" \"dbfs:///datasets/\""
   ]
  },
  {
   "cell_type": "markdown",
   "metadata": {},
   "source": [
    "  \n",
    "\n",
    ">     res5: Boolean = true"
   ]
  },
  {
   "cell_type": "code",
   "execution_count": null,
   "metadata": {},
   "outputs": [],
   "source": [
    "ls \"dbfs:///datasets/\""
   ]
  },
  {
   "cell_type": "markdown",
   "metadata": {},
   "source": [
    "  \n",
    "\n",
    "[TABLE]"
   ]
  },
  {
   "cell_type": "code",
   "execution_count": null,
   "metadata": {},
   "outputs": [],
   "source": [
    "import com.aamend.spark.gdelt._\n",
    "// For implicit conversions like converting RDDs to DataFrames\n",
    "import spark.implicits._\n",
    "import org.apache.spark.sql.Dataset\n",
    "//val gdeltEventDS: Dataset[Event] = spark.read.gdeltEvent(\"/path/to/event.csv\")\n",
    "val gdeltGkgDS: Dataset[GKGEvent] = spark.read.gdeltGkg(\"dbfs:/datasets/20190523121500.gkg.csv\")\n",
    "//val gdeltMention: Dataset[Mention] = spark.read.gdeltMention(\"/path/to/mention.csv\")"
   ]
  },
  {
   "cell_type": "markdown",
   "metadata": {},
   "source": [
    "  \n",
    "\n",
    ">     import com.aamend.spark.gdelt._\n",
    ">     import spark.implicits._\n",
    ">     import org.apache.spark.sql.Dataset\n",
    ">     gdeltGkgDS: org.apache.spark.sql.Dataset[com.aamend.spark.gdelt.GKGEvent] = [gkgRecordId: struct<publishDate: timestamp, translingual: boolean ... 1 more field>, publishDate: timestamp ... 25 more fields]"
   ]
  },
  {
   "cell_type": "code",
   "execution_count": null,
   "metadata": {},
   "outputs": [],
   "source": [
    "gdeltGkgDS.printSchema()"
   ]
  },
  {
   "cell_type": "markdown",
   "metadata": {},
   "source": [
    "  \n",
    "\n",
    ">     root\n",
    ">      |-- gkgRecordId: struct (nullable = true)\n",
    ">      |    |-- publishDate: timestamp (nullable = true)\n",
    ">      |    |-- translingual: boolean (nullable = false)\n",
    ">      |    |-- numberInBatch: integer (nullable = false)\n",
    ">      |-- publishDate: timestamp (nullable = true)\n",
    ">      |-- sourceCollectionIdentifier: string (nullable = true)\n",
    ">      |-- sourceCommonName: string (nullable = true)\n",
    ">      |-- documentIdentifier: string (nullable = true)\n",
    ">      |-- counts: array (nullable = true)\n",
    ">      |    |-- element: struct (containsNull = true)\n",
    ">      |    |    |-- countType: string (nullable = true)\n",
    ">      |    |    |-- count: long (nullable = false)\n",
    ">      |    |    |-- objectType: string (nullable = true)\n",
    ">      |    |    |-- location: struct (nullable = true)\n",
    ">      |    |    |    |-- geoType: string (nullable = true)\n",
    ">      |    |    |    |-- geoName: string (nullable = true)\n",
    ">      |    |    |    |-- countryCode: string (nullable = true)\n",
    ">      |    |    |    |-- adm1Code: string (nullable = true)\n",
    ">      |    |    |    |-- adm2Code: string (nullable = true)\n",
    ">      |    |    |    |-- geoPoint: struct (nullable = true)\n",
    ">      |    |    |    |    |-- latitude: float (nullable = false)\n",
    ">      |    |    |    |    |-- longitude: float (nullable = false)\n",
    ">      |    |    |    |-- featureId: string (nullable = true)\n",
    ">      |-- enhancedCounts: array (nullable = true)\n",
    ">      |    |-- element: struct (containsNull = true)\n",
    ">      |    |    |-- count: struct (nullable = true)\n",
    ">      |    |    |    |-- countType: string (nullable = true)\n",
    ">      |    |    |    |-- count: long (nullable = false)\n",
    ">      |    |    |    |-- objectType: string (nullable = true)\n",
    ">      |    |    |    |-- location: struct (nullable = true)\n",
    ">      |    |    |    |    |-- geoType: string (nullable = true)\n",
    ">      |    |    |    |    |-- geoName: string (nullable = true)\n",
    ">      |    |    |    |    |-- countryCode: string (nullable = true)\n",
    ">      |    |    |    |    |-- adm1Code: string (nullable = true)\n",
    ">      |    |    |    |    |-- adm2Code: string (nullable = true)\n",
    ">      |    |    |    |    |-- geoPoint: struct (nullable = true)\n",
    ">      |    |    |    |    |    |-- latitude: float (nullable = false)\n",
    ">      |    |    |    |    |    |-- longitude: float (nullable = false)\n",
    ">      |    |    |    |    |-- featureId: string (nullable = true)\n",
    ">      |    |    |-- charOffset: integer (nullable = false)\n",
    ">      |-- themes: array (nullable = true)\n",
    ">      |    |-- element: string (containsNull = true)\n",
    ">      |-- enhancedThemes: array (nullable = true)\n",
    ">      |    |-- element: struct (containsNull = true)\n",
    ">      |    |    |-- theme: string (nullable = true)\n",
    ">      |    |    |-- charOffset: integer (nullable = false)\n",
    ">      |-- locations: array (nullable = true)\n",
    ">      |    |-- element: struct (containsNull = true)\n",
    ">      |    |    |-- geoType: string (nullable = true)\n",
    ">      |    |    |-- geoName: string (nullable = true)\n",
    ">      |    |    |-- countryCode: string (nullable = true)\n",
    ">      |    |    |-- adm1Code: string (nullable = true)\n",
    ">      |    |    |-- adm2Code: string (nullable = true)\n",
    ">      |    |    |-- geoPoint: struct (nullable = true)\n",
    ">      |    |    |    |-- latitude: float (nullable = false)\n",
    ">      |    |    |    |-- longitude: float (nullable = false)\n",
    ">      |    |    |-- featureId: string (nullable = true)\n",
    ">      |-- enhancedLocations: array (nullable = true)\n",
    ">      |    |-- element: struct (containsNull = true)\n",
    ">      |    |    |-- location: struct (nullable = true)\n",
    ">      |    |    |    |-- geoType: string (nullable = true)\n",
    ">      |    |    |    |-- geoName: string (nullable = true)\n",
    ">      |    |    |    |-- countryCode: string (nullable = true)\n",
    ">      |    |    |    |-- adm1Code: string (nullable = true)\n",
    ">      |    |    |    |-- adm2Code: string (nullable = true)\n",
    ">      |    |    |    |-- geoPoint: struct (nullable = true)\n",
    ">      |    |    |    |    |-- latitude: float (nullable = false)\n",
    ">      |    |    |    |    |-- longitude: float (nullable = false)\n",
    ">      |    |    |    |-- featureId: string (nullable = true)\n",
    ">      |    |    |-- charOffset: integer (nullable = false)\n",
    ">      |-- persons: array (nullable = true)\n",
    ">      |    |-- element: string (containsNull = true)\n",
    ">      |-- enhancedPersons: array (nullable = true)\n",
    ">      |    |-- element: struct (containsNull = true)\n",
    ">      |    |    |-- person: string (nullable = true)\n",
    ">      |    |    |-- charOffset: integer (nullable = false)\n",
    ">      |-- organisations: array (nullable = true)\n",
    ">      |    |-- element: string (containsNull = true)\n",
    ">      |-- enhancedOrganisations: array (nullable = true)\n",
    ">      |    |-- element: struct (containsNull = true)\n",
    ">      |    |    |-- organisation: string (nullable = true)\n",
    ">      |    |    |-- charOffset: integer (nullable = false)\n",
    ">      |-- tone: struct (nullable = true)\n",
    ">      |    |-- tone: float (nullable = false)\n",
    ">      |    |-- positiveScore: float (nullable = false)\n",
    ">      |    |-- negativeScore: float (nullable = false)\n",
    ">      |    |-- polarity: float (nullable = false)\n",
    ">      |    |-- activityReferenceDensity: float (nullable = false)\n",
    ">      |    |-- selfGroupReferenceDensity: float (nullable = false)\n",
    ">      |    |-- wordCount: integer (nullable = false)\n",
    ">      |-- enhancedDates: array (nullable = true)\n",
    ">      |    |-- element: struct (containsNull = true)\n",
    ">      |    |    |-- dateResolution: integer (nullable = false)\n",
    ">      |    |    |-- month: integer (nullable = false)\n",
    ">      |    |    |-- day: integer (nullable = false)\n",
    ">      |    |    |-- year: integer (nullable = false)\n",
    ">      |    |    |-- charOffset: integer (nullable = false)\n",
    ">      |-- gcams: array (nullable = true)\n",
    ">      |    |-- element: struct (containsNull = true)\n",
    ">      |    |    |-- gcamCode: string (nullable = true)\n",
    ">      |    |    |-- gcamValue: double (nullable = false)\n",
    ">      |-- sharingImage: string (nullable = true)\n",
    ">      |-- relatedImages: array (nullable = true)\n",
    ">      |    |-- element: string (containsNull = true)\n",
    ">      |-- socialImageEmbeds: array (nullable = true)\n",
    ">      |    |-- element: string (containsNull = true)\n",
    ">      |-- socialVideoEmbeds: array (nullable = true)\n",
    ">      |    |-- element: string (containsNull = true)\n",
    ">      |-- quotations: array (nullable = true)\n",
    ">      |    |-- element: struct (containsNull = true)\n",
    ">      |    |    |-- charLength: integer (nullable = false)\n",
    ">      |    |    |-- verb: string (nullable = true)\n",
    ">      |    |    |-- quote: string (nullable = true)\n",
    ">      |    |    |-- charOffset: integer (nullable = false)\n",
    ">      |-- allNames: array (nullable = true)\n",
    ">      |    |-- element: struct (containsNull = true)\n",
    ">      |    |    |-- name: string (nullable = true)\n",
    ">      |    |    |-- charOffset: integer (nullable = false)\n",
    ">      |-- amounts: array (nullable = true)\n",
    ">      |    |-- element: struct (containsNull = true)\n",
    ">      |    |    |-- amount: double (nullable = false)\n",
    ">      |    |    |-- amountType: string (nullable = true)\n",
    ">      |    |    |-- charOffset: integer (nullable = false)\n",
    ">      |-- translationInfo: struct (nullable = true)\n",
    ">      |    |-- SRCLC: string (nullable = true)\n",
    ">      |    |-- ENG: string (nullable = true)\n",
    ">      |-- extrasXML: string (nullable = true)"
   ]
  },
  {
   "cell_type": "code",
   "execution_count": null,
   "metadata": {},
   "outputs": [],
   "source": [
    "display(gdeltGkgDS)"
   ]
  },
  {
   "cell_type": "markdown",
   "metadata": {},
   "source": []
  },
  {
   "cell_type": "code",
   "execution_count": null,
   "metadata": {},
   "outputs": [],
   "source": [
    "gdeltGkgDS.count"
   ]
  },
  {
   "cell_type": "markdown",
   "metadata": {},
   "source": [
    "  \n",
    "\n",
    ">     res50: Long = 2543\n",
    "\n",
    "  \n",
    "\n",
    "Let's look a the locations field.\n",
    "\n",
    "We want to be able to filter by a country."
   ]
  },
  {
   "cell_type": "code",
   "execution_count": null,
   "metadata": {},
   "outputs": [],
   "source": [
    "display(gdeltGkgDS.select($\"locations\"))"
   ]
  },
  {
   "cell_type": "markdown",
   "metadata": {},
   "source": []
  },
  {
   "cell_type": "code",
   "execution_count": null,
   "metadata": {},
   "outputs": [],
   "source": [
    "val USgdeltGkgDS = gdeltGkgDS.withColumn(\"loc\",$\"locations\"(0))\n",
    "          .filter($\"loc.countryCode\" contains \"US\").drop(\"loc\")"
   ]
  },
  {
   "cell_type": "markdown",
   "metadata": {},
   "source": [
    "  \n",
    "\n",
    ">     USgdeltGkgDS: org.apache.spark.sql.DataFrame = [gkgRecordId: struct<publishDate: timestamp, translingual: boolean ... 1 more field>, publishDate: timestamp ... 25 more fields]"
   ]
  },
  {
   "cell_type": "code",
   "execution_count": null,
   "metadata": {},
   "outputs": [],
   "source": [
    "val IEgdeltGkgDS = gdeltGkgDS.withColumn(\"loc\",$\"locations\"(0))\n",
    "          .filter($\"loc.countryCode\" contains \"IE\").drop(\"loc\")"
   ]
  },
  {
   "cell_type": "markdown",
   "metadata": {},
   "source": [
    "  \n",
    "\n",
    ">     IEgdeltGkgDS: org.apache.spark.sql.DataFrame = [gkgRecordId: struct<publishDate: timestamp, translingual: boolean ... 1 more field>, publishDate: timestamp ... 25 more fields]"
   ]
  },
  {
   "cell_type": "code",
   "execution_count": null,
   "metadata": {},
   "outputs": [],
   "source": [
    "IEgdeltGkgDS.count"
   ]
  },
  {
   "cell_type": "markdown",
   "metadata": {},
   "source": [
    "  \n",
    "\n",
    ">     res54: Long = 0"
   ]
  },
  {
   "cell_type": "code",
   "execution_count": null,
   "metadata": {},
   "outputs": [],
   "source": [
    "USgdeltGkgDS.count"
   ]
  },
  {
   "cell_type": "markdown",
   "metadata": {},
   "source": [
    "  \n",
    "\n",
    ">     res51: Long = 682"
   ]
  },
  {
   "cell_type": "code",
   "execution_count": null,
   "metadata": {},
   "outputs": [],
   "source": [
    "display(USgdeltGkgDS)"
   ]
  },
  {
   "cell_type": "markdown",
   "metadata": {},
   "source": [
    "  \n",
    "\n",
    "GDELT Reference data\n",
    "--------------------"
   ]
  },
  {
   "cell_type": "code",
   "execution_count": null,
   "metadata": {},
   "outputs": [],
   "source": [
    "val countryCodes: Dataset[CountryCode] = spark.loadCountryCodes\n",
    "val gcam: Dataset[GcamCode] = spark.loadGcams\n",
    "val cameoEvent: Dataset[CameoCode] = spark.loadCameoEventCodes\n",
    "val cameoType: Dataset[CameoCode] = spark.loadCameoTypeCodes\n",
    "val cameoGroup: Dataset[CameoCode] = spark.loadCameoGroupCodes\n",
    "val cameoEthnic: Dataset[CameoCode] = spark.loadCameoEthnicCodes\n",
    "val cameoReligion: Dataset[CameoCode] = spark.loadCameoReligionCodes\n",
    "val cameoCountry: Dataset[CameoCode] = spark.loadCameoCountryCodes"
   ]
  },
  {
   "cell_type": "markdown",
   "metadata": {},
   "source": [
    "  \n",
    "\n",
    ">     countryCodes: org.apache.spark.sql.Dataset[com.aamend.spark.gdelt.CountryCode] = [iso: string, iso3: string ... 3 more fields]\n",
    ">     gcam: org.apache.spark.sql.Dataset[com.aamend.spark.gdelt.GcamCode] = [gcamCode: string, dictionaryId: string ... 6 more fields]\n",
    ">     cameoEvent: org.apache.spark.sql.Dataset[com.aamend.spark.gdelt.CameoCode] = [cameoCode: string, cameoValue: string]\n",
    ">     cameoType: org.apache.spark.sql.Dataset[com.aamend.spark.gdelt.CameoCode] = [cameoCode: string, cameoValue: string]\n",
    ">     cameoGroup: org.apache.spark.sql.Dataset[com.aamend.spark.gdelt.CameoCode] = [cameoCode: string, cameoValue: string]\n",
    ">     cameoEthnic: org.apache.spark.sql.Dataset[com.aamend.spark.gdelt.CameoCode] = [cameoCode: string, cameoValue: string]\n",
    ">     cameoReligion: org.apache.spark.sql.Dataset[com.aamend.spark.gdelt.CameoCode] = [cameoCode: string, cameoValue: string]\n",
    ">     cameoCountry: org.apache.spark.sql.Dataset[com.aamend.spark.gdelt.CameoCode] = [cameoCode: string, cameoValue: string]"
   ]
  },
  {
   "cell_type": "code",
   "execution_count": null,
   "metadata": {},
   "outputs": [],
   "source": [
    "display(countryCodes)"
   ]
  },
  {
   "cell_type": "markdown",
   "metadata": {},
   "source": [
    "  \n",
    "\n",
    "[TABLE]\n",
    "\n",
    "Truncated to 30 rows"
   ]
  },
  {
   "cell_type": "code",
   "execution_count": null,
   "metadata": {},
   "outputs": [],
   "source": [
    "display(cameoEvent)"
   ]
  },
  {
   "cell_type": "markdown",
   "metadata": {},
   "source": [
    "  \n",
    "\n",
    "[TABLE]\n",
    "\n",
    "Truncated to 30 rows"
   ]
  }
 ],
 "nbformat": 4,
 "nbformat_minor": 5,
 "metadata": {}
}
