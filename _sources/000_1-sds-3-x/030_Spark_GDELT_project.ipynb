{
 "cells": [
  {
   "cell_type": "markdown",
   "metadata": {},
   "source": [
    "[ScaDaMaLe, Scalable Data Science and Distributed Machine Learning](https://lamastex.github.io/scalable-data-science/sds/3/x/)\n",
    "==============================================================================================================================\n",
    "\n",
    "Johannes Graner, Albert Nilsson and Raazesh Sainudiin\n",
    "\n",
    "Plugging into GDELT Streams - TODO - IN PROGRESS\n",
    "================================================\n",
    "\n",
    "This is just a brief teaser into the world of the GDELT-project: \\*\n",
    "<https://www.gdeltproject.org/>\n",
    "\n",
    "This exposition was originally from [Mastering Spark for Data\n",
    "Science](https://books.google.se/books/about/Mastering_Spark_for_Data_Science.html?id=prkrDwAAQBAJ&source=kp_cover&redir_esc=y)\n",
    "which we will try to dive into in the geospatial modules.\n",
    "\n",
    "We will use a spark-gdelt library for Spark 3.0.1:\n",
    "\n",
    "-   <https://github.com/aamend/spark-gdelt>\n",
    "\n",
    "SEE:\n",
    "\n",
    "-   https://github.com/lamastex/spark-gdelt-examples\n",
    "-"
   ]
  },
  {
   "cell_type": "code",
   "execution_count": null,
   "metadata": {},
   "outputs": [],
   "source": [
    "import com.aamend.spark.gdelt._\n"
   ]
  },
  {
   "cell_type": "markdown",
   "metadata": {},
   "source": [
    "  \n",
    "\n",
    "This is just dipping our pinky toe in this ocean of information!\n",
    "================================================================\n",
    "\n",
    "Download from gdelt-project\n",
    "==========================="
   ]
  },
  {
   "cell_type": "code",
   "execution_count": null,
   "metadata": {},
   "outputs": [],
   "source": [
    "ls -al "
   ]
  },
  {
   "cell_type": "markdown",
   "metadata": {},
   "source": []
  },
  {
   "cell_type": "code",
   "execution_count": null,
   "metadata": {},
   "outputs": [],
   "source": [
    "curl -O http://data.gdeltproject.org/gdeltv2/20190517121500.gkg.csv.zip"
   ]
  },
  {
   "cell_type": "markdown",
   "metadata": {},
   "source": []
  },
  {
   "cell_type": "code",
   "execution_count": null,
   "metadata": {},
   "outputs": [],
   "source": [
    "curl -O http://data.gdeltproject.org/gdeltv2/20190523121500.gkg.csv.zip"
   ]
  },
  {
   "cell_type": "markdown",
   "metadata": {},
   "source": []
  },
  {
   "cell_type": "code",
   "execution_count": null,
   "metadata": {},
   "outputs": [],
   "source": [
    "unzip 20190517121500.gkg.csv.zip"
   ]
  },
  {
   "cell_type": "markdown",
   "metadata": {},
   "source": []
  },
  {
   "cell_type": "code",
   "execution_count": null,
   "metadata": {},
   "outputs": [],
   "source": [
    "unzip 20190523121500.gkg.csv.zip"
   ]
  },
  {
   "cell_type": "markdown",
   "metadata": {},
   "source": []
  },
  {
   "cell_type": "code",
   "execution_count": null,
   "metadata": {},
   "outputs": [],
   "source": [
    "curl -O http://data.gdeltproject.org/gdeltv2/20180416121500.gkg.csv.zip"
   ]
  },
  {
   "cell_type": "markdown",
   "metadata": {},
   "source": []
  },
  {
   "cell_type": "code",
   "execution_count": null,
   "metadata": {},
   "outputs": [],
   "source": [
    "unzip 20180416121500.gkg.csv.zip"
   ]
  },
  {
   "cell_type": "markdown",
   "metadata": {},
   "source": []
  },
  {
   "cell_type": "code",
   "execution_count": null,
   "metadata": {},
   "outputs": [],
   "source": [
    "ls -al"
   ]
  },
  {
   "cell_type": "markdown",
   "metadata": {},
   "source": []
  },
  {
   "cell_type": "code",
   "execution_count": null,
   "metadata": {},
   "outputs": [],
   "source": [
    "ls /datasets/ScaDaMaLe/"
   ]
  },
  {
   "cell_type": "markdown",
   "metadata": {},
   "source": []
  },
  {
   "cell_type": "code",
   "execution_count": null,
   "metadata": {},
   "outputs": [],
   "source": [
    "cp \"file:///databricks/driver/20180416121500.gkg.csv\" \"dbfs:///datasets/ScaDaMaLe/GDELT/\""
   ]
  },
  {
   "cell_type": "markdown",
   "metadata": {},
   "source": []
  },
  {
   "cell_type": "code",
   "execution_count": null,
   "metadata": {},
   "outputs": [],
   "source": [
    "ls /datasets/ScaDaMaLe/GDELT/"
   ]
  },
  {
   "cell_type": "markdown",
   "metadata": {},
   "source": []
  },
  {
   "cell_type": "code",
   "execution_count": null,
   "metadata": {},
   "outputs": [],
   "source": [
    "cp \"file:///databricks/driver/20190523121500.gkg.csv\" \"dbfs:///datasets/ScaDaMaLe/GDELT/\""
   ]
  },
  {
   "cell_type": "markdown",
   "metadata": {},
   "source": []
  },
  {
   "cell_type": "code",
   "execution_count": null,
   "metadata": {},
   "outputs": [],
   "source": [
    "cp \"file:///databricks/driver/20190517121500.gkg.csv\" \"dbfs:///datasets/ScaDaMaLe/GDELT/\""
   ]
  },
  {
   "cell_type": "markdown",
   "metadata": {},
   "source": []
  },
  {
   "cell_type": "code",
   "execution_count": null,
   "metadata": {},
   "outputs": [],
   "source": [
    "ls \"dbfs:///datasets/ScaDaMaLe/GDELT/\""
   ]
  },
  {
   "cell_type": "markdown",
   "metadata": {},
   "source": []
  },
  {
   "cell_type": "code",
   "execution_count": null,
   "metadata": {},
   "outputs": [],
   "source": [
    "import com.aamend.spark.gdelt._\n",
    "// For implicit conversions like converting RDDs to DataFrames\n",
    "import spark.implicits._\n",
    "import org.apache.spark.sql.Dataset\n",
    "//val gdeltEventDS: Dataset[Event] = spark.read.gdeltEvent(\"/path/to/event.csv\")\n",
    "//val gdeltGkgDS: Dataset[GKGEventV1] = spark.read.gdeltGkg(\"dbfs:/datasets/20190523121500.gkg.csv\")\n",
    "val gdeltGkgDS = spark.read.format(\"text\").load(\"dbfs:/datasets/ScaDaMaLe/GDELT/20190523121500.gkg.csv\")//.as[GKGEventV1]\n",
    "//val gdeltMention: Dataset[Mention] = spark.read.gdeltMention(\"/path/to/mention.csv\")"
   ]
  },
  {
   "cell_type": "markdown",
   "metadata": {},
   "source": []
  },
  {
   "cell_type": "code",
   "execution_count": null,
   "metadata": {},
   "outputs": [],
   "source": [
    "gdeltGkgDS.printSchema()"
   ]
  },
  {
   "cell_type": "markdown",
   "metadata": {},
   "source": []
  },
  {
   "cell_type": "code",
   "execution_count": null,
   "metadata": {},
   "outputs": [],
   "source": [
    "display(gdeltGkgDS)"
   ]
  },
  {
   "cell_type": "markdown",
   "metadata": {},
   "source": []
  },
  {
   "cell_type": "code",
   "execution_count": null,
   "metadata": {},
   "outputs": [],
   "source": [
    "gdeltGkgDS.count"
   ]
  },
  {
   "cell_type": "markdown",
   "metadata": {},
   "source": []
  },
  {
   "cell_type": "code",
   "execution_count": null,
   "metadata": {},
   "outputs": [],
   "source": [
    "val gdeltGkgDS = spark.read.format(\"text\").load(\"dbfs:/datasets/ScaDaMaLe/GDELT/20190523121500.gkg.csv\").as[GKGEventV2]\n"
   ]
  },
  {
   "cell_type": "markdown",
   "metadata": {},
   "source": [
    "  \n",
    "\n",
    "Let's look a the locations field.\n",
    "\n",
    "We want to be able to filter by a country."
   ]
  },
  {
   "cell_type": "code",
   "execution_count": null,
   "metadata": {},
   "outputs": [],
   "source": [
    "display(gdeltGkgDS.select($\"locations\"))"
   ]
  },
  {
   "cell_type": "markdown",
   "metadata": {},
   "source": []
  },
  {
   "cell_type": "code",
   "execution_count": null,
   "metadata": {},
   "outputs": [],
   "source": [
    "val USgdeltGkgDS = gdeltGkgDS.withColumn(\"loc\",$\"locations\"(0))\n",
    "          .filter($\"loc.countryCode\" contains \"US\").drop(\"loc\")"
   ]
  },
  {
   "cell_type": "markdown",
   "metadata": {},
   "source": []
  },
  {
   "cell_type": "code",
   "execution_count": null,
   "metadata": {},
   "outputs": [],
   "source": [
    "val IEgdeltGkgDS = gdeltGkgDS.withColumn(\"loc\",$\"locations\"(0))\n",
    "          .filter($\"loc.countryCode\" contains \"IE\").drop(\"loc\")"
   ]
  },
  {
   "cell_type": "markdown",
   "metadata": {},
   "source": []
  },
  {
   "cell_type": "code",
   "execution_count": null,
   "metadata": {},
   "outputs": [],
   "source": [
    "IEgdeltGkgDS.count"
   ]
  },
  {
   "cell_type": "markdown",
   "metadata": {},
   "source": []
  },
  {
   "cell_type": "code",
   "execution_count": null,
   "metadata": {},
   "outputs": [],
   "source": [
    "USgdeltGkgDS.count"
   ]
  },
  {
   "cell_type": "markdown",
   "metadata": {},
   "source": []
  },
  {
   "cell_type": "code",
   "execution_count": null,
   "metadata": {},
   "outputs": [],
   "source": [
    "display(USgdeltGkgDS)"
   ]
  },
  {
   "cell_type": "markdown",
   "metadata": {},
   "source": [
    "  \n",
    "\n",
    "GDELT Reference data\n",
    "--------------------"
   ]
  },
  {
   "cell_type": "code",
   "execution_count": null,
   "metadata": {},
   "outputs": [],
   "source": [
    "val countryCodes: Dataset[CountryCode] = spark.loadCountryCodes\n",
    "val gcam: Dataset[GcamCode] = spark.loadGcams\n",
    "val cameoEvent: Dataset[CameoCode] = spark.loadCameoEventCodes\n",
    "val cameoType: Dataset[CameoCode] = spark.loadCameoTypeCodes\n",
    "val cameoGroup: Dataset[CameoCode] = spark.loadCameoGroupCodes\n",
    "val cameoEthnic: Dataset[CameoCode] = spark.loadCameoEthnicCodes\n",
    "val cameoReligion: Dataset[CameoCode] = spark.loadCameoReligionCodes\n",
    "val cameoCountry: Dataset[CameoCode] = spark.loadCameoCountryCodes"
   ]
  },
  {
   "cell_type": "markdown",
   "metadata": {},
   "source": []
  },
  {
   "cell_type": "code",
   "execution_count": null,
   "metadata": {},
   "outputs": [],
   "source": [
    "display(countryCodes)"
   ]
  },
  {
   "cell_type": "markdown",
   "metadata": {},
   "source": []
  },
  {
   "cell_type": "code",
   "execution_count": null,
   "metadata": {},
   "outputs": [],
   "source": [
    "display(cameoEvent)"
   ]
  },
  {
   "cell_type": "markdown",
   "metadata": {},
   "source": []
  }
 ],
 "nbformat": 4,
 "nbformat_minor": 5,
 "metadata": {}
}
