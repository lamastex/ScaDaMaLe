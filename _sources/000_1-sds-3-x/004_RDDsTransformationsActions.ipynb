{
 "cells": [
  {
   "cell_type": "markdown",
   "metadata": {},
   "source": [
    "ScaDaMaLe Course\n",
    "[site](https://lamastex.github.io/scalable-data-science/sds/3/x/) and\n",
    "[book](https://lamastex.github.io/ScaDaMaLe/index.html)\n",
    "\n",
    "Introduction to Spark\n",
    "=====================\n",
    "\n",
    "Spark Essentials: RDDs, Transformations and Actions\n",
    "---------------------------------------------------\n",
    "\n",
    "-   This introductory notebook describes how to get started running\n",
    "    Spark (Scala) code in Notebooks.\n",
    "-   Working with Spark's Resilient Distributed Datasets (RDDs)\n",
    "    -   creating RDDs\n",
    "    -   performing basic transformations on RDDs\n",
    "    -   performing basic actions on RDDs\n",
    "\n",
    "**RECOLLECT** from `001_WhySpark` notebook and AJ's videos that *Spark\n",
    "does fault-tolerant, distributed, in-memory computing*\n",
    "\n",
    "**THEORY CAVEAT** This module is focused on getting you to quickly write\n",
    "Spark programs with a high-level appreciation of the underlying\n",
    "concepts.\n",
    "\n",
    "In the last module, we will spend more time on analyzing the core\n",
    "algorithms in parallel and distributed setting of a typical Spark\n",
    "cluster today -- where several multi-core parallel computers (Spark\n",
    "workers) are networked together to provide a fault-tolerant distributed\n",
    "computing platform.\n",
    "\n",
    "Spark Cluster Overview:\n",
    "=======================\n",
    "\n",
    "Driver Program, Cluster Manager and Worker Nodes\n",
    "------------------------------------------------\n",
    "\n",
    "The *driver* does the following:\n",
    "\n",
    "1.  connects to a *cluster manager* to allocate resources across\n",
    "    applications\n",
    "\n",
    "-   acquire *executors* on cluster nodes\n",
    "    -   executor processs run compute tasks and cache data in memory or\n",
    "        disk on a *worker node*\n",
    "-   sends *application* (user program built on Spark) to the executors\n",
    "-   sends *tasks* for the executors to run\n",
    "    -   task is a unit of work that will be sent to one executor\n",
    "\n",
    "![](http://spark.apache.org/docs/latest/img/cluster-overview.png)\n",
    "\n",
    "See <http://spark.apache.org/docs/latest/cluster-overview.html> for an\n",
    "overview of the spark cluster.\n",
    "\n",
    "The Abstraction of Resilient Distributed Dataset (RDD)\n",
    "------------------------------------------------------\n",
    "\n",
    "#### RDD is a fault-tolerant collection of elements that can be operated on in parallel\n",
    "\n",
    "#### Two types of Operations are possible on an RDD\n",
    "\n",
    "-   Transformations\n",
    "-   Actions\n",
    "\n",
    "**(watch now 2:26)**:\n",
    "\n",
    "[![RDD in Spark by Anthony Joseph in\n",
    "BerkeleyX/CS100.1x](http://img.youtube.com/vi/3nreQ1N7Jvk/0.jpg)](https://www.youtube.com/watch?v=3nreQ1N7Jvk?rel=0&autoplay=1&modestbranding=1&start=1&end=146)\n",
    "\n",
    "------------------------------------------------------------------------\n",
    "\n",
    "Transformations\n",
    "---------------\n",
    "\n",
    "**(watch now 1:18)**:\n",
    "\n",
    "[![Spark Transformations by Anthony Joseph in\n",
    "BerkeleyX/CS100.1x](http://img.youtube.com/vi/360UHWy052k/0.jpg)](https://www.youtube.com/watch?v=360UHWy052k?rel=0&autoplay=1&modestbranding=1)\n",
    "\n",
    "------------------------------------------------------------------------\n",
    "\n",
    "Actions\n",
    "-------\n",
    "\n",
    "**(watch now 0:48)**:\n",
    "\n",
    "[![Spark Actions by Anthony Joseph in\n",
    "BerkeleyX/CS100.1x](http://img.youtube.com/vi/F2G4Wbc5ZWQ/0.jpg)](https://www.youtube.com/watch?v=F2G4Wbc5ZWQ?rel=0&autoplay=1&modestbranding=1&start=1&end=48)\n",
    "\n",
    "------------------------------------------------------------------------\n",
    "\n",
    "Key Points\n",
    "----------\n",
    "\n",
    "-   Resilient distributed datasets (RDDs) are the primary abstraction in\n",
    "    Spark.\n",
    "-   RDDs are immutable once created:\n",
    "    -   can transform it.\n",
    "    -   can perform actions on it.\n",
    "    -   but cannot change an RDD once you construct it.\n",
    "-   Spark tracks each RDD's lineage information or recipe to enable its\n",
    "    efficient recomputation if a machine fails.\n",
    "-   RDDs enable operations on collections of elements in parallel.\n",
    "-   We can construct RDDs by:\n",
    "    -   parallelizing Scala collections such as lists or arrays\n",
    "    -   by transforming an existing RDD,\n",
    "    -   from files in distributed file systems such as (HDFS, S3, etc.).\n",
    "-   We can specify the number of partitions for an RDD\n",
    "-   The more partitions in an RDD, the more opportunities for\n",
    "    parallelism\n",
    "-   There are **two types of operations** you can perform on an RDD:\n",
    "    -   **transformations** (are lazily evaluated)\n",
    "        -   map\n",
    "        -   flatMap\n",
    "        -   filter\n",
    "        -   distinct\n",
    "        -   ...\n",
    "    -   **actions** (actual evaluation happens)\n",
    "        -   count\n",
    "        -   reduce\n",
    "        -   take\n",
    "        -   collect\n",
    "        -   takeOrdered\n",
    "        -   ...\n",
    "-   Spark transformations enable us to create new RDDs from an existing\n",
    "    RDD.\n",
    "-   RDD transformations are lazy evaluations (results are not computed\n",
    "    right away)\n",
    "-   Spark remembers the set of transformations that are applied to a\n",
    "    base data set (this is the lineage graph of RDD)\n",
    "-   The allows Spark to automatically recover RDDs from failures and\n",
    "    slow workers.\n",
    "-   The lineage graph is a recipe for creating a result and it can be\n",
    "    optimized before execution.\n",
    "-   A transformed RDD is executed only when an action runs on it.\n",
    "-   You can also persist, or cache, RDDs in memory or on disk (this\n",
    "    speeds up iterative ML algorithms that transforms the initial RDD\n",
    "    iteratively).\n",
    "-   Here is a great reference URL for programming guides for Spark that\n",
    "    one should try to cover first\n",
    "    -   <http://spark.apache.org/docs/latest/programming-guide.html>.\n",
    "    -   and specifically for RDDs:\n",
    "        <https://spark.apache.org/docs/latest/rdd-programming-guide.html>"
   ]
  },
  {
   "cell_type": "code",
   "execution_count": null,
   "metadata": {},
   "outputs": [],
   "source": [
    "//This allows easy embedding of publicly available information into any other notebook\n",
    "//Example usage:\n",
    "// displayHTML(frameIt(\"https://en.wikipedia.org/wiki/Latent_Dirichlet_allocation#Topics_in_LDA\",250))\n",
    "def frameIt( u:String, h:Int ) : String = {\n",
    "      \"\"\"<iframe \n",
    " src=\"\"\"\"+ u+\"\"\"\"\n",
    " width=\"95%\" height=\"\"\"\" + h + \"\"\"\"\n",
    " sandbox>\n",
    "  <p>\n",
    "    <a href=\"http://spark.apache.org/docs/latest/index.html\">\n",
    "      Fallback link for browsers that, unlikely, don't support frames\n",
    "    </a>\n",
    "  </p>\n",
    "</iframe>\"\"\"\n",
    "   }\n",
    "displayHTML(frameIt(\"https://spark.apache.org/docs/latest/rdd-programming-guide.html\",700))"
   ]
  },
  {
   "cell_type": "markdown",
   "metadata": {},
   "source": [
    "  \n",
    "\n",
    "Let us get our hands dirty in Spark implementing these ideas!\n",
    "-------------------------------------------------------------\n",
    "\n",
    "#### DO NOW\n",
    "\n",
    "In your databricks community edition:\n",
    "\n",
    "1.  In your `WorkSpace` create a Folder named `scalable-data-science`\n",
    "2.  *Import* the databricks archive file at the following URL:\n",
    "    -   <https://github.com/lamastex/scalable-data-science/raw/master/dbcArchives/2017/parts/xtraResources.dbc>\n",
    "3.  This should open a structure of directories in with path:\n",
    "    `/Workspace/scalable-data-science/xtraResources/`\n",
    "\n",
    "### Let us look at the legend and overview of the visual RDD Api by doing the following first:\n",
    "\n",
    "![](https://raw.githubusercontent.com/lamastex/scalable-data-science/master/db/visualapi/med/visualapi-1.png)\n",
    "\n",
    "### Running **Spark**\n",
    "\n",
    "The variable **sc** allows you to access a Spark Context to run your\n",
    "Spark programs. Recall `SparkContext` is in the Driver Program.\n",
    "\n",
    "![](http://spark.apache.org/docs/latest/img/cluster-overview.png)\n",
    "\n",
    "**NOTE: Do not create the *sc* variable - it is already initialized for\n",
    "you in spark-shell REPL, that includes notebook environments like\n",
    "databricks, Jupyter, zeppelin, etc. **\n",
    "\n",
    "### We will do the following next:\n",
    "\n",
    "1.  Create an RDD using `sc.parallelize`\n",
    "\n",
    "-   Perform the `collect` action on the RDD and find the number of\n",
    "    partitions it is made of using `getNumPartitions` action\n",
    "-   Perform the `take` action on the RDD\n",
    "-   Transform the RDD by `map` to make another RDD\n",
    "-   Transform the RDD by `filter` to make another RDD\n",
    "-   Perform the `reduce` action on the RDD\n",
    "-   Transform the RDD by `flatMap` to make another RDD\n",
    "-   Create a Pair RDD\n",
    "-   Perform some transformations on a Pair RDD\n",
    "-   Where in the cluster is your computation running?\n",
    "-   Shipping Closures, Broadcast Variables and Accumulator Variables\n",
    "-   Spark Essentials: Summary\n",
    "-   HOMEWORK\n",
    "\n",
    "Entry Point\n",
    "-----------\n",
    "\n",
    "Now we are ready to start programming in Spark!\n",
    "\n",
    "Our entry point for Spark 2.x applications is the class `SparkSession`.\n",
    "An instance of this object is already instantiated for us which can be\n",
    "easily demonstrated by running the next cell\n",
    "\n",
    "We will need these docs!\n",
    "\n",
    "-   [RDD Scala\n",
    "    Docs](https://spark.apache.org/docs/3.0.1/api/scala/org/apache/spark/rdd/RDD.html)\n",
    "-   [Dataset Scala\n",
    "    Docs](https://spark.apache.org/docs/3.0.1/api/scala/org/apache/spark/sql/Dataset.html)\n",
    "-   <https://spark.apache.org/docs/3.0.1/api/scala/index.html> you can\n",
    "    simply search for other Spark classes, methods, etc here"
   ]
  },
  {
   "cell_type": "code",
   "execution_count": null,
   "metadata": {},
   "outputs": [],
   "source": [
    "println(spark)"
   ]
  },
  {
   "cell_type": "markdown",
   "metadata": {},
   "source": [
    "  \n",
    "\n",
    "NOTE that since Spark 2.0 `SparkSession` is a replacement for the other\n",
    "entry points: \\* `SparkContext`, available in our notebook as **sc**. \\*\n",
    "`SQLContext`, or more specifically its subclass `HiveContext`, available\n",
    "in our notebook as **sqlContext**."
   ]
  },
  {
   "cell_type": "code",
   "execution_count": null,
   "metadata": {},
   "outputs": [],
   "source": [
    "println(sc)\n",
    "println(sqlContext)"
   ]
  },
  {
   "cell_type": "markdown",
   "metadata": {},
   "source": [
    "  \n",
    "\n",
    "We will be using the pre-made SparkContext `sc` when learning about\n",
    "RDDs.\n",
    "\n",
    "### 1. Create an RDD using `sc.parallelize`\n",
    "\n",
    "First, let us create an RDD of three elements (of integer type `Int`)\n",
    "from a Scala `Seq` (or `List` or `Array`) with two partitions by using\n",
    "the `parallelize` method of the available Spark Context `sc` as follows:"
   ]
  },
  {
   "cell_type": "code",
   "execution_count": null,
   "metadata": {},
   "outputs": [],
   "source": [
    "val x = sc.parallelize(Array(1, 2, 3), 2)    // <Ctrl+Enter> to evaluate this cell (using 2 partitions)"
   ]
  },
  {
   "cell_type": "markdown",
   "metadata": {},
   "source": []
  },
  {
   "cell_type": "code",
   "execution_count": null,
   "metadata": {},
   "outputs": [],
   "source": [
    "//x.  // place the cursor after 'x.' and hit Tab to see the methods available for the RDD x we created"
   ]
  },
  {
   "cell_type": "markdown",
   "metadata": {},
   "source": [
    "  \n",
    "\n",
    "### 2. Perform the `collect` action on the RDD and find the number of partitions it is made of using `getNumPartitions` action\n",
    "\n",
    "No action has been taken by `sc.parallelize` above. To see what is\n",
    "\"cooked\" by the recipe for RDD `x` we need to take an action.\n",
    "\n",
    "The simplest is the `collect` action which returns all of the elements\n",
    "of the RDD as an `Array` to the driver program and displays it.\n",
    "\n",
    "*So you have to make sure that all of that data will fit in the driver\n",
    "program if you call `collect` action!*\n",
    "\n",
    "#### Let us look at the [collect action in detail](/#workspace/scalable-data-science/xtraResources/visualRDDApi/recall/actions/collect) and return here to try out the example codes.\n",
    "\n",
    "![](https://raw.githubusercontent.com/lamastex/scalable-data-science/master/db/visualapi/med/visualapi-90.png)\n",
    "\n",
    "Let us perform a `collect` action on RDD `x` as follows:"
   ]
  },
  {
   "cell_type": "code",
   "execution_count": null,
   "metadata": {},
   "outputs": [],
   "source": [
    "x.collect()    // <Ctrl+Enter> to collect (action) elements of rdd; should be (1, 2, 3)"
   ]
  },
  {
   "cell_type": "markdown",
   "metadata": {},
   "source": [
    "  \n",
    "\n",
    "*CAUTION:* `collect` can crash the driver when called upon an RDD with\n",
    "massively many elements.  \n",
    "So, it is better to use other diplaying actions like `take` or\n",
    "`takeOrdered` as follows:\n",
    "\n",
    "#### Let us look at the [getNumPartitions action in detail](/#workspace/scalable-data-science/xtraResources/visualRDDApi/recall/actions/getNumPartitions) and return here to try out the example codes.\n",
    "\n",
    "![](https://raw.githubusercontent.com/lamastex/scalable-data-science/master/db/visualapi/med/visualapi-88.png)"
   ]
  },
  {
   "cell_type": "code",
   "execution_count": null,
   "metadata": {},
   "outputs": [],
   "source": [
    "// <Ctrl+Enter> to evaluate this cell and find the number of partitions in RDD x\n",
    "x.getNumPartitions "
   ]
  },
  {
   "cell_type": "markdown",
   "metadata": {},
   "source": [
    "  \n",
    "\n",
    "We can see which elements of the RDD are in which parition by calling\n",
    "`glom()` before `collect()`.\n",
    "\n",
    "`glom()` flattens elements of the same partition into an `Array`."
   ]
  },
  {
   "cell_type": "code",
   "execution_count": null,
   "metadata": {},
   "outputs": [],
   "source": [
    "x.glom().collect() // glom() flattens elements on the same partition"
   ]
  },
  {
   "cell_type": "markdown",
   "metadata": {},
   "source": []
  },
  {
   "cell_type": "code",
   "execution_count": null,
   "metadata": {},
   "outputs": [],
   "source": [
    "val a = x.glom().collect()\n"
   ]
  },
  {
   "cell_type": "markdown",
   "metadata": {},
   "source": [
    "  \n",
    "\n",
    "Thus from the output above,\n",
    "`Array[Array[Int]] = Array(Array(1), Array(2, 3))`, we know that `1` is\n",
    "in one partition while `2` and `3` are in another partition.\n",
    "\n",
    "##### You Try!\n",
    "\n",
    "Crate an RDD `x` with three elements, 1,2,3, and this time do not\n",
    "specifiy the number of partitions. Then the default number of partitions\n",
    "will be used. Find out what this is for the cluster you are attached to.\n",
    "\n",
    "The default number of partitions for an RDD depends on the cluster this\n",
    "notebook is attached to among others - see\n",
    "[programming-guide](http://spark.apache.org/docs/latest/programming-guide.html)."
   ]
  },
  {
   "cell_type": "code",
   "execution_count": null,
   "metadata": {},
   "outputs": [],
   "source": [
    "val x = sc.parallelize(Seq(1, 2, 3))    // <Shift+Enter> to evaluate this cell (using default number of partitions)"
   ]
  },
  {
   "cell_type": "markdown",
   "metadata": {},
   "source": []
  },
  {
   "cell_type": "code",
   "execution_count": null,
   "metadata": {},
   "outputs": [],
   "source": [
    "x.getNumPartitions // <Shift+Enter> to evaluate this cell"
   ]
  },
  {
   "cell_type": "markdown",
   "metadata": {},
   "source": []
  },
  {
   "cell_type": "code",
   "execution_count": null,
   "metadata": {},
   "outputs": [],
   "source": [
    "x.glom().collect() // <Ctrl+Enter> to evaluate this cell"
   ]
  },
  {
   "cell_type": "markdown",
   "metadata": {},
   "source": [
    "  \n",
    "\n",
    "### 3. Perform the `take` action on the RDD\n",
    "\n",
    "The `.take(n)` action returns an array with the first `n` elements of\n",
    "the RDD."
   ]
  },
  {
   "cell_type": "code",
   "execution_count": null,
   "metadata": {},
   "outputs": [],
   "source": [
    "x.take(2) // Ctrl+Enter to take two elements from the RDD x"
   ]
  },
  {
   "cell_type": "markdown",
   "metadata": {},
   "source": [
    "  \n",
    "\n",
    "##### You Try!\n",
    "\n",
    "Fill in the parenthes `( )` below in order to `take` just one element\n",
    "from RDD `x`."
   ]
  },
  {
   "cell_type": "code",
   "execution_count": null,
   "metadata": {},
   "outputs": [],
   "source": [
    "//x.take(1) // uncomment by removing '//' before x in the cell and fill in the parenthesis to take just one element from RDD x and Cntrl+Enter"
   ]
  },
  {
   "cell_type": "markdown",
   "metadata": {},
   "source": [
    "  \n",
    "\n",
    "------------------------------------------------------------------------\n",
    "\n",
    "### 4. Transform the RDD by `map` to make another RDD\n",
    "\n",
    "The `map` transformation returns a new RDD that's formed by passing each\n",
    "element of the source RDD through a function (closure). The closure is\n",
    "automatically passed on to the workers for evaluation (when an action is\n",
    "called later).\n",
    "\n",
    "#### Let us look at the [map transformation in detail](/#workspace/scalable-data-science/xtraResources/visualRDDApi/recall/transformations/map) and return here to try out the example codes.\n",
    "\n",
    "![](https://raw.githubusercontent.com/lamastex/scalable-data-science/master/db/visualapi/med/visualapi-18.png)"
   ]
  },
  {
   "cell_type": "code",
   "execution_count": null,
   "metadata": {},
   "outputs": [],
   "source": [
    "// Shift+Enter to make RDD x and RDD y that is mapped from x\n",
    "val x = sc.parallelize(Array(\"b\", \"a\", \"c\")) // make RDD x: [b, a, c]\n",
    "val y = x.map(z => (z,1))                    // map x into RDD y: [(b, 1), (a, 1), (c, 1)]"
   ]
  },
  {
   "cell_type": "markdown",
   "metadata": {},
   "source": []
  },
  {
   "cell_type": "code",
   "execution_count": null,
   "metadata": {},
   "outputs": [],
   "source": [
    "// Cntrl+Enter to collect and print the two RDDs\n",
    "println(x.collect().mkString(\", \"))\n",
    "println(y.collect().mkString(\", \"))"
   ]
  },
  {
   "cell_type": "markdown",
   "metadata": {},
   "source": [
    "  \n",
    "\n",
    "------------------------------------------------------------------------\n",
    "\n",
    "### 5. Transform the RDD by `filter` to make another RDD\n",
    "\n",
    "The `filter` transformation returns a new RDD that's formed by selecting\n",
    "those elements of the source RDD on which the function returns `true`.\n",
    "\n",
    "#### Let us look at the [filter transformation in detail](/#workspace/scalable-data-science/xtraResources/visualRDDApi/recall/transformations/filter) and return here to try out the example codes.\n",
    "\n",
    "![](https://raw.githubusercontent.com/lamastex/scalable-data-science/master/db/visualapi/med/visualapi-24.png)"
   ]
  },
  {
   "cell_type": "code",
   "execution_count": null,
   "metadata": {},
   "outputs": [],
   "source": [
    "//Shift+Enter to make RDD x and filter it by (n => n%2 == 1) to make RDD y\n",
    "val x = sc.parallelize(Array(1,2,3))\n",
    "// the closure (n => n%2 == 1) in the filter will \n",
    "// return True if element n in RDD x has remainder 1 when divided by 2 (i.e., if n is odd)\n",
    "val y = x.filter(n => n%2 == 1) "
   ]
  },
  {
   "cell_type": "markdown",
   "metadata": {},
   "source": []
  },
  {
   "cell_type": "code",
   "execution_count": null,
   "metadata": {},
   "outputs": [],
   "source": [
    "// Cntrl+Enter to collect and print the two RDDs\n",
    "println(x.collect().mkString(\", \"))\n",
    "println(y.collect().mkString(\", \"))\n",
    "//y.collect()"
   ]
  },
  {
   "cell_type": "markdown",
   "metadata": {},
   "source": [
    "  \n",
    "\n",
    "------------------------------------------------------------------------\n",
    "\n",
    "### 6. Perform the `reduce` action on the RDD\n",
    "\n",
    "Reduce aggregates a data set element using a function (closure). This\n",
    "function takes two arguments and returns one and can often be seen as a\n",
    "binary operator. This operator has to be commutative and associative so\n",
    "that it can be computed correctly in parallel (where we have little\n",
    "control over the order of the operations!).\n",
    "\n",
    "### Let us look at the [reduce action in detail](/#workspace/scalable-data-science/xtraResources/visualRDDApi/recall/actions/reduce) and return here to try out the example codes.\n",
    "\n",
    "![](https://raw.githubusercontent.com/lamastex/scalable-data-science/master/db/visualapi/med/visualapi-94.png)"
   ]
  },
  {
   "cell_type": "code",
   "execution_count": null,
   "metadata": {},
   "outputs": [],
   "source": [
    "//Shift+Enter to make RDD x of inteegrs 1,2,3,4 and reduce it to sum\n",
    "val x = sc.parallelize(Array(1,2,3,4))\n",
    "val y = x.reduce((a,b) => a+b)"
   ]
  },
  {
   "cell_type": "markdown",
   "metadata": {},
   "source": []
  },
  {
   "cell_type": "code",
   "execution_count": null,
   "metadata": {},
   "outputs": [],
   "source": [
    "//Cntrl+Enter to collect and print RDD x and the Int y, sum of x\n",
    "println(x.collect.mkString(\", \"))\n",
    "println(y)"
   ]
  },
  {
   "cell_type": "markdown",
   "metadata": {},
   "source": [
    "  \n",
    "\n",
    "### 7. Transform an RDD by `flatMap` to make another RDD\n",
    "\n",
    "`flatMap` is similar to `map` but each element from input RDD can be\n",
    "mapped to zero or more output elements. Therefore your function should\n",
    "return a sequential collection such as an `Array` rather than a single\n",
    "element as shown below.\n",
    "\n",
    "### Let us look at the [flatMap transformation in detail](/#workspace/scalable-data-science/xtraResources/visualRDDApi/recall/transformations/flatMap) and return here to try out the example codes.\n",
    "\n",
    "![](https://raw.githubusercontent.com/lamastex/scalable-data-science/master/db/visualapi/med/visualapi-31.png)"
   ]
  },
  {
   "cell_type": "code",
   "execution_count": null,
   "metadata": {},
   "outputs": [],
   "source": [
    "//Shift+Enter to make RDD x and flatMap it into RDD by closure (n => Array(n, n*100, 42))\n",
    "val x = sc.parallelize(Array(1,2,3))\n",
    "val y = x.flatMap(n => Array(n, n*100, 42))"
   ]
  },
  {
   "cell_type": "markdown",
   "metadata": {},
   "source": []
  },
  {
   "cell_type": "code",
   "execution_count": null,
   "metadata": {},
   "outputs": [],
   "source": [
    "//Cntrl+Enter to collect and print RDDs x and y\n",
    "println(x.collect().mkString(\", \"))\n",
    "println(y.collect().mkString(\", \"))\n",
    "sc.parallelize(Array(1,2,3)).map(n => Array(n,n*100,42)).collect()"
   ]
  },
  {
   "cell_type": "markdown",
   "metadata": {},
   "source": [
    "  \n",
    "\n",
    "### 8. Create a Pair RDD\n",
    "\n",
    "Let's next work with RDD of `(key,value)` pairs called a *Pair RDD* or\n",
    "*Key-Value RDD*."
   ]
  },
  {
   "cell_type": "code",
   "execution_count": null,
   "metadata": {},
   "outputs": [],
   "source": [
    "// Cntrl+Enter to make RDD words and display it by collect\n",
    "val words = sc.parallelize(Array(\"a\", \"b\", \"a\", \"a\", \"b\", \"b\", \"a\", \"a\", \"a\", \"b\", \"b\"))\n",
    "words.collect()"
   ]
  },
  {
   "cell_type": "markdown",
   "metadata": {},
   "source": [
    "  \n",
    "\n",
    "Let's make a Pair RDD called `wordCountPairRDD` that is made of\n",
    "(key,value) pairs with key=word and value=1 in order to encode each\n",
    "occurrence of each word in the RDD `words`, as follows:"
   ]
  },
  {
   "cell_type": "code",
   "execution_count": null,
   "metadata": {},
   "outputs": [],
   "source": [
    "// Cntrl+Enter to make and collect Pair RDD wordCountPairRDD\n",
    "val wordCountPairRDD = words.map(s => (s, 1))\n",
    "wordCountPairRDD.collect()"
   ]
  },
  {
   "cell_type": "markdown",
   "metadata": {},
   "source": [
    "  \n",
    "\n",
    "### Wide Transformations and Shuffles\n",
    "\n",
    "So far we have seen transformations that are **narrow** -- with no data\n",
    "transfer between partitions. Think of `map`.\n",
    "\n",
    "`ReduceByKey` and `GroupByKey` are **wide** transformations as data has\n",
    "to be shuffled across the partitions in different executors -- this is\n",
    "generally very expensive operation.\n",
    "\n",
    "![](https://raw.githubusercontent.com/raazesh-sainudiin/scalable-data-science/master/db/visualapi/med/visualapi-40.png)\n",
    "\n",
    "READ the **Background** about Shuffles in the programming guide below.\n",
    "\n",
    "> In Spark, data is generally not distributed across partitions to be in\n",
    "> the necessary place for a specific operation. During computations, a\n",
    "> single task will operate on a single partition - thus, to organize all\n",
    "> the data for a single reduceByKey reduce task to execute, Spark needs\n",
    "> to perform an all-to-all operation. It must read from all partitions\n",
    "> to find all the values for all keys, and then bring together values\n",
    "> across partitions to compute the final result for each key - this is\n",
    "> called the shuffle\n",
    "\n",
    "READ the **Performance Impact** about Shuffles in the programming guide\n",
    "below.\n",
    "\n",
    "> The Shuffle is an expensive operation since it involves disk I/O, data\n",
    "> serialization, and network I/O. To organize data for the shuffle,\n",
    "> Spark generates sets of tasks - map tasks to organize the data, and a\n",
    "> set of reduce tasks to aggregate it. This nomenclature comes from\n",
    "> MapReduce and does not directly relate to Spark’s map and reduce\n",
    "> operations.\n",
    "\n",
    "> Internally, results from individual map tasks are kept in memory until\n",
    "> they can’t fit. Then, these are sorted based on the target partition\n",
    "> and written to a single file. On the reduce side, tasks read the\n",
    "> relevant sorted blocks."
   ]
  },
  {
   "cell_type": "code",
   "execution_count": null,
   "metadata": {},
   "outputs": [],
   "source": [
    "displayHTML(frameIt(\"https://spark.apache.org/docs/latest/rdd-programming-guide.html#shuffle-operations\",500))"
   ]
  },
  {
   "cell_type": "markdown",
   "metadata": {},
   "source": [
    "  \n",
    "\n",
    "### 9. Perform some transformations on a Pair RDD\n",
    "\n",
    "Let's next work with RDD of `(key,value)` pairs called a *Pair RDD* or\n",
    "*Key-Value RDD*.\n",
    "\n",
    "Now some of the Key-Value transformations that we could perform include\n",
    "the following.\n",
    "\n",
    "-   **`reduceByKey` transformation**\n",
    "    -   which takes an RDD and returns a new RDD of key-value pairs,\n",
    "        such that:\n",
    "        -   the values for each key are aggregated using the given\n",
    "            reduced function\n",
    "        -   and the reduce function has to be of the type that takes two\n",
    "            values and returns one value.\n",
    "-   **`sortByKey` transformation**\n",
    "    -   this returns a new RDD of key-value pairs that's sorted by keys\n",
    "        in ascending order\n",
    "-   **`groupByKey` transformation**\n",
    "    -   this returns a new RDD consisting of key and iterable-valued\n",
    "        pairs.\n",
    "\n",
    "Let's see some concrete examples next.\n",
    "\n",
    "![](https://raw.githubusercontent.com/lamastex/scalable-data-science/master/db/visualapi/med/visualapi-44.png)"
   ]
  },
  {
   "cell_type": "code",
   "execution_count": null,
   "metadata": {},
   "outputs": [],
   "source": [
    "// Cntrl+Enter to reduceByKey and collect wordcounts RDD\n",
    "//val wordcounts = wordCountPairRDD.reduceByKey( _ + _ )\n",
    "val wordcounts = wordCountPairRDD.reduceByKey( (value1, value2) => value1 + value2 )\n",
    "wordcounts.collect()"
   ]
  },
  {
   "cell_type": "markdown",
   "metadata": {},
   "source": [
    "  \n",
    "\n",
    "Now, let us do just the crucial steps and avoid collecting intermediate\n",
    "RDDs (something we should avoid for large datasets anyways, as they may\n",
    "not fit in the driver program)."
   ]
  },
  {
   "cell_type": "code",
   "execution_count": null,
   "metadata": {},
   "outputs": [],
   "source": [
    "//Cntrl+Enter to make words RDD and do the word count in two lines\n",
    "val words = sc.parallelize(Array(\"a\", \"b\", \"a\", \"a\", \"b\", \"b\", \"a\", \"a\", \"a\", \"b\", \"b\"))\n",
    "val wordcounts = words\n",
    "                    .map(s => (s, 1))\n",
    "                    .reduceByKey(_ + _)\n",
    "                    .collect() "
   ]
  },
  {
   "cell_type": "markdown",
   "metadata": {},
   "source": [
    "  \n",
    "\n",
    "##### You Try!\n",
    "\n",
    "You try evaluating `sortByKey()` which will make a new RDD that consists\n",
    "of the elements of the original pair RDD that are sorted by Keys."
   ]
  },
  {
   "cell_type": "code",
   "execution_count": null,
   "metadata": {},
   "outputs": [],
   "source": [
    "// Shift+Enter and comprehend code\n",
    "val words = sc.parallelize(Array(\"a\", \"b\", \"a\", \"a\", \"b\", \"b\", \"a\", \"a\", \"a\", \"b\", \"b\"))\n",
    "val wordCountPairRDD = words.map(s => (s, 1))\n",
    "val wordCountPairRDDSortedByKey = wordCountPairRDD.sortByKey()"
   ]
  },
  {
   "cell_type": "markdown",
   "metadata": {},
   "source": []
  },
  {
   "cell_type": "code",
   "execution_count": null,
   "metadata": {},
   "outputs": [],
   "source": [
    "wordCountPairRDD.collect() // Shift+Enter and comprehend code"
   ]
  },
  {
   "cell_type": "markdown",
   "metadata": {},
   "source": []
  },
  {
   "cell_type": "code",
   "execution_count": null,
   "metadata": {},
   "outputs": [],
   "source": [
    "wordCountPairRDDSortedByKey.collect() // Cntrl+Enter and comprehend code"
   ]
  },
  {
   "cell_type": "markdown",
   "metadata": {},
   "source": [
    "  \n",
    "\n",
    "The next key value transformation we will see is `groupByKey`\n",
    "\n",
    "When we apply the `groupByKey` transformation to `wordCountPairRDD` we\n",
    "end up with a new RDD that contains two elements. The first element is\n",
    "the tuple `b` and an iterable `CompactBuffer(1,1,1,1,1)` obtained by\n",
    "grouping the value `1` for each of the five key value pairs `(b,1)`.\n",
    "Similarly the second element is the key `a` and an iterable\n",
    "`CompactBuffer(1,1,1,1,1,1)` obtained by grouping the value `1` for each\n",
    "of the six key value pairs `(a,1)`.\n",
    "\n",
    "*CAUTION*: `groupByKey` can cause a large amount of data movement across\n",
    "the network. It also can create very large iterables at a worker.\n",
    "Imagine you have an RDD where you have 1 billion pairs that have the key\n",
    "`a`. All of the values will have to fit in a single worker if you use\n",
    "group by key. So instead of a group by key, consider using reduced by\n",
    "key.\n",
    "\n",
    "![](https://raw.githubusercontent.com/lamastex/scalable-data-science/master/db/visualapi/med/visualapi-45.png)"
   ]
  },
  {
   "cell_type": "code",
   "execution_count": null,
   "metadata": {},
   "outputs": [],
   "source": [
    "val wordCountPairRDDGroupByKey = wordCountPairRDD.groupByKey() // <Shift+Enter> CAUTION: this transformation can be very wide!"
   ]
  },
  {
   "cell_type": "markdown",
   "metadata": {},
   "source": []
  },
  {
   "cell_type": "code",
   "execution_count": null,
   "metadata": {},
   "outputs": [],
   "source": [
    "wordCountPairRDDGroupByKey.collect()  // Cntrl+Enter"
   ]
  },
  {
   "cell_type": "markdown",
   "metadata": {},
   "source": [
    "  \n",
    "\n",
    "### 10. Understanding Closures - Where in the cluster is your computation running?\n",
    "\n",
    "> One of the harder things about Spark is understanding the scope and\n",
    "> life cycle of variables and methods when executing code across a\n",
    "> cluster. RDD operations that modify variables outside of their scope\n",
    "> can be a frequent source of confusion. In the example below we’ll look\n",
    "> at code that uses foreach() to increment a counter, but similar issues\n",
    "> can occur for other operations as well."
   ]
  },
  {
   "cell_type": "code",
   "execution_count": null,
   "metadata": {},
   "outputs": [],
   "source": [
    "displayHTML(frameIt(\"https://spark.apache.org/docs/latest/rdd-programming-guide.html#understanding-closures-\",500))"
   ]
  },
  {
   "cell_type": "markdown",
   "metadata": {},
   "source": []
  },
  {
   "cell_type": "code",
   "execution_count": null,
   "metadata": {},
   "outputs": [],
   "source": [
    "val data = Array(1, 2, 3, 4, 5)\n",
    "var counter = 0\n",
    "var rdd = sc.parallelize(data)\n",
    "\n",
    "// Wrong: Don't do this!!\n",
    "rdd.foreach(x => counter += x)\n",
    "\n",
    "println(\"Counter value: \" + counter)"
   ]
  },
  {
   "cell_type": "markdown",
   "metadata": {},
   "source": [
    "  \n",
    "\n",
    "From RDD programming guide:\n",
    "\n",
    "> The behavior of the above code is undefined, and may not work as\n",
    "> intended. To execute jobs, Spark breaks up the processing of RDD\n",
    "> operations into tasks, each of which is executed by an executor. Prior\n",
    "> to execution, Spark computes the task’s closure. The closure is those\n",
    "> variables and methods which must be visible for the executor to\n",
    "> perform its computations on the RDD (in this case foreach()). This\n",
    "> closure is serialized and sent to each executor.\n",
    "\n",
    "> The variables within the closure sent to each executor are now copies\n",
    "> and thus, when counter is referenced within the foreach function, it’s\n",
    "> no longer the counter on the driver node. There is still a counter in\n",
    "> the memory of the driver node but this is no longer visible to the\n",
    "> executors! The executors only see the copy from the serialized\n",
    "> closure. Thus, the final value of counter will still be zero since all\n",
    "> operations on counter were referencing the value within the serialized\n",
    "> closure.\n",
    "\n",
    "### 11. Shipping Closures, Broadcast Variables and Accumulator Variables\n",
    "\n",
    "#### Closures, Broadcast and Accumulator Variables\n",
    "\n",
    "**(watch now 2:06)**:\n",
    "\n",
    "[![Closures, Broadcast and Accumulators by Anthony Joseph in\n",
    "BerkeleyX/CS100.1x](http://img.youtube.com/vi/I9Zcr4R35Ao/0.jpg)](https://www.youtube.com/watch?v=I9Zcr4R35Ao?rel=0&autoplay=1&modestbranding=1)\n",
    "\n",
    "We will use these variables in the sequel.\n",
    "\n",
    "#### SUMMARY\n",
    "\n",
    "Spark automatically creates closures\n",
    "\n",
    "-   for functions that run on RDDs at workers,\n",
    "-   and for any global variables that are used by those workers\n",
    "-   one closure per worker is sent with every task\n",
    "-   and there's no communication between workers\n",
    "-   closures are one way from the driver to the worker\n",
    "-   any changes that you make to the global variables at the workers\n",
    "    -   are not sent to the driver or\n",
    "    -   are not sent to other workers.\n",
    "\n",
    "The problem we have is that these closures\n",
    "\n",
    "-   are automatically created are sent or re-sent with every job\n",
    "-   with a large global variable it gets inefficient to send/resend lots\n",
    "    of data to each worker\n",
    "-   we cannot communicate that back to the driver\n",
    "\n",
    "To do this, Spark provides shared variables in two different types.\n",
    "\n",
    "-   **broadcast variables**\n",
    "    -   lets us to efficiently send large read-only values to all of the\n",
    "        workers\n",
    "    -   these are saved at the workers for use in one or more Spark\n",
    "        operations.  \n",
    "-   **accumulator variables**\n",
    "    -   These allow us to aggregate values from workers back to the\n",
    "        driver.\n",
    "    -   only the driver can access the value of the accumulator\n",
    "    -   for the tasks, the accumulators are basically write-only\n",
    "\n",
    "------------------------------------------------------------------------\n",
    "\n",
    "\\#\\#\\# 12. Spark Essentials: Summary **(watch now: 0:29)**\n",
    "\n",
    "[![Spark Essentials Summary by Anthony Joseph in\n",
    "BerkeleyX/CS100.1x](http://img.youtube.com/vi/F50Vty9Ia8Y/0.jpg)](https://www.youtube.com/watch?v=F50Vty9Ia8Y?rel=0&autoplay=1&modestbranding=1)\n",
    "\n",
    "*NOTE:* In databricks cluster, we (the course\n",
    "coordinator/administrators) set the number of workers for you.\n",
    "\n",
    "Accumulators\n",
    "------------\n",
    "\n",
    "> Accumulators are variables that are only “added” to through an\n",
    "> associative and commutative operation and can therefore be efficiently\n",
    "> supported in parallel. They can be used to implement counters (as in\n",
    "> MapReduce) or sums. Spark natively supports accumulators of numeric\n",
    "> types, and programmers can add support for new types."
   ]
  },
  {
   "cell_type": "code",
   "execution_count": null,
   "metadata": {},
   "outputs": [],
   "source": [
    "displayHTML(frameIt(\"https://spark.apache.org/docs/latest/rdd-programming-guide.html#accumulators\",500))"
   ]
  },
  {
   "cell_type": "markdown",
   "metadata": {},
   "source": [
    "  \n",
    "\n",
    "> A numeric accumulator can be created by calling\n",
    "> SparkContext.longAccumulator() or SparkContext.doubleAccumulator() to\n",
    "> accumulate values of type Long or Double, respectively. Tasks running\n",
    "> on a cluster can then add to it using the add method. However, they\n",
    "> cannot read its value. Only the driver program can read the\n",
    "> accumulator’s value, using its value method.\n",
    "\n",
    "> The code below shows an accumulator being used to add up the elements\n",
    "> of an array:"
   ]
  },
  {
   "cell_type": "code",
   "execution_count": null,
   "metadata": {},
   "outputs": [],
   "source": [
    "val accum = sc.longAccumulator(\"My Accumulator\")"
   ]
  },
  {
   "cell_type": "markdown",
   "metadata": {},
   "source": []
  },
  {
   "cell_type": "code",
   "execution_count": null,
   "metadata": {},
   "outputs": [],
   "source": [
    "sc.parallelize(Array(1, 2, 3, 4)).foreach(x => accum.add(x))"
   ]
  },
  {
   "cell_type": "markdown",
   "metadata": {},
   "source": []
  },
  {
   "cell_type": "code",
   "execution_count": null,
   "metadata": {},
   "outputs": [],
   "source": [
    "accum.value"
   ]
  },
  {
   "cell_type": "markdown",
   "metadata": {},
   "source": [
    "  \n",
    "\n",
    "Broadcast Variables\n",
    "-------------------\n",
    "\n",
    "> Broadcast variables allow the programmer to keep a read-only variable\n",
    "> cached on each machine rather than shipping a copy of it with tasks.\n",
    "> They can be used, for example, to give every node a copy of a large\n",
    "> input dataset in an efficient manner. Spark also attempts to\n",
    "> distribute broadcast variables using efficient broadcast algorithms to\n",
    "> reduce communication cost.\n",
    "\n",
    "> Spark actions are executed through a set of stages, separated by\n",
    "> distributed “shuffle” operations. Spark automatically broadcasts the\n",
    "> common data needed by tasks within each stage. The data broadcasted\n",
    "> this way is cached in serialized form and deserialized before running\n",
    "> each task. This means that explicitly creating broadcast variables is\n",
    "> only useful when tasks across multiple stages need the same data or\n",
    "> when caching the data in deserialized form is important.\n",
    "\n",
    "> Broadcast variables are created from a variable v by calling\n",
    "> SparkContext.broadcast(v). The broadcast variable is a wrapper around\n",
    "> v, and its value can be accessed by calling the value method. The code\n",
    "> below shows this:"
   ]
  },
  {
   "cell_type": "code",
   "execution_count": null,
   "metadata": {},
   "outputs": [],
   "source": [
    "displayHTML(frameIt(\"https://spark.apache.org/docs/latest/rdd-programming-guide.html#broadcast-variables\",500))"
   ]
  },
  {
   "cell_type": "markdown",
   "metadata": {},
   "source": []
  },
  {
   "cell_type": "code",
   "execution_count": null,
   "metadata": {},
   "outputs": [],
   "source": [
    "val broadcastVar = sc.broadcast(Array(1, 2, 3))"
   ]
  },
  {
   "cell_type": "markdown",
   "metadata": {},
   "source": []
  },
  {
   "cell_type": "code",
   "execution_count": null,
   "metadata": {},
   "outputs": [],
   "source": [
    "broadcastVar.value"
   ]
  },
  {
   "cell_type": "markdown",
   "metadata": {},
   "source": []
  },
  {
   "cell_type": "code",
   "execution_count": null,
   "metadata": {},
   "outputs": [],
   "source": [
    "broadcastVar.value(0)"
   ]
  },
  {
   "cell_type": "markdown",
   "metadata": {},
   "source": []
  },
  {
   "cell_type": "code",
   "execution_count": null,
   "metadata": {},
   "outputs": [],
   "source": [
    "val rdd = sc.parallelize(1 to 10)"
   ]
  },
  {
   "cell_type": "markdown",
   "metadata": {},
   "source": []
  },
  {
   "cell_type": "code",
   "execution_count": null,
   "metadata": {},
   "outputs": [],
   "source": [
    "rdd.collect"
   ]
  },
  {
   "cell_type": "markdown",
   "metadata": {},
   "source": []
  },
  {
   "cell_type": "code",
   "execution_count": null,
   "metadata": {},
   "outputs": [],
   "source": [
    "rdd.map(x => x%3).collect"
   ]
  },
  {
   "cell_type": "markdown",
   "metadata": {},
   "source": []
  },
  {
   "cell_type": "code",
   "execution_count": null,
   "metadata": {},
   "outputs": [],
   "source": [
    "rdd.map(x => x+broadcastVar.value(x%3)).collect"
   ]
  },
  {
   "cell_type": "markdown",
   "metadata": {},
   "source": [
    "  \n",
    "\n",
    "> After the broadcast variable is created, it should be used instead of\n",
    "> the value v in any functions run on the cluster so that v is not\n",
    "> shipped to the nodes more than once. In addition, the object v should\n",
    "> not be modified after it is broadcast in order to ensure that all\n",
    "> nodes get the same value of the broadcast variable (e.g. if the\n",
    "> variable is shipped to a new node later).\n",
    "\n",
    "> To release the resources that the broadcast variable copied onto\n",
    "> executors, call .unpersist(). If the broadcast is used again\n",
    "> afterwards, it will be re-broadcast. To permanently release all\n",
    "> resources used by the broadcast variable, call .destroy(). The\n",
    "> broadcast variable can’t be used after that. Note that these methods\n",
    "> do not block by default. To block until resources are freed, specify\n",
    "> blocking=true when calling them."
   ]
  },
  {
   "cell_type": "code",
   "execution_count": null,
   "metadata": {},
   "outputs": [],
   "source": [
    "broadcastVar.unpersist()"
   ]
  },
  {
   "cell_type": "markdown",
   "metadata": {},
   "source": [
    "  \n",
    "\n",
    "### A more interesting example of broadcast variable\n",
    "\n",
    "Let us broadcast maps and use them to lookup the values at each\n",
    "executor. This example is taken from: -\n",
    "<https://sparkbyexamples.com/spark/spark-broadcast-variables/>"
   ]
  },
  {
   "cell_type": "code",
   "execution_count": null,
   "metadata": {},
   "outputs": [],
   "source": [
    "val states = Map((\"NY\",\"New York\"),(\"CA\",\"California\"),(\"FL\",\"Florida\"))\n",
    "val countries = Map((\"USA\",\"United States of America\"),(\"IN\",\"India\"))\n",
    "\n",
    "val broadcastStates = spark.sparkContext.broadcast(states)\n",
    "val broadcastCountries = spark.sparkContext.broadcast(countries)\n",
    "\n",
    "val data = Seq((\"James\",\"Smith\",\"USA\",\"CA\"),\n",
    "    (\"Michael\",\"Rose\",\"USA\",\"NY\"),\n",
    "    (\"Robert\",\"Williams\",\"USA\",\"CA\"),\n",
    "    (\"Maria\",\"Jones\",\"USA\",\"FL\"))\n",
    "\n",
    "val rdd = spark.sparkContext.parallelize(data) // spark.sparkContext is the same as sc.parallelize in spark-shell/notebook\n",
    "\n",
    "  val rdd2 = rdd.map(f=>{\n",
    "    val country = f._3\n",
    "    val state = f._4\n",
    "    val fullCountry = broadcastCountries.value.get(country).get\n",
    "    val fullState = broadcastStates.value.get(state).get\n",
    "    (f._1,f._2,fullCountry,fullState)\n",
    "  })"
   ]
  },
  {
   "cell_type": "markdown",
   "metadata": {},
   "source": []
  },
  {
   "cell_type": "code",
   "execution_count": null,
   "metadata": {},
   "outputs": [],
   "source": [
    "println(rdd2.collect().mkString(\"\\n\"))"
   ]
  },
  {
   "cell_type": "markdown",
   "metadata": {},
   "source": [
    "  \n",
    "\n",
    "### 13. HOMEWORK\n",
    "\n",
    "See the notebook in this folder named\n",
    "`005_RDDsTransformationsActionsHOMEWORK`. This notebook will give you\n",
    "more examples of the operations above as well as others we will be using\n",
    "later, including:\n",
    "\n",
    "-   Perform the `takeOrdered` action on the RDD\n",
    "-   Transform the RDD by `distinct` to make another RDD and\n",
    "-   Doing a bunch of transformations to our RDD and performing an action\n",
    "    in a single cell.\n",
    "\n",
    "------------------------------------------------------------------------\n",
    "\n",
    "------------------------------------------------------------------------\n",
    "\n",
    "### Importing Standard Scala and Java libraries\n",
    "\n",
    "-   For other libraries that are not available by default, you can\n",
    "    upload other libraries to the Workspace.\n",
    "-   Refer to the\n",
    "    **[Libraries](https://docs.databricks.com/user-guide/libraries.html)**\n",
    "    guide for more details."
   ]
  },
  {
   "cell_type": "code",
   "execution_count": null,
   "metadata": {},
   "outputs": [],
   "source": [
    "import scala.math._\n",
    "val x = min(1, 10)"
   ]
  },
  {
   "cell_type": "markdown",
   "metadata": {},
   "source": []
  },
  {
   "cell_type": "code",
   "execution_count": null,
   "metadata": {},
   "outputs": [],
   "source": [
    "import java.util.HashMap\n",
    "val map = new HashMap[String, Int]()\n",
    "map.put(\"a\", 1)\n",
    "map.put(\"b\", 2)\n",
    "map.put(\"c\", 3)\n",
    "map.put(\"d\", 4)\n",
    "map.put(\"e\", 5)\n"
   ]
  },
  {
   "cell_type": "markdown",
   "metadata": {},
   "source": []
  }
 ],
 "nbformat": 4,
 "nbformat_minor": 5,
 "metadata": {}
}
