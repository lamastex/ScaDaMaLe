{
 "cells": [
  {
   "cell_type": "markdown",
   "metadata": {},
   "source": [
    "ScaDaMaLe Course\n",
    "[site](https://lamastex.github.io/scalable-data-science/sds/3/x/) and\n",
    "[book](https://lamastex.github.io/ScaDaMaLe/index.html)\n",
    "\n",
    "Scala Resources\n",
    "---------------\n",
    "\n",
    "You will not be learning scala systematically and thoroughly in this\n",
    "course. You will learn *to use* Scala by doing various Spark jobs.\n",
    "\n",
    "If you are interested in learning scala properly, then there are various\n",
    "resources, including:\n",
    "\n",
    "-   [scala-lang.org](http://www.scala-lang.org/) is the **core Scala\n",
    "    resource**. Bookmark the following three links:\n",
    "    -   [tour-of-scala](https://docs.scala-lang.org/tour/tour-of-scala.html) -\n",
    "        Bite-sized introductions to core language features.\n",
    "        -   we will go through the tour in a hurry now as some Scala\n",
    "            familiarity is needed immediately.\n",
    "    -   [scala-book](https://docs.scala-lang.org/overviews/scala-book/introduction.html) -\n",
    "        An online book introducing the main language features\n",
    "        -   you are expected to use this resource to figure out Scala as\n",
    "            needed.\n",
    "    -   [scala-cheatsheet](https://docs.scala-lang.org/cheatsheets/index.html) -\n",
    "        A handy cheatsheet covering the basics of Scala syntax.\n",
    "    -   [visual-scala-reference](https://superruzafa.github.io/visual-scala-reference/) -\n",
    "        This guide collects some of the most common functions of the\n",
    "        Scala Programming Language and explain them conceptual and\n",
    "        graphically in a simple way.\n",
    "-   [Online Resources](https://docs.scala-lang.org/learn.html),\n",
    "    including:\n",
    "    -   [courseera: Functional Programming Principles in\n",
    "        Scala](https://www.coursera.org/course/progfun)\n",
    "-   [Books](http://www.scala-lang.org/documentation/books.html)\n",
    "    -   [Programming in Scala, 1st Edition, Free Online\n",
    "        Reading](http://www.artima.com/pins1ed/)\n",
    "\n",
    "The main sources for the following content are (you are encouraged to\n",
    "read them for more background):\n",
    "\n",
    "-   [Martin Oderski's Scala by\n",
    "    example](https://www.scala-lang.org/old/sites/default/files/linuxsoft_archives/docu/files/ScalaByExample.pdf)\n",
    "-   [Scala crash course by Holden\n",
    "    Karau](http://lintool.github.io/SparkTutorial/slides/day1_Scala_crash_course.pdf)\n",
    "-   [Darren's brief introduction to scala and breeze for statistical\n",
    "    computing](https://darrenjw.wordpress.com/2013/12/30/brief-introduction-to-scala-and-breeze-for-statistical-computing/)"
   ]
  },
  {
   "cell_type": "code",
   "execution_count": null,
   "metadata": {},
   "outputs": [],
   "source": [
    "//%run \"/scalable-data-science/xtraResources/support/sdsFunctions\"\n",
    "//This allows easy embedding of publicly available information into any other notebook\n",
    "//when viewing in git-book just ignore this block - you may have to manually chase the URL in frameIt(\"URL\").\n",
    "//Example usage:\n",
    "// displayHTML(frameIt(\"https://en.wikipedia.org/wiki/Latent_Dirichlet_allocation#Topics_in_LDA\",250))\n",
    "def frameIt( u:String, h:Int ) : String = {\n",
    "      \"\"\"<iframe \n",
    " src=\"\"\"\"+ u+\"\"\"\"\n",
    " width=\"95%\" height=\"\"\"\" + h + \"\"\"\"\n",
    " sandbox>\n",
    "  <p>\n",
    "    <a href=\"http://spark.apache.org/docs/latest/index.html\">\n",
    "      Fallback link for browsers that, unlikely, don't support frames\n",
    "    </a>\n",
    "  </p>\n",
    "</iframe>\"\"\"\n",
    "   }"
   ]
  },
  {
   "cell_type": "markdown",
   "metadata": {},
   "source": [
    "  \n",
    "\n",
    "Let's continue to get our hands dirty in Scala\n",
    "==============================================\n",
    "\n",
    "We will go through the **remaining** programming concepts and tasks by\n",
    "building on <https://docs.scala-lang.org/tour/basics.html>.\n",
    "\n",
    "-   Scala Types\n",
    "-   Expressions and Printing\n",
    "-   Naming and Assignments\n",
    "-   Functions and Methods in Scala\n",
    "-   Classes and Case Classes\n",
    "-   Methods and Tab-completion\n",
    "-   Objects and Traits\n",
    "-   **Collections in Scala and Type Hierarchy**\n",
    "-   **Functional Programming and MapReduce**\n",
    "-   **Lazy Evaluations and Recursions**\n",
    "\n",
    "**Remark**: You need to take a computer science course (from CourseEra,\n",
    "for example) to properly learn Scala. Here, we will learn to use Scala\n",
    "by example to accomplish our data science tasks at hand. You can learn\n",
    "more Scala as needed from various sources pointed out above in **Scala\n",
    "Resources**.\n",
    "\n",
    "Scala Type Hierarchy\n",
    "====================\n",
    "\n",
    "In Scala, all values have a type, including numerical values and\n",
    "functions. The diagram below illustrates a subset of the type hierarchy.\n",
    "\n",
    "![](https://docs.scala-lang.org/resources/images/tour/unified-types-diagram.svg)\n",
    "\n",
    "For now, notice some common types we will be usinf including `Int`,\n",
    "`String`, `Double`, `Unit`, `Boolean`, `List`, etc. For more details see\n",
    "<https://docs.scala-lang.org/tour/unified-types.html>.\n",
    "\n",
    "Let us take a closer look at Scala Type Hierarchy now."
   ]
  },
  {
   "cell_type": "code",
   "execution_count": null,
   "metadata": {},
   "outputs": [],
   "source": [
    "displayHTML(frameIt(\"https://docs.scala-lang.org/tour/unified-types.html\",550))"
   ]
  },
  {
   "cell_type": "markdown",
   "metadata": {},
   "source": [
    "  \n",
    "\n",
    "Scala Collections\n",
    "=================\n",
    "\n",
    "Familiarize yourself with the main Scala collections classes here:\n",
    "\n",
    "-   <https://docs.scala-lang.org/overviews/scala-book/collections-101.html>"
   ]
  },
  {
   "cell_type": "code",
   "execution_count": null,
   "metadata": {},
   "outputs": [],
   "source": [
    "displayHTML(frameIt(\"https://docs.scala-lang.org/overviews/scala-book/collections-101.html\",550))"
   ]
  },
  {
   "cell_type": "markdown",
   "metadata": {},
   "source": [
    "  \n",
    "\n",
    "List\n",
    "----\n",
    "\n",
    "Lists are one of the most basic data structures.\n",
    "\n",
    "There are several other Scala collections and we will introduce them as\n",
    "needed. The other most common ones are `Vector`, `Array` and `Seq` and\n",
    "the `ArrayBuffer`.\n",
    "\n",
    "For details on list see: -\n",
    "<https://docs.scala-lang.org/overviews/scala-book/list-class.html>"
   ]
  },
  {
   "cell_type": "code",
   "execution_count": null,
   "metadata": {},
   "outputs": [],
   "source": [
    "// <Ctrl+Enter> to declare (an immutable) val lst as List of Int's 1,2,3\n",
    "val lst = List(1, 2, 3)"
   ]
  },
  {
   "cell_type": "markdown",
   "metadata": {},
   "source": [
    "  \n",
    "\n",
    "Vectors\n",
    "-------\n",
    "\n",
    "> The Vector class is an indexed, immutable sequence. The “indexed” part\n",
    "> of the description means that you can access Vector elements very\n",
    "> rapidly by their index value, such as accessing listOfPeople(999999).\n",
    "\n",
    "In general, except for the difference that Vector is indexed and List is\n",
    "not, the two classes work the same, so we’ll run through these examples\n",
    "quickly.\n",
    "\n",
    "For details see: -\n",
    "<https://docs.scala-lang.org/overviews/scala-book/vector-class.html>"
   ]
  },
  {
   "cell_type": "code",
   "execution_count": null,
   "metadata": {},
   "outputs": [],
   "source": [
    "val vec = Vector(1,2,3)"
   ]
  },
  {
   "cell_type": "markdown",
   "metadata": {},
   "source": [
    "  \n",
    "\n",
    "Arrays, Sequences and Tuples\n",
    "----------------------------\n",
    "\n",
    "See <https://www.scala-lang.org/api/current/scala/collection/index.html>\n",
    "for docs."
   ]
  },
  {
   "cell_type": "code",
   "execution_count": null,
   "metadata": {},
   "outputs": [],
   "source": [
    "val arr = Array(1,2,3) // <Shift-Enter> to declare an Array"
   ]
  },
  {
   "cell_type": "markdown",
   "metadata": {},
   "source": []
  },
  {
   "cell_type": "code",
   "execution_count": null,
   "metadata": {},
   "outputs": [],
   "source": [
    "val seq = Seq(1,2,3)    // <Shift-Enter> to declare a Seq"
   ]
  },
  {
   "cell_type": "markdown",
   "metadata": {},
   "source": [
    "  \n",
    "\n",
    "> A tuple is a neat class that gives you a simple way to store\n",
    "> heterogeneous (different) items in the same container. We will use\n",
    "> tuples for key-value pairs in Spark.\n",
    "\n",
    "See <https://docs.scala-lang.org/overviews/scala-book/tuples.html>"
   ]
  },
  {
   "cell_type": "code",
   "execution_count": null,
   "metadata": {},
   "outputs": [],
   "source": [
    "val myTuple = ('a',1) // a 2-tuple"
   ]
  },
  {
   "cell_type": "markdown",
   "metadata": {},
   "source": []
  },
  {
   "cell_type": "code",
   "execution_count": null,
   "metadata": {},
   "outputs": [],
   "source": [
    "myTuple._1 // accessing the first element of the tuple. NOTE index starts at 1 not 0 for tuples"
   ]
  },
  {
   "cell_type": "markdown",
   "metadata": {},
   "source": []
  },
  {
   "cell_type": "code",
   "execution_count": null,
   "metadata": {},
   "outputs": [],
   "source": [
    "myTuple._2 // accessing the second element of the tuple"
   ]
  },
  {
   "cell_type": "markdown",
   "metadata": {},
   "source": [
    "  \n",
    "\n",
    "Functional Programming and MapReduce\n",
    "------------------------------------\n",
    "\n",
    "*\"Functional programming is a style of programming that emphasizes\n",
    "writing applications using only pure functions and immutable values. As\n",
    "Alvin Alexander wrote in Functional Programming, Simplified, rather than\n",
    "using that description, it can be helpful to say that functional\n",
    "programmers have an extremely strong desire to see their code as math —\n",
    "to see the combination of their functions as a series of algebraic\n",
    "equations. In that regard, you could say that functional programmers\n",
    "like to think of themselves as mathematicians. That’s the driving desire\n",
    "that leads them to use only pure functions and immutable values, because\n",
    "that’s what you use in algebra and other forms of math.\"*\n",
    "\n",
    "See\n",
    "<https://docs.scala-lang.org/overviews/scala-book/functional-programming.html>\n",
    "for short lessons in functional programming.\n",
    "\n",
    "We will apply functions for processing elements of a scala collection to\n",
    "quickly demonstrate functional programming.\n",
    "\n",
    "### Five ways of adding 1\n",
    "\n",
    "The first four use anonymous functions and the last one uses a named\n",
    "method.\n",
    "\n",
    "1.  explicit version: `%scala (x: Int) => x + 1`\n",
    "\n",
    "2.  type-inferred more intuitive version: `%scala x => x + 1`\n",
    "\n",
    "3.  placeholder syntax (each argument must be used exactly once):\n",
    "    `%scala _ + 1`\n",
    "\n",
    "4.  type-inferred more intuitive version with code-block for larger\n",
    "    function body:\n",
    "    `%scala x => {        // body is a block of code       val integerToAdd = 1       x + integerToAdd }`\n",
    "\n",
    "5.  as methods using `def`: `%scala def addOne(x: Int): Int = x + 1`"
   ]
  },
  {
   "cell_type": "code",
   "execution_count": null,
   "metadata": {},
   "outputs": [],
   "source": [
    "displayHTML(frameIt(\"https://superruzafa.github.io/visual-scala-reference/map/\",500))"
   ]
  },
  {
   "cell_type": "markdown",
   "metadata": {},
   "source": [
    "  \n",
    "\n",
    "Now, let's do some functional programming over scala collection (`List`)\n",
    "using some of their methods: `map`, `filter` and `reduce`. In the end we\n",
    "will write our first mapReduce program!\n",
    "\n",
    "For more details see:\n",
    "\n",
    "-   <https://docs.scala-lang.org/overviews/scala-book/collections-methods.html>"
   ]
  },
  {
   "cell_type": "code",
   "execution_count": null,
   "metadata": {},
   "outputs": [],
   "source": [
    "displayHTML(frameIt(\"https://superruzafa.github.io/visual-scala-reference/map/\",500))"
   ]
  },
  {
   "cell_type": "markdown",
   "metadata": {},
   "source": []
  },
  {
   "cell_type": "code",
   "execution_count": null,
   "metadata": {},
   "outputs": [],
   "source": [
    "// <Shift+Enter> to map each value x of lst with x+10 to return a new List(11, 12, 13)\n",
    "lst.map(x => x + 10)  "
   ]
  },
  {
   "cell_type": "markdown",
   "metadata": {},
   "source": []
  },
  {
   "cell_type": "code",
   "execution_count": null,
   "metadata": {},
   "outputs": [],
   "source": [
    "// <Shift+Enter> for the same as above using place-holder syntax\n",
    "lst.map( _ + 10)  "
   ]
  },
  {
   "cell_type": "markdown",
   "metadata": {},
   "source": []
  },
  {
   "cell_type": "code",
   "execution_count": null,
   "metadata": {},
   "outputs": [],
   "source": [
    "displayHTML(frameIt(\"https://superruzafa.github.io/visual-scala-reference/filter/\",600))"
   ]
  },
  {
   "cell_type": "markdown",
   "metadata": {},
   "source": []
  },
  {
   "cell_type": "code",
   "execution_count": null,
   "metadata": {},
   "outputs": [],
   "source": [
    "// <Shift+Enter> to return a new List(1, 3) after filtering x's from lst if (x % 2 == 1) is true\n",
    "lst.filter(x => (x % 2 == 1) )"
   ]
  },
  {
   "cell_type": "markdown",
   "metadata": {},
   "source": []
  },
  {
   "cell_type": "code",
   "execution_count": null,
   "metadata": {},
   "outputs": [],
   "source": [
    "// <Shift+Enter> for the same as above using place-holder syntax\n",
    "lst.filter( _ % 2 == 1 )"
   ]
  },
  {
   "cell_type": "markdown",
   "metadata": {},
   "source": []
  },
  {
   "cell_type": "code",
   "execution_count": null,
   "metadata": {},
   "outputs": [],
   "source": [
    "displayHTML(frameIt(\"https://superruzafa.github.io/visual-scala-reference/reduce/\",600))"
   ]
  },
  {
   "cell_type": "markdown",
   "metadata": {},
   "source": []
  },
  {
   "cell_type": "code",
   "execution_count": null,
   "metadata": {},
   "outputs": [],
   "source": [
    "// <Shift+Enter> to use reduce to add elements of lst two at a time to return Int 6\n",
    "lst.reduce( (x, y) => x + y )"
   ]
  },
  {
   "cell_type": "markdown",
   "metadata": {},
   "source": []
  },
  {
   "cell_type": "code",
   "execution_count": null,
   "metadata": {},
   "outputs": [],
   "source": [
    "// <Ctrl+Enter> for the same as above but using place-holder syntax\n",
    "lst.reduce( _ + _ )"
   ]
  },
  {
   "cell_type": "markdown",
   "metadata": {},
   "source": [
    "  \n",
    "\n",
    "Let's combine `map` and `reduce` programs above to find the sum of after\n",
    "10 has been added to every element of the original List `lst` as\n",
    "follows:"
   ]
  },
  {
   "cell_type": "code",
   "execution_count": null,
   "metadata": {},
   "outputs": [],
   "source": [
    "lst.map(x => x+10)\n",
    "   .reduce((x,y) => x+y) // <Ctrl-Enter> to get Int 36 = sum(1+10,2+10,3+10)"
   ]
  },
  {
   "cell_type": "markdown",
   "metadata": {},
   "source": [
    "  \n",
    "\n",
    "Exercise in Functional Programming\n",
    "==================================\n",
    "\n",
    "You should spend an hour or so going through the Functional Programming\n",
    "Section of the Scala Book:\n",
    "\n",
    "-   <https://docs.scala-lang.org/overviews/scala-book/functional-programming.html>"
   ]
  },
  {
   "cell_type": "code",
   "execution_count": null,
   "metadata": {},
   "outputs": [],
   "source": [
    "displayHTML(frameIt(\"https://docs.scala-lang.org/overviews/scala-book/functional-programming.html\",700))"
   ]
  },
  {
   "cell_type": "markdown",
   "metadata": {},
   "source": [
    "  \n",
    "\n",
    "There are lots of methods in Scala Collections. And much more in this\n",
    "*scalable language*. See for example\n",
    "<http://docs.scala-lang.org/cheatsheets/index.html>.\n",
    "\n",
    "Lazy Evaluation\n",
    "===============\n",
    "\n",
    "Another powerful programming concept we will need is *lazy evaluation*\n",
    "-- a form of delayed evaluation. So the value of an expression that is\n",
    "lazily evaluated is only available when it is actually needed.\n",
    "\n",
    "This is to be contrasted with *eager evaluation* that we have seen so\n",
    "far -- an expression is immediately evaluated."
   ]
  },
  {
   "cell_type": "code",
   "execution_count": null,
   "metadata": {},
   "outputs": [],
   "source": [
    "val eagerImmutableInt = 1 // eagerly evaluated as 1"
   ]
  },
  {
   "cell_type": "markdown",
   "metadata": {},
   "source": []
  },
  {
   "cell_type": "code",
   "execution_count": null,
   "metadata": {},
   "outputs": [],
   "source": [
    "var eagerMutableInt = 2 // eagerly evaluated as 2"
   ]
  },
  {
   "cell_type": "markdown",
   "metadata": {},
   "source": [
    "  \n",
    "\n",
    "Let's demonstrate lazy evaluation using a `getTime` method and the\n",
    "keyword `lazy`."
   ]
  },
  {
   "cell_type": "code",
   "execution_count": null,
   "metadata": {},
   "outputs": [],
   "source": [
    "import java.util.Calendar"
   ]
  },
  {
   "cell_type": "markdown",
   "metadata": {},
   "source": []
  },
  {
   "cell_type": "code",
   "execution_count": null,
   "metadata": {},
   "outputs": [],
   "source": [
    "lazy val lazyImmutableTime = Calendar.getInstance.getTime // lazily defined and not evaluated immediately"
   ]
  },
  {
   "cell_type": "markdown",
   "metadata": {},
   "source": []
  },
  {
   "cell_type": "code",
   "execution_count": null,
   "metadata": {},
   "outputs": [],
   "source": [
    "val eagerImmutableTime = Calendar.getInstance.getTime // egaerly evaluated immediately"
   ]
  },
  {
   "cell_type": "markdown",
   "metadata": {},
   "source": []
  },
  {
   "cell_type": "code",
   "execution_count": null,
   "metadata": {},
   "outputs": [],
   "source": [
    "println(lazyImmutableTime) // evaluated when actully needed by println"
   ]
  },
  {
   "cell_type": "markdown",
   "metadata": {},
   "source": []
  },
  {
   "cell_type": "code",
   "execution_count": null,
   "metadata": {},
   "outputs": [],
   "source": [
    "println(eagerImmutableTime) // prints what was already evaluated eagerly"
   ]
  },
  {
   "cell_type": "markdown",
   "metadata": {},
   "source": []
  },
  {
   "cell_type": "code",
   "execution_count": null,
   "metadata": {},
   "outputs": [],
   "source": [
    "def lazyDefinedInt = 5 // you can also use method to lazily define "
   ]
  },
  {
   "cell_type": "markdown",
   "metadata": {},
   "source": []
  },
  {
   "cell_type": "code",
   "execution_count": null,
   "metadata": {},
   "outputs": [],
   "source": [
    "lazyDefinedInt // only evaluated now"
   ]
  },
  {
   "cell_type": "markdown",
   "metadata": {},
   "source": [
    "  \n",
    "\n",
    "See\n",
    "[https://www.scala-exercises.org/scala*tutorial/lazy*evaluation](https://www.scala-exercises.org/scala_tutorial/lazy_evaluation)\n",
    "for more details including the following example with `StringBuilder`."
   ]
  },
  {
   "cell_type": "code",
   "execution_count": null,
   "metadata": {},
   "outputs": [],
   "source": [
    "val builder = new StringBuilder"
   ]
  },
  {
   "cell_type": "markdown",
   "metadata": {},
   "source": []
  },
  {
   "cell_type": "code",
   "execution_count": null,
   "metadata": {},
   "outputs": [],
   "source": [
    "val x = { builder += 'x'; 1 } // eagerly evaluates x as 1 after appending 'x' to builder. NOTE: ';' is used to separate multiple expressions on the same line"
   ]
  },
  {
   "cell_type": "markdown",
   "metadata": {},
   "source": []
  },
  {
   "cell_type": "code",
   "execution_count": null,
   "metadata": {},
   "outputs": [],
   "source": [
    "builder.result()"
   ]
  },
  {
   "cell_type": "markdown",
   "metadata": {},
   "source": []
  },
  {
   "cell_type": "code",
   "execution_count": null,
   "metadata": {},
   "outputs": [],
   "source": [
    "x"
   ]
  },
  {
   "cell_type": "markdown",
   "metadata": {},
   "source": []
  },
  {
   "cell_type": "code",
   "execution_count": null,
   "metadata": {},
   "outputs": [],
   "source": [
    "builder.result() // calling x again should not append x again to builder"
   ]
  },
  {
   "cell_type": "markdown",
   "metadata": {},
   "source": []
  },
  {
   "cell_type": "code",
   "execution_count": null,
   "metadata": {},
   "outputs": [],
   "source": [
    "lazy val y = { builder += 'y'; 2 } // lazily evaluate y later when it is called"
   ]
  },
  {
   "cell_type": "markdown",
   "metadata": {},
   "source": []
  },
  {
   "cell_type": "code",
   "execution_count": null,
   "metadata": {},
   "outputs": [],
   "source": [
    "builder.result() // builder should remain unchanged"
   ]
  },
  {
   "cell_type": "markdown",
   "metadata": {},
   "source": []
  },
  {
   "cell_type": "code",
   "execution_count": null,
   "metadata": {},
   "outputs": [],
   "source": [
    "def z = { builder += 'z'; 3 } // lazily evaluate z later when the method is called"
   ]
  },
  {
   "cell_type": "markdown",
   "metadata": {},
   "source": []
  },
  {
   "cell_type": "code",
   "execution_count": null,
   "metadata": {},
   "outputs": [],
   "source": [
    "builder.result() // builder should remain unchanged"
   ]
  },
  {
   "cell_type": "markdown",
   "metadata": {},
   "source": [
    "  \n",
    "\n",
    "What should `builder.result()` be after the following arithmetic\n",
    "expression involving `x`,`y` and `z` is evaluated?"
   ]
  },
  {
   "cell_type": "code",
   "execution_count": null,
   "metadata": {},
   "outputs": [],
   "source": [
    "z + y + x + z + y + x"
   ]
  },
  {
   "cell_type": "markdown",
   "metadata": {},
   "source": [
    "  \n",
    "\n",
    "### Lazy Evaluation Exercise - You try Now!\n",
    "\n",
    "Understand why the output above is what it is!\n",
    "\n",
    "-   Why is `z` different in its appearance in the final `builder` string\n",
    "    when compared to `x` and `y` as we evaluated?\n",
    "\n",
    "`z + y + x + z + y + x`"
   ]
  },
  {
   "cell_type": "code",
   "execution_count": null,
   "metadata": {},
   "outputs": [],
   "source": [
    "builder.result() "
   ]
  },
  {
   "cell_type": "markdown",
   "metadata": {},
   "source": [
    "  \n",
    "\n",
    "Why Lazy?\n",
    "---------\n",
    "\n",
    "Imagine a more complex expression involving the evaluation of millions\n",
    "of values. Lazy evaluation will allow us to actually compute with big\n",
    "data when it may become impossible to hold all the values in memory.\n",
    "This is exactly what Apache Spark does as we will see.\n",
    "\n",
    "Recursions\n",
    "==========\n",
    "\n",
    "Recursion is a powerful framework when a function calls another\n",
    "function, including itself, until some terminal condition is reached.\n",
    "\n",
    "Here we want to distinguish between two ways of implementing a recursion\n",
    "using a simple example of factorial.\n",
    "\n",
    "Recall that for any natural number $n$, its factorial is denoted and\n",
    "defined as follows:\n",
    "\n",
    "\\\\\\[ n! := n \\\\times (n-1) \\\\times (n-2) \\\\times \\\\cdots \\\\times 2\n",
    "\\\\times 1 \\\\\\]\n",
    "\n",
    "which has the following recursive expression:\n",
    "\n",
    "\\\\\\[ n! = n\\*(n-1)! \\\\, , \\\\qquad 0! = 1 \\\\\\]\n",
    "\n",
    "Let us implement it using two approaches: a naive approach that can run\n",
    "out of memory and another tail-recursive approach that uses constant\n",
    "memory. Read\n",
    "[https://www.scala-exercises.org/scala*tutorial/tail*recursion](https://www.scala-exercises.org/scala_tutorial/tail_recursion)\n",
    "for details."
   ]
  },
  {
   "cell_type": "code",
   "execution_count": null,
   "metadata": {},
   "outputs": [],
   "source": [
    "def factorialNaive(n: Int): Int =\n",
    "  if (n == 0) 1 else n * factorialNaive(n - 1)"
   ]
  },
  {
   "cell_type": "markdown",
   "metadata": {},
   "source": []
  },
  {
   "cell_type": "code",
   "execution_count": null,
   "metadata": {},
   "outputs": [],
   "source": [
    "factorialNaive(4)"
   ]
  },
  {
   "cell_type": "markdown",
   "metadata": {},
   "source": [
    "  \n",
    "\n",
    "When `factorialNaive(4)` was evaluated above the following steps were\n",
    "actually done:\n",
    "\n",
    "`factorial(4) if (4 == 0) 1 else 4 * factorial(4 - 1) 4 * factorial(3) 4 * (3 * factorial(2)) 4 * (3 * (2 * factorial(1))) 4 * (3 * (2 * (1 * factorial(0))) 4 * (3 * (2 * (1 * 1))) 24`\n",
    "\n",
    "Notice how we add one more element to our expression at each recursive\n",
    "call. Our expressions becomes bigger and bigger until we end by reducing\n",
    "it to the final value. So the final expression given by a directed\n",
    "acyclic graph (DAG) of the pairwise multiplications given by the\n",
    "right-branching binary tree, whose leaves are input integers and\n",
    "internal nodes are the bianry `*` operator, can get very large when the\n",
    "input `n` is large.\n",
    "\n",
    "*Tail recursion* is a sophisticated way of implementing certain\n",
    "recursions so that memory requirements can be kept constant, as opposed\n",
    "to naive recursions.\n",
    "\n",
    "> [Tail\n",
    "> Recursion](https://www.scala-exercises.org/scala_tutorial/tail_recursion)\n",
    "\n",
    "> That difference in the rewriting rules actually translates directly to\n",
    "> a difference in the actual execution on a computer. In fact, it turns\n",
    "> out that **if you have a recursive function that calls itself as its\n",
    "> last action, then you can reuse the stack frame of that function. This\n",
    "> is called tail recursion.**\n",
    "\n",
    "> And by applying that trick, a tail recursive function can execute in\n",
    "> constant stack space, so it's really just another formulation of an\n",
    "> iterative process. We could say a tail recursive function is the\n",
    "> functional form of a loop, and it executes just as efficiently as a\n",
    "> loop.\n",
    "\n",
    "Implementation of tail recursion in the Exercise below uses Scala\n",
    "[annotation](https://docs.scala-lang.org/tour/annotations.html), which\n",
    "is a way to associate meta-information with definitions. In our case,\n",
    "the annotation `@tailrec` ensures that a method is indeed\n",
    "[tail-recursive](https://en.wikipedia.org/wiki/Tail_call). See the last\n",
    "link to understand how memory requirements can be kept constant in tail\n",
    "recursions.\n",
    "\n",
    "We mainly want you to know that tail recursions are an important\n",
    "functional programming concept.\n",
    "\n",
    "### Tail Recursion Exercise - You Try Now\n",
    "\n",
    "Replace `???` with the correct values to make this a tail recursion for\n",
    "factorial."
   ]
  },
  {
   "cell_type": "code",
   "execution_count": null,
   "metadata": {},
   "outputs": [],
   "source": [
    "import scala.annotation.tailrec\n",
    "\n",
    "// replace ??? with the right values to make this a tail recursion for factorial\n",
    "def factorialTail(n: Int): Int = {\n",
    "  @tailrec\n",
    "  def iter(x: Int, result: Int): Int =\n",
    "    if ( x == ??? ) result\n",
    "    else iter(x - 1, result * x)\n",
    "\n",
    "  iter( n, ??? )\n",
    "}"
   ]
  },
  {
   "cell_type": "markdown",
   "metadata": {},
   "source": []
  },
  {
   "cell_type": "code",
   "execution_count": null,
   "metadata": {},
   "outputs": [],
   "source": [
    "factorialTail(3) //shouldBe 6"
   ]
  },
  {
   "cell_type": "markdown",
   "metadata": {},
   "source": []
  },
  {
   "cell_type": "code",
   "execution_count": null,
   "metadata": {},
   "outputs": [],
   "source": [
    "factorialTail(4) //shouldBe 24"
   ]
  },
  {
   "cell_type": "markdown",
   "metadata": {},
   "source": [
    "  \n",
    "\n",
    "Functional Programming is a vast subject and we are merely covering the\n",
    "fewest core ideas to get started with Apache Spark asap.\n",
    "\n",
    "We will return to more concepts as we need them in the sequel."
   ]
  }
 ],
 "nbformat": 4,
 "nbformat_minor": 5,
 "metadata": {}
}
