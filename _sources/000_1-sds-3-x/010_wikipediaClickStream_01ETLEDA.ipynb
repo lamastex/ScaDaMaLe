{
 "cells": [
  {
   "cell_type": "markdown",
   "metadata": {},
   "source": [
    "ScaDaMaLe Course\n",
    "[site](https://lamastex.github.io/scalable-data-science/sds/3/x/) and\n",
    "[book](https://lamastex.github.io/ScaDaMaLe/index.html)\n",
    "\n",
    "Wiki Clickstream Analysis\n",
    "=========================\n",
    "\n",
    "\\*\\* Dataset: 3.2 billion requests collected during the month of\n",
    "February 2015 grouped by (src, dest) \\*\\*\n",
    "\n",
    "\\*\\* Source: https://datahub.io/dataset/wikipedia-clickstream/ \\*\\*\n",
    "\n",
    "![NY clickstream\n",
    "image](https://databricks-prod-cloudfront.s3.amazonaws.com/docs/images/ny.clickstream.png \"NY clickstream image\")\n",
    "\n",
    "*This notebook requires Spark 1.6+.*\n",
    "\n",
    "This notebook was originally a data analysis workflow developed with\n",
    "[Databricks Community\n",
    "Edition](https://databricks.com/blog/2016/02/17/introducing-databricks-community-edition-apache-spark-for-all.html),\n",
    "a free version of Databricks designed for learning [Apache\n",
    "Spark](https://spark.apache.org/).\n",
    "\n",
    "Here we elucidate the original python notebook ([also linked\n",
    "here](/#workspace/scalable-data-science/xtraResources/sparkSummitEast2016/Wikipedia%20Clickstream%20Data))\n",
    "used in the talk by Michael Armbrust at Spark Summit East February 2016\n",
    "shared from\n",
    "<https://twitter.com/michaelarmbrust/status/699969850475737088> (watch\n",
    "later)\n",
    "\n",
    "[![Michael Armbrust Spark Summit\n",
    "East](http://img.youtube.com/vi/35Y-rqSMCCA/0.jpg)](https://www.youtube.com/v/35Y-rqSMCCA)\n",
    "\n",
    "### Data set\n",
    "\n",
    "![Wikipedia Logo](http://sameerf-dbc-labs.s3-website-us-west-2.amazonaws.com/data/wikipedia/images/w_logo_for_labs.png)\n",
    "=======================================================================================================================\n",
    "\n",
    "The data we are exploring in this lab is the February 2015 English\n",
    "Wikipedia Clickstream data, and it is available here:\n",
    "http://datahub.io/dataset/wikipedia-clickstream/resource/be85cc68-d1e6-4134-804a-fd36b94dbb82.\n",
    "\n",
    "According to Wikimedia:\n",
    "\n",
    "> \"The data contains counts of (referer, resource) pairs extracted from\n",
    "> the request logs of English Wikipedia. When a client requests a\n",
    "> resource by following a link or performing a search, the URI of the\n",
    "> webpage that linked to the resource is included with the request in an\n",
    "> HTTP header called the \"referer\". This data captures 22 million\n",
    "> (referer, resource) pairs from a total of 3.2 billion requests\n",
    "> collected during the month of February 2015.\"\n",
    "\n",
    "The data is approximately 1.2GB and it is hosted in the following\n",
    "Databricks file:\n",
    "`/databricks-datasets/wikipedia-datasets/data-001/clickstream/raw-uncompressed`"
   ]
  },
  {
   "cell_type": "code",
   "execution_count": null,
   "metadata": {},
   "outputs": [],
   "source": [
    "display(dbutils.fs.ls(\"/databricks-datasets/wikipedia-datasets/\"))"
   ]
  },
  {
   "cell_type": "markdown",
   "metadata": {},
   "source": [
    "  \n",
    "\n",
    "### Let us first understand this Wikimedia data set a bit more\n",
    "\n",
    "Let's read the datahub-hosted link\n",
    "<https://datahub.io/dataset/wikipedia-clickstream> in the embedding\n",
    "below. Also click the\n",
    "[blog](http://ewulczyn.github.io/Wikipedia_Clickstream_Getting_Started/)\n",
    "by Ellery Wulczyn, Data Scientist at The Wikimedia Foundation, to better\n",
    "understand how the data was generated (remember to Right-Click and use\n",
    "-&gt; and &lt;- if navigating within the embedded html frame below)."
   ]
  },
  {
   "cell_type": "code",
   "execution_count": null,
   "metadata": {},
   "outputs": [],
   "source": [
    "//This allows easy embedding of publicly available information into any other notebook\n",
    "//when viewing in git-book just ignore this block - you may have to manually chase the URL in frameIt(\"URL\").\n",
    "//Example usage:\n",
    "// displayHTML(frameIt(\"https://en.wikipedia.org/wiki/Latent_Dirichlet_allocation#Topics_in_LDA\",250))\n",
    "def frameIt( u:String, h:Int ) : String = {\n",
    "      \"\"\"<iframe \n",
    " src=\"\"\"\"+ u+\"\"\"\"\n",
    " width=\"95%\" height=\"\"\"\" + h + \"\"\"\"\n",
    " sandbox>\n",
    "  <p>\n",
    "    <a href=\"http://spark.apache.org/docs/latest/index.html\">\n",
    "      Fallback link for browsers that, unlikely, don't support frames\n",
    "    </a>\n",
    "  </p>\n",
    "</iframe>\"\"\"\n",
    "   }\n",
    "displayHTML(frameIt(\"https://datahub.io/dataset/wikipedia-clickstream\",500))"
   ]
  },
  {
   "cell_type": "markdown",
   "metadata": {},
   "source": [
    "  \n",
    "\n",
    "Run the next two cells for some housekeeping."
   ]
  },
  {
   "cell_type": "code",
   "execution_count": null,
   "metadata": {},
   "outputs": [],
   "source": [
    "if (org.apache.spark.BuildInfo.sparkBranch < \"1.6\") sys.error(\"Attach this notebook to a cluster running Spark 1.6+\")"
   ]
  },
  {
   "cell_type": "markdown",
   "metadata": {},
   "source": [
    "  \n",
    "\n",
    "### Loading and Exploring the data"
   ]
  },
  {
   "cell_type": "code",
   "execution_count": null,
   "metadata": {},
   "outputs": [],
   "source": [
    "val data = sc.textFile(\"dbfs:///databricks-datasets/wikipedia-datasets/data-001/clickstream/raw-uncompressed\")"
   ]
  },
  {
   "cell_type": "markdown",
   "metadata": {},
   "source": [
    "  \n",
    "\n",
    "##### Looking at the first few lines of the data"
   ]
  },
  {
   "cell_type": "code",
   "execution_count": null,
   "metadata": {},
   "outputs": [],
   "source": [
    "data.take(5).foreach(println) "
   ]
  },
  {
   "cell_type": "markdown",
   "metadata": {},
   "source": []
  },
  {
   "cell_type": "code",
   "execution_count": null,
   "metadata": {},
   "outputs": [],
   "source": [
    "data.take(2)"
   ]
  },
  {
   "cell_type": "markdown",
   "metadata": {},
   "source": [
    "  \n",
    "\n",
    "-   The first line looks like a header\n",
    "-   The second line (separated from the first by \",\") contains data\n",
    "    organized according to the header, i.e., `prev_id` = 3632887,\n",
    "    `curr_id` = 121\", and so on.\n",
    "\n",
    "Actually, here is the meaning of each column:\n",
    "\n",
    "-   `prev_id`: if the referer does not correspond to an article in the\n",
    "    main namespace of English Wikipedia, this value will be empty.\n",
    "    Otherwise, it contains the unique MediaWiki page ID of the article\n",
    "    corresponding to the referer i.e. the previous article the client\n",
    "    was on\n",
    "\n",
    "-   `curr_id`: the MediaWiki unique page ID of the article the client\n",
    "    requested\n",
    "\n",
    "-   `prev_title`: the result of mapping the referer URL to the fixed set\n",
    "    of values described below\n",
    "\n",
    "-   `curr_title`: the title of the article the client requested\n",
    "\n",
    "-   `n`: the number of occurrences of the (referer, resource) pair\n",
    "\n",
    "-   `type`\n",
    "\n",
    "    -   \"link\" if the referer and request are both articles and the\n",
    "        referer links to the request\n",
    "    -   \"redlink\" if the referer is an article and links to the request,\n",
    "        but the request is not in the production enwiki.page table\n",
    "    -   \"other\" if the *referer* and request are both articles but the\n",
    "        referer does not link to the request. This can happen when\n",
    "        clients search or spoof their refer\n",
    "\n",
    "Referers were mapped to a fixed set of values corresponding to internal\n",
    "traffic or external traffic from one of the top 5 global traffic sources\n",
    "to English Wikipedia, based on this scheme:\n",
    "\n",
    "> -   an article in the main namespace of English Wikipedia -&gt; the\n",
    ">     article title\n",
    "> -   any Wikipedia page that is not in the main namespace of English\n",
    ">     Wikipedia -&gt; `other-wikipedia`\n",
    "> -   an empty referer -&gt; `other-empty`\n",
    "> -   a page from any other Wikimedia project -&gt; `other-internal`\n",
    "> -   Google -&gt; `other-google`\n",
    "> -   Yahoo -&gt; `other-yahoo`\n",
    "> -   Bing -&gt; `other-bing`\n",
    "> -   Facebook -&gt; `other-facebook`\n",
    "> -   Twitter -&gt; `other-twitter`\n",
    "> -   anything else -&gt; `other-other`\n",
    "\n",
    "In the second line of the file above, we can see there were 121 clicks\n",
    "from Google to the Wikipedia page on \"!!\" (double exclamation marks).\n",
    "People search for everything!\n",
    "\n",
    "-   prev\\_id = *(nothing)*\n",
    "-   curr\\_id = 3632887 *--&gt; (Wikipedia page ID)*\n",
    "-   n = 121 *(People clicked from Google to this page 121 times in this\n",
    "    month.)*\n",
    "-   prev\\_title = other-google *(This data record is for referals from\n",
    "    Google.)*\n",
    "-   curr\\_title = !! *(This Wikipedia page is about a double exclamation\n",
    "    mark.)*\n",
    "-   type = other\n",
    "\n",
    "### Create a DataFrame from this CSV\n",
    "\n",
    "-   From the next Spark release - 2.0, CSV as a datasource will be part\n",
    "    of Spark's standard release. But, we are using Spark 1.6"
   ]
  },
  {
   "cell_type": "code",
   "execution_count": null,
   "metadata": {},
   "outputs": [],
   "source": [
    "// Load the raw dataset stored as a CSV file\n",
    "val clickstream = sqlContext\n",
    "    .read\n",
    "    .format(\"com.databricks.spark.csv\")\n",
    "    .options(Map(\"header\" -> \"true\", \"delimiter\" -> \"\\t\", \"mode\" -> \"PERMISSIVE\", \"inferSchema\" -> \"true\"))\n",
    "    .load(\"dbfs:///databricks-datasets/wikipedia-datasets/data-001/clickstream/raw-uncompressed\")\n",
    "  "
   ]
  },
  {
   "cell_type": "markdown",
   "metadata": {},
   "source": [
    "  \n",
    "\n",
    "##### Print the schema"
   ]
  },
  {
   "cell_type": "code",
   "execution_count": null,
   "metadata": {},
   "outputs": [],
   "source": [
    "clickstream.printSchema"
   ]
  },
  {
   "cell_type": "markdown",
   "metadata": {},
   "source": [
    "  \n",
    "\n",
    "#### Display some sample data"
   ]
  },
  {
   "cell_type": "code",
   "execution_count": null,
   "metadata": {},
   "outputs": [],
   "source": [
    "display(clickstream)"
   ]
  },
  {
   "cell_type": "markdown",
   "metadata": {},
   "source": [
    "  \n",
    "\n",
    "Display is a utility provided by Databricks. If you are programming\n",
    "directly in Spark, use the show(numRows: Int) function of DataFrame"
   ]
  },
  {
   "cell_type": "code",
   "execution_count": null,
   "metadata": {},
   "outputs": [],
   "source": [
    "clickstream.show(5)"
   ]
  },
  {
   "cell_type": "markdown",
   "metadata": {},
   "source": [
    "  \n",
    "\n",
    "### Reading from disk vs memory\n",
    "\n",
    "The 1.2 GB Clickstream file is currently on S3, which means each time\n",
    "you scan through it, your Spark cluster has to read the 1.2 GB of data\n",
    "remotely over the network.\n",
    "\n",
    "Call the `count()` action to check how many rows are in the DataFrame\n",
    "and to see how long it takes to read the DataFrame from S3."
   ]
  },
  {
   "cell_type": "code",
   "execution_count": null,
   "metadata": {},
   "outputs": [],
   "source": [
    "clickstream.cache().count()"
   ]
  },
  {
   "cell_type": "markdown",
   "metadata": {},
   "source": [
    "  \n",
    "\n",
    "-   It took about several minutes to read the 1.2 GB file into your\n",
    "    Spark cluster. The file has 22.5 million rows/lines.\n",
    "-   Although we have called cache, remember that it is evaluated\n",
    "    (cached) only when an action(count) is called\n",
    "\n",
    "Now call count again to see how much faster it is to read from memory"
   ]
  },
  {
   "cell_type": "code",
   "execution_count": null,
   "metadata": {},
   "outputs": [],
   "source": [
    "clickstream.count()"
   ]
  },
  {
   "cell_type": "markdown",
   "metadata": {},
   "source": [
    "  \n",
    "\n",
    "-   Orders of magnitude faster!\n",
    "-   If you are going to be using the same data source multiple times, it\n",
    "    is better to cache it in memory\n",
    "\n",
    "### What are the top 10 articles requested?\n",
    "\n",
    "To do this we also need to order by the sum of column `n`, in descending\n",
    "order."
   ]
  },
  {
   "cell_type": "code",
   "execution_count": null,
   "metadata": {},
   "outputs": [],
   "source": [
    "//Type in your answer here...\n",
    "display(clickstream\n",
    "  .select(clickstream(\"curr_title\"), clickstream(\"n\"))\n",
    "  .groupBy(\"curr_title\")\n",
    "  .sum()\n",
    "  .orderBy($\"sum(n)\".desc)\n",
    "  .limit(10))"
   ]
  },
  {
   "cell_type": "markdown",
   "metadata": {},
   "source": [
    "  \n",
    "\n",
    "### Who sent the most traffic to Wikipedia in Feb 2015?\n",
    "\n",
    "In other words, who were the top referers to Wikipedia?"
   ]
  },
  {
   "cell_type": "code",
   "execution_count": null,
   "metadata": {},
   "outputs": [],
   "source": [
    "display(clickstream\n",
    "  .select(clickstream(\"prev_title\"), clickstream(\"n\"))\n",
    "  .groupBy(\"prev_title\")\n",
    "  .sum()\n",
    "  .orderBy($\"sum(n)\".desc)\n",
    "  .limit(10))"
   ]
  },
  {
   "cell_type": "markdown",
   "metadata": {},
   "source": [
    "  \n",
    "\n",
    "As expected, the top referer by a large margin is Google. Next comes\n",
    "refererless traffic (usually clients using HTTPS). The third largest\n",
    "sender of traffic to English Wikipedia are Wikipedia pages that are not\n",
    "in the main namespace (ns = 0) of English Wikipedia. Learn about the\n",
    "Wikipedia namespaces here:\n",
    "https://en.wikipedia.org/wiki/Wikipedia:Project\\_namespace\n",
    "\n",
    "Also, note that Twitter sends 10x more requests to Wikipedia than\n",
    "Facebook.\n",
    "\n",
    "### What were the top 5 trending articles people from Twitter were looking up in Wikipedia?"
   ]
  },
  {
   "cell_type": "code",
   "execution_count": null,
   "metadata": {},
   "outputs": [],
   "source": [
    "//Type in your answer here...\n",
    "display(clickstream\n",
    "  .select(clickstream(\"curr_title\"), clickstream(\"prev_title\"), clickstream(\"n\"))\n",
    "  .filter(\"prev_title = 'other-twitter'\")\n",
    "  .groupBy(\"curr_title\")\n",
    "  .sum()\n",
    "  .orderBy($\"sum(n)\".desc)\n",
    "  .limit(5))"
   ]
  },
  {
   "cell_type": "markdown",
   "metadata": {},
   "source": [
    "  \n",
    "\n",
    "#### What percentage of page visits in Wikipedia are from other pages in Wikipedia itself?"
   ]
  },
  {
   "cell_type": "code",
   "execution_count": null,
   "metadata": {},
   "outputs": [],
   "source": [
    "val allClicks = clickstream.selectExpr(\"sum(n)\").first.getLong(0)\n",
    "val referals = clickstream.\n",
    "                filter(clickstream(\"prev_id\").isNotNull).\n",
    "                selectExpr(\"sum(n)\").first.getLong(0)\n",
    "(referals * 100.0) / allClicks"
   ]
  },
  {
   "cell_type": "markdown",
   "metadata": {},
   "source": [
    "  \n",
    "\n",
    "#### Register the DataFrame to perform more complex queries"
   ]
  },
  {
   "cell_type": "code",
   "execution_count": null,
   "metadata": {},
   "outputs": [],
   "source": [
    "clickstream.createOrReplaceTempView(\"clicks\")"
   ]
  },
  {
   "cell_type": "markdown",
   "metadata": {},
   "source": [
    "  \n",
    "\n",
    "#### Which Wikipedia pages have the most referrals to the Donald Trump page?"
   ]
  },
  {
   "cell_type": "code",
   "execution_count": null,
   "metadata": {},
   "outputs": [],
   "source": [
    "SELECT *\n",
    "FROM clicks\n",
    "WHERE \n",
    "  curr_title = 'Donald_Trump' AND\n",
    "  prev_id IS NOT NULL AND prev_title != 'Main_Page'\n",
    "ORDER BY n DESC\n",
    "LIMIT 20"
   ]
  },
  {
   "cell_type": "markdown",
   "metadata": {},
   "source": [
    "  \n",
    "\n",
    "#### YouTry: Top referrers to other 2016 US presidential candidate pages\n",
    "\n",
    "`'Donald_Trump', 'Bernie_Sanders', 'Hillary_Rodham_Clinton', 'Ted_Cruz'`"
   ]
  },
  {
   "cell_type": "code",
   "execution_count": null,
   "metadata": {},
   "outputs": [],
   "source": [
    "-- YouTry \n",
    "---\n",
    "-- fill in the right sql query here"
   ]
  },
  {
   "cell_type": "markdown",
   "metadata": {},
   "source": [
    "  \n",
    "\n",
    "#### Load a visualization library\n",
    "\n",
    "This code is copied after doing a live google search (by Michael\n",
    "Armbrust at Spark Summit East February 2016 shared from\n",
    "<https://twitter.com/michaelarmbrust/status/699969850475737088>). The\n",
    "`d3ivan` package is an updated version of the original package used by\n",
    "Michael Armbrust as it needed some TLC for Spark 2.2 on newer databricks\n",
    "notebook. These changes were kindly made by Ivan Sadikov from Middle\n",
    "Earth.\n",
    "\n",
    "You need to hit the Play Button in next cell and 'Run Cell' exactly\n",
    "once."
   ]
  },
  {
   "cell_type": "code",
   "execution_count": null,
   "metadata": {},
   "outputs": [],
   "source": [
    "package d3ivan\n",
    "// We use a package object so that we can define top level classes like Edge that need to be used in other cells\n",
    "\n",
    "import org.apache.spark.sql._\n",
    "import com.databricks.backend.daemon.driver.EnhancedRDDFunctions.displayHTML\n",
    "\n",
    "case class Edge(src: String, dest: String, count: Long)\n",
    "\n",
    "case class Node(name: String)\n",
    "case class Link(source: Int, target: Int, value: Long)\n",
    "case class Graph(nodes: Seq[Node], links: Seq[Link])\n",
    "\n",
    "object graphs {\n",
    "// val sqlContext = SQLContext.getOrCreate(org.apache.spark.SparkContext.getOrCreate())  /// fix\n",
    "val sqlContext = SparkSession.builder().getOrCreate().sqlContext\n",
    "import sqlContext.implicits._\n",
    "  \n",
    "def force(clicks: Dataset[Edge], height: Int = 100, width: Int = 960): Unit = {\n",
    "  val data = clicks.collect()\n",
    "  val nodes = (data.map(_.src) ++ data.map(_.dest)).map(_.replaceAll(\"_\", \" \")).toSet.toSeq.map(Node)\n",
    "  val links = data.map { t =>\n",
    "    Link(nodes.indexWhere(_.name == t.src.replaceAll(\"_\", \" \")), nodes.indexWhere(_.name == t.dest.replaceAll(\"_\", \" \")), t.count / 20 + 1)\n",
    "  }\n",
    "  showGraph(height, width, Seq(Graph(nodes, links)).toDF().toJSON.first())\n",
    "}\n",
    "\n",
    "/**\n",
    " * Displays a force directed graph using d3\n",
    " * input: {\"nodes\": [{\"name\": \"...\"}], \"links\": [{\"source\": 1, \"target\": 2, \"value\": 0}]}\n",
    " */\n",
    "def showGraph(height: Int, width: Int, graph: String): Unit = {\n",
    "\n",
    "displayHTML(s\"\"\"\n",
    "<style>\n",
    "\n",
    ".node_circle {\n",
    "  stroke: #777;\n",
    "  stroke-width: 1.3px;\n",
    "}\n",
    "\n",
    ".node_label {\n",
    "  pointer-events: none;\n",
    "}\n",
    "\n",
    ".link {\n",
    "  stroke: #777;\n",
    "  stroke-opacity: .2;\n",
    "}\n",
    "\n",
    ".node_count {\n",
    "  stroke: #777;\n",
    "  stroke-width: 1.0px;\n",
    "  fill: #999;\n",
    "}\n",
    "\n",
    "text.legend {\n",
    "  font-family: Verdana;\n",
    "  font-size: 13px;\n",
    "  fill: #000;\n",
    "}\n",
    "\n",
    ".node text {\n",
    "  font-family: \"Helvetica Neue\",\"Helvetica\",\"Arial\",sans-serif;\n",
    "  font-size: 17px;\n",
    "  font-weight: 200;\n",
    "}\n",
    "\n",
    "</style>\n",
    "\n",
    "<div id=\"clicks-graph\">\n",
    "<script src=\"//d3js.org/d3.v3.min.js\"></script>\n",
    "<script>\n",
    "\n",
    "var graph = $graph;\n",
    "\n",
    "var width = $width,\n",
    "    height = $height;\n",
    "\n",
    "var color = d3.scale.category20();\n",
    "\n",
    "var force = d3.layout.force()\n",
    "    .charge(-700)\n",
    "    .linkDistance(180)\n",
    "    .size([width, height]);\n",
    "\n",
    "var svg = d3.select(\"#clicks-graph\").append(\"svg\")\n",
    "    .attr(\"width\", width)\n",
    "    .attr(\"height\", height);\n",
    "    \n",
    "force\n",
    "    .nodes(graph.nodes)\n",
    "    .links(graph.links)\n",
    "    .start();\n",
    "\n",
    "var link = svg.selectAll(\".link\")\n",
    "    .data(graph.links)\n",
    "    .enter().append(\"line\")\n",
    "    .attr(\"class\", \"link\")\n",
    "    .style(\"stroke-width\", function(d) { return Math.sqrt(d.value); });\n",
    "\n",
    "var node = svg.selectAll(\".node\")\n",
    "    .data(graph.nodes)\n",
    "    .enter().append(\"g\")\n",
    "    .attr(\"class\", \"node\")\n",
    "    .call(force.drag);\n",
    "\n",
    "node.append(\"circle\")\n",
    "    .attr(\"r\", 10)\n",
    "    .style(\"fill\", function (d) {\n",
    "    if (d.name.startsWith(\"other\")) { return color(1); } else { return color(2); };\n",
    "})\n",
    "\n",
    "node.append(\"text\")\n",
    "      .attr(\"dx\", 10)\n",
    "      .attr(\"dy\", \".35em\")\n",
    "      .text(function(d) { return d.name });\n",
    "      \n",
    "//Now we are giving the SVGs co-ordinates - the force layout is generating the co-ordinates which this code is using to update the attributes of the SVG elements\n",
    "force.on(\"tick\", function () {\n",
    "    link.attr(\"x1\", function (d) {\n",
    "        return d.source.x;\n",
    "    })\n",
    "        .attr(\"y1\", function (d) {\n",
    "        return d.source.y;\n",
    "    })\n",
    "        .attr(\"x2\", function (d) {\n",
    "        return d.target.x;\n",
    "    })\n",
    "        .attr(\"y2\", function (d) {\n",
    "        return d.target.y;\n",
    "    });\n",
    "    d3.selectAll(\"circle\").attr(\"cx\", function (d) {\n",
    "        return d.x;\n",
    "    })\n",
    "        .attr(\"cy\", function (d) {\n",
    "        return d.y;\n",
    "    });\n",
    "    d3.selectAll(\"text\").attr(\"x\", function (d) {\n",
    "        return d.x;\n",
    "    })\n",
    "        .attr(\"y\", function (d) {\n",
    "        return d.y;\n",
    "    });\n",
    "});\n",
    "</script>\n",
    "</div>\n",
    "\"\"\")\n",
    "}\n",
    "  \n",
    "  def help() = {\n",
    "displayHTML(\"\"\"\n",
    "<p>\n",
    "Produces a force-directed graph given a collection of edges of the following form:</br>\n",
    "<tt><font color=\"#a71d5d\">case class</font> <font color=\"#795da3\">Edge</font>(<font color=\"#ed6a43\">src</font>: <font color=\"#a71d5d\">String</font>, <font color=\"#ed6a43\">dest</font>: <font color=\"#a71d5d\">String</font>, <font color=\"#ed6a43\">count</font>: <font color=\"#a71d5d\">Long</font>)</tt>\n",
    "</p>\n",
    "<p>Usage:<br/>\n",
    "<tt><font color=\"#a71d5d\">import</font> <font color=\"#ed6a43\">d3._</font></tt><br/>\n",
    "<tt><font color=\"#795da3\">graphs.force</font>(</br>\n",
    "&nbsp;&nbsp;<font color=\"#ed6a43\">height</font> = <font color=\"#795da3\">500</font>,<br/>\n",
    "&nbsp;&nbsp;<font color=\"#ed6a43\">width</font> = <font color=\"#795da3\">500</font>,<br/>\n",
    "&nbsp;&nbsp;<font color=\"#ed6a43\">clicks</font>: <font color=\"#795da3\">Dataset</font>[<font color=\"#795da3\">Edge</font>])</tt>\n",
    "</p>\"\"\")\n",
    "  }\n",
    "}"
   ]
  },
  {
   "cell_type": "markdown",
   "metadata": {},
   "source": []
  },
  {
   "cell_type": "code",
   "execution_count": null,
   "metadata": {},
   "outputs": [],
   "source": [
    "d3ivan.graphs.help()"
   ]
  },
  {
   "cell_type": "markdown",
   "metadata": {},
   "source": []
  },
  {
   "cell_type": "code",
   "execution_count": null,
   "metadata": {},
   "outputs": [],
   "source": [
    "d3ivan.graphs.force(\n",
    "  height = 800,\n",
    "  width = 800,\n",
    "  clicks = sql(\"\"\"\n",
    "    SELECT \n",
    "      prev_title AS src,\n",
    "      curr_title AS dest,\n",
    "      n AS count FROM clicks\n",
    "    WHERE \n",
    "      curr_title IN ('Donald_Trump', 'Bernie_Sanders', 'Hillary_Rodham_Clinton', 'Ted_Cruz') AND\n",
    "      prev_id IS NOT NULL AND prev_title != 'Main_Page'\n",
    "    ORDER BY n DESC\n",
    "    LIMIT 20\"\"\").as[d3ivan.Edge])"
   ]
  },
  {
   "cell_type": "markdown",
   "metadata": {},
   "source": [
    "  \n",
    "\n",
    "What we have done above is essentially pass the output of an SQL query\n",
    "into a D3 visualizer via javascript. Don't worry about all the details.\n",
    "The main idea here is that SQL and interactive visualizations usually\n",
    "come together in a proper data exploratory tool and the above steps are\n",
    "minimal excursions into how to do it in a simple way from within a\n",
    "notebook environment like databricks. Python and R have many plotting\n",
    "libraries and we can always write the dataframe to parquet and load it\n",
    "into pySpark or SparkR to leverage those languages. But D3 is a nice\n",
    "solutions also especially if you want somethinf customized for your\n",
    "queries.\n",
    "\n",
    "### Convert raw data to parquet\n",
    "\n",
    "**Recall:**\n",
    "\n",
    "[Apache Parquet](https://parquet.apache.org/) is a [columnar\n",
    "storage](http://en.wikipedia.org/wiki/Column-oriented_DBMS) format\n",
    "available to any project in the Hadoop ecosystem, regardless of the\n",
    "choice of data processing framework, data model or programming language.\n",
    "It is a more efficient way to store data frames.\n",
    "\n",
    "-   To understand the ideas read [Dremel: Interactive Analysis of\n",
    "    Web-Scale Datasets, Sergey Melnik, Andrey Gubarev, Jing Jing Long,\n",
    "    Geoffrey Romer, Shiva Shivakumar, Matt Tolton and Theo\n",
    "    Vassilakis,Proc. of the 36th Int'l Conf on Very Large Data Bases\n",
    "    (2010), pp. 330-339](http://research.google.com/pubs/pub36632.html),\n",
    "    whose Abstract is as follows:\n",
    "    -   Dremel is a scalable, interactive ad-hoc query system for\n",
    "        analysis of read-only nested data. By combining multi-level\n",
    "        execution trees and columnar data layouts it is **capable of\n",
    "        running aggregation queries over trillion-row tables in\n",
    "        seconds**. The system **scales to thousands of CPUs and\n",
    "        petabytes of data, and has thousands of users at Google**. In\n",
    "        this paper, we describe the architecture and implementation of\n",
    "        Dremel, and explain how it complements MapReduce-based\n",
    "        computing. We present a novel columnar storage representation\n",
    "        for nested records and discuss experiments on few-thousand node\n",
    "        instances of the system."
   ]
  },
  {
   "cell_type": "code",
   "execution_count": null,
   "metadata": {},
   "outputs": [],
   "source": [
    "displayHTML(frameIt(\"https://parquet.apache.org/documentation/latest/\",350))"
   ]
  },
  {
   "cell_type": "markdown",
   "metadata": {},
   "source": []
  },
  {
   "cell_type": "code",
   "execution_count": null,
   "metadata": {},
   "outputs": [],
   "source": [
    "// Convert the DatFrame to a more efficent format to speed up our analysis\n",
    "clickstream.\n",
    "  write.\n",
    "  mode(SaveMode.Overwrite).\n",
    "  parquet(\"/datasets/wiki-clickstream\") "
   ]
  },
  {
   "cell_type": "markdown",
   "metadata": {},
   "source": [
    "  \n",
    "\n",
    "#### Load parquet file efficiently and quickly into a DataFrame\n",
    "\n",
    "Now we can simply load from this parquet file next time instead of\n",
    "creating the RDD from the text file (much slower).\n",
    "\n",
    "Also using parquet files to store DataFrames allows us to go between\n",
    "languages quickly in a a scalable manner."
   ]
  },
  {
   "cell_type": "code",
   "execution_count": null,
   "metadata": {},
   "outputs": [],
   "source": [
    "val clicks = sqlContext.read.parquet(\"/datasets/wiki-clickstream\")"
   ]
  },
  {
   "cell_type": "markdown",
   "metadata": {},
   "source": []
  },
  {
   "cell_type": "code",
   "execution_count": null,
   "metadata": {},
   "outputs": [],
   "source": [
    "clicks.printSchema"
   ]
  },
  {
   "cell_type": "markdown",
   "metadata": {},
   "source": []
  },
  {
   "cell_type": "code",
   "execution_count": null,
   "metadata": {},
   "outputs": [],
   "source": [
    "display(clicks)  // let's display this DataFrame"
   ]
  },
  {
   "cell_type": "markdown",
   "metadata": {},
   "source": [
    "  \n",
    "\n",
    "##### DataFrame in python"
   ]
  },
  {
   "cell_type": "code",
   "execution_count": null,
   "metadata": {},
   "outputs": [],
   "source": [
    "clicksPy = sqlContext.read.parquet(\"/datasets/wiki-clickstream\")"
   ]
  },
  {
   "cell_type": "markdown",
   "metadata": {},
   "source": []
  },
  {
   "cell_type": "code",
   "execution_count": null,
   "metadata": {},
   "outputs": [],
   "source": [
    "# in Python you need to put the object int its own line like this to get the type information\n",
    "clicksPy "
   ]
  },
  {
   "cell_type": "markdown",
   "metadata": {},
   "source": []
  },
  {
   "cell_type": "code",
   "execution_count": null,
   "metadata": {},
   "outputs": [],
   "source": [
    "clicksPy.show()"
   ]
  },
  {
   "cell_type": "markdown",
   "metadata": {},
   "source": [
    "  \n",
    "\n",
    "Now you can continue from the original python notebook tweeted by\n",
    "Michael.\n",
    "\n",
    "Recall from the beginning of this notebook that this python databricks\n",
    "notebook was used in the talk by Michael Armbrust at Spark Summit East\n",
    "February 2016 shared from\n",
    "<https://twitter.com/michaelarmbrust/status/699969850475737088>\n",
    "\n",
    "(watch now, if you haven't already!)\n",
    "\n",
    "[![Michael Armbrust Spark Summit\n",
    "East](http://img.youtube.com/vi/35Y-rqSMCCA/0.jpg)](https://www.youtube.com/watch?v=35Y-rqSMCCA)\n",
    "\n",
    "**You Try!**\n",
    "\n",
    "Try to laoad a DataFrame in R from the parquet file just as we did for\n",
    "python. Read the docs in databricks guide first:\n",
    "\n",
    "-   <https://docs.databricks.com/spark/latest/sparkr/overview.html>\n",
    "\n",
    "And see the `R` example in the Programming Guide:\n",
    "\n",
    "-   <https://spark.apache.org/docs/latest/sql-programming-guide.html#parquet-files>."
   ]
  },
  {
   "cell_type": "code",
   "execution_count": null,
   "metadata": {},
   "outputs": [],
   "source": [
    "library(SparkR)\n",
    "\n",
    "# just a quick test\n",
    "df <- createDataFrame(faithful)\n",
    "head(df)"
   ]
  },
  {
   "cell_type": "markdown",
   "metadata": {},
   "source": []
  },
  {
   "cell_type": "code",
   "execution_count": null,
   "metadata": {},
   "outputs": [],
   "source": [
    "# Read in the Parquet file created above. Parquet files are self-describing so the schema is preserved.\n",
    "# The result of loading a parquet file is also a DataFrame.\n",
    "clicksR <- read.df(\"/datasets/wiki-clickstream\", source = \"parquet\")\n",
    "clicksR # in R you need to put the object int its own line like this to get the type information"
   ]
  },
  {
   "cell_type": "markdown",
   "metadata": {},
   "source": []
  },
  {
   "cell_type": "code",
   "execution_count": null,
   "metadata": {},
   "outputs": [],
   "source": [
    "head(clicksR)"
   ]
  },
  {
   "cell_type": "markdown",
   "metadata": {},
   "source": []
  },
  {
   "cell_type": "code",
   "execution_count": null,
   "metadata": {},
   "outputs": [],
   "source": [
    "display(clicksR)"
   ]
  },
  {
   "cell_type": "markdown",
   "metadata": {},
   "source": []
  }
 ],
 "nbformat": 4,
 "nbformat_minor": 5,
 "metadata": {}
}
