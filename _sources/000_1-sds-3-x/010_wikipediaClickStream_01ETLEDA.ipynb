{
 "cells": [
  {
   "cell_type": "markdown",
   "metadata": {},
   "source": [
    "[ScaDaMaLe, Scalable Data Science and Distributed Machine Learning](https://lamastex.github.io/scalable-data-science/sds/3/x/)\n",
    "==============================================================================================================================\n",
    "\n",
    "Wiki Clickstream Analysis\n",
    "=========================\n",
    "\n",
    "\\*\\* Dataset: 3.2 billion requests collected during the month of\n",
    "February 2015 grouped by (src, dest) \\*\\*\n",
    "\n",
    "\\*\\* Source: https://datahub.io/dataset/wikipedia-clickstream/ \\*\\*\n",
    "\n",
    "![NY clickstream\n",
    "image](https://databricks-prod-cloudfront.s3.amazonaws.com/docs/images/ny.clickstream.png \"NY clickstream image\")\n",
    "\n",
    "*This notebook requires Spark 1.6+.*\n",
    "\n",
    "This notebook was originally a data analysis workflow developed with\n",
    "[Databricks Community\n",
    "Edition](https://databricks.com/blog/2016/02/17/introducing-databricks-community-edition-apache-spark-for-all.html),\n",
    "a free version of Databricks designed for learning [Apache\n",
    "Spark](https://spark.apache.org/).\n",
    "\n",
    "Here we elucidate the original python notebook ([also linked\n",
    "here](/#workspace/scalable-data-science/xtraResources/sparkSummitEast2016/Wikipedia%20Clickstream%20Data))\n",
    "used in the talk by Michael Armbrust at Spark Summit East February 2016\n",
    "shared from\n",
    "<https://twitter.com/michaelarmbrust/status/699969850475737088> (watch\n",
    "later)\n",
    "\n",
    "[![Michael Armbrust Spark Summit\n",
    "East](http://img.youtube.com/vi/35Y-rqSMCCA/0.jpg)](https://www.youtube.com/v/35Y-rqSMCCA)\n",
    "\n",
    "### Data set\n",
    "\n",
    "![Wikipedia Logo](http://sameerf-dbc-labs.s3-website-us-west-2.amazonaws.com/data/wikipedia/images/w_logo_for_labs.png)\n",
    "=======================================================================================================================\n",
    "\n",
    "The data we are exploring in this lab is the February 2015 English\n",
    "Wikipedia Clickstream data, and it is available here:\n",
    "http://datahub.io/dataset/wikipedia-clickstream/resource/be85cc68-d1e6-4134-804a-fd36b94dbb82.\n",
    "\n",
    "According to Wikimedia:\n",
    "\n",
    "> \"The data contains counts of (referer, resource) pairs extracted from\n",
    "> the request logs of English Wikipedia. When a client requests a\n",
    "> resource by following a link or performing a search, the URI of the\n",
    "> webpage that linked to the resource is included with the request in an\n",
    "> HTTP header called the \"referer\". This data captures 22 million\n",
    "> (referer, resource) pairs from a total of 3.2 billion requests\n",
    "> collected during the month of February 2015.\"\n",
    "\n",
    "The data is approximately 1.2GB and it is hosted in the following\n",
    "Databricks file:\n",
    "`/databricks-datasets/wikipedia-datasets/data-001/clickstream/raw-uncompressed`"
   ]
  },
  {
   "cell_type": "code",
   "execution_count": null,
   "metadata": {},
   "outputs": [],
   "source": [
    "display(dbutils.fs.ls(\"/databricks-datasets/wikipedia-datasets/\"))"
   ]
  },
  {
   "cell_type": "markdown",
   "metadata": {},
   "source": [
    "  \n",
    "\n",
    "[TABLE]\n",
    "\n",
    "  \n",
    "\n",
    "### Let us first understand this Wikimedia data set a bit more\n",
    "\n",
    "Let's read the datahub-hosted link\n",
    "<https://datahub.io/dataset/wikipedia-clickstream> in the embedding\n",
    "below. Also click the\n",
    "[blog](http://ewulczyn.github.io/Wikipedia_Clickstream_Getting_Started/)\n",
    "by Ellery Wulczyn, Data Scientist at The Wikimedia Foundation, to better\n",
    "understand how the data was generated (remember to Right-Click and use\n",
    "-&gt; and &lt;- if navigating within the embedded html frame below).\n",
    "\n",
    "  \n",
    "\n",
    "Run the next two cells for some housekeeping."
   ]
  },
  {
   "cell_type": "code",
   "execution_count": null,
   "metadata": {},
   "outputs": [],
   "source": [
    "if (org.apache.spark.BuildInfo.sparkBranch < \"1.6\") sys.error(\"Attach this notebook to a cluster running Spark 1.6+\")"
   ]
  },
  {
   "cell_type": "markdown",
   "metadata": {},
   "source": [
    "  \n",
    "\n",
    "  \n",
    "\n",
    "### Loading and Exploring the data"
   ]
  },
  {
   "cell_type": "code",
   "execution_count": null,
   "metadata": {},
   "outputs": [],
   "source": [
    "val data = sc.textFile(\"dbfs:///databricks-datasets/wikipedia-datasets/data-001/clickstream/raw-uncompressed\")"
   ]
  },
  {
   "cell_type": "markdown",
   "metadata": {},
   "source": [
    "  \n",
    "\n",
    ">     data: org.apache.spark.rdd.RDD[String] = dbfs:///databricks-datasets/wikipedia-datasets/data-001/clickstream/raw-uncompressed MapPartitionsRDD[605] at textFile at command-1267216879634612:1\n",
    "\n",
    "  \n",
    "\n",
    "##### Looking at the first few lines of the data"
   ]
  },
  {
   "cell_type": "code",
   "execution_count": null,
   "metadata": {},
   "outputs": [],
   "source": [
    "data.take(5).foreach(println) "
   ]
  },
  {
   "cell_type": "markdown",
   "metadata": {},
   "source": [
    "  \n",
    "\n",
    ">     prev_id\tcurr_id\tn\tprev_title\tcurr_title\ttype\n",
    ">     \t3632887\t121\tother-google\t!!\tother\n",
    ">     \t3632887\t93\tother-wikipedia\t!!\tother\n",
    ">     \t3632887\t46\tother-empty\t!!\tother\n",
    ">     \t3632887\t10\tother-other\t!!\tother"
   ]
  },
  {
   "cell_type": "code",
   "execution_count": null,
   "metadata": {},
   "outputs": [],
   "source": [
    "data.take(2)"
   ]
  },
  {
   "cell_type": "markdown",
   "metadata": {},
   "source": [
    "  \n",
    "\n",
    ">     res3: Array[String] = Array(prev_id\tcurr_id\tn\tprev_title\tcurr_title\ttype, \"\t3632887\t121\tother-google\t!!\tother\")\n",
    "\n",
    "  \n",
    "\n",
    "-   The first line looks like a header\n",
    "-   The second line (separated from the first by \",\") contains data\n",
    "    organized according to the header, i.e., `prev_id` = 3632887,\n",
    "    `curr_id` = 121\", and so on.\n",
    "\n",
    "Actually, here is the meaning of each column:\n",
    "\n",
    "-   `prev_id`: if the referer does not correspond to an article in the\n",
    "    main namespace of English Wikipedia, this value will be empty.\n",
    "    Otherwise, it contains the unique MediaWiki page ID of the article\n",
    "    corresponding to the referer i.e. the previous article the client\n",
    "    was on\n",
    "\n",
    "-   `curr_id`: the MediaWiki unique page ID of the article the client\n",
    "    requested\n",
    "\n",
    "-   `prev_title`: the result of mapping the referer URL to the fixed set\n",
    "    of values described below\n",
    "\n",
    "-   `curr_title`: the title of the article the client requested\n",
    "\n",
    "-   `n`: the number of occurrences of the (referer, resource) pair\n",
    "\n",
    "-   `type`\n",
    "\n",
    "    -   \"link\" if the referer and request are both articles and the\n",
    "        referer links to the request\n",
    "    -   \"redlink\" if the referer is an article and links to the request,\n",
    "        but the request is not in the production enwiki.page table\n",
    "    -   \"other\" if the *referer* and request are both articles but the\n",
    "        referer does not link to the request. This can happen when\n",
    "        clients search or spoof their refer\n",
    "\n",
    "Referers were mapped to a fixed set of values corresponding to internal\n",
    "traffic or external traffic from one of the top 5 global traffic sources\n",
    "to English Wikipedia, based on this scheme:\n",
    "\n",
    "> -   an article in the main namespace of English Wikipedia -&gt; the\n",
    ">     article title\n",
    "> -   any Wikipedia page that is not in the main namespace of English\n",
    ">     Wikipedia -&gt; `other-wikipedia`\n",
    "> -   an empty referer -&gt; `other-empty`\n",
    "> -   a page from any other Wikimedia project -&gt; `other-internal`\n",
    "> -   Google -&gt; `other-google`\n",
    "> -   Yahoo -&gt; `other-yahoo`\n",
    "> -   Bing -&gt; `other-bing`\n",
    "> -   Facebook -&gt; `other-facebook`\n",
    "> -   Twitter -&gt; `other-twitter`\n",
    "> -   anything else -&gt; `other-other`\n",
    "\n",
    "In the second line of the file above, we can see there were 121 clicks\n",
    "from Google to the Wikipedia page on \"!!\" (double exclamation marks).\n",
    "People search for everything!\n",
    "\n",
    "-   prev\\_id = *(nothing)*\n",
    "-   curr\\_id = 3632887 *--&gt; (Wikipedia page ID)*\n",
    "-   n = 121 *(People clicked from Google to this page 121 times in this\n",
    "    month.)*\n",
    "-   prev\\_title = other-google *(This data record is for referals from\n",
    "    Google.)*\n",
    "-   curr\\_title = !! *(This Wikipedia page is about a double exclamation\n",
    "    mark.)*\n",
    "-   type = other\n",
    "\n",
    "### Create a DataFrame from this CSV\n",
    "\n",
    "-   From the next Spark release - 2.0, CSV as a datasource will be part\n",
    "    of Spark's standard release. But, we are using Spark 1.6"
   ]
  },
  {
   "cell_type": "code",
   "execution_count": null,
   "metadata": {},
   "outputs": [],
   "source": [
    "// Load the raw dataset stored as a CSV file\n",
    "val clickstream = sqlContext\n",
    "    .read\n",
    "    .format(\"com.databricks.spark.csv\")\n",
    "    .options(Map(\"header\" -> \"true\", \"delimiter\" -> \"\\t\", \"mode\" -> \"PERMISSIVE\", \"inferSchema\" -> \"true\"))\n",
    "    .load(\"dbfs:///databricks-datasets/wikipedia-datasets/data-001/clickstream/raw-uncompressed\")\n",
    "  "
   ]
  },
  {
   "cell_type": "markdown",
   "metadata": {},
   "source": [
    "  \n",
    "\n",
    ">     clickstream: org.apache.spark.sql.DataFrame = [prev_id: int, curr_id: int ... 4 more fields]\n",
    "\n",
    "  \n",
    "\n",
    "##### Print the schema"
   ]
  },
  {
   "cell_type": "code",
   "execution_count": null,
   "metadata": {},
   "outputs": [],
   "source": [
    "clickstream.printSchema"
   ]
  },
  {
   "cell_type": "markdown",
   "metadata": {},
   "source": [
    "  \n",
    "\n",
    ">     root\n",
    ">      |-- prev_id: integer (nullable = true)\n",
    ">      |-- curr_id: integer (nullable = true)\n",
    ">      |-- n: integer (nullable = true)\n",
    ">      |-- prev_title: string (nullable = true)\n",
    ">      |-- curr_title: string (nullable = true)\n",
    ">      |-- type: string (nullable = true)\n",
    "\n",
    "  \n",
    "\n",
    "#### Display some sample data"
   ]
  },
  {
   "cell_type": "code",
   "execution_count": null,
   "metadata": {},
   "outputs": [],
   "source": [
    "display(clickstream)"
   ]
  },
  {
   "cell_type": "markdown",
   "metadata": {},
   "source": [
    "  \n",
    "\n",
    "[TABLE]\n",
    "\n",
    "Truncated to 30 rows\n",
    "\n",
    "  \n",
    "\n",
    "Display is a utility provided by Databricks. If you are programming\n",
    "directly in Spark, use the show(numRows: Int) function of DataFrame"
   ]
  },
  {
   "cell_type": "code",
   "execution_count": null,
   "metadata": {},
   "outputs": [],
   "source": [
    "clickstream.show(5)"
   ]
  },
  {
   "cell_type": "markdown",
   "metadata": {},
   "source": [
    "  \n",
    "\n",
    ">     +-------+-------+---+------------------+----------+-----+\n",
    ">     |prev_id|curr_id|  n|        prev_title|curr_title| type|\n",
    ">     +-------+-------+---+------------------+----------+-----+\n",
    ">     |   null|3632887|121|      other-google|        !!|other|\n",
    ">     |   null|3632887| 93|   other-wikipedia|        !!|other|\n",
    ">     |   null|3632887| 46|       other-empty|        !!|other|\n",
    ">     |   null|3632887| 10|       other-other|        !!|other|\n",
    ">     |  64486|3632887| 11|!_(disambiguation)|        !!|other|\n",
    ">     +-------+-------+---+------------------+----------+-----+\n",
    ">     only showing top 5 rows\n",
    "\n",
    "  \n",
    "\n",
    "### Reading from disk vs memory\n",
    "\n",
    "The 1.2 GB Clickstream file is currently on S3, which means each time\n",
    "you scan through it, your Spark cluster has to read the 1.2 GB of data\n",
    "remotely over the network.\n",
    "\n",
    "Call the `count()` action to check how many rows are in the DataFrame\n",
    "and to see how long it takes to read the DataFrame from S3."
   ]
  },
  {
   "cell_type": "code",
   "execution_count": null,
   "metadata": {},
   "outputs": [],
   "source": [
    "clickstream.cache().count()"
   ]
  },
  {
   "cell_type": "markdown",
   "metadata": {},
   "source": [
    "  \n",
    "\n",
    ">     res8: Long = 22509897\n",
    "\n",
    "  \n",
    "\n",
    "-   It took about several minutes to read the 1.2 GB file into your\n",
    "    Spark cluster. The file has 22.5 million rows/lines.\n",
    "-   Although we have called cache, remember that it is evaluated\n",
    "    (cached) only when an action(count) is called\n",
    "\n",
    "Now call count again to see how much faster it is to read from memory"
   ]
  },
  {
   "cell_type": "code",
   "execution_count": null,
   "metadata": {},
   "outputs": [],
   "source": [
    "clickstream.count()"
   ]
  },
  {
   "cell_type": "markdown",
   "metadata": {},
   "source": [
    "  \n",
    "\n",
    ">     res9: Long = 22509897\n",
    "\n",
    "  \n",
    "\n",
    "-   Orders of magnitude faster!\n",
    "-   If you are going to be using the same data source multiple times, it\n",
    "    is better to cache it in memory\n",
    "\n",
    "### What are the top 10 articles requested?\n",
    "\n",
    "To do this we also need to order by the sum of column `n`, in descending\n",
    "order."
   ]
  },
  {
   "cell_type": "code",
   "execution_count": null,
   "metadata": {},
   "outputs": [],
   "source": [
    "//Type in your answer here...\n",
    "display(clickstream\n",
    "  .select(clickstream(\"curr_title\"), clickstream(\"n\"))\n",
    "  .groupBy(\"curr_title\")\n",
    "  .sum()\n",
    "  .orderBy($\"sum(n)\".desc)\n",
    "  .limit(10))"
   ]
  },
  {
   "cell_type": "markdown",
   "metadata": {},
   "source": [
    "  \n",
    "\n",
    "[TABLE]\n",
    "\n",
    "  \n",
    "\n",
    "### Who sent the most traffic to Wikipedia in Feb 2015?\n",
    "\n",
    "In other words, who were the top referers to Wikipedia?"
   ]
  },
  {
   "cell_type": "code",
   "execution_count": null,
   "metadata": {},
   "outputs": [],
   "source": [
    "display(clickstream\n",
    "  .select(clickstream(\"prev_title\"), clickstream(\"n\"))\n",
    "  .groupBy(\"prev_title\")\n",
    "  .sum()\n",
    "  .orderBy($\"sum(n)\".desc)\n",
    "  .limit(10))"
   ]
  },
  {
   "cell_type": "markdown",
   "metadata": {},
   "source": [
    "  \n",
    "\n",
    "[TABLE]\n",
    "\n",
    "  \n",
    "\n",
    "As expected, the top referer by a large margin is Google. Next comes\n",
    "refererless traffic (usually clients using HTTPS). The third largest\n",
    "sender of traffic to English Wikipedia are Wikipedia pages that are not\n",
    "in the main namespace (ns = 0) of English Wikipedia. Learn about the\n",
    "Wikipedia namespaces here:\n",
    "https://en.wikipedia.org/wiki/Wikipedia:Project\\_namespace\n",
    "\n",
    "Also, note that Twitter sends 10x more requests to Wikipedia than\n",
    "Facebook.\n",
    "\n",
    "### What were the top 5 trending articles people from Twitter were looking up in Wikipedia?"
   ]
  },
  {
   "cell_type": "code",
   "execution_count": null,
   "metadata": {},
   "outputs": [],
   "source": [
    "//Type in your answer here...\n",
    "display(clickstream\n",
    "  .select(clickstream(\"curr_title\"), clickstream(\"prev_title\"), clickstream(\"n\"))\n",
    "  .filter(\"prev_title = 'other-twitter'\")\n",
    "  .groupBy(\"curr_title\")\n",
    "  .sum()\n",
    "  .orderBy($\"sum(n)\".desc)\n",
    "  .limit(5))"
   ]
  },
  {
   "cell_type": "markdown",
   "metadata": {},
   "source": [
    "  \n",
    "\n",
    "[TABLE]\n",
    "\n",
    "  \n",
    "\n",
    "#### What percentage of page visits in Wikipedia are from other pages in Wikipedia itself?"
   ]
  },
  {
   "cell_type": "code",
   "execution_count": null,
   "metadata": {},
   "outputs": [],
   "source": [
    "val allClicks = clickstream.selectExpr(\"sum(n)\").first.getLong(0)\n",
    "val referals = clickstream.\n",
    "                filter(clickstream(\"prev_id\").isNotNull).\n",
    "                selectExpr(\"sum(n)\").first.getLong(0)\n",
    "(referals * 100.0) / allClicks"
   ]
  },
  {
   "cell_type": "markdown",
   "metadata": {},
   "source": [
    "  \n",
    "\n",
    ">     allClicks: Long = 3283067885\n",
    ">     referals: Long = 1095462001\n",
    ">     res15: Double = 33.36702253416853\n",
    "\n",
    "  \n",
    "\n",
    "#### Register the DataFrame to perform more complex queries"
   ]
  },
  {
   "cell_type": "code",
   "execution_count": null,
   "metadata": {},
   "outputs": [],
   "source": [
    "clickstream.createOrReplaceTempView(\"clicks\")"
   ]
  },
  {
   "cell_type": "markdown",
   "metadata": {},
   "source": [
    "  \n",
    "\n",
    "  \n",
    "\n",
    "#### Which Wikipedia pages have the most referrals to the Donald Trump page?"
   ]
  },
  {
   "cell_type": "code",
   "execution_count": null,
   "metadata": {},
   "outputs": [],
   "source": [
    "SELECT *\n",
    "FROM clicks\n",
    "WHERE \n",
    "  curr_title = 'Donald_Trump' AND\n",
    "  prev_id IS NOT NULL AND prev_title != 'Main_Page'\n",
    "ORDER BY n DESC\n",
    "LIMIT 20"
   ]
  },
  {
   "cell_type": "markdown",
   "metadata": {},
   "source": [
    "  \n",
    "\n",
    "[TABLE]\n",
    "\n",
    "  \n",
    "\n",
    "#### YouTry: Top referrers to other 2016 US presidential candidate pages\n",
    "\n",
    "`'Donald_Trump', 'Bernie_Sanders', 'Hillary_Rodham_Clinton', 'Ted_Cruz'`"
   ]
  },
  {
   "cell_type": "code",
   "execution_count": null,
   "metadata": {},
   "outputs": [],
   "source": [
    "-- YouTry \n",
    "---\n",
    "-- fill in the right sql query here"
   ]
  },
  {
   "cell_type": "markdown",
   "metadata": {},
   "source": [
    "  \n",
    "\n",
    "#### Load a visualization library\n",
    "\n",
    "This code is copied after doing a live google search (by Michael\n",
    "Armbrust at Spark Summit East February 2016 shared from\n",
    "<https://twitter.com/michaelarmbrust/status/699969850475737088>). The\n",
    "`d3ivan` package is an updated version of the original package used by\n",
    "Michael Armbrust as it needed some TLC for Spark 2.2 on newer databricks\n",
    "notebook. These changes were kindly made by Ivan Sadikov from Middle\n",
    "Earth.\n",
    "\n",
    "You need to hit the Play Button in next cell and 'Run Cell' exactly\n",
    "once.\n",
    "\n",
    ">     Warning: classes defined within packages cannot be redefined without a cluster restart.\n",
    ">     Compilation successful."
   ]
  },
  {
   "cell_type": "code",
   "execution_count": null,
   "metadata": {},
   "outputs": [],
   "source": [
    "d3ivan.graphs.help()"
   ]
  },
  {
   "cell_type": "markdown",
   "metadata": {},
   "source": []
  },
  {
   "cell_type": "code",
   "execution_count": null,
   "metadata": {},
   "outputs": [],
   "source": [
    "d3ivan.graphs.force(\n",
    "  height = 800,\n",
    "  width = 800,\n",
    "  clicks = sql(\"\"\"\n",
    "    SELECT \n",
    "      prev_title AS src,\n",
    "      curr_title AS dest,\n",
    "      n AS count FROM clicks\n",
    "    WHERE \n",
    "      curr_title IN ('Donald_Trump', 'Bernie_Sanders', 'Hillary_Rodham_Clinton', 'Ted_Cruz') AND\n",
    "      prev_id IS NOT NULL AND prev_title != 'Main_Page'\n",
    "    ORDER BY n DESC\n",
    "    LIMIT 20\"\"\").as[d3ivan.Edge])"
   ]
  },
  {
   "cell_type": "markdown",
   "metadata": {},
   "source": [
    "  \n",
    "\n",
    "  \n",
    "\n",
    "What we have done above is essentially pass the output of an SQL query\n",
    "into a D3 visualizer via javascript. Don't worry about all the details.\n",
    "The main idea here is that SQL and interactive visualizations usually\n",
    "come together in a proper data exploratory tool and the above steps are\n",
    "minimal excursions into how to do it in a simple way from within a\n",
    "notebook environment like databricks. Python and R have many plotting\n",
    "libraries and we can always write the dataframe to parquet and load it\n",
    "into pySpark or SparkR to leverage those languages. But D3 is a nice\n",
    "solutions also especially if you want somethinf customized for your\n",
    "queries.\n",
    "\n",
    "### Convert raw data to parquet\n",
    "\n",
    "**Recall:**\n",
    "\n",
    "[Apache Parquet](https://parquet.apache.org/) is a [columnar\n",
    "storage](http://en.wikipedia.org/wiki/Column-oriented_DBMS) format\n",
    "available to any project in the Hadoop ecosystem, regardless of the\n",
    "choice of data processing framework, data model or programming language.\n",
    "It is a more efficient way to store data frames.\n",
    "\n",
    "-   To understand the ideas read [Dremel: Interactive Analysis of\n",
    "    Web-Scale Datasets, Sergey Melnik, Andrey Gubarev, Jing Jing Long,\n",
    "    Geoffrey Romer, Shiva Shivakumar, Matt Tolton and Theo\n",
    "    Vassilakis,Proc. of the 36th Int'l Conf on Very Large Data Bases\n",
    "    (2010), pp. 330-339](http://research.google.com/pubs/pub36632.html),\n",
    "    whose Abstract is as follows:\n",
    "    -   Dremel is a scalable, interactive ad-hoc query system for\n",
    "        analysis of read-only nested data. By combining multi-level\n",
    "        execution trees and columnar data layouts it is **capable of\n",
    "        running aggregation queries over trillion-row tables in\n",
    "        seconds**. The system **scales to thousands of CPUs and\n",
    "        petabytes of data, and has thousands of users at Google**. In\n",
    "        this paper, we describe the architecture and implementation of\n",
    "        Dremel, and explain how it complements MapReduce-based\n",
    "        computing. We present a novel columnar storage representation\n",
    "        for nested records and discuss experiments on few-thousand node\n",
    "        instances of the system."
   ]
  },
  {
   "cell_type": "code",
   "execution_count": null,
   "metadata": {},
   "outputs": [],
   "source": [
    "// Convert the DatFrame to a more efficent format to speed up our analysis\n",
    "clickstream.\n",
    "  write.\n",
    "  mode(SaveMode.Overwrite).\n",
    "  parquet(\"/datasets/wiki-clickstream\") "
   ]
  },
  {
   "cell_type": "markdown",
   "metadata": {},
   "source": [
    "  \n",
    "\n",
    "  \n",
    "\n",
    "#### Load parquet file efficiently and quickly into a DataFrame\n",
    "\n",
    "Now we can simply load from this parquet file next time instead of\n",
    "creating the RDD from the text file (much slower).\n",
    "\n",
    "Also using parquet files to store DataFrames allows us to go between\n",
    "languages quickly in a a scalable manner."
   ]
  },
  {
   "cell_type": "code",
   "execution_count": null,
   "metadata": {},
   "outputs": [],
   "source": [
    "val clicks = sqlContext.read.parquet(\"/datasets/wiki-clickstream\")"
   ]
  },
  {
   "cell_type": "markdown",
   "metadata": {},
   "source": [
    "  \n",
    "\n",
    ">     clicks: org.apache.spark.sql.DataFrame = [prev_id: int, curr_id: int ... 4 more fields]"
   ]
  },
  {
   "cell_type": "code",
   "execution_count": null,
   "metadata": {},
   "outputs": [],
   "source": [
    "clicks.printSchema"
   ]
  },
  {
   "cell_type": "markdown",
   "metadata": {},
   "source": [
    "  \n",
    "\n",
    ">     root\n",
    ">      |-- prev_id: integer (nullable = true)\n",
    ">      |-- curr_id: integer (nullable = true)\n",
    ">      |-- n: integer (nullable = true)\n",
    ">      |-- prev_title: string (nullable = true)\n",
    ">      |-- curr_title: string (nullable = true)\n",
    ">      |-- type: string (nullable = true)"
   ]
  },
  {
   "cell_type": "code",
   "execution_count": null,
   "metadata": {},
   "outputs": [],
   "source": [
    "display(clicks)  // let's display this DataFrame"
   ]
  },
  {
   "cell_type": "markdown",
   "metadata": {},
   "source": [
    "  \n",
    "\n",
    "[TABLE]\n",
    "\n",
    "Truncated to 30 rows\n",
    "\n",
    "  \n",
    "\n",
    "##### DataFrame in python"
   ]
  },
  {
   "cell_type": "code",
   "execution_count": null,
   "metadata": {},
   "outputs": [],
   "source": [
    "clicksPy = sqlContext.read.parquet(\"/datasets/wiki-clickstream\")"
   ]
  },
  {
   "cell_type": "markdown",
   "metadata": {},
   "source": []
  },
  {
   "cell_type": "code",
   "execution_count": null,
   "metadata": {},
   "outputs": [],
   "source": [
    "# in Python you need to put the object int its own line like this to get the type information\n",
    "clicksPy "
   ]
  },
  {
   "cell_type": "markdown",
   "metadata": {},
   "source": [
    "  \n",
    "\n",
    ">     Out[2]: DataFrame[prev_id: int, curr_id: int, n: int, prev_title: string, curr_title: string, type: string]"
   ]
  },
  {
   "cell_type": "code",
   "execution_count": null,
   "metadata": {},
   "outputs": [],
   "source": [
    "clicksPy.show()"
   ]
  },
  {
   "cell_type": "markdown",
   "metadata": {},
   "source": [
    "  \n",
    "\n",
    ">     +--------+-------+---+--------------------+----------+-----+\n",
    ">     | prev_id|curr_id|  n|          prev_title|curr_title| type|\n",
    ">     +--------+-------+---+--------------------+----------+-----+\n",
    ">     |  334751|  19271| 24|            Cambodia|  Mongolia| link|\n",
    ">     |     737|  19271| 24|         Afghanistan|  Mongolia|other|\n",
    ">     |18603746|  19271| 13|             Beijing|  Mongolia| link|\n",
    ">     | 7770444|  19271| 10|Agriculture_in_Mo...|  Mongolia| link|\n",
    ">     | 7712057|  19271| 12|Christianity_in_M...|  Mongolia| link|\n",
    ">     |16489766|  19271| 11| Cities_of_East_Asia|  Mongolia| link|\n",
    ">     |31632993|  19271| 10|Assassin's_Creed:...|  Mongolia| link|\n",
    ">     | 2421391|  19271| 32|              Bhutan|  Mongolia| link|\n",
    ">     |17961792|  19271| 66|China–Mongolia_re...|  Mongolia| link|\n",
    ">     | 1105940|  19271| 26|            Borjigin|  Mongolia| link|\n",
    ">     |   56896|  19271| 33|     Altai_Mountains|  Mongolia| link|\n",
    ">     | 5037822|  19271| 11|Economy_of_the_Mo...|  Mongolia| link|\n",
    ">     |   78449|  19271| 34|  Developing_country|  Mongolia| link|\n",
    ">     |19605700|  19271|416|           East_Asia|  Mongolia| link|\n",
    ">     | 5042916|  19271| 11|              Canada|  Mongolia|other|\n",
    ">     |    3383|  19271| 13|              Brazil|  Mongolia|other|\n",
    ">     |  572720|  19271| 11|Biligtü_Khan_Ayus...|  Mongolia| link|\n",
    ">     | 1496582|  19271| 40|        Asia-Pacific|  Mongolia| link|\n",
    ">     |    6742|  19271| 52|        Central_Asia|  Mongolia| link|\n",
    ">     | 2067400|  19271| 18|Democratic_Party_...|  Mongolia| link|\n",
    ">     +--------+-------+---+--------------------+----------+-----+\n",
    ">     only showing top 20 rows\n",
    "\n",
    "  \n",
    "\n",
    "Now you can continue from the original python notebook tweeted by\n",
    "Michael.\n",
    "\n",
    "Recall from the beginning of this notebook that this python databricks\n",
    "notebook was used in the talk by Michael Armbrust at Spark Summit East\n",
    "February 2016 shared from\n",
    "<https://twitter.com/michaelarmbrust/status/699969850475737088>\n",
    "\n",
    "(watch now, if you haven't already!)\n",
    "\n",
    "[![Michael Armbrust Spark Summit\n",
    "East](http://img.youtube.com/vi/35Y-rqSMCCA/0.jpg)](https://www.youtube.com/watch?v=35Y-rqSMCCA)\n",
    "\n",
    "**You Try!**\n",
    "\n",
    "Try to laoad a DataFrame in R from the parquet file just as we did for\n",
    "python. Read the docs in databricks guide first:\n",
    "\n",
    "-   <https://docs.databricks.com/spark/latest/sparkr/overview.html>\n",
    "\n",
    "And see the `R` example in the Programming Guide:\n",
    "\n",
    "-   <https://spark.apache.org/docs/latest/sql-programming-guide.html#parquet-files>."
   ]
  },
  {
   "cell_type": "code",
   "execution_count": null,
   "metadata": {},
   "outputs": [],
   "source": [
    "library(SparkR)\n",
    "\n",
    "# just a quick test\n",
    "df <- createDataFrame(faithful)\n",
    "head(df)\n"
   ]
  },
  {
   "cell_type": "markdown",
   "metadata": {},
   "source": []
  },
  {
   "cell_type": "code",
   "execution_count": null,
   "metadata": {},
   "outputs": [],
   "source": [
    "# Read in the Parquet file created above. Parquet files are self-describing so the schema is preserved.\n",
    "# The result of loading a parquet file is also a DataFrame.\n",
    "clicksR <- read.df(\"/datasets/wiki-clickstream\", source = \"parquet\")\n",
    "clicksR # in R you need to put the object int its own line like this to get the type information"
   ]
  },
  {
   "cell_type": "markdown",
   "metadata": {},
   "source": []
  },
  {
   "cell_type": "code",
   "execution_count": null,
   "metadata": {},
   "outputs": [],
   "source": [
    "head(clicksR)"
   ]
  },
  {
   "cell_type": "markdown",
   "metadata": {},
   "source": []
  },
  {
   "cell_type": "code",
   "execution_count": null,
   "metadata": {},
   "outputs": [],
   "source": [
    "display(clicksR)"
   ]
  },
  {
   "cell_type": "markdown",
   "metadata": {},
   "source": [
    "  \n",
    "\n",
    "[TABLE]\n",
    "\n",
    "Truncated to 30 rows"
   ]
  }
 ],
 "nbformat": 4,
 "nbformat_minor": 5,
 "metadata": {}
}
