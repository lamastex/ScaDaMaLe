{
 "cells": [
  {
   "cell_type": "markdown",
   "metadata": {},
   "source": [
    "ScaDaMaLe Course\n",
    "[site](https://lamastex.github.io/scalable-data-science/sds/3/x/) and\n",
    "[book](https://lamastex.github.io/ScaDaMaLe/index.html)\n",
    "\n",
    "### Power Plant ML Pipeline Application - DataFrame Part\n",
    "\n",
    "This is the Spark SQL parts of an end-to-end example of using a number\n",
    "of different machine learning algorithms to solve a supervised\n",
    "regression problem.\n",
    "\n",
    "This is a break-down of *Power Plant ML Pipeline Application* from\n",
    "databricks.\n",
    "\n",
    "**This will be a recurring example in the sequel**\n",
    "\n",
    "##### Table of Contents\n",
    "\n",
    "-   **Step 1: Business Understanding**\n",
    "-   **Step 2: Load Your Data**\n",
    "-   **Step 3: Explore Your Data**\n",
    "-   **Step 4: Visualize Your Data**\n",
    "-   *Step 5: Data Preparation*\n",
    "-   *Step 6: Data Modeling*\n",
    "-   *Step 7: Tuning and Evaluation*\n",
    "-   *Step 8: Deployment*\n",
    "\n",
    "*We are trying to predict power output given a set of readings from\n",
    "various sensors in a gas-fired power generation plant. Power generation\n",
    "is a complex process, and understanding and predicting power output is\n",
    "an important element in managing a plant and its connection to the power\n",
    "grid.*\n",
    "\n",
    "-   Given this business problem, we need to translate it to a Machine\n",
    "    Learning task (actually a *Statistical* Machine Learning task).  \n",
    "-   The ML task here is *regression* since the label (or target) we will\n",
    "    be trying to predict takes a *continuous numeric* value\n",
    "    -   Note: if the labels took values from a finite discrete set, such\n",
    "        as, `Spam`/`Not-Spam` or `Good`/`Bad`/`Ugly`, then the ML task\n",
    "        would be *classification*.\n",
    "\n",
    "**Today, we will only cover Steps 1, 2, 3 and 4 above**. You need\n",
    "introductions to linear algebra, stochastic gradient descent and\n",
    "decision trees before we can accomplish the **applied ML task** with\n",
    "some intuitive understanding. If you can't wait for ML then **check out\n",
    "[Spark MLLib Programming\n",
    "Guide](https://spark.apache.org/docs/latest/mllib-guide.html) for\n",
    "comming attractions!**\n",
    "\n",
    "The example data is provided by UCI at [UCI Machine Learning Repository\n",
    "Combined Cycle Power Plant Data\n",
    "Set](https://archive.ics.uci.edu/ml/datasets/Combined+Cycle+Power+Plant)\n",
    "\n",
    "You can read the background on the UCI page, but in summary:\n",
    "\n",
    "-   we have collected a number of readings from sensors at a Gas Fired\n",
    "    Power Plant (also called a Peaker Plant) and\n",
    "-   want to use those sensor readings to predict how much power the\n",
    "    plant will generate in a couple weeks from now.\n",
    "-   Again, today we will just focus on Steps 1-4 above that pertain to\n",
    "    DataFrames.\n",
    "\n",
    "More information about Peaker or Peaking Power Plants can be found on\n",
    "Wikipedia\n",
    "[https://en.wikipedia.org/wiki/Peaking*power*plant](https://en.wikipedia.org/wiki/Peaking_power_plant)."
   ]
  },
  {
   "cell_type": "code",
   "execution_count": null,
   "metadata": {},
   "outputs": [],
   "source": [
    "//This allows easy embedding of publicly available information into any other notebook\n",
    "//when viewing in git-book just ignore this block - you may have to manually chase the URL in frameIt(\"URL\").\n",
    "//Example usage:\n",
    "// displayHTML(frameIt(\"https://en.wikipedia.org/wiki/Latent_Dirichlet_allocation#Topics_in_LDA\",250))\n",
    "def frameIt( u:String, h:Int ) : String = {\n",
    "      \"\"\"<iframe \n",
    " src=\"\"\"\"+ u+\"\"\"\"\n",
    " width=\"95%\" height=\"\"\"\" + h + \"\"\"\"\n",
    " sandbox>\n",
    "  <p>\n",
    "    <a href=\"http://spark.apache.org/docs/latest/index.html\">\n",
    "      Fallback link for browsers that, unlikely, don't support frames\n",
    "    </a>\n",
    "  </p>\n",
    "</iframe>\"\"\"\n",
    "   }\n",
    "displayHTML(frameIt(\"https://en.wikipedia.org/wiki/Peaking_power_plant\",300))"
   ]
  },
  {
   "cell_type": "markdown",
   "metadata": {},
   "source": []
  },
  {
   "cell_type": "code",
   "execution_count": null,
   "metadata": {},
   "outputs": [],
   "source": [
    "displayHTML(frameIt(\"https://archive.ics.uci.edu/ml/datasets/Combined+Cycle+Power+Plant\",500))"
   ]
  },
  {
   "cell_type": "markdown",
   "metadata": {},
   "source": []
  },
  {
   "cell_type": "code",
   "execution_count": null,
   "metadata": {},
   "outputs": [],
   "source": [
    "sc.version.replace(\".\", \"\").toInt"
   ]
  },
  {
   "cell_type": "markdown",
   "metadata": {},
   "source": []
  },
  {
   "cell_type": "code",
   "execution_count": null,
   "metadata": {},
   "outputs": [],
   "source": [
    "// a good habit to ensure the code is being run on the appropriate version of Spark - we are using Spark 2.2 actually if we use SparkSession object spark down the road...\n",
    "require(sc.version.replace(\".\", \"\").toInt >= 140, \"Spark 1.4.0+ is required to run this notebook. Please attach it to a Spark 1.4.0+ cluster.\")"
   ]
  },
  {
   "cell_type": "markdown",
   "metadata": {},
   "source": [
    "  \n",
    "\n",
    "Step 1: Business Understanding\n",
    "------------------------------\n",
    "\n",
    "The first step in any machine learning task is to understand the\n",
    "business need.\n",
    "\n",
    "As described in the overview we are trying to predict power output given\n",
    "a set of readings from various sensors in a gas-fired power generation\n",
    "plant.\n",
    "\n",
    "The problem is a regression problem since the label (or target) we are\n",
    "trying to predict is numeric\n",
    "\n",
    "Step 2: Load Your Data\n",
    "----------------------\n",
    "\n",
    "Now that we understand what we are trying to do, we need to load our\n",
    "data and describe it, explore it and verify it.\n",
    "\n",
    "Data was downloaded already as these five Tab-separated-variable or tsv\n",
    "files."
   ]
  },
  {
   "cell_type": "code",
   "execution_count": null,
   "metadata": {},
   "outputs": [],
   "source": [
    "display(dbutils.fs.ls(\"/databricks-datasets/power-plant/data\")) // Ctrl+Enter"
   ]
  },
  {
   "cell_type": "markdown",
   "metadata": {},
   "source": [
    "  \n",
    "\n",
    "Now let us load the data from the Tab-separated-variable or tsv text\n",
    "file into an `RDD[String]` using the familiar `textFile` method."
   ]
  },
  {
   "cell_type": "code",
   "execution_count": null,
   "metadata": {},
   "outputs": [],
   "source": [
    "val powerPlantRDD = sc.textFile(\"/databricks-datasets/power-plant/data/Sheet1.tsv\") // Ctrl+Enter"
   ]
  },
  {
   "cell_type": "markdown",
   "metadata": {},
   "source": []
  },
  {
   "cell_type": "code",
   "execution_count": null,
   "metadata": {},
   "outputs": [],
   "source": [
    "powerPlantRDD.take(5).foreach(println) // Ctrl+Enter to print first 5 lines"
   ]
  },
  {
   "cell_type": "markdown",
   "metadata": {},
   "source": []
  },
  {
   "cell_type": "code",
   "execution_count": null,
   "metadata": {},
   "outputs": [],
   "source": [
    "// let us make sure we are using Spark version greater than 2.2 - we need a version closer to 2.0 if we want to use SparkSession and SQLContext \n",
    "require(sc.version.replace(\".\", \"\").toInt >= 220, \"Spark 2.2.0+ is required to run this notebook. Please attach it to a Spark 2.2.0+ cluster.\")"
   ]
  },
  {
   "cell_type": "markdown",
   "metadata": {},
   "source": []
  },
  {
   "cell_type": "code",
   "execution_count": null,
   "metadata": {},
   "outputs": [],
   "source": [
    "// this reads the tsv file and turns it into a dataframe\n",
    "val powerPlantDF = spark.read // use 'sqlContext.read' instead if you want to use older Spark version > 1.3  see 008_ notebook\n",
    "    .format(\"csv\") // use spark.csv package\n",
    "    .option(\"header\", \"true\") // Use first line of all files as header\n",
    "    .option(\"inferSchema\", \"true\") // Automatically infer data types\n",
    "    .option(\"delimiter\", \"\\t\") // Specify the delimiter as Tab or '\\t'\n",
    "    .load(\"/databricks-datasets/power-plant/data/Sheet1.tsv\")"
   ]
  },
  {
   "cell_type": "markdown",
   "metadata": {},
   "source": []
  },
  {
   "cell_type": "code",
   "execution_count": null,
   "metadata": {},
   "outputs": [],
   "source": [
    "powerPlantDF.printSchema // print the schema of the DataFrame that was inferred"
   ]
  },
  {
   "cell_type": "markdown",
   "metadata": {},
   "source": []
  },
  {
   "cell_type": "code",
   "execution_count": null,
   "metadata": {},
   "outputs": [],
   "source": [
    "powerPlantDF.count"
   ]
  },
  {
   "cell_type": "markdown",
   "metadata": {},
   "source": [
    "  \n",
    "\n",
    "### 2.1. Alternatively, load data via the upload GUI feature in databricks\n",
    "\n",
    "USE THIS FOR OTHER SMALLish DataSets you want to import to your CE\n",
    "------------------------------------------------------------------\n",
    "\n",
    "Since the dataset is relatively small, we will use the upload feature in\n",
    "Databricks to upload the data as a table.\n",
    "\n",
    "First download the Data Folder from [UCI Machine Learning Repository\n",
    "Combined Cycle Power Plant Data\n",
    "Set](https://archive.ics.uci.edu/ml/datasets/Combined+Cycle+Power+Plant)\n",
    "\n",
    "The file is a multi-tab Excel document so you will need to save each tab\n",
    "as a Text file export.\n",
    "\n",
    "I prefer exporting as a Tab-Separated-Values (TSV) since it is more\n",
    "consistent than CSV.\n",
    "\n",
    "Call each file Folds5x2\\_pp&lt;Sheet 1..5&gt;.tsv and save to your\n",
    "machine.\n",
    "\n",
    "Go to the Databricks Menu &gt; Tables &gt; Create Table\n",
    "\n",
    "Select Datasource as \"File\"\n",
    "\n",
    "Upload *ALL* 5 files at once.\n",
    "\n",
    "See screenshots below (but refer\n",
    "<https://docs.databricks.com/user-guide/importing-data.html> for latest\n",
    "methods to import data):\n",
    "\n",
    "**2.1.1. Create Table** \\_\\_\\_\\_\\_\\_\\_\\_\\_\\_\\_\\_\\_\\_\\_\\_\\_\n",
    "\n",
    "When you import your data, name your table `power_plant`, specify all of\n",
    "the columns with the datatype `Double` and make sure you check the\n",
    "`First row is header` box.\n",
    "\n",
    "![alt\n",
    "text](http://training.databricks.com/databricks_guide/1_4_ML_Power_Plant_Import_Table.png)\n",
    "\n",
    "**2.1.2. Review Schema** \\_\\_\\_\\_\\_\\_\\_\\_\\_\\_\\_\\_\\_\\_\\_\\_\\_\\_\n",
    "\n",
    "Your table schema and preview should look like this after you click\n",
    "`Create Table`:\n",
    "\n",
    "![alt\n",
    "text](http://training.databricks.com/databricks_guide/1_4_ML_Power_Plant_Import_Table_Schema.png)\n",
    "\n",
    "Now that your data is loaded let's explore it.\n",
    "\n",
    "Step 3: Explore Your Data\n",
    "-------------------------\n",
    "\n",
    "Now that we understand what we are trying to do, we need to load our\n",
    "data and describe it, explore it and verify it.\n",
    "\n",
    "#### Viewing the table as text\n",
    "\n",
    "By uisng `.show` method we can see some of the contents of the table in\n",
    "plain text.\n",
    "\n",
    "This works in pure Apache Spark, say in `Spark-Shell` without any\n",
    "notebook layer on top of Spark like databricks, zeppelin or jupyter.\n",
    "\n",
    "It is a good idea to use this method when possible."
   ]
  },
  {
   "cell_type": "code",
   "execution_count": null,
   "metadata": {},
   "outputs": [],
   "source": [
    "powerPlantDF.show(10) // try putting 1000 here instead of 10"
   ]
  },
  {
   "cell_type": "markdown",
   "metadata": {},
   "source": [
    "  \n",
    "\n",
    "#### Viewing as DataFrame\n",
    "\n",
    "This is almost necessary for a data scientist to gain visual insights\n",
    "into all pair-wise relationships between the several (3 to 6 or so)\n",
    "variables in question."
   ]
  },
  {
   "cell_type": "code",
   "execution_count": null,
   "metadata": {},
   "outputs": [],
   "source": [
    "display(powerPlantDF) "
   ]
  },
  {
   "cell_type": "markdown",
   "metadata": {},
   "source": []
  },
  {
   "cell_type": "code",
   "execution_count": null,
   "metadata": {},
   "outputs": [],
   "source": [
    "powerPlantDF.count() // count the number of rows in DF"
   ]
  },
  {
   "cell_type": "markdown",
   "metadata": {},
   "source": [
    "  \n",
    "\n",
    "#### Viewing as Table via SQL\n",
    "\n",
    "Let us look at what tables are already available, as follows:"
   ]
  },
  {
   "cell_type": "code",
   "execution_count": null,
   "metadata": {},
   "outputs": [],
   "source": [
    "sqlContext.tables.show() // Ctrl+Enter to see available tables"
   ]
  },
  {
   "cell_type": "markdown",
   "metadata": {},
   "source": [
    "  \n",
    "\n",
    "We can also access the list of tables and databases using\n",
    "`spark.catalog` methods as explained here:\n",
    "\n",
    "-   <https://databricks.com/blog/2016/08/15/how-to-use-sparksession-in-apache-spark-2-0.html>"
   ]
  },
  {
   "cell_type": "code",
   "execution_count": null,
   "metadata": {},
   "outputs": [],
   "source": [
    "spark.catalog.listTables.show(false)"
   ]
  },
  {
   "cell_type": "markdown",
   "metadata": {},
   "source": []
  },
  {
   "cell_type": "code",
   "execution_count": null,
   "metadata": {},
   "outputs": [],
   "source": [
    "spark.catalog.listDatabases.show(false)"
   ]
  },
  {
   "cell_type": "markdown",
   "metadata": {},
   "source": [
    "  \n",
    "\n",
    "We need to create a temporary view of the DataFrame as a table before\n",
    "being able to access it via SQL."
   ]
  },
  {
   "cell_type": "code",
   "execution_count": null,
   "metadata": {},
   "outputs": [],
   "source": [
    "powerPlantDF.createOrReplaceTempView(\"power_plant_table\") // Shift+Enter"
   ]
  },
  {
   "cell_type": "markdown",
   "metadata": {},
   "source": []
  },
  {
   "cell_type": "code",
   "execution_count": null,
   "metadata": {},
   "outputs": [],
   "source": [
    "sqlContext.tables.show() "
   ]
  },
  {
   "cell_type": "markdown",
   "metadata": {},
   "source": [
    "  \n",
    "\n",
    "Note that table names are in lower-case only!\n",
    "\n",
    "**You Try!**"
   ]
  },
  {
   "cell_type": "code",
   "execution_count": null,
   "metadata": {},
   "outputs": [],
   "source": [
    "//sqlContext // uncomment and put . after sqlContext and hit Tab to see what methods are available"
   ]
  },
  {
   "cell_type": "markdown",
   "metadata": {},
   "source": []
  },
  {
   "cell_type": "code",
   "execution_count": null,
   "metadata": {},
   "outputs": [],
   "source": [
    "//sqlContext.dropTempTable(\"power_plant_table\") // uncomment and Ctrl+Enter if you want to remove the table!"
   ]
  },
  {
   "cell_type": "markdown",
   "metadata": {},
   "source": [
    "  \n",
    "\n",
    "The following SQL statement simply selects all the columns (due to `*`)\n",
    "from `powerPlantTable`."
   ]
  },
  {
   "cell_type": "code",
   "execution_count": null,
   "metadata": {},
   "outputs": [],
   "source": [
    "-- Ctrl+Enter to query the rows via SQL\n",
    "SELECT * FROM power_plant_table"
   ]
  },
  {
   "cell_type": "markdown",
   "metadata": {},
   "source": [
    "  \n",
    "\n",
    "Note that the output of the above command is the same as\n",
    "`display(powerPlantDF)` we did earlier.\n",
    "\n",
    "We can use the SQL `desc` command to describe the schema. This is the\n",
    "SQL equivalent of `powerPlantDF.printSchema` we saw earlier."
   ]
  },
  {
   "cell_type": "code",
   "execution_count": null,
   "metadata": {},
   "outputs": [],
   "source": [
    "desc power_plant_table"
   ]
  },
  {
   "cell_type": "markdown",
   "metadata": {},
   "source": [
    "  \n",
    "\n",
    "**Schema Definition**\n",
    "\n",
    "Our schema definition from UCI appears below:\n",
    "\n",
    "-   AT = Atmospheric Temperature in C\n",
    "-   V = Exhaust Vaccum Speed\n",
    "-   AP = Atmospheric Pressure\n",
    "-   RH = Relative Humidity\n",
    "-   PE = Power Output\n",
    "\n",
    "PE is our label or target. This is the value we are trying to predict\n",
    "given the measurements.\n",
    "\n",
    "*Reference [UCI Machine Learning Repository Combined Cycle Power Plant\n",
    "Data\n",
    "Set](https://archive.ics.uci.edu/ml/datasets/Combined+Cycle+Power+Plant)*\n",
    "\n",
    "Let's do some basic statistical analysis of all the columns.\n",
    "\n",
    "We can use the describe function with no parameters to get some basic\n",
    "stats for each column like count, mean, max, min and standard deviation.\n",
    "More information can be found in the [Spark API\n",
    "docs](https://spark.apache.org/docs/latest/api/scala/index.html#org.apache.spark.sql.DataFrame)"
   ]
  },
  {
   "cell_type": "code",
   "execution_count": null,
   "metadata": {},
   "outputs": [],
   "source": [
    "display(powerPlantDF.describe())"
   ]
  },
  {
   "cell_type": "markdown",
   "metadata": {},
   "source": [
    "  \n",
    "\n",
    "Step 4: Visualize Your Data\n",
    "---------------------------\n",
    "\n",
    "To understand our data, we will look for correlations between features\n",
    "and the label. This can be important when choosing a model. E.g., if\n",
    "features and a label are linearly correlated, a linear model like Linear\n",
    "Regression can do well; if the relationship is very non-linear, more\n",
    "complex models such as Decision Trees or neural networks can be better.\n",
    "We use the Databricks built in visualization to view each of our\n",
    "predictors in relation to the label column as a scatter plot to see the\n",
    "correlation between the predictors and the label."
   ]
  },
  {
   "cell_type": "code",
   "execution_count": null,
   "metadata": {},
   "outputs": [],
   "source": [
    "select AT as Temperature, PE as Power from power_plant_table"
   ]
  },
  {
   "cell_type": "markdown",
   "metadata": {},
   "source": [
    "  \n",
    "\n",
    "From the above plot, it looks like there is strong linear correlation\n",
    "between temperature and Power Output!"
   ]
  },
  {
   "cell_type": "code",
   "execution_count": null,
   "metadata": {},
   "outputs": [],
   "source": [
    "select V as ExhaustVaccum, PE as Power from power_plant_table;"
   ]
  },
  {
   "cell_type": "markdown",
   "metadata": {},
   "source": [
    "  \n",
    "\n",
    "The linear correlation is not as strong between Exhaust Vacuum Speed and\n",
    "Power Output but there is some semblance of a pattern."
   ]
  },
  {
   "cell_type": "code",
   "execution_count": null,
   "metadata": {},
   "outputs": [],
   "source": [
    "select AP as Pressure, PE as Power from power_plant_table;"
   ]
  },
  {
   "cell_type": "markdown",
   "metadata": {},
   "source": []
  },
  {
   "cell_type": "code",
   "execution_count": null,
   "metadata": {},
   "outputs": [],
   "source": [
    "select RH as Humidity, PE as Power from power_plant_table;"
   ]
  },
  {
   "cell_type": "markdown",
   "metadata": {},
   "source": [
    "  \n",
    "\n",
    "...and atmospheric pressure and relative humidity seem to have little to\n",
    "no linear correlation.\n",
    "\n",
    "These pairwise plots can also be done directly using `display` on\n",
    "`select`ed columns of the DataFrame `powerPlantDF`.\n",
    "\n",
    "In general **we will shy from SQL as much as possible** to focus on ML\n",
    "pipelines written with DataFrames and DataSets with occassional\n",
    "in-and-out of RDDs.\n",
    "\n",
    "The illustations in `%sql` above are to mainly reassure those with a\n",
    "RDBMS background and SQL that their SQL expressibility can be directly\n",
    "used in Apache Spark and in databricks notebooks."
   ]
  },
  {
   "cell_type": "code",
   "execution_count": null,
   "metadata": {},
   "outputs": [],
   "source": [
    "display(powerPlantDF.select($\"RH\", $\"PE\"))"
   ]
  },
  {
   "cell_type": "markdown",
   "metadata": {},
   "source": [
    "  \n",
    "\n",
    "Furthermore, you can interactively start playing with `display` on the\n",
    "full DataFrame!"
   ]
  },
  {
   "cell_type": "code",
   "execution_count": null,
   "metadata": {},
   "outputs": [],
   "source": [
    "display(powerPlantDF) // just as we did for the diamonds dataset"
   ]
  },
  {
   "cell_type": "markdown",
   "metadata": {},
   "source": [
    "  \n",
    "\n",
    "We will do the following steps in the sequel.\n",
    "\n",
    "-   *Step 5: Data Preparation*\n",
    "-   *Step 6: Data Modeling*\n",
    "-   *Step 7: Tuning and Evaluation*\n",
    "-   *Step 8: Deployment*\n",
    "\n",
    "Datasource References:\n",
    "\n",
    "-   Pinar Tüfekci, Prediction of full load electrical power output of a\n",
    "    base load operated combined cycle power plant using machine learning\n",
    "    methods, International Journal of Electrical Power & Energy Systems,\n",
    "    Volume 60, September 2014, Pages 126-140, ISSN 0142-0615, [Web\n",
    "    Link](http://www.journals.elsevier.com/international-journal-of-electrical-power-and-energy-systems/)\n",
    "-   Heysem Kaya, Pinar Tüfekci , Sadik Fikret Gürgen: Local and Global\n",
    "    Learning Methods for Predicting Power of a Combined Gas & Steam\n",
    "    Turbine, Proceedings of the International Conference on Emerging\n",
    "    Trends in Computer and Electronics Engineering ICETCEE 2012, pp.\n",
    "    13-18 (Mar. 2012, Dubai) [Web\n",
    "    Link](http://www.cmpe.boun.edu.tr/~kaya/kaya2012gasturbine.pdf)\n",
    "\n",
    "### We will continue later with ML pipelines to do prediction with a fitted model from this dataset"
   ]
  }
 ],
 "nbformat": 4,
 "nbformat_minor": 5,
 "metadata": {}
}
