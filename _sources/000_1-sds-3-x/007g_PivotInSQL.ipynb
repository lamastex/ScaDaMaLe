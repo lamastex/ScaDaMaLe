{
 "cells": [
  {
   "cell_type": "markdown",
   "metadata": {},
   "source": [
    "[ScaDaMaLe, Scalable Data Science and Distributed Machine Learning](https://lamastex.github.io/scalable-data-science/sds/3/x/)\n",
    "==============================================================================================================================\n",
    "\n",
    "SQL Pivoting since Spark 2.4\n",
    "============================\n",
    "\n",
    "SQL Pivot: Converting Rows to Columns\n",
    "-------------------------------------\n",
    "\n",
    "This is from the following blogpost: -\n",
    "https://databricks.com/blog/2018/11/01/sql-pivot-converting-rows-to-columns.html\n",
    "\n",
    "This is a useful trick to know when having to do ETL before exploring\n",
    "datasets that need row to column conversions.\n",
    "\n",
    "Load Data\n",
    "=========\n",
    "\n",
    "Create tables and load temperature data"
   ]
  },
  {
   "cell_type": "code",
   "execution_count": null,
   "metadata": {},
   "outputs": [],
   "source": [
    "CREATE OR REPLACE TEMPORARY VIEW high_temps\n",
    "  USING csv\n",
    "  OPTIONS (path \"/databricks-datasets/weather/high_temps\", header \"true\", mode \"FAILFAST\")"
   ]
  },
  {
   "cell_type": "markdown",
   "metadata": {},
   "source": []
  },
  {
   "cell_type": "code",
   "execution_count": null,
   "metadata": {},
   "outputs": [],
   "source": [
    "CREATE OR REPLACE TEMPORARY VIEW low_temps\n",
    "  USING csv\n",
    "  OPTIONS (path \"/databricks-datasets/weather/low_temps\", header \"true\", mode \"FAILFAST\")"
   ]
  },
  {
   "cell_type": "markdown",
   "metadata": {},
   "source": [
    "  \n",
    "\n",
    "Pivoting in SQL\n",
    "===============\n",
    "\n",
    "Getting the monthly average high temperatures with month as columns and\n",
    "year as rows."
   ]
  },
  {
   "cell_type": "code",
   "execution_count": null,
   "metadata": {},
   "outputs": [],
   "source": [
    "SELECT * FROM (\n",
    "  SELECT year(date) year, month(date) month, temp\n",
    "  FROM high_temps\n",
    "  WHERE date BETWEEN DATE '2015-01-01' AND DATE '2018-08-31'\n",
    ")\n",
    "PIVOT (\n",
    "  CAST(avg(temp) AS DECIMAL(4, 1))\n",
    "  FOR month in (\n",
    "    1 JAN, 2 FEB, 3 MAR, 4 APR, 5 MAY, 6 JUN,\n",
    "    7 JUL, 8 AUG, 9 SEP, 10 OCT, 11 NOV, 12 DEC\n",
    "  )\n",
    ")\n",
    "ORDER BY year DESC\n"
   ]
  },
  {
   "cell_type": "markdown",
   "metadata": {},
   "source": [
    "  \n",
    "\n",
    "[TABLE]\n",
    "\n",
    "Truncated to 12 cols\n",
    "\n",
    "  \n",
    "\n",
    "Pivoting with Multiple Aggregate Expressions\n",
    "============================================\n",
    "\n",
    "Getting monthly average and maximum high temperatures with month as\n",
    "columns and year as rows."
   ]
  },
  {
   "cell_type": "code",
   "execution_count": null,
   "metadata": {},
   "outputs": [],
   "source": [
    "SELECT * FROM (\n",
    "  SELECT year(date) year, month(date) month, temp\n",
    "  FROM high_temps\n",
    "  WHERE date BETWEEN DATE '2015-01-01' AND DATE '2018-08-31'\n",
    ")\n",
    "PIVOT (\n",
    "  CAST(avg(temp) AS DECIMAL(4, 1)) avg, max(temp) max\n",
    "  FOR month in (6 JUN, 7 JUL, 8 AUG, 9 SEP)\n",
    ")\n",
    "ORDER BY year DESC\n"
   ]
  },
  {
   "cell_type": "markdown",
   "metadata": {},
   "source": [
    "  \n",
    "\n",
    "[TABLE]\n",
    "\n",
    "  \n",
    "\n",
    "Pivoting with Multiple Grouping Columns\n",
    "=======================================\n",
    "\n",
    "Getting monthly average high and average low temperatures with month as\n",
    "columns and (year, hi/lo) as rows."
   ]
  },
  {
   "cell_type": "code",
   "execution_count": null,
   "metadata": {},
   "outputs": [],
   "source": [
    "SELECT * FROM (\n",
    "  SELECT year(date) year, month(date) month, temp, flag `H/L`\n",
    "  FROM (\n",
    "    SELECT date, temp, 'H' as flag\n",
    "    FROM high_temps\n",
    "    UNION ALL\n",
    "    SELECT date, temp, 'L' as flag\n",
    "    FROM low_temps\n",
    "  )\n",
    "  WHERE date BETWEEN DATE '2015-01-01' AND DATE '2018-08-31'\n",
    ")\n",
    "PIVOT (\n",
    "  CAST(avg(temp) AS DECIMAL(4, 1))\n",
    "  FOR month in (6 JUN, 7 JUL, 8 AUG, 9 SEP)\n",
    ")\n",
    "ORDER BY year DESC, `H/L` ASC\n"
   ]
  },
  {
   "cell_type": "markdown",
   "metadata": {},
   "source": [
    "  \n",
    "\n",
    "[TABLE]\n",
    "\n",
    "  \n",
    "\n",
    "Pivoting with Multiple Pivot Columns\n",
    "====================================\n",
    "\n",
    "Getting monthly average high and average low temperatures with (month,\n",
    "hi/lo) as columns and year as rows."
   ]
  },
  {
   "cell_type": "code",
   "execution_count": null,
   "metadata": {},
   "outputs": [],
   "source": [
    "SELECT * FROM (\n",
    "  SELECT year(date) year, month(date) month, temp, flag\n",
    "  FROM (\n",
    "    SELECT date, temp, 'H' as flag\n",
    "    FROM high_temps\n",
    "    UNION ALL\n",
    "    SELECT date, temp, 'L' as flag\n",
    "    FROM low_temps\n",
    "  )\n",
    "  WHERE date BETWEEN DATE '2015-01-01' AND DATE '2018-08-31'\n",
    ")\n",
    "PIVOT (\n",
    "  CAST(avg(temp) AS DECIMAL(4, 1))\n",
    "  FOR (month, flag) in (\n",
    "    (6, 'H') JUN_hi, (6, 'L') JUN_lo,\n",
    "    (7, 'H') JUL_hi, (7, 'L') JUL_lo,\n",
    "    (8, 'H') AUG_hi, (8, 'L') AUG_lo,\n",
    "    (9, 'H') SEP_hi, (9, 'L') SEP_lo\n",
    "  )\n",
    ")\n",
    "ORDER BY year DESC\n"
   ]
  },
  {
   "cell_type": "markdown",
   "metadata": {},
   "source": [
    "  \n",
    "\n",
    "[TABLE]"
   ]
  }
 ],
 "nbformat": 4,
 "nbformat_minor": 5,
 "metadata": {}
}
