{
 "cells": [
  {
   "cell_type": "markdown",
   "metadata": {},
   "source": [
    "README\n",
    "======\n",
    "\n",
    "Paper link:\n",
    "\n",
    "Github link:\n",
    "\n",
    "Link to rootless-docker setup tutorial:\n",
    "\n",
    "Pytorch ddp documentation:\n",
    "\n",
    "Pytorch-lightning documentation:"
   ]
  }
 ],
 "nbformat": 4,
 "nbformat_minor": 5,
 "metadata": {}
}
