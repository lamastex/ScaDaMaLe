{
 "cells": [
  {
   "cell_type": "markdown",
   "metadata": {},
   "source": [
    "Lit\n",
    "---\n",
    "\n",
    "-   https://arxiv.org/pdf/1612.01474.pdf\n",
    "-   https://towardsdatascience.com/3-methods-for-parallelization-in-spark-6a1a4333b473\n",
    "-   https://medium.com/@Sushil\\_Kumar/artificial-neural-network-with-spark-mllib-9474570239d8\n",
    "\n",
    "Docs\n",
    "----\n",
    "\n",
    "https://spark.apache.org/docs/latest/api/scala/org/apache/spark/ml/classification/MultilayerPerceptronClassifier.html\n",
    "\n",
    "Independently create"
   ]
  },
  {
   "cell_type": "code",
   "execution_count": null,
   "metadata": {},
   "outputs": [],
   "source": [
    "val ensemble // List of models\n",
    "val ensemble.map()"
   ]
  },
  {
   "cell_type": "markdown",
   "metadata": {},
   "source": []
  }
 ],
 "nbformat": 4,
 "nbformat_minor": 5,
 "metadata": {}
}
