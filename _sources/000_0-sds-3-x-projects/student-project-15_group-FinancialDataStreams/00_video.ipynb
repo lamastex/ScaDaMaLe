{
 "cells": [
  {
   "cell_type": "markdown",
   "metadata": {},
   "source": [
    "Reinforcement Learning for Intraday Trading\n",
    "===========================================\n",
    "\n",
    "In this project, our aim is to implement a Reinforcement Learning (RL)\n",
    "strategy for trading stocks. Specifically, we use the DQN -- Deep\n",
    "Q-Network -- algorithm to train an agent which trades Brent Crude Oil\n",
    "(BCOUSD) stocks, in order to maximize long term profit. Finally,\n",
    "evaluate the the results from the RL agent based on the predictions from\n",
    "the TrendCalculus predictive algorithm. Note that the overall concern is\n",
    "to make our implementation scalable.\n",
    "\n",
    "===&gt; Insert video here\n",
    "\n",
    "Group members:\n",
    "--------------\n",
    "\n",
    "-   Fabian Sinzinger\n",
    "-   Karl Bäckström\n",
    "-   Rita Laezza"
   ]
  }
 ],
 "nbformat": 4,
 "nbformat_minor": 5,
 "metadata": {}
}
