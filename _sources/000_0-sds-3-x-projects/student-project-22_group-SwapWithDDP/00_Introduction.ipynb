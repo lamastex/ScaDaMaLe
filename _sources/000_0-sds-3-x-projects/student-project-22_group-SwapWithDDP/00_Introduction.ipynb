{
 "cells": [
  {
   "cell_type": "markdown",
   "metadata": {},
   "source": [
    "Please add URLs to the resources\n",
    "\n",
    "-   CIFAR10 dataset\n",
    "\n",
    "-   pytorch DDL ...\n",
    "\n",
    "    -   URLs:\n",
    "\n",
    "    Peers are going to have to review...\n",
    "\n",
    "    -   Scalable?\n",
    "\n",
    "    Need to have a link to the github repos whith all the code..\n",
    "\n",
    "    -   details on how someone can actually run your code on the\n",
    "        appropriate pytoch system....\n",
    "    -   ...\n",
    "\n",
    "    NOTE: Everything needed to be replicated your projects should be\n",
    "    explained here\n",
    "\n",
    "    -   video\n",
    "    -   markdown... with pointers to your github or another public\n",
    "        repos..."
   ]
  }
 ],
 "nbformat": 4,
 "nbformat_minor": 5,
 "metadata": {}
}
