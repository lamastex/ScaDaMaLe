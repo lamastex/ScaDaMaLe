{
 "cells": [
  {
   "cell_type": "code",
   "execution_count": null,
   "metadata": {},
   "outputs": [],
   "source": [
    "import tensorflow.keras.datasets.mnist as mnist\n",
    "from sklearn.preprocessing import OneHotEncoder\n",
    "from sklearn.ensemble import RandomForestClassifier\n",
    "from sklearn.svm import SVC\n",
    "from sklearn.neural_network import MLPClassifier\n",
    "from sklearn.model_selection import GridSearchCV\n",
    "from sklearn.pipeline import Pipeline\n",
    "from sklearn.preprocessing import StandardScaler\n",
    "import numpy as np\n",
    "from sklearn.ensemble import AdaBoostClassifier"
   ]
  },
  {
   "cell_type": "markdown",
   "metadata": {},
   "source": []
  },
  {
   "cell_type": "code",
   "execution_count": null,
   "metadata": {},
   "outputs": [],
   "source": [
    "(X_train,Y_train),(X_test,Y_test) = mnist.load_data()\n",
    "hidden_layer_sizes=(15,10)\n",
    "pipe = Pipeline([(\"normalize\",StandardScaler()),(\"model\",AdaBoostClassifier())])\n",
    "X_train = X_train.reshape((len(X_train),-1))\n",
    "X_test = X_test.reshape((len(X_test),-1))\n",
    "#Y_train = OneHotEncoder().fit_transform(np.expand_dims(Y_train,1))\n",
    "#Y_test = OneHotEncoder().fit_transform(np.expand_dims(Y_test,1))\n",
    "\n",
    "pipe.fit(X_train,Y_train)\n",
    "\n",
    "#pipe = GridSearchCV(MLPClassifier(),grid,cv = 10,n_jobs = 10)"
   ]
  },
  {
   "cell_type": "markdown",
   "metadata": {},
   "source": [
    "  \n",
    "\n",
    ">     Out[2]: Pipeline(memory=None,\n",
    ">              steps=[('normalize',\n",
    ">                      StandardScaler(copy=True, with_mean=True, with_std=True)),\n",
    ">                     ('model',\n",
    ">                      AdaBoostClassifier(algorithm='SAMME.R', base_estimator=None,\n",
    ">                                         learning_rate=1.0, n_estimators=50,\n",
    ">                                         random_state=None))],\n",
    ">              verbose=False)"
   ]
  },
  {
   "cell_type": "code",
   "execution_count": null,
   "metadata": {},
   "outputs": [],
   "source": [
    "Y_pred = pipe.predict(X_test)"
   ]
  },
  {
   "cell_type": "markdown",
   "metadata": {},
   "source": []
  },
  {
   "cell_type": "code",
   "execution_count": null,
   "metadata": {},
   "outputs": [],
   "source": [
    "np.mean(Y_pred == Y_test)"
   ]
  },
  {
   "cell_type": "markdown",
   "metadata": {},
   "source": [
    "  \n",
    "\n",
    ">     Out[42]: 0.9694"
   ]
  }
 ],
 "nbformat": 4,
 "nbformat_minor": 5,
 "metadata": {}
}
