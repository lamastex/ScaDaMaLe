{
 "cells": [
  {
   "cell_type": "markdown",
   "metadata": {},
   "source": [
    "[ScaDaMaLe, Scalable Data Science and Distributed Machine Learning](https://lamastex.github.io/scalable-data-science/sds/3/x/)\n",
    "==============================================================================================================================\n",
    "\n",
    "Piped RDDs and Bayesian AB Testing\n",
    "==================================\n",
    "\n",
    "Here we will first take excerpts with minor modifications from the end\n",
    "of **Chapter 12. Resilient Distributed Datasets (RDDs)** of *Spark: The\n",
    "Definitive Guide*:\n",
    "\n",
    "-   https://learning.oreilly.com/library/view/spark-the-definitive/9781491912201/ch12.html\n",
    "\n",
    "Next, we will do Bayesian AB Testing using PipedRDDs.\n",
    "\n",
    "First, we create the toy RDDs as in *The Definitive Guide*:\n",
    "\n",
    "> From a Local Collection\n",
    "> =======================\n",
    "\n",
    "To create an RDD from a collection, you will need to use the parallelize\n",
    "method on a SparkContext (within a SparkSession). This turns a single\n",
    "node collection into a parallel collection. When creating this parallel\n",
    "collection, you can also explicitly state the number of partitions into\n",
    "which you would like to distribute this array. In this case, we are\n",
    "creating two partitions:"
   ]
  },
  {
   "cell_type": "code",
   "execution_count": null,
   "metadata": {},
   "outputs": [],
   "source": [
    "// in Scala\n",
    "val myCollection = \"Spark The Definitive Guide : Big Data Processing Made Simple\"  .split(\" \")\n",
    "val words = spark.sparkContext.parallelize(myCollection, 2)"
   ]
  },
  {
   "cell_type": "markdown",
   "metadata": {},
   "source": [
    "  \n",
    "\n",
    ">     myCollection: Array[String] = Array(Spark, The, Definitive, Guide, :, Big, Data, Processing, Made, Simple)\n",
    ">     words: org.apache.spark.rdd.RDD[String] = ParallelCollectionRDD[0] at parallelize at command-1173833896357740:3"
   ]
  },
  {
   "cell_type": "code",
   "execution_count": null,
   "metadata": {},
   "outputs": [],
   "source": [
    "# in Python\n",
    "myCollection = \"Spark The Definitive Guide : Big Data Processing Made Simple\"\\\n",
    "  .split(\" \")\n",
    "words = spark.sparkContext.parallelize(myCollection, 2)\n",
    "words"
   ]
  },
  {
   "cell_type": "markdown",
   "metadata": {},
   "source": [
    "  \n",
    "\n",
    ">     Out[9]: ParallelCollectionRDD[23] at readRDDFromInputStream at PythonRDD.scala:413\n",
    "\n",
    "  \n",
    "\n",
    "> glom\n",
    "> ====\n",
    "\n",
    "> `glom` is an interesting function that takes every partition in your\n",
    "> dataset and converts them to arrays. This can be useful if you’re\n",
    "> going to collect the data to the driver and want to have an array for\n",
    "> each partition. However, this can cause serious stability issues\n",
    "> because if you have large partitions or a large number of partitions,\n",
    "> it’s simple to crash the driver.\n",
    "\n",
    "Let's use `glom` to see how our `words` are distributed among the two\n",
    "partitions we used explicitly."
   ]
  },
  {
   "cell_type": "code",
   "execution_count": null,
   "metadata": {},
   "outputs": [],
   "source": [
    "words.glom.collect "
   ]
  },
  {
   "cell_type": "markdown",
   "metadata": {},
   "source": [
    "  \n",
    "\n",
    ">     res0: Array[Array[String]] = Array(Array(Spark, The, Definitive, Guide, :), Array(Big, Data, Processing, Made, Simple))"
   ]
  },
  {
   "cell_type": "code",
   "execution_count": null,
   "metadata": {},
   "outputs": [],
   "source": [
    "words.glom().collect()"
   ]
  },
  {
   "cell_type": "markdown",
   "metadata": {},
   "source": [
    "  \n",
    "\n",
    ">     Out[2]: [['Spark', 'The', 'Definitive', 'Guide', ':'],\n",
    ">      ['Big', 'Data', 'Processing', 'Made', 'Simple']]\n",
    "\n",
    "  \n",
    "\n",
    "> Checkpointing\n",
    "> =============\n",
    ">\n",
    "> One feature not available in the DataFrame API is the concept of\n",
    "> checkpointing. Checkpointing is the act of saving an RDD to disk so\n",
    "> that future references to this RDD point to those intermediate\n",
    "> partitions on disk rather than recomputing the RDD from its original\n",
    "> source. This is similar to caching except that it’s not stored in\n",
    "> memory, only disk. This can be helpful when performing iterative\n",
    "> computation, similar to the use cases for caching:\n",
    "\n",
    "Let's create a directory in `dbfs:///` for checkpointing of RDDs in the\n",
    "sequel. The following `%fs mkdirs /path_to_dir` is a shortcut to create\n",
    "a directory in `dbfs:///`"
   ]
  },
  {
   "cell_type": "code",
   "execution_count": null,
   "metadata": {},
   "outputs": [],
   "source": [
    "mkdirs /datasets/ScaDaMaLe/checkpointing/"
   ]
  },
  {
   "cell_type": "markdown",
   "metadata": {},
   "source": [
    "  \n",
    "\n",
    ">     res1: Boolean = true"
   ]
  },
  {
   "cell_type": "code",
   "execution_count": null,
   "metadata": {},
   "outputs": [],
   "source": [
    "spark.sparkContext.setCheckpointDir(\"dbfs:///datasets/ScaDaMaLe/checkpointing\")\n",
    "words.checkpoint()"
   ]
  },
  {
   "cell_type": "markdown",
   "metadata": {},
   "source": [
    "  \n",
    "\n",
    "  \n",
    "\n",
    "> Now, when we reference this RDD, it will derive from the checkpoint\n",
    "> instead of the source data. This can be a helpful optimization.\n",
    "\n",
    "YouTry\n",
    "------\n",
    "\n",
    "Just some more words in `haha_words` with `\\n`, the End-Of-Line (EOL)\n",
    "characters, in-place."
   ]
  },
  {
   "cell_type": "code",
   "execution_count": null,
   "metadata": {},
   "outputs": [],
   "source": [
    "val haha_words = sc.parallelize(Seq(\"ha\\nha\", \"he\\nhe\\nhe\", \"ho\\nho\\nho\\nho\"),3)"
   ]
  },
  {
   "cell_type": "markdown",
   "metadata": {},
   "source": [
    "  \n",
    "\n",
    ">     haha_words: org.apache.spark.rdd.RDD[String] = ParallelCollectionRDD[4] at parallelize at command-1173833896357751:1\n",
    "\n",
    "  \n",
    "\n",
    "Let's use `glom` to see how our `haha_words` are distributed among the\n",
    "partitions"
   ]
  },
  {
   "cell_type": "code",
   "execution_count": null,
   "metadata": {},
   "outputs": [],
   "source": [
    "haha_words.glom.collect"
   ]
  },
  {
   "cell_type": "markdown",
   "metadata": {},
   "source": [
    "  \n",
    "\n",
    ">     res4: Array[Array[String]] =\n",
    ">     Array(Array(ha\n",
    ">     ha), Array(he\n",
    ">     he\n",
    ">     he), Array(ho\n",
    ">     ho\n",
    ">     ho\n",
    ">     ho))\n",
    "\n",
    "  \n",
    "\n",
    "> Pipe RDDs to System Commands\n",
    "> ============================\n",
    "\n",
    "> The pipe method is probably one of Spark’s more interesting methods.\n",
    "> With pipe, you can return an RDD created by piping elements to a\n",
    "> forked external process. The resulting RDD is computed by executing\n",
    "> the given process once per partition. All elements of each input\n",
    "> partition are written to a process’s stdin as lines of input separated\n",
    "> by a newline. The resulting partition consists of the process’s stdout\n",
    "> output, with each line of stdout resulting in one element of the\n",
    "> output partition. A process is invoked even for empty partitions.\n",
    "\n",
    "> The print behavior can be customized by providing two functions.\n",
    "\n",
    "We can use a simple example and pipe each partition to the command wc.\n",
    "Each row will be passed in as a new line, so if we perform a line count,\n",
    "we will get the number of lines, one per partition:\n",
    "\n",
    "The following produces a `PipedRDD`:"
   ]
  },
  {
   "cell_type": "code",
   "execution_count": null,
   "metadata": {},
   "outputs": [],
   "source": [
    "val wc_l_PipedRDD = words.pipe(\"wc -l\")"
   ]
  },
  {
   "cell_type": "markdown",
   "metadata": {},
   "source": [
    "  \n",
    "\n",
    ">     wc_l_PipedRDD: org.apache.spark.rdd.RDD[String] = PipedRDD[19] at pipe at command-1173833896357756:1"
   ]
  },
  {
   "cell_type": "code",
   "execution_count": null,
   "metadata": {},
   "outputs": [],
   "source": [
    "wc_l_PipedRDD = words.pipe(\"wc -l\")\n",
    "wc_l_PipedRDD"
   ]
  },
  {
   "cell_type": "markdown",
   "metadata": {},
   "source": [
    "  \n",
    "\n",
    ">     Out[8]: PythonRDD[20] at RDD at PythonRDD.scala:58\n",
    "\n",
    "  \n",
    "\n",
    "Now, we take an action via `collect` to bring the results to the Driver.\n",
    "\n",
    "NOTE: Be careful what you collect! You can always write the output to\n",
    "parquet of binary files in `dbfs:///` if the returned output is large."
   ]
  },
  {
   "cell_type": "code",
   "execution_count": null,
   "metadata": {},
   "outputs": [],
   "source": [
    "wc_l_PipedRDD.collect"
   ]
  },
  {
   "cell_type": "markdown",
   "metadata": {},
   "source": [
    "  \n",
    "\n",
    ">     res9: Array[String] = Array(\"      5       5      29\", \"      5       5      32\")"
   ]
  },
  {
   "cell_type": "code",
   "execution_count": null,
   "metadata": {},
   "outputs": [],
   "source": [
    "wc_l_PipedRDD.collect()"
   ]
  },
  {
   "cell_type": "markdown",
   "metadata": {},
   "source": [
    "  \n",
    "\n",
    ">     Out[4]: ['5', '5']\n",
    "\n",
    "  \n",
    "\n",
    "In this case, we got the number of lines returned by `wc -l` per\n",
    "partition.\n",
    "\n",
    "YouTry\n",
    "------\n",
    "\n",
    "Try to make sense of the next few cells where we do NOT specifiy the\n",
    "number of partitions explicitly and let Spark decide on the number of\n",
    "partitions automatically."
   ]
  },
  {
   "cell_type": "code",
   "execution_count": null,
   "metadata": {},
   "outputs": [],
   "source": [
    "val haha_words = sc.parallelize(Seq(\"ha\\nha\", \"he\\nhe\\nhe\", \"ho\\nho\\nho\\nho\"),3)\n",
    "haha_words.glom.collect\n",
    "val wc_l_PipedRDD_haha_words = haha_words.pipe(\"wc -l\")\n",
    "wc_l_PipedRDD_haha_words.collect()"
   ]
  },
  {
   "cell_type": "markdown",
   "metadata": {},
   "source": [
    "  \n",
    "\n",
    ">     haha_words: org.apache.spark.rdd.RDD[String] = ParallelCollectionRDD[8] at parallelize at command-1173833896357763:1\n",
    ">     wc_l_PipedRDD_haha_words: org.apache.spark.rdd.RDD[String] = PipedRDD[10] at pipe at command-1173833896357763:3\n",
    ">     res6: Array[String] = Array(2, 3, 4)\n",
    "\n",
    "  \n",
    "\n",
    "Do you understand why the above `collect` statement returns what it\n",
    "does?"
   ]
  },
  {
   "cell_type": "code",
   "execution_count": null,
   "metadata": {},
   "outputs": [],
   "source": [
    "val haha_words_again = sc.parallelize(Seq(\"ha\\nha\", \"he\\nhe\\nhe\", \"ho\\nho\\nho\\nho\"))\n",
    "haha_words_again.glom.collect\n",
    "val wc_l_PipedRDD_haha_words_again = haha_words_again.pipe(\"wc -l\")\n",
    "wc_l_PipedRDD_haha_words_again.collect()"
   ]
  },
  {
   "cell_type": "markdown",
   "metadata": {},
   "source": [
    "  \n",
    "\n",
    ">     haha_words_again: org.apache.spark.rdd.RDD[String] = ParallelCollectionRDD[11] at parallelize at command-1173833896357765:1\n",
    ">     wc_l_PipedRDD_haha_words_again: org.apache.spark.rdd.RDD[String] = PipedRDD[13] at pipe at command-1173833896357765:3\n",
    ">     res7: Array[String] = Array(0, 0, 2, 0, 0, 3, 0, 4)\n",
    "\n",
    "  \n",
    "\n",
    "Did you understand why some of the results are `0` in the last `collect`\n",
    "statement?\n",
    "\n",
    "> mapPartitions\n",
    "> =============\n",
    "\n",
    "> The previous command revealed that Spark operates on a per-partition\n",
    "> basis when it comes to actually executing code. You also might have\n",
    "> noticed earlier that the return signature of a map function on an RDD\n",
    "> is actually `MapPartitionsRDD`.\n",
    "\n",
    "Or `ParallelCollectionRDD` in our case.\n",
    "\n",
    "> This is because map is just a row-wise alias for `mapPartitions`,\n",
    "> which makes it possible for you to map an individual partition\n",
    "> (represented as an iterator). That’s because physically on the cluster\n",
    "> we operate on each partition individually (and not a specific row). A\n",
    "> simple example creates the value “1” for every partition in our data,\n",
    "> and the sum of the following expression will count the number of\n",
    "> partitions we have:"
   ]
  },
  {
   "cell_type": "code",
   "execution_count": null,
   "metadata": {},
   "outputs": [],
   "source": [
    "// in Scala\n",
    "words.mapPartitions(part => Iterator[Int](1)).sum() // 2.0"
   ]
  },
  {
   "cell_type": "markdown",
   "metadata": {},
   "source": [
    "  \n",
    "\n",
    ">     res8: Double = 2.0"
   ]
  },
  {
   "cell_type": "code",
   "execution_count": null,
   "metadata": {},
   "outputs": [],
   "source": [
    "# in Python\n",
    "words.mapPartitions(lambda part: [1]).sum() # 2"
   ]
  },
  {
   "cell_type": "markdown",
   "metadata": {},
   "source": [
    "  \n",
    "\n",
    ">     Out[5]: 2\n",
    "\n",
    "  \n",
    "\n",
    "> Naturally, this means that we operate on a per-partition basis and\n",
    "> therefore it allows us to perform an operation on that *entire*\n",
    "> partition. This is valuable for performing something on an entire\n",
    "> subdataset of your RDD. You can gather all values of a partition class\n",
    "> or group into one partition and then operate on that entire group\n",
    "> using arbitrary functions and controls. An example use case of this\n",
    "> would be that you could pipe this through some custom machine learning\n",
    "> algorithm and train an individual model for that company’s portion of\n",
    "> the dataset. A Facebook engineer has an interesting demonstration of\n",
    "> their particular implementation of the pipe operator with a similar\n",
    "> use case demonstrated at [Spark Summit East\n",
    "> 2017](https://spark-summit.org/east-2017/events/experiences-with-sparks-rdd-apis-for-complex-custom-applications/).\n",
    "\n",
    "> Other functions similar to `mapPartitions` include\n",
    "> `mapPartitionsWithIndex`. With this you specify a function that\n",
    "> accepts an index (within the partition) and an iterator that goes\n",
    "> through all items within the partition. The partition index is the\n",
    "> partition number in your RDD, which identifies where each record in\n",
    "> our dataset sits (and potentially allows you to debug). You might use\n",
    "> this to test whether your map functions are behaving correctly:"
   ]
  }
 ],
 "nbformat": 4,
 "nbformat_minor": 5,
 "metadata": {}
}
