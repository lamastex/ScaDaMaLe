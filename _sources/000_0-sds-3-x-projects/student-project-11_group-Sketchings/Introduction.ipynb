{
 "cells": [
  {
   "cell_type": "markdown",
   "metadata": {},
   "source": [
    "Raaz to try to load the NASA flights data in this paper for a real-world\n",
    "example whose quantiles (TBD) can be t-digested:\n",
    "\n",
    "-   http://lamastex.org/preprints/AAIASubPavingATC.pdf\n",
    "\n",
    "You can start with doing t-digest on simulated data (starting from the\n",
    "mixture of Normals/Gaussians example done in class).\n",
    "\n",
    "The project goal is to compare t-digest with an iterative algorithm...\n",
    "as the first step."
   ]
  }
 ],
 "nbformat": 4,
 "nbformat_minor": 5,
 "metadata": {}
}
