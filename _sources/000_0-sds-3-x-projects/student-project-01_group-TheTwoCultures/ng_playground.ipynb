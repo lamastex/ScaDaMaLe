{
 "cells": [
  {
   "cell_type": "code",
   "execution_count": null,
   "metadata": {},
   "outputs": [],
   "source": [
    "/scalable-data-science/000_0-sds-3-x-projects/student-project-01_group-TheTwoCultures/01_load_data"
   ]
  },
  {
   "cell_type": "markdown",
   "metadata": {},
   "source": []
  },
  {
   "cell_type": "code",
   "execution_count": null,
   "metadata": {},
   "outputs": [],
   "source": [
    "import org.apache.spark.sql.functions.{col,concat_ws, udf, flatten, explode, collect_list, collect_set, lit}\n",
    "import org.apache.spark.sql.types.{ ArrayType, StructType, StructField, StringType, IntegerType }\n",
    "import com.databricks.spark.xml._ // Add the DataFrame.read.xml() method\n",
    "import org.apache.spark.sql.functions._\n",
    "\n",
    "def read_xml(file_name: String): org.apache.spark.sql.DataFrame = {\n",
    "  val word_schema = StructType(Array(\n",
    "    StructField(\"_lemma\", StringType, nullable=false)))\n",
    "\n",
    "  val sentence_schema = StructType(Array(\n",
    "    StructField(\"w\", ArrayType(StringType, true), nullable=true)\n",
    "  ))\n",
    "  val text_schema = StructType(Array(\n",
    "     StructField(\"sentence\", ArrayType(sentence_schema), nullable=false)\n",
    "  ))\n",
    "\n",
    "  val thread_schema = StructType(Array(\n",
    "    StructField(\"_id\", StringType, nullable = false),\n",
    "    StructField(\"_title\", StringType, nullable = false),\n",
    "    StructField(\"_url\", StringType, nullable = false),\n",
    "    StructField(\"text\", ArrayType(text_schema), nullable=false)\n",
    "  ))\n",
    "\n",
    "  val forum_schema = StructType(Array(\n",
    "    StructField(\"_id\", StringType, nullable = false),\n",
    "    StructField(\"_title\", StringType, nullable = false),\n",
    "    StructField(\"_url\", StringType, nullable = false),\n",
    "    StructField(\"thread\", ArrayType(thread_schema), nullable=false)\n",
    "  ))\n",
    "\n",
    "  val corpus_schema = StructType(Array(\n",
    "    StructField(\"_id\", StringType, nullable = false),\n",
    "    StructField(\"forum\", forum_schema, nullable=false)\n",
    "  ))\n",
    "\n",
    "  spark.read\n",
    "    .option(\"rowTag\", \"forum\")\n",
    "    .schema(forum_schema)\n",
    "    .xml(file_name)//.cache()\n",
    " }\n",
    "\n",
    "\n",
    "def get_dataset(file_name: String) : org.apache.spark.sql.DataFrame = {\n",
    "  val xml_df = read_xml(file_name)\n",
    "  val splitted_name = file_name.split(\"/\")\n",
    "  val forum = splitted_name(splitted_name.size-2)\n",
    "  val corpus = splitted_name(splitted_name.size-1)\n",
    "  val value = udf((arr: Seq[String]) => arr.mkString(\",\"))\n",
    "  xml_df.select(//col(\"_id\") as \"corpus_id\",\n",
    "                     col(\"_id\") as \"forum_id\",\n",
    "                     col(\"_title\") as \"forum_title\",\n",
    "                     col(\"thread._id\") as \"thread_id\",\n",
    "                     col(\"thread._title\") as \"thread_title\",\n",
    "                     flatten(col(\"thread.text.sentence.w\")) as \"w\")\n",
    "                .withColumn(\"w\", explode($\"w\"))\n",
    "               .groupBy(\"thread_id\")\n",
    "               .agg(first(\"thread_title\") as(\"thread_title\"),\n",
    "                    collect_list(\"w\") as \"w\",\n",
    "                    first(\"forum_id\") as \"forum_id\",\n",
    "                    first(\"forum_title\") as \"forum_title\")//,\n",
    "                    //first(\"corpus_id\") as \"corpus_id\")\n",
    "               .withColumn(\"w\", value($\"w\"))\n",
    "               .withColumn(\"thread_title\", value($\"thread_title\"))\n",
    "               .withColumn(\"forum_id\", value($\"forum_id\"))\n",
    "               .withColumn(\"forum_title\", value($\"forum_title\"))\n",
    "               .withColumn(\"platform\", lit(forum))\n",
    "               .withColumn(\"corpus_id\", lit(corpus))//($\"corpus_id\"))\n",
    "}"
   ]
  },
  {
   "cell_type": "markdown",
   "metadata": {},
   "source": [
    "  \n",
    "\n",
    ">     import org.apache.spark.sql.functions.{col, concat_ws, udf, flatten, explode, collect_list, collect_set, lit}\n",
    ">     import org.apache.spark.sql.types.{ArrayType, StructType, StructField, StringType, IntegerType}\n",
    ">     import com.databricks.spark.xml._\n",
    ">     import org.apache.spark.sql.functions._\n",
    ">     read_xml: (file_name: String)org.apache.spark.sql.DataFrame\n",
    ">     get_dataset: (file_name: String)org.apache.spark.sql.DataFrame"
   ]
  },
  {
   "cell_type": "code",
   "execution_count": null,
   "metadata": {},
   "outputs": [],
   "source": [
    "val file_name = \"dbfs:/datasets/student-project-01/familjeliv/familjeliv-adoption.xml\"\n",
    "val df = read_xml(file_name).cache()\n",
    "df.printSchema()"
   ]
  },
  {
   "cell_type": "markdown",
   "metadata": {},
   "source": [
    "  \n",
    "\n",
    ">     root\n",
    ">      |-- _id: string (nullable = false)\n",
    ">      |-- _title: string (nullable = false)\n",
    ">      |-- _url: string (nullable = false)\n",
    ">      |-- thread: array (nullable = false)\n",
    ">      |    |-- element: struct (containsNull = true)\n",
    ">      |    |    |-- _id: string (nullable = false)\n",
    ">      |    |    |-- _title: string (nullable = false)\n",
    ">      |    |    |-- _url: string (nullable = false)\n",
    ">      |    |    |-- text: struct (nullable = false)\n",
    ">      |    |    |    |-- sentence: array (nullable = false)\n",
    ">      |    |    |    |    |-- element: struct (containsNull = true)\n",
    ">      |    |    |    |    |    |-- w: array (nullable = true)\n",
    ">      |    |    |    |    |    |    |-- element: string (containsNull = true)\n",
    ">\n",
    ">     file_name: String = dbfs:/datasets/student-project-01/familjeliv/familjeliv-adoption.xml\n",
    ">     df: org.apache.spark.sql.Dataset[org.apache.spark.sql.Row] = [_id: string, _title: string ... 2 more fields]"
   ]
  },
  {
   "cell_type": "code",
   "execution_count": null,
   "metadata": {},
   "outputs": [],
   "source": [
    "df.select(\"thread._id\").count()"
   ]
  },
  {
   "cell_type": "markdown",
   "metadata": {},
   "source": [
    "  \n",
    "\n",
    ">     res122: Long = 44"
   ]
  },
  {
   "cell_type": "code",
   "execution_count": null,
   "metadata": {},
   "outputs": [],
   "source": [
    "display(df.select(\"thread._id\"))"
   ]
  },
  {
   "cell_type": "markdown",
   "metadata": {},
   "source": []
  },
  {
   "cell_type": "code",
   "execution_count": null,
   "metadata": {},
   "outputs": [],
   "source": [
    "tmp.show(1)"
   ]
  },
  {
   "cell_type": "markdown",
   "metadata": {},
   "source": [
    "  \n",
    "\n",
    ">     +--------------------+\n",
    ">     |                   w|\n",
    ">     +--------------------+\n",
    ">     |[[Kostnader, finn...|\n",
    ">     +--------------------+\n",
    ">     only showing top 1 row"
   ]
  },
  {
   "cell_type": "code",
   "execution_count": null,
   "metadata": {},
   "outputs": [],
   "source": [
    "df.select(flatten(col(\"thread\"))).count()"
   ]
  },
  {
   "cell_type": "markdown",
   "metadata": {},
   "source": []
  },
  {
   "cell_type": "code",
   "execution_count": null,
   "metadata": {},
   "outputs": [],
   "source": [
    "df.select(flatten(col(\"thread.text.sentence.w\")) as \"w\").count()"
   ]
  },
  {
   "cell_type": "markdown",
   "metadata": {},
   "source": [
    "  \n",
    "\n",
    ">     res102: Long = 44"
   ]
  },
  {
   "cell_type": "code",
   "execution_count": null,
   "metadata": {},
   "outputs": [],
   "source": [
    "def read_xml(file_name: String): org.apache.spark.sql.DataFrame = {\n",
    "  val word_schema = StructType(Array(\n",
    "    StructField(\"_lemma\", StringType, nullable=false)))\n",
    "\n",
    "  val sentence_schema = StructType(Array(\n",
    "    StructField(\"w\", ArrayType(StringType, true), nullable=true)\n",
    "  ))\n",
    "  val text_schema = StructType(Array(\n",
    "    StructField(\"_url\", StringType, nullable = false),\n",
    "     StructField(\"sentence\", ArrayType(sentence_schema), nullable=false)\n",
    "  ))\n",
    "\n",
    "  val thread_schema = StructType(Array(\n",
    "    StructField(\"_id\", StringType, nullable = false),\n",
    "    StructField(\"_title\", StringType, nullable = false),\n",
    "    StructField(\"_url\", StringType, nullable = false),\n",
    "    StructField(\"text\", ArrayType(text_schema), nullable=false)\n",
    "  ))\n",
    "\n",
    "  val forum_schema = StructType(Array(\n",
    "    StructField(\"_id\", StringType, nullable = false),\n",
    "    StructField(\"_title\", StringType, nullable = false),\n",
    "    StructField(\"_url\", StringType, nullable = false),\n",
    "    StructField(\"thread\", ArrayType(thread_schema), nullable=false)\n",
    "  ))\n",
    "\n",
    "  val corpus_schema = StructType(Array(\n",
    "    StructField(\"_id\", StringType, nullable = false),\n",
    "    StructField(\"forum\", forum_schema, nullable=false)\n",
    "  ))\n",
    "\n",
    "  spark.read\n",
    "    .option(\"rowTag\", \"text\")\n",
    "    .schema(text_schema)\n",
    "    .xml(file_name)//.cache()\n",
    " }"
   ]
  },
  {
   "cell_type": "markdown",
   "metadata": {},
   "source": [
    "  \n",
    "\n",
    ">     read_xml: (file_name: String)org.apache.spark.sql.DataFrame"
   ]
  },
  {
   "cell_type": "code",
   "execution_count": null,
   "metadata": {},
   "outputs": [],
   "source": [
    "val file_name = \"dbfs:/datasets/student-project-01/familjeliv/familjeliv-adoption.xml\"\n",
    "val df = read_xml(file_name).cache()"
   ]
  },
  {
   "cell_type": "markdown",
   "metadata": {},
   "source": [
    "  \n",
    "\n",
    ">     file_name: String = dbfs:/datasets/student-project-01/familjeliv/familjeliv-adoption.xml\n",
    ">     df: org.apache.spark.sql.Dataset[org.apache.spark.sql.Row] = [_url: string, sentence: array<struct<w:array<string>>>]"
   ]
  },
  {
   "cell_type": "code",
   "execution_count": null,
   "metadata": {},
   "outputs": [],
   "source": [
    "df.printSchema()"
   ]
  },
  {
   "cell_type": "markdown",
   "metadata": {},
   "source": [
    "  \n",
    "\n",
    ">     root\n",
    ">      |-- _url: string (nullable = false)\n",
    ">      |-- sentence: array (nullable = false)\n",
    ">      |    |-- element: struct (containsNull = true)\n",
    ">      |    |    |-- w: array (nullable = true)\n",
    ">      |    |    |    |-- element: string (containsNull = true)\n",
    "\n",
    "  \n",
    "\n",
    ">     import org.apache.spark.sql.functions.{col, concat_ws, udf, flatten, explode, collect_list, collect_set, lit}\n",
    ">     import org.apache.spark.sql.types.{ArrayType, StructType, StructField, StringType, IntegerType}\n",
    ">     import com.databricks.spark.xml._\n",
    ">     import org.apache.spark.sql.functions._\n",
    ">     read_xml: (file_name: String)org.apache.spark.sql.DataFrame\n",
    ">     get_dataset: (file_name: String)org.apache.spark.sql.DataFrame"
   ]
  },
  {
   "cell_type": "code",
   "execution_count": null,
   "metadata": {},
   "outputs": [],
   "source": [
    "import org.apache.spark.sql.functions._\n",
    "val df = read_xml(file_name)"
   ]
  },
  {
   "cell_type": "markdown",
   "metadata": {},
   "source": [
    "  \n",
    "\n",
    ">     import org.apache.spark.sql.functions._\n",
    ">     df: org.apache.spark.sql.DataFrame = [_url: string, sentence: array<struct<w:array<string>>>]"
   ]
  },
  {
   "cell_type": "code",
   "execution_count": null,
   "metadata": {},
   "outputs": [],
   "source": [
    "df.printSchema()"
   ]
  },
  {
   "cell_type": "markdown",
   "metadata": {},
   "source": [
    "  \n",
    "\n",
    ">     root\n",
    ">      |-- _url: string (nullable = false)\n",
    ">      |-- sentence: array (nullable = false)\n",
    ">      |    |-- element: struct (containsNull = true)\n",
    ">      |    |    |-- w: array (nullable = true)\n",
    ">      |    |    |    |-- element: string (containsNull = true)"
   ]
  },
  {
   "cell_type": "code",
   "execution_count": null,
   "metadata": {},
   "outputs": [],
   "source": [
    "val splitted_name = file_name.split(\"/\")\n",
    "val forum = splitted_name(splitted_name.size-2)\n",
    "val corpus = splitted_name(splitted_name.size-1)\n",
    "val value = udf((arr: Seq[String]) => arr.mkString(\",\"))\n",
    "val tmp_df = df.select(//col(\"_id\") as \"corpus_id\",\n",
    "                     col(\"_url\") as \"url\",\n",
    "                     flatten(col(\"sentence.w\")) as \"w\")\n",
    "                .withColumn(\"w\", explode($\"w\"))\n",
    "               .groupBy(\"url\")\n",
    "               .agg(first(\"url\"),\n",
    "                    collect_list(\"w\") as \"w\")\n",
    "               .withColumn(\"w\", value($\"w\"))\n",
    "               .withColumn(\"url\", value($\"url\"))\n",
    "               .withColumn(\"platform\", lit(forum))\n",
    "               .withColumn(\"corpus_id\", lit(corpus))//($\"corpus_id\"))"
   ]
  },
  {
   "cell_type": "markdown",
   "metadata": {},
   "source": [
    "  \n",
    "\n",
    ">     splitted_name: Array[String] = Array(dbfs:, datasets, student-project-01, familjeliv, familjeliv-adoption.xml)\n",
    ">     forum: String = familjeliv\n",
    ">     corpus: String = familjeliv-adoption.xml\n",
    ">     value: org.apache.spark.sql.expressions.UserDefinedFunction = SparkUserDefinedFunction($Lambda$8471/607595883@17f79ae6,StringType,List(Some(class[value[0]: array<string>])),None,true,true)\n",
    ">     tmp_df: org.apache.spark.sql.DataFrame = [url: string, first(url): string ... 3 more fields]"
   ]
  },
  {
   "cell_type": "code",
   "execution_count": null,
   "metadata": {},
   "outputs": [],
   "source": [
    "tmp_df.show()"
   ]
  },
  {
   "cell_type": "markdown",
   "metadata": {},
   "source": []
  },
  {
   "cell_type": "code",
   "execution_count": null,
   "metadata": {},
   "outputs": [],
   "source": [
    "df.count()"
   ]
  },
  {
   "cell_type": "markdown",
   "metadata": {},
   "source": [
    "  \n",
    "\n",
    ">     res72: Long = 701364"
   ]
  },
  {
   "cell_type": "code",
   "execution_count": null,
   "metadata": {},
   "outputs": [],
   "source": [
    "  val xml_df = read_xml(file_name)\n",
    "  val splitted_name = file_name.split(\"/\")\n",
    "  val forum = splitted_name(splitted_name.size-2)\n",
    "  val corpus = splitted_name(splitted_name.size-1)\n",
    "  val value = udf((arr: Seq[String]) => arr.mkString(\",\"))\n",
    "  val tmp_df = df.select(col(\"_id\") as \"forum_id\",\n",
    "                         col(\"_title\") as \"forum_title\",\n",
    "                         flatten(col(\"thread\")) as \"thread\")\n",
    "                //.withColumn(\"thread_id\", explode($\"thread_id\"))"
   ]
  },
  {
   "cell_type": "markdown",
   "metadata": {},
   "source": []
  },
  {
   "cell_type": "code",
   "execution_count": null,
   "metadata": {},
   "outputs": [],
   "source": [
    "xml_df.where($\"thread._id\" === \"68790623\").show()"
   ]
  },
  {
   "cell_type": "markdown",
   "metadata": {},
   "source": [
    "  \n",
    "\n",
    "  \n",
    "\n",
    ">     file_name: String = dbfs:/datasets/student-project-01/familjeliv/familjeliv-adoption.xml\n",
    ">     df: org.apache.spark.sql.DataFrame = [thread_id: string, thread_title: string ... 5 more fields]"
   ]
  },
  {
   "cell_type": "code",
   "execution_count": null,
   "metadata": {},
   "outputs": [],
   "source": [
    "df.printSchema()"
   ]
  },
  {
   "cell_type": "markdown",
   "metadata": {},
   "source": [
    "  \n",
    "\n",
    ">     root\n",
    ">      |-- _id: string (nullable = false)\n",
    ">      |-- _title: string (nullable = false)\n",
    ">      |-- _url: string (nullable = false)\n",
    ">      |-- thread: struct (nullable = false)\n",
    ">      |    |-- _id: string (nullable = false)\n",
    ">      |    |-- _title: string (nullable = false)\n",
    ">      |    |-- _url: string (nullable = false)\n",
    ">      |    |-- text: struct (nullable = false)\n",
    ">      |    |    |-- sentence: array (nullable = false)\n",
    ">      |    |    |    |-- element: struct (containsNull = true)\n",
    ">      |    |    |    |    |-- w: array (nullable = true)\n",
    ">      |    |    |    |    |    |-- element: string (containsNull = true)"
   ]
  },
  {
   "cell_type": "code",
   "execution_count": null,
   "metadata": {},
   "outputs": [],
   "source": [
    "val splitted_name = file_name.split(\"/\")\n",
    " val forum = splitted_name(splitted_name.size-2)\n",
    " val corpus = splitted_name(splitted_name.size-1)\n",
    " val value = udf((arr: Seq[String]) => arr.mkString(\",\"))\n",
    " val tmp_df = df.select(//col(\"_id\") as \"corpus_id\",\n",
    "                     col(\"_id\") as \"forum_id\",\n",
    "                     col(\"_title\") as \"forum_title\",\n",
    "                     flatten(col(\"thread._id\")) as \"thread_id\",\n",
    "                     flatten(col(\"thread._title\")) as \"thread_title\",\n",
    "                     flatten(col(\"thread.text.sentence.w\")) as \"w\")\n",
    "                .withColumn(\"w\", explode($\"w\"))\n",
    "               //.groupBy(\"thread_id\")"
   ]
  },
  {
   "cell_type": "markdown",
   "metadata": {},
   "source": []
  },
  {
   "cell_type": "code",
   "execution_count": null,
   "metadata": {},
   "outputs": [],
   "source": [
    "val tmp2_df = tmp_df.agg(collect_list(\"w\") as \"w\")"
   ]
  },
  {
   "cell_type": "markdown",
   "metadata": {},
   "source": [
    "  \n",
    "\n",
    ">     tmp2_df: org.apache.spark.sql.DataFrame = [thread_id: string, w: array<string>]"
   ]
  },
  {
   "cell_type": "code",
   "execution_count": null,
   "metadata": {},
   "outputs": [],
   "source": [
    "import org.apache.spark.sql.functions.{col,concat_ws, udf, flatten, explode, collect_list, collect_set, lit}\n",
    "import org.apache.spark.sql.types.{ ArrayType, StructType, StructField, StringType, IntegerType }\n",
    "import com.databricks.spark.xml._ // Add the DataFrame.read.xml() method\n",
    "\n",
    "val df = spark.read\n",
    "    .option(\"rootTag\", \"forum\")\n",
    "    .option(\"rowTag\", \"thread\")\n",
    "    .xml(file_name)//.cache()"
   ]
  },
  {
   "cell_type": "markdown",
   "metadata": {},
   "source": []
  },
  {
   "cell_type": "code",
   "execution_count": null,
   "metadata": {},
   "outputs": [],
   "source": [
    "val tmpdf = df.select(\"thread.*\")"
   ]
  },
  {
   "cell_type": "markdown",
   "metadata": {},
   "source": [
    "  \n",
    "\n",
    ">     tmpdf: org.apache.spark.sql.DataFrame = [_id: string, _title: string ... 2 more fields]"
   ]
  },
  {
   "cell_type": "code",
   "execution_count": null,
   "metadata": {},
   "outputs": [],
   "source": [
    "tmpdf.count()"
   ]
  },
  {
   "cell_type": "markdown",
   "metadata": {},
   "source": [
    "  \n",
    "\n",
    ">     res31: Long = 44"
   ]
  },
  {
   "cell_type": "code",
   "execution_count": null,
   "metadata": {},
   "outputs": [],
   "source": [
    "val df2Flatten = tmpdf.toDF(\"fname\",\"mename\",\"lname\",\"currAddState\",\n",
    "    \"currAddCity\",\"prevAddState\",\"prevAddCity\")"
   ]
  },
  {
   "cell_type": "markdown",
   "metadata": {},
   "source": []
  },
  {
   "cell_type": "code",
   "execution_count": null,
   "metadata": {},
   "outputs": [],
   "source": [
    "val tmp_df = df.select(\"thread._id\")"
   ]
  },
  {
   "cell_type": "markdown",
   "metadata": {},
   "source": [
    "  \n",
    "\n",
    ">     tmp_df: org.apache.spark.sql.DataFrame = [_id: string]"
   ]
  },
  {
   "cell_type": "code",
   "execution_count": null,
   "metadata": {},
   "outputs": [],
   "source": [
    "df.select(explode($\"thread\").as(\"exploded\")).select(\"exploded.*\").show"
   ]
  },
  {
   "cell_type": "markdown",
   "metadata": {},
   "source": []
  },
  {
   "cell_type": "code",
   "execution_count": null,
   "metadata": {},
   "outputs": [],
   "source": [
    "import org.apache.spark.sql.Column\n",
    "def flattenStructSchema(schema: StructType, prefix: String = null) : Array[Column] = {\n",
    "    schema.fields.flatMap(f => {\n",
    "      val columnName = if (prefix == null) f.name else (prefix + \".\" + f.name)\n",
    "\n",
    "      f.dataType match {\n",
    "        case st: StructType => flattenStructSchema(st, columnName)\n",
    "        case _ => Array(col(columnName).as(columnName.replace(\".\",\"_\")))\n",
    "      }\n",
    "    })\n",
    "  }\n",
    "\n",
    "val df3 = df.select(flattenStructSchema(df.schema):_*)\n",
    "df3.printSchema()\n",
    "df3.show(false)"
   ]
  },
  {
   "cell_type": "markdown",
   "metadata": {},
   "source": [
    "  \n",
    "\n",
    ">     root\n",
    ">      |-- _id: string (nullable = false)\n",
    ">      |-- _title: string (nullable = false)\n",
    ">      |-- _url: string (nullable = false)\n",
    ">      |-- thread__id: string (nullable = false)\n",
    ">      |-- thread__title: string (nullable = false)\n",
    ">      |-- thread__url: string (nullable = false)\n",
    ">      |-- thread_text_sentence: array (nullable = false)\n",
    ">      |    |-- element: struct (containsNull = true)\n",
    ">      |    |    |-- w: array (nullable = true)\n",
    ">      |    |    |    |-- element: string (containsNull = true)\n",
    ">\n",
    ">     +------+----------------------------+-------------------------------------+----------+----------------------------------------------------------+-------------------------------------------------------------------------------------------------------+--------------------------------------------------------------------------------------------------------------------------------------------------------------------------------------------------------------------------------------------------------------------------------------------------------------------------------------------------------------------------------------------------------------------------------------------------------------------------------------------+\n",
    ">     |_id   |_title                      |_url                                 |thread__id|thread__title                                             |thread__url                                                                                            |thread_text_sentence                                                                                                                                                                                                                                                                                                                                                                                                                                                                        |\n",
    ">     +------+----------------------------+-------------------------------------+----------+----------------------------------------------------------+-------------------------------------------------------------------------------------------------------+--------------------------------------------------------------------------------------------------------------------------------------------------------------------------------------------------------------------------------------------------------------------------------------------------------------------------------------------------------------------------------------------------------------------------------------------------------------------------------------------+\n",
    ">     |13-242|Adoption > Intresserad      |http://www.familjeliv.se/forum/13/242|50052993  |Vad kostar med adoption?                                  |http://www.familjeliv.se/forum/thread/50052993-vad-kostar-med-adoption                                 |[[[Kostnader, finns, det, oavsett, hur, man, får, barnen, .]]]                                                                                                                                                                                                                                                                                                                                                                                                                              |\n",
    ">     |13-242|Adoption > Intresserad      |http://www.familjeliv.se/forum/13/242|44708590  |Några frågor om adoption                                  |http://www.familjeliv.se/forum/thread/44708590-nagra-fragor-om-adoption                                |[[[Man, får, själv, välja, vilka, diagnoser, man, kan, tänka, sig, .]]]                                                                                                                                                                                                                                                                                                                                                                                                                     |\n",
    ">     |13-242|Adoption > Intresserad      |http://www.familjeliv.se/forum/13/242|45589761  |extramamma/kontaktperson/familj                           |http://www.familjeliv.se/forum/thread/45589761-extramammakontaktpersonfamilj                           |[[[Jag, känner, ofta, likadant, .]]]                                                                                                                                                                                                                                                                                                                                                                                                                                                        |\n",
    ">     |13-242|Adoption > Intresserad      |http://www.familjeliv.se/forum/13/242|23672341  |Får man adoptera även om man kan få barn på naturlig väg??|http://www.familjeliv.se/forum/thread/23672341-far-man-adoptera-aven-om-man-kan-fa-barn-pa-naturlig-vag|[[[Men, är, bara, en, liten, del, av, dem, tillgängliga, för, adoption, ...]]]                                                                                                                                                                                                                                                                                                                                                                                                              |\n",
    ">     |13-242|Adoption > Intresserad      |http://www.familjeliv.se/forum/13/242|11606660  |Fler i skåne som ska/vill adoptera?                       |http://www.familjeliv.se/forum/thread/11606660-fler-i-skane-som-skavill-adoptera                       |[[[Tulipanen, ,, ,, kurs, ,, medlem, i, AC, ,, inget, barn]]]                                                                                                                                                                                                                                                                                                                                                                                                                               |\n",
    ">     |13-242|Adoption > Intresserad      |http://www.familjeliv.se/forum/13/242|44344822  |Nya kring adoption II                                     |http://www.familjeliv.se/forum/thread/44344822-nya-kring-adoption-ii                                   |[[[Mäh, ,, namnet, är, ju, inte, alls, svenskt, från, början, utan, förmodligen, spanskt, !]]]                                                                                                                                                                                                                                                                                                                                                                                              |\n",
    ">     |13-243|Adoption > Under utredning  |http://www.familjeliv.se/forum/13/243|15886760  |Att det ska ta sån tid                                    |http://www.familjeliv.se/forum/thread/15886760-att-det-ska-ta-san-tid                                  |[[[Att, adoptera, det, är, \", jobbigt, \", ..., utredning, som, kan, ta, ,, vänta, på, medgivande, ,, fixa, alla, handlingar, ,, vänta, på, BB, ,, längre, handläggningtid, ,, oroligheter, i, landet, ,, ändrade, krav, osv, ..., det, är, inte, lätt, ..., jag, vet, !]]]                                                                                                                                                                                                                  |\n",
    ">     |13-243|Adoption > Under utredning  |http://www.familjeliv.se/forum/13/243|55784777  |Hemutredning nov 2010                                     |http://www.familjeliv.se/forum/thread/55784777-hemutredning-nov-2010                                   |[[[Att, vi, är, trygga, ,, kärleksfulla, och, att, de, anser, att, vi, kan, ta, emot, ett, adoptivbarn, och, ge, detta, barn, en, bra, uppväxt, osv, .]]]                                                                                                                                                                                                                                                                                                                                   |\n",
    ">     |13-243|Adoption > Under utredning  |http://www.familjeliv.se/forum/13/243|20561740  |Utredningen startar ordentligt!                           |http://www.familjeliv.se/forum/thread/20561740-utredningen-startar-ordentligt                          |[[[Hur, stort, huset, är, och, vad, det, är, värderat, till, ungefär, ,, och, hur, stor, tomten, är, .]]]                                                                                                                                                                                                                                                                                                                                                                                   |\n",
    ">     |13-244|Adoption > Väntar barnbesked|http://www.familjeliv.se/forum/13/244|29117832  |Vaccinationer                                             |http://www.familjeliv.se/forum/thread/29117832-vaccinationer                                           |[[[Var, i, kina, och, vaccinerade, mej, endast, med, havrix, .]]]                                                                                                                                                                                                                                                                                                                                                                                                                           |\n",
    ">     |13-244|Adoption > Väntar barnbesked|http://www.familjeliv.se/forum/13/244|32743367  |Hur många har behållt namnet som tilltalsnam...           |http://www.familjeliv.se/forum/thread/32743367-hur-manga-har-behallt-namnet-som-tilltalsnam            |[[[När, vi, adopterade, vår, son, pratade, vi, om, detta, med, namn, men, både, jag, och, maken, (, som, också, är, adopterad, och, är, nöjd, med, sitt, svenska, namn, ), kände, att, vi, ville, ge, sonen, det, namn, som, kändes, bra, och, fint, .]]]                                                                                                                                                                                                                                   |\n",
    ">     |13-244|Adoption > Väntar barnbesked|http://www.familjeliv.se/forum/13/244|10884256  |Jaha.....                                                 |http://www.familjeliv.se/forum/thread/10884256-jaha                                                    |[[[hihihi, ,, jamen, vi, räknar, med, också, ,, för, av, erfarenhet, så, tar, det, ofta, allting, än, vad, man, tror, ....., Inte, ska, du, vara, avis, gumman, !]]]                                                                                                                                                                                                                                                                                                                        |\n",
    ">     |13-245|Adoption > Land             |http://www.familjeliv.se/forum/13/245|21153858  |Etiopien sa nej...                                        |http://www.familjeliv.se/forum/thread/21153858-etiopien-sa-nej                                         |[[[Ta, hand, om, er, .]]]                                                                                                                                                                                                                                                                                                                                                                                                                                                                   |\n",
    ">     |13-245|Adoption > Land             |http://www.familjeliv.se/forum/13/245|45977432  |Vill veta allt om Etiopien!                               |http://www.familjeliv.se/forum/thread/45977432-vill-veta-allt-om-etiopien                              |[[[Men, det, finns, en, lejonpark, som, barn, ska, gilla, .]]]                                                                                                                                                                                                                                                                                                                                                                                                                              |\n",
    ">     |13-245|Adoption > Land             |http://www.familjeliv.se/forum/13/245|61448378  |Adoptera från Polen.                                      |http://www.familjeliv.se/forum/thread/61448378-adoptera-fran-polen                                     |[[[Ett, litet, vilt, troll, Du, kan, läsa, lite, i, min, blogg, från, tiden, i, .]]]                                                                                                                                                                                                                                                                                                                                                                                                        |\n",
    ">     |13-246|Adoption > Hemma igen       |http://www.familjeliv.se/forum/13/246|27055359  |Vem utav er kommer,,,????                                 |http://www.familjeliv.se/forum/thread/27055359-vem-utav-er-kommer                                      |[[[Jag, tycker, att, det, är, viktigt, att, inte, generalisera, barnen, t.ex., genom, att, säga, att, inga, barn, under, 3, har, det, bättre, på, förskolan, än, hemma, .]]]                                                                                                                                                                                                                                                                                                                |\n",
    ">     |13-246|Adoption > Hemma igen       |http://www.familjeliv.se/forum/13/246|56357664  |Svärmor förstår inte                                      |http://www.familjeliv.se/forum/thread/56357664-svarmor-forstar-inte                                    |[[[Men, det, är, väldigt, skönt, som, nybliven, förälder, att, ha, lite, stöd, också, från, äldre, släktingar, som, kan, svänga, ihop, en, köttgryta, när, orken, hos, en, tryter, eller, få, hjälp, med, dammsugningen, i, köket, ,, eller, få, några, kakor, nybakt, bröd, och, en, spann, med, äpplen, ,, eller, någon, som, kunde, passa, och, hålla, när, man, själv, behövde, gå, på, toa, eller, bara, vara, ensam, ,, när, maken, satt, på, möten, eller, var, på, tjänsteresa, .]]]|\n",
    ">     |13-247|Adoption > Förälder         |http://www.familjeliv.se/forum/13/247|28577180  |Hur lång föräldraledighet?                                |http://www.familjeliv.se/forum/thread/28577180-hur-lang-foraldraledighet                               |[[[Kanske, öppna, förskolan, ,, kyrkis, ,, kladdis, eller, ngt, vore, något, ?]]]                                                                                                                                                                                                                                                                                                                                                                                                           |\n",
    ">     |13-247|Adoption > Förälder         |http://www.familjeliv.se/forum/13/247|26816808  |Testamente                                                |http://www.familjeliv.se/forum/thread/26816808-testamente                                              |[[[Det, finns, ändå, inga, garantier, för, att, det, skulle, bli, så, vad, vi, förstått, ,, Nej, ,, för, i, kan, man, inte, testamentera, bort, barn, ,, däremot, kan, man, tillkännage, i, nätverket, och, även, förvara, en, handling, i, barnets, akt, hos, där, det, framgår, hur, man, vill, att, det, skall, ordnas, för, barnet, om, det, händer, onågot, .]]]                                                                                                                       |\n",
    ">     |13-247|Adoption > Förälder         |http://www.familjeliv.se/forum/13/247|53847781  |Anknytning                                                |http://www.familjeliv.se/forum/thread/53847781-anknytning                                              |[[[Då, har, det, gått, sedan, vi, fick, dem, .]]]                                                                                                                                                                                                                                                                                                                                                                                                                                           |\n",
    ">     +------+----------------------------+-------------------------------------+----------+----------------------------------------------------------+-------------------------------------------------------------------------------------------------------+--------------------------------------------------------------------------------------------------------------------------------------------------------------------------------------------------------------------------------------------------------------------------------------------------------------------------------------------------------------------------------------------------------------------------------------------------------------------------------------------+\n",
    ">     only showing top 20 rows\n",
    ">\n",
    ">     import org.apache.spark.sql.Column\n",
    ">     flattenStructSchema: (schema: org.apache.spark.sql.types.StructType, prefix: String)Array[org.apache.spark.sql.Column]\n",
    ">     df3: org.apache.spark.sql.DataFrame = [_id: string, _title: string ... 5 more fields]"
   ]
  },
  {
   "cell_type": "code",
   "execution_count": null,
   "metadata": {},
   "outputs": [],
   "source": [
    "df3.select(\"thread_text_sentence\").show()"
   ]
  },
  {
   "cell_type": "markdown",
   "metadata": {},
   "source": [
    "  \n",
    "\n",
    ">     +--------------------+\n",
    ">     |thread_text_sentence|\n",
    ">     +--------------------+\n",
    ">     |[[[Kostnader, fin...|\n",
    ">     |[[[Man, får, själ...|\n",
    ">     |[[[Jag, känner, o...|\n",
    ">     |[[[Men, är, bara,...|\n",
    ">     |[[[Tulipanen, ,, ...|\n",
    ">     |[[[Mäh, ,, namnet...|\n",
    ">     |[[[Att, adoptera,...|\n",
    ">     |[[[Att, vi, är, t...|\n",
    ">     |[[[Hur, stort, hu...|\n",
    ">     |[[[Var, i, kina, ...|\n",
    ">     |[[[När, vi, adopt...|\n",
    ">     |[[[hihihi, ,, jam...|\n",
    ">     |[[[Ta, hand, om, ...|\n",
    ">     |[[[Men, det, finn...|\n",
    ">     |[[[Ett, litet, vi...|\n",
    ">     |[[[Jag, tycker, a...|\n",
    ">     |[[[Men, det, är, ...|\n",
    ">     |[[[Kanske, öppna,...|\n",
    ">     |[[[Det, finns, än...|\n",
    ">     |[[[Då, har, det, ...|\n",
    ">     +--------------------+\n",
    ">     only showing top 20 rows"
   ]
  },
  {
   "cell_type": "code",
   "execution_count": null,
   "metadata": {},
   "outputs": [],
   "source": [
    "tmp_df.count()"
   ]
  },
  {
   "cell_type": "markdown",
   "metadata": {},
   "source": [
    "  \n",
    "\n",
    ">     res47: Long = 44"
   ]
  },
  {
   "cell_type": "code",
   "execution_count": null,
   "metadata": {},
   "outputs": [],
   "source": [
    "tmp_df.show()"
   ]
  },
  {
   "cell_type": "markdown",
   "metadata": {},
   "source": [
    "  \n",
    "\n",
    ">     +--------+--------------------+--------------------+--------------------+\n",
    ">     |     _id|              _title|                _url|                text|\n",
    ">     +--------+--------------------+--------------------+--------------------+\n",
    ">     |50052993|Vad kostar med ad...|http://www.familj...|[[[[Kostnader, fi...|\n",
    ">     |44708590|Några frågor om a...|http://www.familj...|[[[[Man, får, sjä...|\n",
    ">     |45589761|extramamma/kontak...|http://www.familj...|[[[[Jag, känner, ...|\n",
    ">     |23672341|Får man adoptera ...|http://www.familj...|[[[[Men, är, bara...|\n",
    ">     |11606660|Fler i skåne som ...|http://www.familj...|[[[[Tulipanen, ,,...|\n",
    ">     |44344822|Nya kring adoptio...|http://www.familj...|[[[[Mäh, ,, namne...|\n",
    ">     |15886760|Att det ska ta så...|http://www.familj...|[[[[Att, adoptera...|\n",
    ">     |55784777|Hemutredning nov ...|http://www.familj...|[[[[Att, vi, är, ...|\n",
    ">     |20561740|Utredningen start...|http://www.familj...|[[[[Hur, stort, h...|\n",
    ">     |29117832|       Vaccinationer|http://www.familj...|[[[[Var, i, kina,...|\n",
    ">     |32743367|Hur många har beh...|http://www.familj...|[[[[När, vi, adop...|\n",
    ">     |10884256|           Jaha.....|http://www.familj...|[[[[hihihi, ,, ja...|\n",
    ">     |21153858|  Etiopien sa nej...|http://www.familj...|[[[[Ta, hand, om,...|\n",
    ">     |45977432|Vill veta allt om...|http://www.familj...|[[[[Men, det, fin...|\n",
    ">     |61448378|Adoptera från Polen.|http://www.familj...|[[[[Ett, litet, v...|\n",
    ">     |27055359|Vem utav er komme...|http://www.familj...|[[[[Jag, tycker, ...|\n",
    ">     |56357664|Svärmor förstår inte|http://www.familj...|[[[[Men, det, är,...|\n",
    ">     |28577180|Hur lång föräldra...|http://www.familj...|[[[[Kanske, öppna...|\n",
    ">     |26816808|          Testamente|http://www.familj...|[[[[Det, finns, ä...|\n",
    ">     |53847781|          Anknytning|http://www.familj...|[[[[Då, har, det,...|\n",
    ">     +--------+--------------------+--------------------+--------------------+\n",
    ">     only showing top 20 rows"
   ]
  },
  {
   "cell_type": "code",
   "execution_count": null,
   "metadata": {},
   "outputs": [],
   "source": [
    "import org.apache.spark.sql.functions.{col,concat_ws, udf, flatten, explode, collect_list, collect_set, lit}\n",
    "import org.apache.spark.sql.types.{ ArrayType, StructType, StructField, StringType, IntegerType }\n",
    "val temp_df = df.groupBy(\"_id\").agg(collect_list(\"thread\"))"
   ]
  },
  {
   "cell_type": "markdown",
   "metadata": {},
   "source": [
    "  \n",
    "\n",
    ">     import org.apache.spark.sql.functions.{col, concat_ws, udf, flatten, explode, collect_list, collect_set, lit}\n",
    ">     import org.apache.spark.sql.types.{ArrayType, StructType, StructField, StringType, IntegerType}\n",
    ">     temp_df: org.apache.spark.sql.DataFrame = [_id: string, collect_list(thread): array<struct<_id:string,_title:string,_url:string,text:struct<sentence:array<struct<w:array<string>>>>>>]"
   ]
  },
  {
   "cell_type": "code",
   "execution_count": null,
   "metadata": {},
   "outputs": [],
   "source": [
    "display(temp_df)"
   ]
  },
  {
   "cell_type": "markdown",
   "metadata": {},
   "source": []
  },
  {
   "cell_type": "code",
   "execution_count": null,
   "metadata": {},
   "outputs": [],
   "source": [
    "df.map(thread -> RowFactory.create(thread.getId(), RowFactory.create(thread.)))"
   ]
  },
  {
   "cell_type": "markdown",
   "metadata": {},
   "source": []
  },
  {
   "cell_type": "code",
   "execution_count": null,
   "metadata": {},
   "outputs": [],
   "source": [
    "df.select(\"_id\", \"thread._id\").show(false)"
   ]
  },
  {
   "cell_type": "markdown",
   "metadata": {},
   "source": [
    "  \n",
    "\n",
    ">     +------+--------+\n",
    ">     |_id   |_id     |\n",
    ">     +------+--------+\n",
    ">     |13-242|50052993|\n",
    ">     |13-242|44708590|\n",
    ">     |13-242|45589761|\n",
    ">     |13-242|23672341|\n",
    ">     |13-242|11606660|\n",
    ">     |13-242|44344822|\n",
    ">     |13-243|15886760|\n",
    ">     |13-243|55784777|\n",
    ">     |13-243|20561740|\n",
    ">     |13-244|29117832|\n",
    ">     |13-244|32743367|\n",
    ">     |13-244|10884256|\n",
    ">     |13-245|21153858|\n",
    ">     |13-245|45977432|\n",
    ">     |13-245|61448378|\n",
    ">     |13-246|27055359|\n",
    ">     |13-246|56357664|\n",
    ">     |13-247|28577180|\n",
    ">     |13-247|26816808|\n",
    ">     |13-247|53847781|\n",
    ">     +------+--------+\n",
    ">     only showing top 20 rows"
   ]
  },
  {
   "cell_type": "code",
   "execution_count": null,
   "metadata": {},
   "outputs": [],
   "source": [
    "\n",
    "import org.apache.spark.sql.types.{ ArrayType, StructType, StructField, StringType }\n",
    "import com.databricks.spark.xml._ // Add the DataFrame.read.xml() method\n",
    "\n",
    "def read_xml(file_name: String): org.apache.spark.sql.DataFrame = {\n",
    "  val word_schema = StructType(Array(\n",
    "    StructField(\"_lemma\", StringType, nullable=false)))\n",
    "\n",
    "  val sentence_schema = StructType(Array(\n",
    "    StructField(\"w\", ArrayType(StringType, true), nullable=true)\n",
    "  ))\n",
    "  val text_schema = StructType(Array(\n",
    "     StructField(\"sentence\", ArrayType(sentence_schema), nullable=false)\n",
    "  ))\n",
    "\n",
    "  val thread_schema = StructType(Array(\n",
    "    StructField(\"_id\", StringType, nullable = false),\n",
    "    StructField(\"_title\", StringType, nullable = false),\n",
    "    StructField(\"_url\", StringType, nullable = false),\n",
    "    StructField(\"text\", text_schema, nullable=false)\n",
    "  ))\n",
    "\n",
    "  val forum_schema = StructType(Array(\n",
    "    StructField(\"_id\", StringType, nullable = false),\n",
    "    StructField(\"_title\", StringType, nullable = false),\n",
    "    StructField(\"_url\", StringType, nullable = false),\n",
    "    StructField(\"thread\", thread_schema, nullable=false)\n",
    "  ))\n",
    "\n",
    "  val corpus_schema = StructType(Array(\n",
    "    StructField(\"_id\", StringType, nullable = false),\n",
    "    StructField(\"forum\", forum_schema, nullable=false)\n",
    "  ))\n",
    "\n",
    "  spark.read\n",
    "    .option(\"rowTag\", \"forum\")\n",
    "    .schema(forum_schema)\n",
    "    .xml(file_name)//.cache()\n",
    " }"
   ]
  },
  {
   "cell_type": "markdown",
   "metadata": {},
   "source": [
    "  \n",
    "\n",
    ">     import org.apache.spark.sql.types.{ArrayType, StructType, StructField, StringType}\n",
    ">     import com.databricks.spark.xml._\n",
    ">     read_xml: (file_name: String)org.apache.spark.sql.DataFrame\n",
    "\n",
    "  \n",
    "\n",
    ">     res86: Long = 44\n",
    "\n",
    "  \n",
    "\n",
    ">     df_temp: org.apache.spark.sql.DataFrame = [_id: string, _title: string ... 2 more fields]"
   ]
  },
  {
   "cell_type": "code",
   "execution_count": null,
   "metadata": {},
   "outputs": [],
   "source": [
    "\n",
    "def get_dataset(file_name: String) : org.apache.spark.sql.DataFrame = {\n",
    "  val xml_df = read_xml(file_name)\n",
    "  val splitted_name = file_name.split(\"/\")\n",
    "  val forum = splitted_name(splitted_name.size-2)\n",
    "  val corpus = splitted_name(splitted_name.size-1)\n",
    "  val value = udf((arr: Seq[String]) => arr.mkString(\",\"))\n",
    "  xml_df.select(//col(\"_id\") as \"corpus_id\",\n",
    "                     col(\"_id\") as \"forum_id\",\n",
    "                     col(\"_title\") as \"forum_title\",\n",
    "                     col(\"thread._id\") as \"thread_id\",\n",
    "                     col(\"thread._title\") as \"thread_title\",\n",
    "                     flatten(col(\"thread.text.sentence.w\")) as \"w\")\n",
    "                .withColumn(\"w\", explode($\"w\"))\n",
    "               .groupBy(\"thread_id\")\n",
    "               .agg(collect_set(\"thread_title\") as \"thread_title\",\n",
    "                    collect_list(\"w\") as \"w\",\n",
    "                    collect_set(\"forum_id\") as \"forum_id\",\n",
    "                    collect_set(\"forum_title\") as \"forum_title\")\n",
    "                    //collect_set(\"corpus_id\") as \"corpus_id\")\n",
    "               .withColumn(\"w\", value($\"w\"))\n",
    "               .withColumn(\"thread_title\", value($\"thread_title\"))\n",
    "               .withColumn(\"forum_id\", value($\"forum_id\"))\n",
    "               .withColumn(\"forum_title\", value($\"forum_title\"))\n",
    "               .withColumn(\"platform\", lit(forum))\n",
    "               .withColumn(\"corpus_id\", lit(corpus))//($\"corpus_id\"))\n",
    "}"
   ]
  },
  {
   "cell_type": "markdown",
   "metadata": {},
   "source": [
    "  \n",
    "\n",
    ">     get_dataset: (file_name: String)org.apache.spark.sql.DataFrame\n",
    "\n",
    "  \n",
    "\n",
    ">     root\n",
    ">      |-- thread_id: string (nullable = false)\n",
    ">      |-- thread_title: string (nullable = true)\n",
    ">      |-- w: string (nullable = true)\n",
    ">      |-- forum_id: string (nullable = true)\n",
    ">      |-- forum_title: string (nullable = true)\n",
    ">      |-- platform: string (nullable = false)\n",
    ">      |-- corpus_id: string (nullable = false)"
   ]
  },
  {
   "cell_type": "code",
   "execution_count": null,
   "metadata": {},
   "outputs": [],
   "source": [
    "val file_name = \"dbfs:/datasets/student-project-01/familjeliv/familjeliv-adoption.xml\"\n",
    "val df = get_dataset(file_name)\n",
    "val file_name2 = \"dbfs:/datasets/student-project-01/flashback/flashback-droger.xml\"\n",
    "val df2 = get_dataset(file_name2)"
   ]
  },
  {
   "cell_type": "markdown",
   "metadata": {},
   "source": [
    "  \n",
    "\n",
    ">     file_name: String = dbfs:/datasets/student-project-01/familjeliv/familjeliv-adoption.xml\n",
    ">     df: org.apache.spark.sql.DataFrame = [thread_id: string, thread_title: string ... 5 more fields]\n",
    ">     file_name2: String = dbfs:/datasets/student-project-01/flashback/flashback-droger.xml\n",
    ">     df2: org.apache.spark.sql.DataFrame = [thread_id: string, thread_title: string ... 5 more fields]"
   ]
  },
  {
   "cell_type": "code",
   "execution_count": null,
   "metadata": {},
   "outputs": [],
   "source": [
    "val df_merged = df.unionAll(df2).cache()"
   ]
  },
  {
   "cell_type": "markdown",
   "metadata": {},
   "source": [
    "  \n",
    "\n",
    ">     df_merged: org.apache.spark.sql.Dataset[org.apache.spark.sql.Row] = [thread_id: string, thread_title: string ... 5 more fields]"
   ]
  },
  {
   "cell_type": "code",
   "execution_count": null,
   "metadata": {},
   "outputs": [],
   "source": [
    "df_merged.printSchema()"
   ]
  },
  {
   "cell_type": "markdown",
   "metadata": {},
   "source": [
    "  \n",
    "\n",
    ">     root\n",
    ">      |-- thread_id: string (nullable = false)\n",
    ">      |-- thread_title: string (nullable = true)\n",
    ">      |-- w: string (nullable = true)\n",
    ">      |-- forum_id: string (nullable = true)\n",
    ">      |-- forum_title: string (nullable = true)\n",
    ">      |-- platform: string (nullable = false)\n",
    ">      |-- corpus_id: string (nullable = false)"
   ]
  },
  {
   "cell_type": "code",
   "execution_count": null,
   "metadata": {},
   "outputs": [],
   "source": [
    "df_merged.show(1)"
   ]
  },
  {
   "cell_type": "markdown",
   "metadata": {},
   "source": [
    "  \n",
    "\n",
    ">     +---------+--------------------+--------------------+--------+--------------------+----------+--------------------+\n",
    ">     |thread_id|        thread_title|                   w|forum_id|         forum_title|  platform|           corpus_id|\n",
    ">     +---------+--------------------+--------------------+--------+--------------------+----------+--------------------+\n",
    ">     | 74178773|I tankar om adopt...|Så,här,i,efterhan...|  13-392|Adoption > Hjälp/Råd|familjeliv|familjeliv-adopti...|\n",
    ">     +---------+--------------------+--------------------+--------+--------------------+----------+--------------------+\n",
    ">     only showing top 1 row"
   ]
  },
  {
   "cell_type": "code",
   "execution_count": null,
   "metadata": {},
   "outputs": [],
   "source": [
    "display(df_merged)"
   ]
  },
  {
   "cell_type": "markdown",
   "metadata": {},
   "source": [
    "  \n",
    "\n",
    "[TABLE]\n",
    "\n",
    "Truncated to 30 rows"
   ]
  },
  {
   "cell_type": "code",
   "execution_count": null,
   "metadata": {},
   "outputs": [],
   "source": [
    "df_merged.where(col(\"forum_id\") === 13 && col(\"platform\") === \"flashback\").select(\"w\")"
   ]
  },
  {
   "cell_type": "markdown",
   "metadata": {},
   "source": [
    "  \n",
    "\n",
    ">     res53: org.apache.spark.sql.DataFrame = [w: string]"
   ]
  },
  {
   "cell_type": "code",
   "execution_count": null,
   "metadata": {},
   "outputs": [],
   "source": [
    "df2.printSchema()"
   ]
  },
  {
   "cell_type": "markdown",
   "metadata": {},
   "source": [
    "  \n",
    "\n",
    ">     root\n",
    ">      |-- thread_id: string (nullable = false)\n",
    ">      |-- thread_title: string (nullable = true)\n",
    ">      |-- w: string (nullable = true)\n",
    ">      |-- forum_id: string (nullable = true)\n",
    ">      |-- forum_title: string (nullable = true)\n",
    ">      |-- platform: string (nullable = false)\n",
    ">      |-- corpus_id: string (nullable = false)"
   ]
  },
  {
   "cell_type": "code",
   "execution_count": null,
   "metadata": {},
   "outputs": [],
   "source": [
    "file_name.split(\"/\").last"
   ]
  },
  {
   "cell_type": "markdown",
   "metadata": {},
   "source": [
    "  \n",
    "\n",
    ">     res26: String = familjeliv-adoption.xml"
   ]
  },
  {
   "cell_type": "code",
   "execution_count": null,
   "metadata": {},
   "outputs": [],
   "source": [
    "df"
   ]
  },
  {
   "cell_type": "markdown",
   "metadata": {},
   "source": [
    "  \n",
    "\n",
    ">     res27: org.apache.spark.sql.Dataset[org.apache.spark.sql.Row] = [_id: string, forum: struct<_id: string, _title: string ... 2 more fields>]"
   ]
  },
  {
   "cell_type": "code",
   "execution_count": null,
   "metadata": {},
   "outputs": [],
   "source": [
    "display(df)"
   ]
  },
  {
   "cell_type": "markdown",
   "metadata": {},
   "source": [
    "  \n",
    "\n",
    "[TABLE]\n",
    "\n",
    "Truncated to 30 rows"
   ]
  },
  {
   "cell_type": "code",
   "execution_count": null,
   "metadata": {},
   "outputs": [],
   "source": [
    "import org.apache.spark.sql.functions.{col,concat_ws, udf, flatten, explode, collect_list, collect_set, lit}\n",
    "\n",
    "// TOOD: The sentences are not ordered. Do we want to order it? If so, we need to collect data and time from the xml file as well (datefrom, timefrom), merge them, convert to Datatime, and sort\n",
    "val value = udf((arr: Seq[String]) => arr.mkString(\",\"))\n",
    "val df_2 = df.select(col(\"_id\") as \"corpus_id\",\n",
    "                     col(\"forum._id\") as \"forum_id\",\n",
    "                     col(\"forum._title\") as \"forum_title\",\n",
    "                     col(\"forum.thread._id\") as \"thread_id\",\n",
    "                     col(\"forum.thread._title\") as \"thread_title\",\n",
    "                     flatten(col(\"forum.thread.text.sentence.w\")) as \"sentence\")\n",
    "                .withColumn(\"sentence\", explode($\"sentence\"))\n",
    "                .groupBy(\"thread_id\")\n",
    "                .agg(collect_set(\"thread_title\") as \"thread_title\",\n",
    "                    collect_list(\"sentence\") as \"sentences\",\n",
    "                    collect_set(\"forum_id\") as \"forum_id\",\n",
    "                    collect_set(\"forum_title\") as \"forum_title\",\n",
    "                    collect_set(\"corpus_id\") as \"corpus_id\")\n",
    "                .withColumn(\"sentences\", value($\"sentences\"))\n",
    "                .withColumn(\"thread_title\", value($\"thread_title\"))\n",
    "                .withColumn(\"forum_id\", value($\"forum_id\"))\n",
    "                .withColumn(\"forum_title\", value($\"forum_title\"))\n",
    "                .withColumn(\"platform\", lit(\"familjeliv\"))\n",
    "                .withColumn(\"corpus_id\", value($\"corpus_id\")).cache()"
   ]
  },
  {
   "cell_type": "markdown",
   "metadata": {},
   "source": [
    "  \n",
    "\n",
    ">     import org.apache.spark.sql.functions.{col, concat_ws, udf, flatten, explode, collect_list, collect_set, lit}\n",
    ">     value: org.apache.spark.sql.expressions.UserDefinedFunction = SparkUserDefinedFunction($Lambda$9249/359357668@231c7caf,StringType,List(Some(class[value[0]: array<string>])),None,true,true)\n",
    ">     df_2: org.apache.spark.sql.Dataset[org.apache.spark.sql.Row] = [thread_id: string, thread_title: string ... 5 more fields]"
   ]
  },
  {
   "cell_type": "code",
   "execution_count": null,
   "metadata": {},
   "outputs": [],
   "source": [
    "df_2.where(\"thread_id = 29117832\").show(false)"
   ]
  },
  {
   "cell_type": "markdown",
   "metadata": {},
   "source": []
  },
  {
   "cell_type": "code",
   "execution_count": null,
   "metadata": {},
   "outputs": [],
   "source": [
    "df_2.printSchema()"
   ]
  },
  {
   "cell_type": "markdown",
   "metadata": {},
   "source": [
    "  \n",
    "\n",
    ">     root\n",
    ">      |-- thread_id: string (nullable = false)\n",
    ">      |-- thread_title: string (nullable = true)\n",
    ">      |-- sentences: string (nullable = true)\n",
    ">      |-- forum_id: string (nullable = true)\n",
    ">      |-- forum_title: string (nullable = true)\n",
    ">      |-- corpus_id: string (nullable = true)\n",
    ">      |-- platform: string (nullable = false)"
   ]
  },
  {
   "cell_type": "code",
   "execution_count": null,
   "metadata": {},
   "outputs": [],
   "source": [
    "df_2.show(1)"
   ]
  },
  {
   "cell_type": "markdown",
   "metadata": {},
   "source": []
  },
  {
   "cell_type": "code",
   "execution_count": null,
   "metadata": {},
   "outputs": [],
   "source": [
    "display(df_2)"
   ]
  },
  {
   "cell_type": "markdown",
   "metadata": {},
   "source": []
  }
 ],
 "nbformat": 4,
 "nbformat_minor": 5,
 "metadata": {}
}
