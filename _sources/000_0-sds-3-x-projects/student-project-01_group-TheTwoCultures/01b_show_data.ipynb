{
 "cells": [
  {
   "cell_type": "code",
   "execution_count": null,
   "metadata": {},
   "outputs": [],
   "source": [
    "/scalable-data-science/000_0-sds-3-x-projects/student-project-01_group-TheTwoCultures/01_load_data"
   ]
  },
  {
   "cell_type": "markdown",
   "metadata": {},
   "source": [
    "  \n",
    "\n",
    "  \n",
    "\n",
    ">     import org.apache.spark.sql.functions.{col, concat_ws, udf, flatten, explode, collect_list, collect_set, lit}\n",
    ">     import org.apache.spark.sql.types.{ArrayType, StructType, StructField, StringType, IntegerType}\n",
    ">     import com.databricks.spark.xml._\n",
    ">     import org.apache.spark.sql.functions._\n",
    ">     read_xml: (file_name: String)org.apache.spark.sql.DataFrame\n",
    ">     get_dataset: (file_name: String)org.apache.spark.sql.DataFrame\n",
    "\n",
    "  \n",
    "\n",
    ">     save_df: (df: org.apache.spark.sql.DataFrame, filePath: String)Unit\n",
    ">     load_df: (filePath: String)org.apache.spark.sql.DataFrame\n",
    ">     no_forums: (df: org.apache.spark.sql.DataFrame)Long\n",
    "\n",
    "  \n",
    "\n",
    ">     dbfs:/datasets/student-project-01/flashback/familjeliv-allmanna-ekonomi_df\n",
    ">     familjeliv-allmanna-ekonomi_df already exists!\n",
    ">     dbfs:/datasets/student-project-01/flashback/familjeliv-sexsamlevnad_df\n",
    ">     familjeliv-sexsamlevnad_df already exists!\n",
    ">     dbfs:/datasets/student-project-01/flashback/flashback-ekonomi_df\n",
    ">     flashback-ekonomi_df already exists!\n",
    ">     dbfs:/datasets/student-project-01/flashback/flashback-sex_df\n",
    ">     flashback-sex_df already exists!\n",
    ">     fl_root: String = dbfs:/datasets/student-project-01/familjeliv/\n",
    ">     fb_root: String = dbfs:/datasets/student-project-01/flashback/\n",
    ">     fl_data: Array[String] = Array(familjeliv-allmanna-ekonomi, familjeliv-sexsamlevnad)\n",
    ">     fb_data: Array[String] = Array(flashback-ekonomi, flashback-sex)"
   ]
  },
  {
   "cell_type": "code",
   "execution_count": null,
   "metadata": {},
   "outputs": [],
   "source": [
    "var file_name = \"dbfs:/datasets/student-project-01/familjeliv/familjeliv-allmanna-ekonomi.xml\"\n",
    "var xml_df = read_xml(file_name).cache()\n",
    "var df = get_dataset(file_name).cache()"
   ]
  },
  {
   "cell_type": "markdown",
   "metadata": {},
   "source": [
    "  \n",
    "\n",
    ">     file_name: String = dbfs:/datasets/student-project-01/familjeliv/familjeliv-allmanna-ekonomi.xml\n",
    ">     xml_df: org.apache.spark.sql.Dataset[org.apache.spark.sql.Row] = [_id: string, _title: string ... 2 more fields]\n",
    ">     df: org.apache.spark.sql.Dataset[org.apache.spark.sql.Row] = [thread_id: string, thread_title: string ... 5 more fields]"
   ]
  },
  {
   "cell_type": "code",
   "execution_count": null,
   "metadata": {},
   "outputs": [],
   "source": [
    "xml_df.printSchema()"
   ]
  },
  {
   "cell_type": "markdown",
   "metadata": {},
   "source": [
    "  \n",
    "\n",
    ">     root\n",
    ">      |-- _id: string (nullable = false)\n",
    ">      |-- _title: string (nullable = false)\n",
    ">      |-- _url: string (nullable = false)\n",
    ">      |-- thread: array (nullable = false)\n",
    ">      |    |-- element: struct (containsNull = true)\n",
    ">      |    |    |-- _id: string (nullable = false)\n",
    ">      |    |    |-- _title: string (nullable = false)\n",
    ">      |    |    |-- _url: string (nullable = false)\n",
    ">      |    |    |-- text: struct (nullable = false)\n",
    ">      |    |    |    |-- sentence: array (nullable = false)\n",
    ">      |    |    |    |    |-- element: struct (containsNull = true)\n",
    ">      |    |    |    |    |    |-- w: array (nullable = true)\n",
    ">      |    |    |    |    |    |    |-- element: string (containsNull = true)"
   ]
  },
  {
   "cell_type": "code",
   "execution_count": null,
   "metadata": {},
   "outputs": [],
   "source": [
    "xml_df.show(10)"
   ]
  },
  {
   "cell_type": "markdown",
   "metadata": {},
   "source": [
    "  \n",
    "\n",
    ">     +------+--------------------+--------------------+--------------------+\n",
    ">     |   _id|              _title|                _url|              thread|\n",
    ">     +------+--------------------+--------------------+--------------------+\n",
    ">     |19-290|Allmänna rubriker...|http://www.familj...|[[70148929, Frivi...|\n",
    ">     |19-290|Allmänna rubriker...|http://www.familj...|[[58302374, Missh...|\n",
    ">     |19-290|Allmänna rubriker...|http://www.familj...|[[36330819, Är så...|\n",
    ">     |19-290|Allmänna rubriker...|http://www.familj...|[[75852809, Hur k...|\n",
    ">     |19-290|Allmänna rubriker...|http://www.familj...|[[42304381, Hej a...|\n",
    ">     |19-290|Allmänna rubriker...|http://www.familj...|[[41294375, när p...|\n",
    ">     |19-295|Allmänna rubriker...|http://www.familj...|[[47653437, Har v...|\n",
    ">     |19-295|Allmänna rubriker...|http://www.familj...|[[75266317, Anmäl...|\n",
    ">     |19-295|Allmänna rubriker...|http://www.familj...|[[76559817, Fel a...|\n",
    ">     |19-295|Allmänna rubriker...|http://www.familj...|[[62028128, Vad g...|\n",
    ">     +------+--------------------+--------------------+--------------------+\n",
    ">     only showing top 10 rows"
   ]
  },
  {
   "cell_type": "code",
   "execution_count": null,
   "metadata": {},
   "outputs": [],
   "source": [
    "df.printSchema()"
   ]
  },
  {
   "cell_type": "markdown",
   "metadata": {},
   "source": [
    "  \n",
    "\n",
    ">     root\n",
    ">      |-- thread_id: string (nullable = true)\n",
    ">      |-- thread_title: string (nullable = true)\n",
    ">      |-- w: string (nullable = false)\n",
    ">      |-- forum_id: string (nullable = true)\n",
    ">      |-- forum_title: string (nullable = true)\n",
    ">      |-- platform: string (nullable = false)\n",
    ">      |-- corpus_id: string (nullable = false)"
   ]
  },
  {
   "cell_type": "code",
   "execution_count": null,
   "metadata": {},
   "outputs": [],
   "source": [
    "display(df)"
   ]
  },
  {
   "cell_type": "markdown",
   "metadata": {},
   "source": [
    "  \n",
    "\n",
    "[TABLE]\n",
    "\n",
    "Truncated to 30 rows"
   ]
  }
 ],
 "nbformat": 4,
 "nbformat_minor": 5,
 "metadata": {}
}
