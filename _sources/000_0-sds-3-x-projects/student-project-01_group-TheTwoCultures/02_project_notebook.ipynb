{
 "cells": [
  {
   "cell_type": "markdown",
   "metadata": {},
   "source": [
    "Flashback and Familjeliv: The two Cultures\n",
    "=========================================="
   ]
  },
  {
   "cell_type": "code",
   "execution_count": null,
   "metadata": {},
   "outputs": [],
   "source": [
    "// %run /scalable-data-science/000_0-sds-3-x-projects/student-project-01_group-TheTwoCultures/00_download_data"
   ]
  },
  {
   "cell_type": "markdown",
   "metadata": {},
   "source": []
  },
  {
   "cell_type": "code",
   "execution_count": null,
   "metadata": {},
   "outputs": [],
   "source": [
    "/scalable-data-science/000_0-sds-3-x-projects/student-project-01_group-TheTwoCultures/01_load_data"
   ]
  },
  {
   "cell_type": "markdown",
   "metadata": {},
   "source": []
  },
  {
   "cell_type": "code",
   "execution_count": null,
   "metadata": {},
   "outputs": [],
   "source": [
    "display(dbutils.fs.ls(\"dbfs:/datasets/student-project-01/familjeliv\")) "
   ]
  },
  {
   "cell_type": "markdown",
   "metadata": {},
   "source": [
    "  \n",
    "\n",
    "[TABLE]"
   ]
  },
  {
   "cell_type": "code",
   "execution_count": null,
   "metadata": {},
   "outputs": [],
   "source": [
    "display(dbutils.fs.ls(\"dbfs:/datasets/student-project-01/flashback\"))"
   ]
  },
  {
   "cell_type": "markdown",
   "metadata": {},
   "source": [
    "  \n",
    "\n",
    "[TABLE]\n",
    "\n",
    "  \n",
    "\n",
    ">     import org.apache.spark.sql.functions.{col, concat_ws, udf, flatten, explode, collect_list, collect_set, lit}\n",
    ">     import org.apache.spark.sql.types.{ArrayType, StructType, StructField, StringType, IntegerType}\n",
    ">     import com.databricks.spark.xml._\n",
    ">     import org.apache.spark.sql.functions._\n",
    ">     read_xml: (file_name: String)org.apache.spark.sql.DataFrame\n",
    ">     get_dataset: (file_name: String)org.apache.spark.sql.DataFrame"
   ]
  },
  {
   "cell_type": "code",
   "execution_count": null,
   "metadata": {},
   "outputs": [],
   "source": [
    "val tmp_df = read_xml(\"dbfs:/datasets/student-project-01/familjeliv/familjeliv-sexsamlevnad.xml\")\n",
    "tmp_df.printSchema()"
   ]
  },
  {
   "cell_type": "markdown",
   "metadata": {},
   "source": [
    "  \n",
    "\n",
    ">     root\n",
    ">      |-- _id: string (nullable = false)\n",
    ">      |-- _title: string (nullable = false)\n",
    ">      |-- _url: string (nullable = false)\n",
    ">      |-- thread: array (nullable = false)\n",
    ">      |    |-- element: struct (containsNull = true)\n",
    ">      |    |    |-- _id: string (nullable = false)\n",
    ">      |    |    |-- _title: string (nullable = false)\n",
    ">      |    |    |-- _url: string (nullable = false)\n",
    ">      |    |    |-- text: struct (nullable = false)\n",
    ">      |    |    |    |-- sentence: array (nullable = false)\n",
    ">      |    |    |    |    |-- element: struct (containsNull = true)\n",
    ">      |    |    |    |    |    |-- w: array (nullable = true)\n",
    ">      |    |    |    |    |    |    |-- element: string (containsNull = true)\n",
    ">\n",
    ">     tmp_df: org.apache.spark.sql.DataFrame = [_id: string, _title: string ... 2 more fields]"
   ]
  },
  {
   "cell_type": "code",
   "execution_count": null,
   "metadata": {},
   "outputs": [],
   "source": [
    "val file_name = \"dbfs:/datasets/student-project-01/familjeliv/familjeliv-sexsamlevnad.xml\"\n",
    "val df = get_dataset(file_name).cache()\n",
    "val file_name2 = \"dbfs:/datasets/student-project-01/flashback/flashback-sex.xml\"\n",
    "val df2 = get_dataset(file_name2).cache()"
   ]
  },
  {
   "cell_type": "markdown",
   "metadata": {},
   "source": [
    "  \n",
    "\n",
    ">     file_name: String = dbfs:/datasets/student-project-01/familjeliv/familjeliv-sexsamlevnad.xml\n",
    ">     df: org.apache.spark.sql.DataFrame = [thread_id: string, thread_title: string ... 5 more fields]\n",
    ">     file_name2: String = dbfs:/datasets/student-project-01/flashback/flashback-sex.xml\n",
    ">     df2: org.apache.spark.sql.DataFrame = [thread_id: string, thread_title: string ... 5 more fields]"
   ]
  },
  {
   "cell_type": "code",
   "execution_count": null,
   "metadata": {},
   "outputs": [],
   "source": [
    "df.printSchema()"
   ]
  },
  {
   "cell_type": "markdown",
   "metadata": {},
   "source": [
    "  \n",
    "\n",
    ">     root\n",
    ">      |-- thread_id: string (nullable = true)\n",
    ">      |-- thread_title: string (nullable = true)\n",
    ">      |-- w: string (nullable = false)\n",
    ">      |-- forum_id: string (nullable = true)\n",
    ">      |-- forum_title: string (nullable = true)\n",
    ">      |-- platform: string (nullable = false)\n",
    ">      |-- corpus_id: string (nullable = false)"
   ]
  },
  {
   "cell_type": "code",
   "execution_count": null,
   "metadata": {},
   "outputs": [],
   "source": [
    "//display(df)"
   ]
  },
  {
   "cell_type": "markdown",
   "metadata": {},
   "source": []
  },
  {
   "cell_type": "code",
   "execution_count": null,
   "metadata": {},
   "outputs": [],
   "source": [
    "//df.count"
   ]
  },
  {
   "cell_type": "markdown",
   "metadata": {},
   "source": [
    "  \n",
    "\n",
    ">     res42: Long = 7813"
   ]
  },
  {
   "cell_type": "code",
   "execution_count": null,
   "metadata": {},
   "outputs": [],
   "source": [
    "import org.apache.spark.sql.functions.countDistinct\n",
    "df.agg(countDistinct(\"thread_id\"))"
   ]
  },
  {
   "cell_type": "markdown",
   "metadata": {},
   "source": []
  },
  {
   "cell_type": "code",
   "execution_count": null,
   "metadata": {},
   "outputs": [],
   "source": [
    "import org.apache.spark.sql.types.{ LongType }\n",
    "val df_test = df2.select(\"w\", \"thread_id\").withColumn(\"thread_id\",col(\"thread_id\").cast(LongType))//.limit(100)//take(100).toDF()"
   ]
  },
  {
   "cell_type": "markdown",
   "metadata": {},
   "source": [
    "  \n",
    "\n",
    ">     import org.apache.spark.sql.types.LongType\n",
    ">     df_test: org.apache.spark.sql.DataFrame = [w: string, thread_id: bigint]"
   ]
  },
  {
   "cell_type": "code",
   "execution_count": null,
   "metadata": {},
   "outputs": [],
   "source": [
    "import org.apache.spark.ml.feature.RegexTokenizer\n",
    "\n",
    "val tokenizer = new RegexTokenizer()\n",
    "  .setPattern(\"(?U)[\\\\W_]+\") // break by white space character(s)  - try to remove emails and other patterns\n",
    "  .setMinTokenLength(3) // Filter away tokens with length < 4\n",
    "  .setInputCol(\"w\") // name of the input column\n",
    "  .setOutputCol(\"tokens\") // name of the output column"
   ]
  },
  {
   "cell_type": "markdown",
   "metadata": {},
   "source": [
    "  \n",
    "\n",
    ">     import org.apache.spark.ml.feature.RegexTokenizer\n",
    ">     tokenizer: org.apache.spark.ml.feature.RegexTokenizer = RegexTokenizer: uid=regexTok_8dfb36da5645, minTokenLength=3, gaps=true, pattern=(?U)[\\W_]+, toLowercase=true"
   ]
  },
  {
   "cell_type": "code",
   "execution_count": null,
   "metadata": {},
   "outputs": [],
   "source": [
    "df_test.printSchema()"
   ]
  },
  {
   "cell_type": "markdown",
   "metadata": {},
   "source": [
    "  \n",
    "\n",
    ">     root\n",
    ">      |-- w: string (nullable = false)\n",
    ">      |-- thread_id: long (nullable = true)"
   ]
  },
  {
   "cell_type": "code",
   "execution_count": null,
   "metadata": {},
   "outputs": [],
   "source": [
    "val test_token = tokenizer.transform(df_test)"
   ]
  },
  {
   "cell_type": "markdown",
   "metadata": {},
   "source": [
    "  \n",
    "\n",
    ">     test_token: org.apache.spark.sql.DataFrame = [w: string, thread_id: bigint ... 1 more field]"
   ]
  },
  {
   "cell_type": "code",
   "execution_count": null,
   "metadata": {},
   "outputs": [],
   "source": [
    "wget https://raw.githubusercontent.com/peterdalle/svensktext/master/stoppord/stoppord.csv\n",
    "\n"
   ]
  },
  {
   "cell_type": "markdown",
   "metadata": {},
   "source": [
    "  \n",
    "\n",
    ">     --2020-12-21 10:41:06--  https://raw.githubusercontent.com/peterdalle/svensktext/master/stoppord/stoppord.csv\n",
    ">     Resolving raw.githubusercontent.com (raw.githubusercontent.com)... 151.101.52.133\n",
    ">     Connecting to raw.githubusercontent.com (raw.githubusercontent.com)|151.101.52.133|:443... connected.\n",
    ">     HTTP request sent, awaiting response... 200 OK\n",
    ">     Length: 1936 (1.9K) [text/plain]\n",
    ">     Saving to: ‘stoppord.csv’\n",
    ">\n",
    ">          0K .                                                     100% 15.6M=0s\n",
    ">\n",
    ">     2020-12-21 10:41:06 (15.6 MB/s) - ‘stoppord.csv’ saved [1936/1936]"
   ]
  },
  {
   "cell_type": "code",
   "execution_count": null,
   "metadata": {},
   "outputs": [],
   "source": [
    "dbutils.fs.cp(\"file:/databricks/driver/stoppord.csv\", \"dbfs:/datasets/student-project-01/stoppord.csv\")\n",
    " \n",
    "val stoppord = sc.textFile(\"dbfs:/datasets/student-project-01/stoppord.csv\").collect()"
   ]
  },
  {
   "cell_type": "markdown",
   "metadata": {},
   "source": [
    "  \n",
    "\n",
    ">     stoppord: Array[String] = Array(word, all, alla, allas, allt, alltså, andra, andras, annan, annat, artonde, artonn, att, av, bakom, bara, bland, blev, bli, blir, blivit, båda, bådas, både, dag, dagar, dagarna, dagen, de, del, delen, dem, den, denna, deras, dess, dessa, det, detta, dig, din, dina, dit, ditt, dock, dom, du, där, därför, då, efter, eftersom, ej, elfte, eller, elva, en, er, era, ert, ett, fall, fanns, fast, fem, femte, femtio, femtionde, femton, femtonde, fick, fin, finnas, finns, fjorton, fjortonde, fjärde, fler, flera, flesta, fram, framför, från, fyra, fyrtio, fyrtionde, få, får, fått, för, före, förra, första, ge, genom, ger, gick, gjorde, gjort, gälla, gäller, gällt, gärna, gå, gång, går, gått, gör, göra, ha, hade, haft, han, hans, har, hela, heller, hellre, helst, helt, henne, hennes, heter, hit, hjälp, hon, honom, hundra, hundraen, hundraett, hur, här, i, ibland, icke, igen, in, inför, inga, ingen, inget, innan, inne, inom, inte, inuti, ja, jag, ju, jämfört, kan, kom, komma, kommer, kommit, kunde, kunna, kunnat, kvar, kör, legat, ligga, ligger, lägga, man, med, mellan, men, menar, mer, mera, mig, min, mina, mitt, mittemot, mot, ned, nederst, nedersta, nedre, nej, ner, ni, nio, nionde, nittio, nittionde, nitton, nittonde, nog, noll, nr, nu, nummer, nya, när, nästa, någon, någonting, något, några, nån, nåt, och, också, om, oss, på, rakt, redan, sade, sagt, samt, sedan, sen, ser, sex, sextio, sextionde, sexton, sextonde, sig, sin, sina, sist, sista, siste, sitt, sitta, sju, sjunde, sjuttio, sjuttionde, sjutton, sjuttonde, själv, sjätte, ska, skall, skriver, skulle, slutligen, snart, som, står, säga, säger, sätt, så, sådan, sådana, sådant, ta, tack, tar, till, tills, tio, tionde, tjugo, tjugoen, tjugoett, tjugonde, tjugotre, tjugotvå, tjungo, tog, tolfte, tolv, tre, tredje, trettio, trettionde, tretton, trettonde, tro, tror, två, tvåhundra, under, upp, ur, ut, utan, utanför, ute, vad, var, vara, varför, varifrån, varit, varje, varken, vars, varsågod, vart, vem, vems, verkligen, vet, vi, vid, vidare, vilka, vilkas, vilken, vilket, vill, visst, väl, värre, vår, våra, vårt, än, ändå, ännu, är, även, året, åt, åtminstone, åtta, åttio, åttionde, åttonde, över, övre)"
   ]
  },
  {
   "cell_type": "code",
   "execution_count": null,
   "metadata": {},
   "outputs": [],
   "source": [
    "val stopwordList = Array(\"bara\",\"lite\",\"finns\",\"vill\",\"samt\",\"inga\",\"även\",\"finns\",\"ganska\",\"också\",\"igen\",\"just\",\"that\",\"with\",\"http\",\"jpg\").union(stoppord)"
   ]
  },
  {
   "cell_type": "markdown",
   "metadata": {},
   "source": [
    "  \n",
    "\n",
    ">     stopwordList: Array[String] = Array(bara, lite, finns, vill, samt, inga, även, finns, ganska, också, igen, just, that, with, http, jpg, word, all, alla, allas, allt, alltså, andra, andras, annan, annat, artonde, artonn, att, av, bakom, bara, bland, blev, bli, blir, blivit, båda, bådas, både, dag, dagar, dagarna, dagen, de, del, delen, dem, den, denna, deras, dess, dessa, det, detta, dig, din, dina, dit, ditt, dock, dom, du, där, därför, då, efter, eftersom, ej, elfte, eller, elva, en, er, era, ert, ett, fall, fanns, fast, fem, femte, femtio, femtionde, femton, femtonde, fick, fin, finnas, finns, fjorton, fjortonde, fjärde, fler, flera, flesta, fram, framför, från, fyra, fyrtio, fyrtionde, få, får, fått, för, före, förra, första, ge, genom, ger, gick, gjorde, gjort, gälla, gäller, gällt, gärna, gå, gång, går, gått, gör, göra, ha, hade, haft, han, hans, har, hela, heller, hellre, helst, helt, henne, hennes, heter, hit, hjälp, hon, honom, hundra, hundraen, hundraett, hur, här, i, ibland, icke, igen, in, inför, inga, ingen, inget, innan, inne, inom, inte, inuti, ja, jag, ju, jämfört, kan, kom, komma, kommer, kommit, kunde, kunna, kunnat, kvar, kör, legat, ligga, ligger, lägga, man, med, mellan, men, menar, mer, mera, mig, min, mina, mitt, mittemot, mot, ned, nederst, nedersta, nedre, nej, ner, ni, nio, nionde, nittio, nittionde, nitton, nittonde, nog, noll, nr, nu, nummer, nya, när, nästa, någon, någonting, något, några, nån, nåt, och, också, om, oss, på, rakt, redan, sade, sagt, samt, sedan, sen, ser, sex, sextio, sextionde, sexton, sextonde, sig, sin, sina, sist, sista, siste, sitt, sitta, sju, sjunde, sjuttio, sjuttionde, sjutton, sjuttonde, själv, sjätte, ska, skall, skriver, skulle, slutligen, snart, som, står, säga, säger, sätt, så, sådan, sådana, sådant, ta, tack, tar, till, tills, tio, tionde, tjugo, tjugoen, tjugoett, tjugonde, tjugotre, tjugotvå, tjungo, tog, tolfte, tolv, tre, tredje, trettio, trettionde, tretton, trettonde, tro, tror, två, tvåhundra, under, upp, ur, ut, utan, utanför, ute, vad, var, vara, varför, varifrån, varit, varje, varken, vars, varsågod, vart, vem, vems, verkligen, vet, vi, vid, vidare, vilka, vilkas, vilken, vilket, vill, visst, väl, värre, vår, våra, vårt, än, ändå, ännu, är, även, året, åt, åtminstone, åtta, åttio, åttionde, åttonde, över, övre)"
   ]
  },
  {
   "cell_type": "code",
   "execution_count": null,
   "metadata": {},
   "outputs": [],
   "source": [
    "import org.apache.spark.ml.feature.StopWordsRemover\n",
    "\n",
    "\n",
    "val remover = new StopWordsRemover()\n",
    "  .setStopWords(stopwordList)\n",
    "  .setInputCol(\"tokens\")\n",
    "  .setOutputCol(\"filtered\")"
   ]
  },
  {
   "cell_type": "markdown",
   "metadata": {},
   "source": [
    "  \n",
    "\n",
    ">     import org.apache.spark.ml.feature.StopWordsRemover\n",
    ">     remover: org.apache.spark.ml.feature.StopWordsRemover = StopWordsRemover: uid=stopWords_fd37fe28b783, numStopWords=346, locale=en, caseSensitive=false"
   ]
  },
  {
   "cell_type": "code",
   "execution_count": null,
   "metadata": {},
   "outputs": [],
   "source": [
    "val test_stop = remover.transform(test_token).select(\"thread_id\",\"filtered\")"
   ]
  },
  {
   "cell_type": "markdown",
   "metadata": {},
   "source": [
    "  \n",
    "\n",
    ">     test_stop: org.apache.spark.sql.DataFrame = [thread_id: bigint, filtered: array<string>]"
   ]
  },
  {
   "cell_type": "code",
   "execution_count": null,
   "metadata": {},
   "outputs": [],
   "source": [
    "test_stop.printSchema()"
   ]
  },
  {
   "cell_type": "markdown",
   "metadata": {},
   "source": [
    "  \n",
    "\n",
    ">     root\n",
    ">      |-- thread_id: long (nullable = true)\n",
    ">      |-- filtered: array (nullable = true)\n",
    ">      |    |-- element: string (containsNull = true)"
   ]
  },
  {
   "cell_type": "code",
   "execution_count": null,
   "metadata": {},
   "outputs": [],
   "source": [
    "//test_stop.show(1, false)"
   ]
  },
  {
   "cell_type": "markdown",
   "metadata": {},
   "source": []
  },
  {
   "cell_type": "code",
   "execution_count": null,
   "metadata": {},
   "outputs": [],
   "source": [
    "import org.apache.spark.ml.feature.CountVectorizer\n",
    "\n",
    "val vectorizer = new CountVectorizer()\n",
    "  .setInputCol(\"filtered\")\n",
    "  .setOutputCol(\"features\")\n",
    "  .setVocabSize(10000) // Size of dictonary\n",
    "  .setMinDF(2) // the minimum number of different documents a term must appear in to be included in the vocabulary.\n",
    "  .fit(test_stop)"
   ]
  },
  {
   "cell_type": "markdown",
   "metadata": {},
   "source": [
    "  \n",
    "\n",
    ">     import org.apache.spark.ml.feature.CountVectorizer\n",
    ">     vectorizer: org.apache.spark.ml.feature.CountVectorizerModel = CountVectorizerModel: uid=cntVec_70dec58904b4, vocabularySize=10000"
   ]
  },
  {
   "cell_type": "code",
   "execution_count": null,
   "metadata": {},
   "outputs": [],
   "source": [
    "val countVectors = vectorizer.transform(test_stop)//.select(\"thread_id\", \"features\")"
   ]
  },
  {
   "cell_type": "markdown",
   "metadata": {},
   "source": [
    "  \n",
    "\n",
    ">     countVectors: org.apache.spark.sql.DataFrame = [thread_id: bigint, filtered: array<string> ... 1 more field]"
   ]
  },
  {
   "cell_type": "code",
   "execution_count": null,
   "metadata": {},
   "outputs": [],
   "source": [
    "//display(countVectors)//.show(1,false)"
   ]
  },
  {
   "cell_type": "markdown",
   "metadata": {},
   "source": []
  },
  {
   "cell_type": "code",
   "execution_count": null,
   "metadata": {},
   "outputs": [],
   "source": [
    "//countVectors.count()"
   ]
  },
  {
   "cell_type": "markdown",
   "metadata": {},
   "source": []
  },
  {
   "cell_type": "code",
   "execution_count": null,
   "metadata": {},
   "outputs": [],
   "source": [
    "//vectorizer.show(1, false)"
   ]
  },
  {
   "cell_type": "markdown",
   "metadata": {},
   "source": []
  },
  {
   "cell_type": "code",
   "execution_count": null,
   "metadata": {},
   "outputs": [],
   "source": [
    "val countVectors = vectorizer.transform(test_stop).select(\"thread_id\", \"features\")"
   ]
  },
  {
   "cell_type": "markdown",
   "metadata": {},
   "source": [
    "  \n",
    "\n",
    ">     countVectors: org.apache.spark.sql.DataFrame = [thread_id: bigint, features: vector]"
   ]
  },
  {
   "cell_type": "code",
   "execution_count": null,
   "metadata": {},
   "outputs": [],
   "source": [
    "// Convert DF to RDD\n",
    "import org.apache.spark.ml.linalg.Vector\n",
    "\n",
    "val lda_countVector = countVectors.map { case Row(id: Long, countVector: Vector) => (id, countVector) }\n",
    "\n",
    "val numTopics = 9"
   ]
  },
  {
   "cell_type": "markdown",
   "metadata": {},
   "source": [
    "  \n",
    "\n",
    ">     import org.apache.spark.ml.linalg.Vector\n",
    ">     lda_countVector: org.apache.spark.sql.Dataset[(Long, org.apache.spark.ml.linalg.Vector)] = [_1: bigint, _2: vector]\n",
    ">     numTopics: Int = 9"
   ]
  },
  {
   "cell_type": "code",
   "execution_count": null,
   "metadata": {},
   "outputs": [],
   "source": [
    "import org.apache.spark.mllib.clustering.{LDA, OnlineLDAOptimizer}\n",
    "\n",
    "// Set LDA params\n",
    "val lda = new LDA()\n",
    ".setOptimizer(new OnlineLDAOptimizer().setMiniBatchFraction(0.8))\n",
    ".setK(numTopics)\n",
    ".setMaxIterations(3)\n",
    ".setDocConcentration(-1) // use default values\n",
    ".setTopicConcentration(-1) // use default values"
   ]
  },
  {
   "cell_type": "markdown",
   "metadata": {},
   "source": [
    "  \n",
    "\n",
    ">     import org.apache.spark.mllib.clustering.{LDA, OnlineLDAOptimizer}\n",
    ">     lda: org.apache.spark.mllib.clustering.LDA = org.apache.spark.mllib.clustering.LDA@3294220d"
   ]
  },
  {
   "cell_type": "code",
   "execution_count": null,
   "metadata": {},
   "outputs": [],
   "source": [
    "val lda_countVector_mllib = lda_countVector.map { case (id, vector) => (id, org.apache.spark.mllib.linalg.Vectors.fromML(vector)) }.rdd\n",
    "\n",
    "val ldaModel = lda.run(lda_countVector_mllib)"
   ]
  },
  {
   "cell_type": "markdown",
   "metadata": {},
   "source": [
    "  \n",
    "\n",
    ">     lda_countVector_mllib: org.apache.spark.rdd.RDD[(Long, org.apache.spark.mllib.linalg.Vector)] = MapPartitionsRDD[15748] at rdd at command-4443336225071772:1\n",
    ">     ldaModel: org.apache.spark.mllib.clustering.LDAModel = org.apache.spark.mllib.clustering.LocalLDAModel@2af3bf"
   ]
  },
  {
   "cell_type": "code",
   "execution_count": null,
   "metadata": {},
   "outputs": [],
   "source": [
    "val topicIndices = ldaModel.describeTopics(maxTermsPerTopic = 5)"
   ]
  },
  {
   "cell_type": "markdown",
   "metadata": {},
   "source": [
    "  \n",
    "\n",
    ">     topicIndices: Array[(Array[Int], Array[Double])] = Array((Array(1245, 2867, 1, 1940, 0),Array(0.005828736389870819, 0.005177770692548582, 0.004281225684803414, 0.003802661243134556, 0.0037466618822440735)), (Array(2, 4, 0, 11, 119),Array(0.008472421218338572, 0.00835186048039426, 0.007028728954305847, 0.006925949553647179, 0.006778393528832462)), (Array(9, 1, 3, 81, 0),Array(0.007136098623257581, 0.006219005095591811, 0.00607101967985819, 0.005716841064824449, 0.00547781968634569)), (Array(90, 1480, 267, 379, 3),Array(0.012209939662717557, 0.010448534134872305, 0.00871415633044254, 0.004717316738793793, 0.0036140424647016466)), (Array(1, 4, 42, 2, 7),Array(0.008136396956028923, 0.007598480888602129, 0.0066038668672708575, 0.005629407585564553, 0.004621223223798453)), (Array(0, 3, 2, 1, 4),Array(0.008977479783453209, 0.00818731006415827, 0.007351349890882013, 0.007278806387254452, 0.005765657444255816)), (Array(11, 16, 4, 0, 7),Array(0.010225491273158971, 0.009673480686118726, 0.007140266582380782, 0.006741668845739555, 0.006166286203067536)), (Array(5, 2, 4, 3, 6),Array(0.007127353527224035, 0.004957423825932039, 0.004956635485595906, 0.004879988547583389, 0.004864308362389227)), (Array(1, 0, 3, 2, 4),Array(0.008605481820265399, 0.007793354439640682, 0.007702749345394846, 0.007368449734767341, 0.007331716366632319)))"
   ]
  },
  {
   "cell_type": "code",
   "execution_count": null,
   "metadata": {},
   "outputs": [],
   "source": [
    "val vocabList = vectorizer.vocabulary"
   ]
  },
  {
   "cell_type": "markdown",
   "metadata": {},
   "source": [
    "  \n",
    "\n",
    ">     vocabList: Array[String] = Array(mycket, kanske, tjejer, bra, tycker, tjej, aldrig, många, måste, fan, rätt, kvinnor, killar, samma, gillar, väldigt, män, riktigt, känner, kille, tjejen, alltid, verkar, bättre, fel, faktiskt, problem, lika, folk, känns, fråga, ens, typ, jävla, knulla, olika, kvinna, precis, brukar, behöver, svårt, håller, barn, borde, kuk, runt, stor, låter, saker, vissa, porr, tråden, haha, sett, ofta, mest, enkelt, människor, klart, tänka, tänker, annars, egentligen, istället, direkt, killen, hålla, förstår, länge, mindre, alls, osv, sak, dessutom, skönt, liten, börjar, säkert, vilja, själva, handlar, bilder, tänder, stora, kuken, hitta, ville, hem, bort, såg, the, kul, nästan, däremot, iaf, större, känna, varandra, kåt, bästa, tag, lätt, hos, längre, tråd, förhållande, enda, sitter, ihop, egen, svar, tjejerna, sånt, inlägg, dra, sängen, massa, tillsammans, kolla, bröst, pengar, veta, fortfarande, tidigare, liv, funkar, fitta, flickvän, person, liknande, enligt, hoppas, vanligt, tyvärr, börja, ollon, speciellt, par, älskar, liksom, lär, svenska, orgasm, händer, kropp, ont, absolut, frågan, beror, tips, emot, jävligt, snygg, sidan, oftast, långt, först, prata, undrar, skit, vore, ifrån, tillbaka, partner, sjukt, bör, slut, självklart, började, sexuella, testa, livet, sluta, försöka, tänkte, spelar, försöker, dåligt, visa, hört, filmer, okej, runka, köpa, trots, knullar, brudar, skrev, gånger, roll, film, intressant, små, äldre, etc, tid, problemet, köra, gången, hårt, konstigt, kvinnan, hemma, brud, suga, bild, sida, hand, gott, fittan, tyckte, tänk, hittar, visar, anser, sätta, tycka, hel, ungefär, rent, sexuellt, bäst, snarare, erfarenhet, bajs, kondom, skillnad, pratar, låta, egna, berätta, början, slicka, särskilt, dvs, snygga, knappast, stort, höra, trodde, igång, illa, använda, drar, munnen, personer, kompis, övrigt, ord, oavsett, förstå, mannen, kroppen, intresserad, enbart, filmen, hår, extra, satt, sån, endast, sexet, fungerar, hej, givetvis, pga, fattar, and, analsex, träffat, normalt, vänner, gammal, använder, oskuld, läsa, skriva, titta, möjligt, röven, träffa, krogen, medan, exempel, personen, tanke, anledning, ålder, exakt, läst, tydligen, låt, bryr, yngre, känslor, svara, lägger, snabbt, hora, vanliga, söker, förmodligen, fina, stämmer, unga, personligen, fort, minst, efteråt, antar, prova, lilla, leva, betala, människa, låg, frågar, nått, hör, sant, polare, bor, hänt, ansiktet, världen, otroligt, säker, ifall, ingenting, betyder, tanken, huvudet, antagligen, mkt, väljer, ena, synd, föredrar, äckligt, tur, jobbigt, flashback, såklart, gamla, dålig, helvete, jobb, full, lättare, tagit, lycka, stå, saken, sätter, for, suger, trevligt, kort, riktig, kände, pojkvän, prostitution, träffar, form, välja, nära, säg, sexuell, tänkt, samlag, ung, minns, tex, grej, försök, lever, extremt, ögon, kontakt, you, glad, köper, skaffa, bög, lära, mår, igenom, bilden, kön, runkar, viss, bilderna, nätet, antingen, prostituerade, penis, skull, relation, namn, hehe, svensk, hittade, roligt, vanlig, sexualitet, trevlig, kollar, kärlek, förklara, visste, lång, ihåg, viktigt, vågar, såna, tittar, senare, naturligtvis, behöva, homosexuella, kåta, vänta, åka, jobbar, hjälpa, kalla, fint, alldeles, njutning, rädd, utseende, håll, sperma, sexigt, forum, bögar, förutom, iallafall, totalt, luktar, fortsätta, horor, sällan, internet, värt, ful, vän, ensam, klipp, seriöst, naturligt, fula, snacka, upphetsande, mesta, kär, njuta, orkar, sälja, stånd, tillräckligt, aning, kukar, testat, ordentligt, ställer, räcker, djur, knappt, medans, handen, erfarenheter, nere, tackar, fullt, reda, skrivit, nytt, ställa, sidor, sådär, frågade, sugen, bruden, kring, lyckas, någonsin, kompisar, mod, känsla, ämnet, jobbet, läste, tvärtom, läser, innebär, nöjd, klarar, mej, största, normal, värsta, känslan, sättet, princip, tiden, resten, vägen, via, oralsex, betydligt, riktiga, dum, snackar, hahaha, utav, antal, tråkigt, behov, knullat, råd, risken, benen, intresse, plötsligt, frågor, förut, passar, iofs, fru, tankar, hittat, drog, mamma, situation, tala, ställe, talar, hände, njuter, gratis, slags, väll, chans, gilla, vis, samhället, kläder, annorlunda, plats, lust, förstås, eget, ovanligt, säljer, litet, kändes, god, delar, träffade, föräldrar, brösten, självförtroende, killarna, jobba, spela, hända, definitivt, åker, höll, beroende, börjat, kunder, verkligheten, hmm, perfekt, trådar, naken, våldtäkt, avsugning, slipper, betalar, åsikter, fantasier, skön, skiter, söt, märker, avtändande, leta, åring, grund, rum, stället, ren, ansikte, kvinnorna, fallet, spruta, lugnt, finner, läs, gav, grejen, flickor, syn, ställen, väg, generellt, ärligt, ons, långa, sexliv, hänger, situationen, vuxna, hård, förhållanden, nyfiken, beteende, krav, kvinnliga, val, piller, porrfilm, äkta, forumet, svaret, överhuvudtaget, anledningen, någonstans, länk, dela, äta, röv, grymt, knull, kallar, tja, mun, manliga, ragga, otrogen, oxå, länder, spännande, omöjligt, söka, mvh, risk, sker, vacker, svårare, sexig, rör, stan, stoppa, åsikt, iväg, åldern, menade, trött, umgås, säng, försökte, diskutera, tända, rejält, snälla, mat, lägg, förresten, slå, fingrar, hjälper, slutar, nice, svarar, rumpa, trycka, underbart, provat, ses, ben, ber, pass, uppenbarligen, topic, massor, stod, skicka, såhär, männen, fet, saknar, per, leka, dagens, funka, glidmedel, smal, knullade, bakifrån, kännas, skillnaden, därmed, dags, betalt, sambo, allmänt, faktum, lyckats, kallas, högre, nja, försökt, skönare, lagom, hög, vafan, dildo, gillade, hatar, plus, fixa, alternativ, lagen, talat, omkring, slickar, vackra, känt, länkar, krävs, ligg, homosexualitet, land, kostar, förspel, sjuk, osäker, tvungen, rumpan, upphetsad, räknas, koll, slår, klitoris, härligt, smak, ovan, magen, fortsätter, flicka, fantasi, hål, bry, acceptera, klara, länken, håret, främst, dels, chansen, vita, sova, ögonen, massage, skiten, allra, damer, önskar, snyggt, inser, normala, ngn, dåliga, visade, sexköp, minsta, orgasmer, 100, alkohol, utlösning, respekt, vatten, läggning, fundera, leder, stil, porren, skolan, ordet, tydligt, sjuka, sämre, huvud, oskulden, exempelvis, diverse, lät, pinsamt, förhållandet, lagt, polisen, vare, desto, fysiskt, hiv, hållet, argument, förslag, svart, fötter, borta, angående, öppna, bdsm, tjänster, byta, analt, träffas, viagra, nämligen, velat, gränsen, råkar, sorts, pengarna, ollonet, satte, relativt, uppskattar, bad, kräver, påstå, storlek, olagligt, världens, oerhört, het, klippet, trekant, pungen, ladda, slutade, senaste, äter, smakar, ansvar, dej, ngt, fittor, lämna, sexiga, satsen, relationer, seriös, pappa, snubbe, rolig, märkt, träna, väntar, rätta, raka, skada, akten, bla, körde, närheten, funderar, uppe, rummet, slappna, fyfan, upplever, släppa, halsen, allvar, far, prostituerad, förstått, snäll, övergrepp, lagligt, behövs, inse, barnet, berättar, tvåan, garanterat, partners, idé, köpt, dominant, räkna, faller, letar, besök, farligt, köp, rygg, kollade, hårdare, könet, förr, erkänna, smeka, svarta, ändra, inlägget, dörren, påstår, upplevelse, info, lider, sms, nakna, högt, ringa, finger, visserligen, mens, stark, starkt, ryggen, vuxen, majoriteten, beskriver, mage, därifrån, anal, familj, personlighet, idiot, öppet, hamnar, nivå, förbi, värld, shit, typen, kroppar, filmerna, äcklig, runk, escort, ärlig, datorn, överallt, fest, fungera, mening, äckliga, samhälle, trosor, röra, pratat, skäl, fatta, onanera, feta, öppen, duschen, trycker, pratade, one, tom, berättade, likadant, sprutar, troligen, gravid, undvika, hemsida, onani, smala, nuvarande, quote, undra, dumt, sök, lärt, våt, längden, brudarna, ledsen, porrfilmer, fullständigt, slippa, muskler, årig, verkade, spoiler, bestämma, död, smaken, usch, dricka)"
   ]
  },
  {
   "cell_type": "code",
   "execution_count": null,
   "metadata": {},
   "outputs": [],
   "source": [
    "val topics = topicIndices.map { case (terms, termWeights) =>\n",
    "  terms.map(vocabList(_)).zip(termWeights)\n",
    "}"
   ]
  },
  {
   "cell_type": "markdown",
   "metadata": {},
   "source": [
    "  \n",
    "\n",
    ">     topics: Array[Array[(String, Double)]] = Array(Array((com,0.005828736389870819), (font,0.005177770692548582), (kanske,0.004281225684803414), (size,0.003802661243134556), (mycket,0.0037466618822440735)), Array((tjejer,0.008472421218338572), (tycker,0.00835186048039426), (mycket,0.007028728954305847), (kvinnor,0.006925949553647179), (bröst,0.006778393528832462)), Array((fan,0.007136098623257581), (kanske,0.006219005095591811), (bra,0.00607101967985819), (bilder,0.005716841064824449), (mycket,0.00547781968634569)), Array((the,0.012209939662717557), (datanördar,0.010448534134872305), (and,0.00871415633044254), (you,0.004717316738793793), (bra,0.0036140424647016466)), Array((kanske,0.008136396956028923), (tycker,0.007598480888602129), (barn,0.0066038668672708575), (tjejer,0.005629407585564553), (många,0.004621223223798453)), Array((mycket,0.008977479783453209), (bra,0.00818731006415827), (tjejer,0.007351349890882013), (kanske,0.007278806387254452), (tycker,0.005765657444255816)), Array((kvinnor,0.010225491273158971), (män,0.009673480686118726), (tycker,0.007140266582380782), (mycket,0.006741668845739555), (många,0.006166286203067536)), Array((tjej,0.007127353527224035), (tjejer,0.004957423825932039), (tycker,0.004956635485595906), (bra,0.004879988547583389), (aldrig,0.004864308362389227)), Array((kanske,0.008605481820265399), (mycket,0.007793354439640682), (bra,0.007702749345394846), (tjejer,0.007368449734767341), (tycker,0.007331716366632319)))"
   ]
  },
  {
   "cell_type": "code",
   "execution_count": null,
   "metadata": {},
   "outputs": [],
   "source": [
    "val topicIndices = ldaModel.describeTopics(maxTermsPerTopic = 10)\n",
    "val vocabList = vectorizer.vocabulary\n",
    "val topics = topicIndices.map { case (terms, termWeights) =>\n",
    "  terms.map(vocabList(_)).zip(termWeights)\n",
    "}\n",
    "println(s\"$numTopics topics:\")\n",
    "topics.zipWithIndex.foreach { case (topic, i) =>\n",
    "  println(s\"TOPIC $i\")\n",
    "  topic.foreach { case (term, weight) => println(s\"$term\\t$weight\") }\n",
    "  println(s\"==========\")\n",
    "}"
   ]
  },
  {
   "cell_type": "markdown",
   "metadata": {},
   "source": [
    "  \n",
    "\n",
    ">     9 topics:\n",
    ">     TOPIC 0\n",
    ">     com\t0.005828736389870819\n",
    ">     font\t0.005177770692548582\n",
    ">     kanske\t0.004281225684803414\n",
    ">     size\t0.003802661243134556\n",
    ">     mycket\t0.0037466618822440735\n",
    ">     tycker\t0.0035788236930912945\n",
    ">     tjej\t0.003572148658558219\n",
    ">     wmv\t0.003492052477056438\n",
    ">     fan\t0.003387032075470724\n",
    ">     killar\t0.0030759438164969536\n",
    ">     ==========\n",
    ">     TOPIC 1\n",
    ">     tjejer\t0.008472421218338572\n",
    ">     tycker\t0.00835186048039426\n",
    ">     mycket\t0.007028728954305847\n",
    ">     kvinnor\t0.006925949553647179\n",
    ">     bröst\t0.006778393528832462\n",
    ">     kanske\t0.006562072420550684\n",
    ">     bra\t0.005735098526572583\n",
    ">     tjej\t0.00509426741049249\n",
    ">     många\t0.0048473374351092275\n",
    ">     stora\t0.00476766751743259\n",
    ">     ==========\n",
    ">     TOPIC 2\n",
    ">     fan\t0.007136098623257581\n",
    ">     kanske\t0.006219005095591811\n",
    ">     bra\t0.00607101967985819\n",
    ">     bilder\t0.005716841064824449\n",
    ">     mycket\t0.00547781968634569\n",
    ">     tjej\t0.005384256034422819\n",
    ">     tycker\t0.005334349560442397\n",
    ">     tjejer\t0.004803912617599809\n",
    ">     riktigt\t0.004136561405063082\n",
    ">     måste\t0.004049538541763246\n",
    ">     ==========\n",
    ">     TOPIC 3\n",
    ">     the\t0.012209939662717557\n",
    ">     datanördar\t0.010448534134872305\n",
    ">     and\t0.00871415633044254\n",
    ">     you\t0.004717316738793793\n",
    ">     bra\t0.0036140424647016466\n",
    ">     kanske\t0.002794974212182175\n",
    ">     for\t0.00257613484350404\n",
    ">     mycket\t0.0025543316673021775\n",
    ">     tjejer\t0.0025314211222808034\n",
    ">     fan\t0.0021470545469380897\n",
    ">     ==========\n",
    ">     TOPIC 4\n",
    ">     kanske\t0.008136396956028923\n",
    ">     tycker\t0.007598480888602129\n",
    ">     barn\t0.0066038668672708575\n",
    ">     tjejer\t0.005629407585564553\n",
    ">     många\t0.004621223223798453\n",
    ">     aldrig\t0.004402198423276141\n",
    ">     bra\t0.004294088390266522\n",
    ">     mycket\t0.004118530511479333\n",
    ">     fan\t0.004054347059086492\n",
    ">     rätt\t0.003984365147630218\n",
    ">     ==========\n",
    ">     TOPIC 5\n",
    ">     mycket\t0.008977479783453209\n",
    ">     bra\t0.00818731006415827\n",
    ">     tjejer\t0.007351349890882013\n",
    ">     kanske\t0.007278806387254452\n",
    ">     tycker\t0.005765657444255816\n",
    ">     tjej\t0.005283260728111136\n",
    ">     aldrig\t0.004850961525403287\n",
    ">     måste\t0.004295311331401175\n",
    ">     många\t0.004098909420309231\n",
    ">     fan\t0.0037519527610768363\n",
    ">     ==========\n",
    ">     TOPIC 6\n",
    ">     kvinnor\t0.010225491273158971\n",
    ">     män\t0.009673480686118726\n",
    ">     tycker\t0.007140266582380782\n",
    ">     mycket\t0.006741668845739555\n",
    ">     många\t0.006166286203067536\n",
    ">     tjejer\t0.0055899906619138835\n",
    ">     kanske\t0.005496960145787021\n",
    ">     bra\t0.00450516316658287\n",
    ">     rätt\t0.003975370248418236\n",
    ">     samma\t0.003745046376784121\n",
    ">     ==========\n",
    ">     TOPIC 7\n",
    ">     tjej\t0.007127353527224035\n",
    ">     tjejer\t0.004957423825932039\n",
    ">     tycker\t0.004956635485595906\n",
    ">     bra\t0.004879988547583389\n",
    ">     aldrig\t0.004864308362389227\n",
    ">     kanske\t0.004588326800005052\n",
    ">     fan\t0.0045304366858314\n",
    ">     mycket\t0.004254791775847753\n",
    ">     kille\t0.003227585234792242\n",
    ">     många\t0.003104815800968856\n",
    ">     ==========\n",
    ">     TOPIC 8\n",
    ">     kanske\t0.008605481820265399\n",
    ">     mycket\t0.007793354439640682\n",
    ">     bra\t0.007702749345394846\n",
    ">     tjejer\t0.007368449734767341\n",
    ">     tycker\t0.007331716366632319\n",
    ">     tjej\t0.007143594626213114\n",
    ">     aldrig\t0.0057960981929391165\n",
    ">     måste\t0.004375258913740614\n",
    ">     killar\t0.004267007182925261\n",
    ">     känner\t0.004083723539468458\n",
    ">     ==========\n",
    ">     topicIndices: Array[(Array[Int], Array[Double])] = Array((Array(1245, 2867, 1, 1940, 0, 4, 5, 2415, 9, 12),Array(0.005828736389870819, 0.005177770692548582, 0.004281225684803414, 0.003802661243134556, 0.0037466618822440735, 0.0035788236930912945, 0.003572148658558219, 0.003492052477056438, 0.003387032075470724, 0.0030759438164969536)), (Array(2, 4, 0, 11, 119, 1, 3, 5, 7, 83),Array(0.008472421218338572, 0.00835186048039426, 0.007028728954305847, 0.006925949553647179, 0.006778393528832462, 0.006562072420550684, 0.005735098526572583, 0.00509426741049249, 0.0048473374351092275, 0.00476766751743259)), (Array(9, 1, 3, 81, 0, 5, 4, 2, 17, 8),Array(0.007136098623257581, 0.006219005095591811, 0.00607101967985819, 0.005716841064824449, 0.00547781968634569, 0.005384256034422819, 0.005334349560442397, 0.004803912617599809, 0.004136561405063082, 0.004049538541763246)), (Array(90, 1480, 267, 379, 3, 1, 354, 0, 2, 9),Array(0.012209939662717557, 0.010448534134872305, 0.00871415633044254, 0.004717316738793793, 0.0036140424647016466, 0.002794974212182175, 0.00257613484350404, 0.0025543316673021775, 0.0025314211222808034, 0.0021470545469380897)), (Array(1, 4, 42, 2, 7, 6, 3, 0, 9, 10),Array(0.008136396956028923, 0.007598480888602129, 0.0066038668672708575, 0.005629407585564553, 0.004621223223798453, 0.004402198423276141, 0.004294088390266522, 0.004118530511479333, 0.004054347059086492, 0.003984365147630218)), (Array(0, 3, 2, 1, 4, 5, 6, 8, 7, 9),Array(0.008977479783453209, 0.00818731006415827, 0.007351349890882013, 0.007278806387254452, 0.005765657444255816, 0.005283260728111136, 0.004850961525403287, 0.004295311331401175, 0.004098909420309231, 0.0037519527610768363)), (Array(11, 16, 4, 0, 7, 2, 1, 3, 10, 13),Array(0.010225491273158971, 0.009673480686118726, 0.007140266582380782, 0.006741668845739555, 0.006166286203067536, 0.0055899906619138835, 0.005496960145787021, 0.00450516316658287, 0.003975370248418236, 0.003745046376784121)), (Array(5, 2, 4, 3, 6, 1, 9, 0, 19, 7),Array(0.007127353527224035, 0.004957423825932039, 0.004956635485595906, 0.004879988547583389, 0.004864308362389227, 0.004588326800005052, 0.0045304366858314, 0.004254791775847753, 0.003227585234792242, 0.003104815800968856)), (Array(1, 0, 3, 2, 4, 5, 6, 8, 12, 18),Array(0.008605481820265399, 0.007793354439640682, 0.007702749345394846, 0.007368449734767341, 0.007331716366632319, 0.007143594626213114, 0.0057960981929391165, 0.004375258913740614, 0.004267007182925261, 0.004083723539468458)))\n",
    ">     vocabList: Array[String] = Array(mycket, kanske, tjejer, bra, tycker, tjej, aldrig, många, måste, fan, rätt, kvinnor, killar, samma, gillar, väldigt, män, riktigt, känner, kille, tjejen, alltid, verkar, bättre, fel, faktiskt, problem, lika, folk, känns, fråga, ens, typ, jävla, knulla, olika, kvinna, precis, brukar, behöver, svårt, håller, barn, borde, kuk, runt, stor, låter, saker, vissa, porr, tråden, haha, sett, ofta, mest, enkelt, människor, klart, tänka, tänker, annars, egentligen, istället, direkt, killen, hålla, förstår, länge, mindre, alls, osv, sak, dessutom, skönt, liten, börjar, säkert, vilja, själva, handlar, bilder, tänder, stora, kuken, hitta, ville, hem, bort, såg, the, kul, nästan, däremot, iaf, större, känna, varandra, kåt, bästa, tag, lätt, hos, längre, tråd, förhållande, enda, sitter, ihop, egen, svar, tjejerna, sånt, inlägg, dra, sängen, massa, tillsammans, kolla, bröst, pengar, veta, fortfarande, tidigare, liv, funkar, fitta, flickvän, person, liknande, enligt, hoppas, vanligt, tyvärr, börja, ollon, speciellt, par, älskar, liksom, lär, svenska, orgasm, händer, kropp, ont, absolut, frågan, beror, tips, emot, jävligt, snygg, sidan, oftast, långt, först, prata, undrar, skit, vore, ifrån, tillbaka, partner, sjukt, bör, slut, självklart, började, sexuella, testa, livet, sluta, försöka, tänkte, spelar, försöker, dåligt, visa, hört, filmer, okej, runka, köpa, trots, knullar, brudar, skrev, gånger, roll, film, intressant, små, äldre, etc, tid, problemet, köra, gången, hårt, konstigt, kvinnan, hemma, brud, suga, bild, sida, hand, gott, fittan, tyckte, tänk, hittar, visar, anser, sätta, tycka, hel, ungefär, rent, sexuellt, bäst, snarare, erfarenhet, bajs, kondom, skillnad, pratar, låta, egna, berätta, början, slicka, särskilt, dvs, snygga, knappast, stort, höra, trodde, igång, illa, använda, drar, munnen, personer, kompis, övrigt, ord, oavsett, förstå, mannen, kroppen, intresserad, enbart, filmen, hår, extra, satt, sån, endast, sexet, fungerar, hej, givetvis, pga, fattar, and, analsex, träffat, normalt, vänner, gammal, använder, oskuld, läsa, skriva, titta, möjligt, röven, träffa, krogen, medan, exempel, personen, tanke, anledning, ålder, exakt, läst, tydligen, låt, bryr, yngre, känslor, svara, lägger, snabbt, hora, vanliga, söker, förmodligen, fina, stämmer, unga, personligen, fort, minst, efteråt, antar, prova, lilla, leva, betala, människa, låg, frågar, nått, hör, sant, polare, bor, hänt, ansiktet, världen, otroligt, säker, ifall, ingenting, betyder, tanken, huvudet, antagligen, mkt, väljer, ena, synd, föredrar, äckligt, tur, jobbigt, flashback, såklart, gamla, dålig, helvete, jobb, full, lättare, tagit, lycka, stå, saken, sätter, for, suger, trevligt, kort, riktig, kände, pojkvän, prostitution, träffar, form, välja, nära, säg, sexuell, tänkt, samlag, ung, minns, tex, grej, försök, lever, extremt, ögon, kontakt, you, glad, köper, skaffa, bög, lära, mår, igenom, bilden, kön, runkar, viss, bilderna, nätet, antingen, prostituerade, penis, skull, relation, namn, hehe, svensk, hittade, roligt, vanlig, sexualitet, trevlig, kollar, kärlek, förklara, visste, lång, ihåg, viktigt, vågar, såna, tittar, senare, naturligtvis, behöva, homosexuella, kåta, vänta, åka, jobbar, hjälpa, kalla, fint, alldeles, njutning, rädd, utseende, håll, sperma, sexigt, forum, bögar, förutom, iallafall, totalt, luktar, fortsätta, horor, sällan, internet, värt, ful, vän, ensam, klipp, seriöst, naturligt, fula, snacka, upphetsande, mesta, kär, njuta, orkar, sälja, stånd, tillräckligt, aning, kukar, testat, ordentligt, ställer, räcker, djur, knappt, medans, handen, erfarenheter, nere, tackar, fullt, reda, skrivit, nytt, ställa, sidor, sådär, frågade, sugen, bruden, kring, lyckas, någonsin, kompisar, mod, känsla, ämnet, jobbet, läste, tvärtom, läser, innebär, nöjd, klarar, mej, största, normal, värsta, känslan, sättet, princip, tiden, resten, vägen, via, oralsex, betydligt, riktiga, dum, snackar, hahaha, utav, antal, tråkigt, behov, knullat, råd, risken, benen, intresse, plötsligt, frågor, förut, passar, iofs, fru, tankar, hittat, drog, mamma, situation, tala, ställe, talar, hände, njuter, gratis, slags, väll, chans, gilla, vis, samhället, kläder, annorlunda, plats, lust, förstås, eget, ovanligt, säljer, litet, kändes, god, delar, träffade, föräldrar, brösten, självförtroende, killarna, jobba, spela, hända, definitivt, åker, höll, beroende, börjat, kunder, verkligheten, hmm, perfekt, trådar, naken, våldtäkt, avsugning, slipper, betalar, åsikter, fantasier, skön, skiter, söt, märker, avtändande, leta, åring, grund, rum, stället, ren, ansikte, kvinnorna, fallet, spruta, lugnt, finner, läs, gav, grejen, flickor, syn, ställen, väg, generellt, ärligt, ons, långa, sexliv, hänger, situationen, vuxna, hård, förhållanden, nyfiken, beteende, krav, kvinnliga, val, piller, porrfilm, äkta, forumet, svaret, överhuvudtaget, anledningen, någonstans, länk, dela, äta, röv, grymt, knull, kallar, tja, mun, manliga, ragga, otrogen, oxå, länder, spännande, omöjligt, söka, mvh, risk, sker, vacker, svårare, sexig, rör, stan, stoppa, åsikt, iväg, åldern, menade, trött, umgås, säng, försökte, diskutera, tända, rejält, snälla, mat, lägg, förresten, slå, fingrar, hjälper, slutar, nice, svarar, rumpa, trycka, underbart, provat, ses, ben, ber, pass, uppenbarligen, topic, massor, stod, skicka, såhär, männen, fet, saknar, per, leka, dagens, funka, glidmedel, smal, knullade, bakifrån, kännas, skillnaden, därmed, dags, betalt, sambo, allmänt, faktum, lyckats, kallas, högre, nja, försökt, skönare, lagom, hög, vafan, dildo, gillade, hatar, plus, fixa, alternativ, lagen, talat, omkring, slickar, vackra, känt, länkar, krävs, ligg, homosexualitet, land, kostar, förspel, sjuk, osäker, tvungen, rumpan, upphetsad, räknas, koll, slår, klitoris, härligt, smak, ovan, magen, fortsätter, flicka, fantasi, hål, bry, acceptera, klara, länken, håret, främst, dels, chansen, vita, sova, ögonen, massage, skiten, allra, damer, önskar, snyggt, inser, normala, ngn, dåliga, visade, sexköp, minsta, orgasmer, 100, alkohol, utlösning, respekt, vatten, läggning, fundera, leder, stil, porren, skolan, ordet, tydligt, sjuka, sämre, huvud, oskulden, exempelvis, diverse, lät, pinsamt, förhållandet, lagt, polisen, vare, desto, fysiskt, hiv, hållet, argument, förslag, svart, fötter, borta, angående, öppna, bdsm, tjänster, byta, analt, träffas, viagra, nämligen, velat, gränsen, råkar, sorts, pengarna, ollonet, satte, relativt, uppskattar, bad, kräver, påstå, storlek, olagligt, världens, oerhört, het, klippet, trekant, pungen, ladda, slutade, senaste, äter, smakar, ansvar, dej, ngt, fittor, lämna, sexiga, satsen, relationer, seriös, pappa, snubbe, rolig, märkt, träna, väntar, rätta, raka, skada, akten, bla, körde, närheten, funderar, uppe, rummet, slappna, fyfan, upplever, släppa, halsen, allvar, far, prostituerad, förstått, snäll, övergrepp, lagligt, behövs, inse, barnet, berättar, tvåan, garanterat, partners, idé, köpt, dominant, räkna, faller, letar, besök, farligt, köp, rygg, kollade, hårdare, könet, förr, erkänna, smeka, svarta, ändra, inlägget, dörren, påstår, upplevelse, info, lider, sms, nakna, högt, ringa, finger, visserligen, mens, stark, starkt, ryggen, vuxen, majoriteten, beskriver, mage, därifrån, anal, familj, personlighet, idiot, öppet, hamnar, nivå, förbi, värld, shit, typen, kroppar, filmerna, äcklig, runk, escort, ärlig, datorn, överallt, fest, fungera, mening, äckliga, samhälle, trosor, röra, pratat, skäl, fatta, onanera, feta, öppen, duschen, trycker, pratade, one, tom, berättade, likadant, sprutar, troligen, gravid, undvika, hemsida, onani, smala, nuvarande, quote, undra, dumt, sök, lärt, våt, längden, brudarna, ledsen, porrfilmer, fullständigt, slippa, muskler, årig, verkade, spoiler, bestämma, död, smaken, usch, dricka)\n",
    ">     topics: Array[Array[(String, Double)]] = Array(Array((com,0.005828736389870819), (font,0.005177770692548582), (kanske,0.004281225684803414), (size,0.003802661243134556), (mycket,0.0037466618822440735), (tycker,0.0035788236930912945), (tjej,0.003572148658558219), (wmv,0.003492052477056438), (fan,0.003387032075470724), (killar,0.0030759438164969536)), Array((tjejer,0.008472421218338572), (tycker,0.00835186048039426), (mycket,0.007028728954305847), (kvinnor,0.006925949553647179), (bröst,0.006778393528832462), (kanske,0.006562072420550684), (bra,0.005735098526572583), (tjej,0.00509426741049249), (många,0.0048473374351092275), (stora,0.00476766751743259)), Array((fan,0.007136098623257581), (kanske,0.006219005095591811), (bra,0.00607101967985819), (bilder,0.005716841064824449), (mycket,0.00547781968634569), (tjej,0.005384256034422819), (tycker,0.005334349560442397), (tjejer,0.004803912617599809), (riktigt,0.004136561405063082), (måste,0.004049538541763246)), Array((the,0.012209939662717557), (datanördar,0.010448534134872305), (and,0.00871415633044254), (you,0.004717316738793793), (bra,0.0036140424647016466), (kanske,0.002794974212182175), (for,0.00257613484350404), (mycket,0.0025543316673021775), (tjejer,0.0025314211222808034), (fan,0.0021470545469380897)), Array((kanske,0.008136396956028923), (tycker,0.007598480888602129), (barn,0.0066038668672708575), (tjejer,0.005629407585564553), (många,0.004621223223798453), (aldrig,0.004402198423276141), (bra,0.004294088390266522), (mycket,0.004118530511479333), (fan,0.004054347059086492), (rätt,0.003984365147630218)), Array((mycket,0.008977479783453209), (bra,0.00818731006415827), (tjejer,0.007351349890882013), (kanske,0.007278806387254452), (tycker,0.005765657444255816), (tjej,0.005283260728111136), (aldrig,0.004850961525403287), (måste,0.004295311331401175), (många,0.004098909420309231), (fan,0.0037519527610768363)), Array((kvinnor,0.010225491273158971), (män,0.009673480686118726), (tycker,0.007140266582380782), (mycket,0.006741668845739555), (många,0.006166286203067536), (tjejer,0.0055899906619138835), (kanske,0.005496960145787021), (bra,0.00450516316658287), (rätt,0.003975370248418236), (samma,0.003745046376784121)), Array((tjej,0.007127353527224035), (tjejer,0.004957423825932039), (tycker,0.004956635485595906), (bra,0.004879988547583389), (aldrig,0.004864308362389227), (kanske,0.004588326800005052), (fan,0.0045304366858314), (mycket,0.004254791775847753), (kille,0.003227585234792242), (många,0.003104815800968856)), Array((kanske,0.008605481820265399), (mycket,0.007793354439640682), (bra,0.007702749345394846), (tjejer,0.007368449734767341), (tycker,0.007331716366632319), (tjej,0.007143594626213114), (aldrig,0.0057960981929391165), (måste,0.004375258913740614), (killar,0.004267007182925261), (känner,0.004083723539468458)))"
   ]
  },
  {
   "cell_type": "code",
   "execution_count": null,
   "metadata": {},
   "outputs": [],
   "source": [
    "\"det\",\"att\","
   ]
  },
  {
   "cell_type": "markdown",
   "metadata": {},
   "source": []
  },
  {
   "cell_type": "code",
   "execution_count": null,
   "metadata": {},
   "outputs": [],
   "source": [
    "// Zip topic terms with topic IDs\n",
    "val termArray = topics.zipWithIndex"
   ]
  },
  {
   "cell_type": "markdown",
   "metadata": {},
   "source": [
    "  \n",
    "\n",
    ">     termArray: Array[(Array[(String, Double)], Int)] = Array((Array((com,0.005828736389870819), (font,0.005177770692548582), (kanske,0.004281225684803414), (size,0.003802661243134556), (mycket,0.0037466618822440735), (tycker,0.0035788236930912945), (tjej,0.003572148658558219), (wmv,0.003492052477056438), (fan,0.003387032075470724), (killar,0.0030759438164969536)),0), (Array((tjejer,0.008472421218338572), (tycker,0.00835186048039426), (mycket,0.007028728954305847), (kvinnor,0.006925949553647179), (bröst,0.006778393528832462), (kanske,0.006562072420550684), (bra,0.005735098526572583), (tjej,0.00509426741049249), (många,0.0048473374351092275), (stora,0.00476766751743259)),1), (Array((fan,0.007136098623257581), (kanske,0.006219005095591811), (bra,0.00607101967985819), (bilder,0.005716841064824449), (mycket,0.00547781968634569), (tjej,0.005384256034422819), (tycker,0.005334349560442397), (tjejer,0.004803912617599809), (riktigt,0.004136561405063082), (måste,0.004049538541763246)),2), (Array((the,0.012209939662717557), (datanördar,0.010448534134872305), (and,0.00871415633044254), (you,0.004717316738793793), (bra,0.0036140424647016466), (kanske,0.002794974212182175), (for,0.00257613484350404), (mycket,0.0025543316673021775), (tjejer,0.0025314211222808034), (fan,0.0021470545469380897)),3), (Array((kanske,0.008136396956028923), (tycker,0.007598480888602129), (barn,0.0066038668672708575), (tjejer,0.005629407585564553), (många,0.004621223223798453), (aldrig,0.004402198423276141), (bra,0.004294088390266522), (mycket,0.004118530511479333), (fan,0.004054347059086492), (rätt,0.003984365147630218)),4), (Array((mycket,0.008977479783453209), (bra,0.00818731006415827), (tjejer,0.007351349890882013), (kanske,0.007278806387254452), (tycker,0.005765657444255816), (tjej,0.005283260728111136), (aldrig,0.004850961525403287), (måste,0.004295311331401175), (många,0.004098909420309231), (fan,0.0037519527610768363)),5), (Array((kvinnor,0.010225491273158971), (män,0.009673480686118726), (tycker,0.007140266582380782), (mycket,0.006741668845739555), (många,0.006166286203067536), (tjejer,0.0055899906619138835), (kanske,0.005496960145787021), (bra,0.00450516316658287), (rätt,0.003975370248418236), (samma,0.003745046376784121)),6), (Array((tjej,0.007127353527224035), (tjejer,0.004957423825932039), (tycker,0.004956635485595906), (bra,0.004879988547583389), (aldrig,0.004864308362389227), (kanske,0.004588326800005052), (fan,0.0045304366858314), (mycket,0.004254791775847753), (kille,0.003227585234792242), (många,0.003104815800968856)),7), (Array((kanske,0.008605481820265399), (mycket,0.007793354439640682), (bra,0.007702749345394846), (tjejer,0.007368449734767341), (tycker,0.007331716366632319), (tjej,0.007143594626213114), (aldrig,0.0057960981929391165), (måste,0.004375258913740614), (killar,0.004267007182925261), (känner,0.004083723539468458)),8))"
   ]
  },
  {
   "cell_type": "code",
   "execution_count": null,
   "metadata": {},
   "outputs": [],
   "source": [
    "// Transform data into the form (term, probability, topicId)\n",
    "val termRDD = sc.parallelize(termArray)\n",
    "val termRDD2 =termRDD.flatMap( (x: (Array[(String, Double)], Int)) => {\n",
    "  val arrayOfTuple = x._1\n",
    "  val topicId = x._2\n",
    "  arrayOfTuple.map(el => (el._1, el._2, topicId))\n",
    "})"
   ]
  },
  {
   "cell_type": "markdown",
   "metadata": {},
   "source": [
    "  \n",
    "\n",
    ">     termRDD: org.apache.spark.rdd.RDD[(Array[(String, Double)], Int)] = ParallelCollectionRDD[15773] at parallelize at command-1716517738645101:2\n",
    ">     termRDD2: org.apache.spark.rdd.RDD[(String, Double, Int)] = MapPartitionsRDD[15774] at flatMap at command-1716517738645101:3"
   ]
  },
  {
   "cell_type": "code",
   "execution_count": null,
   "metadata": {},
   "outputs": [],
   "source": [
    "val termDF = termRDD2.toDF.withColumnRenamed(\"_1\", \"term\").withColumnRenamed(\"_2\", \"probability\").withColumnRenamed(\"_3\", \"topicId\")"
   ]
  },
  {
   "cell_type": "markdown",
   "metadata": {},
   "source": [
    "  \n",
    "\n",
    ">     termDF: org.apache.spark.sql.DataFrame = [term: string, probability: double ... 1 more field]"
   ]
  },
  {
   "cell_type": "code",
   "execution_count": null,
   "metadata": {},
   "outputs": [],
   "source": [
    "display(termDF)"
   ]
  },
  {
   "cell_type": "markdown",
   "metadata": {},
   "source": [
    "  \n",
    "\n",
    "[TABLE]\n",
    "\n",
    "Truncated to 30 rows"
   ]
  },
  {
   "cell_type": "code",
   "execution_count": null,
   "metadata": {},
   "outputs": [],
   "source": [
    "// Create JSON data\n",
    "val rawJson = termDF.toJSON.collect().mkString(\",\\n\")"
   ]
  },
  {
   "cell_type": "markdown",
   "metadata": {},
   "source": [
    "  \n",
    "\n",
    ">     rawJson: String =\n",
    ">     {\"term\":\"com\",\"probability\":0.005828736389870819,\"topicId\":0},\n",
    ">     {\"term\":\"font\",\"probability\":0.005177770692548582,\"topicId\":0},\n",
    ">     {\"term\":\"kanske\",\"probability\":0.004281225684803414,\"topicId\":0},\n",
    ">     {\"term\":\"size\",\"probability\":0.003802661243134556,\"topicId\":0},\n",
    ">     {\"term\":\"mycket\",\"probability\":0.0037466618822440735,\"topicId\":0},\n",
    ">     {\"term\":\"tycker\",\"probability\":0.0035788236930912945,\"topicId\":0},\n",
    ">     {\"term\":\"tjej\",\"probability\":0.003572148658558219,\"topicId\":0},\n",
    ">     {\"term\":\"wmv\",\"probability\":0.003492052477056438,\"topicId\":0},\n",
    ">     {\"term\":\"fan\",\"probability\":0.003387032075470724,\"topicId\":0},\n",
    ">     {\"term\":\"killar\",\"probability\":0.0030759438164969536,\"topicId\":0},\n",
    ">     {\"term\":\"tjejer\",\"probability\":0.008472421218338572,\"topicId\":1},\n",
    ">     {\"term\":\"tycker\",\"probability\":0.00835186048039426,\"topicId\":1},\n",
    ">     {\"term\":\"mycket\",\"probability\":0.007028728954305847,\"topicId\":1},\n",
    ">     {\"term\":\"kvinnor\",\"probability\":0.006925949553647179,\"topicId\":1},\n",
    ">     {\"term\":\"bröst\",\"probability\":0.006778393528832462,\"topicId\":1},\n",
    ">     {\"term\":\"kanske\",\"probability\":0.006562072420550684,\"topicId\":1},\n",
    ">     {\"term\":\"bra\",\"probability\":0.005735098526572583,\"topicId\":1},\n",
    ">     {\"term\":\"tjej\",\"probability\":0.00509426741049249,\"topicId\":1},\n",
    ">     {\"term\":\"många\",\"probability\":0.0048473374351092275,\"topicId\":1},\n",
    ">     {\"term\":\"stora\",\"probability\":0.00476766751743259,\"topicId\":1},\n",
    ">     {\"term\":\"fan\",\"probability\":0.007136098623257581,\"topicId\":2},\n",
    ">     {\"term\":\"kanske\",\"probability\":0.006219005095591811,\"topicId\":2},\n",
    ">     {\"term\":\"bra\",\"probability\":0.00607101967985819,\"topicId\":2},\n",
    ">     {\"term\":\"bilder\",\"probability\":0.005716841064824449,\"topicId\":2},\n",
    ">     {\"term\":\"mycket\",\"probability\":0.00547781968634569,\"topicId\":2},\n",
    ">     {\"term\":\"tjej\",\"probability\":0.005384256034422819,\"topicId\":2},\n",
    ">     {\"term\":\"tycker\",\"probability\":0.005334349560442397,\"topicId\":2},\n",
    ">     {\"term\":\"tjejer\",\"probability\":0.004803912617599809,\"topicId\":2},\n",
    ">     {\"term\":\"riktigt\",\"probability\":0.004136561405063082,\"topicId\":2},\n",
    ">     {\"term\":\"måste\",\"probability\":0.004049538541763246,\"topicId\":2},\n",
    ">     {\"term\":\"the\",\"probability\":0.012209939662717557,\"topicId\":3},\n",
    ">     {\"term\":\"datanördar\",\"probability\":0.010448534134872305,\"topicId\":3},\n",
    ">     {\"term\":\"and\",\"probability\":0.00871415633044254,\"topicId\":3},\n",
    ">     {\"term\":\"you\",\"probability\":0.004717316738793793,\"topicId\":3},\n",
    ">     {\"term\":\"bra\",\"probability\":0.0036140424647016466,\"topicId\":3},\n",
    ">     {\"term\":\"kanske\",\"probability\":0.002794974212182175,\"topicId\":3},\n",
    ">     {\"term\":\"for\",\"probability\":0.00257613484350404,\"topicId\":3},\n",
    ">     {\"term\":\"mycket\",\"probability\":0.0025543316673021775,\"topicId\":3},\n",
    ">     {\"term\":\"tjejer\",\"probability\":0.0025314211222808034,\"topicId\":3},\n",
    ">     {\"term\":\"fan\",\"probability\":0.0021470545469380897,\"topicId\":3},\n",
    ">     {\"term\":\"kanske\",\"probability\":0.008136396956028923,\"topicId\":4},\n",
    ">     {\"term\":\"tycker\",\"probability\":0.007598480888602129,\"topicId\":4},\n",
    ">     {\"term\":\"barn\",\"probability\":0.0066038668672708575,\"topicId\":4},\n",
    ">     {\"term\":\"tjejer\",\"probability\":0.005629407585564553,\"topicId\":4},\n",
    ">     {\"term\":\"många\",\"probability\":0.004621223223798453,\"topicId\":4},\n",
    ">     {\"term\":\"aldrig\",\"probability\":0.004402198423276141,\"topicId\":4},\n",
    ">     {\"term\":\"bra\",\"probability\":0.004294088390266522,\"topicId\":4},\n",
    ">     {\"term\":\"mycket\",\"probability\":0.004118530511479333,\"topicId\":4},\n",
    ">     {\"term\":\"fan\",\"probability\":0.004054347059086492,\"topicId\":4},\n",
    ">     {\"term\":\"rätt\",\"probability\":0.003984365147630218,\"topicId\":4},\n",
    ">     {\"term\":\"mycket\",\"probability\":0.008977479783453209,\"topicId\":5},\n",
    ">     {\"term\":\"bra\",\"probability\":0.00818731006415827,\"topicId\":5},\n",
    ">     {\"term\":\"tjejer\",\"probability\":0.007351349890882013,\"topicId\":5},\n",
    ">     {\"term\":\"kanske\",\"probability\":0.007278806387254452,\"topicId\":5},\n",
    ">     {\"term\":\"tycker\",\"probability\":0.005765657444255816,\"topicId\":5},\n",
    ">     {\"term\":\"tjej\",\"probability\":0.005283260728111136,\"topicId\":5},\n",
    ">     {\"term\":\"aldrig\",\"probability\":0.004850961525403287,\"topicId\":5},\n",
    ">     {\"term\":\"måste\",\"probability\":0.004295311331401175,\"topicId\":5},\n",
    ">     {\"term\":\"många\",\"probability\":0.004098909420309231,\"topicId\":5},\n",
    ">     {\"term\":\"fan\",\"probability\":0.0037519527610768363,\"topicId\":5},\n",
    ">     {\"term\":\"kvinnor\",\"probability\":0.010225491273158971,\"topicId\":6},\n",
    ">     {\"term\":\"män\",\"probability\":0.009673480686118726,\"topicId\":6},\n",
    ">     {\"term\":\"tycker\",\"probability\":0.007140266582380782,\"topicId\":6},\n",
    ">     {\"term\":\"mycket\",\"probability\":0.006741668845739555,\"topicId\":6},\n",
    ">     {\"term\":\"många\",\"probability\":0.006166286203067536,\"topicId\":6},\n",
    ">     {\"term\":\"tjejer\",\"probability\":0.0055899906619138835,\"topicId\":6},\n",
    ">     {\"term\":\"kanske\",\"probability\":0.005496960145787021,\"topicId\":6},\n",
    ">     {\"term\":\"bra\",\"probability\":0.00450516316658287,\"topicId\":6},\n",
    ">     {\"term\":\"rätt\",\"probability\":0.003975370248418236,\"topicId\":6},\n",
    ">     {\"term\":\"samma\",\"probability\":0.003745046376784121,\"topicId\":6},\n",
    ">     {\"term\":\"tjej\",\"probability\":0.007127353527224035,\"topicId\":7},\n",
    ">     {\"term\":\"tjejer\",\"probability\":0.004957423825932039,\"topicId\":7},\n",
    ">     {\"term\":\"tycker\",\"probability\":0.004956635485595906,\"topicId\":7},\n",
    ">     {\"term\":\"bra\",\"probability\":0.004879988547583389,\"topicId\":7},\n",
    ">     {\"term\":\"aldrig\",\"probability\":0.004864308362389227,\"topicId\":7},\n",
    ">     {\"term\":\"kanske\",\"probability\":0.004588326800005052,\"topicId\":7},\n",
    ">     {\"term\":\"fan\",\"probability\":0.0045304366858314,\"topicId\":7},\n",
    ">     {\"term\":\"mycket\",\"probability\":0.004254791775847753,\"topicId\":7},\n",
    ">     {\"term\":\"kille\",\"probability\":0.003227585234792242,\"topicId\":7},\n",
    ">     {\"term\":\"många\",\"probability\":0.003104815800968856,\"topicId\":7},\n",
    ">     {\"term\":\"kanske\",\"probability\":0.008605481820265399,\"topicId\":8},\n",
    ">     {\"term\":\"mycket\",\"probability\":0.007793354439640682,\"topicId\":8},\n",
    ">     {\"term\":\"bra\",\"probability\":0.007702749345394846,\"topicId\":8},\n",
    ">     {\"term\":\"tjejer\",\"probability\":0.007368449734767341,\"topicId\":8},\n",
    ">     {\"term\":\"tycker\",\"probability\":0.007331716366632319,\"topicId\":8},\n",
    ">     {\"term\":\"tjej\",\"probability\":0.007143594626213114,\"topicId\":8},\n",
    ">     {\"term\":\"aldrig\",\"probability\":0.0057960981929391165,\"topicId\":8},\n",
    ">     {\"term\":\"måste\",\"probability\":0.004375258913740614,\"topicId\":8},\n",
    ">     {\"term\":\"killar\",\"probability\":0.004267007182925261,\"topicId\":8},\n",
    ">     {\"term\":\"känner\",\"probability\":0.004083723539468458,\"topicId\":8}"
   ]
  },
  {
   "cell_type": "code",
   "execution_count": null,
   "metadata": {},
   "outputs": [],
   "source": [
    "displayHTML(s\"\"\"\n",
    "<!DOCTYPE html>\n",
    "<meta charset=\"utf-8\">\n",
    "<style>\n",
    "\n",
    "circle {\n",
    "  fill: rgb(31, 119, 180);\n",
    "  fill-opacity: 0.5;\n",
    "  stroke: rgb(31, 119, 180);\n",
    "  stroke-width: 1px;\n",
    "}\n",
    "\n",
    ".leaf circle {\n",
    "  fill: #ff7f0e;\n",
    "  fill-opacity: 1;\n",
    "}\n",
    "\n",
    "text {\n",
    "  font: 14px sans-serif;\n",
    "}\n",
    "\n",
    "</style>\n",
    "<body>\n",
    "<script src=\"https://cdnjs.cloudflare.com/ajax/libs/d3/3.5.5/d3.min.js\"></script>\n",
    "<script>\n",
    "\n",
    "var json = {\n",
    " \"name\": \"data\",\n",
    " \"children\": [\n",
    "  {\n",
    "     \"name\": \"topics\",\n",
    "     \"children\": [\n",
    "      ${rawJson}\n",
    "     ]\n",
    "    }\n",
    "   ]\n",
    "};\n",
    "\n",
    "var r = 1000,\n",
    "    format = d3.format(\",d\"),\n",
    "    fill = d3.scale.category20c();\n",
    "\n",
    "var bubble = d3.layout.pack()\n",
    "    .sort(null)\n",
    "    .size([r, r])\n",
    "    .padding(1.5);\n",
    "\n",
    "var vis = d3.select(\"body\").append(\"svg\")\n",
    "    .attr(\"width\", r)\n",
    "    .attr(\"height\", r)\n",
    "    .attr(\"class\", \"bubble\");\n",
    "\n",
    "  \n",
    "var node = vis.selectAll(\"g.node\")\n",
    "    .data(bubble.nodes(classes(json))\n",
    "    .filter(function(d) { return !d.children; }))\n",
    "    .enter().append(\"g\")\n",
    "    .attr(\"class\", \"node\")\n",
    "    .attr(\"transform\", function(d) { return \"translate(\" + d.x + \",\" + d.y + \")\"; })\n",
    "    color = d3.scale.category20();\n",
    "  \n",
    "  node.append(\"title\")\n",
    "      .text(function(d) { return d.className + \": \" + format(d.value); });\n",
    "\n",
    "  node.append(\"circle\")\n",
    "      .attr(\"r\", function(d) { return d.r; })\n",
    "      .style(\"fill\", function(d) {return color(d.topicName);});\n",
    "\n",
    "var text = node.append(\"text\")\n",
    "    .attr(\"text-anchor\", \"middle\")\n",
    "    .attr(\"dy\", \".3em\")\n",
    "    .text(function(d) { return d.className.substring(0, d.r / 3)});\n",
    "  \n",
    "  text.append(\"tspan\")\n",
    "      .attr(\"dy\", \"1.2em\")\n",
    "      .attr(\"x\", 0)\n",
    "      .text(function(d) {return Math.ceil(d.value * 10000) /10000; });\n",
    "\n",
    "// Returns a flattened hierarchy containing all leaf nodes under the root.\n",
    "function classes(root) {\n",
    "  var classes = [];\n",
    "\n",
    "  function recurse(term, node) {\n",
    "    if (node.children) node.children.forEach(function(child) { recurse(node.term, child); });\n",
    "    else classes.push({topicName: node.topicId, className: node.term, value: node.probability});\n",
    "  }\n",
    "\n",
    "  recurse(null, root);\n",
    "  return {children: classes};\n",
    "}\n",
    "</script>\n",
    "\"\"\")"
   ]
  },
  {
   "cell_type": "markdown",
   "metadata": {},
   "source": []
  }
 ],
 "nbformat": 4,
 "nbformat_minor": 5,
 "metadata": {}
}
