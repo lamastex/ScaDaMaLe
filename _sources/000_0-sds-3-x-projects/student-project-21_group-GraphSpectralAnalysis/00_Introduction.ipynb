{
 "cells": [
  {
   "cell_type": "markdown",
   "metadata": {},
   "source": [
    "Raaz added this here:\n",
    "\n",
    "-   need scala 2.11 (which means spark 2.x clusters as spark 3.+ is\n",
    "    scala 2.12)\n",
    "-   pyhon 3\n",
    "-   some config parameters in init scripts for clusre...\n",
    "    -   explain what you need and why you think you need it\n",
    "\n",
    "URLS\n",
    "\n",
    "-   library ...\n",
    "\n",
    "TODO - \\[ \\] load ethereum table (Ciwan) - decide which data to use -\n",
    "\\[x\\] create graph from table (Ciwan) - \\[ \\] create random graphs -\n",
    "naive random (Hanna) - some smarter random generation - \\[x\\] parse\n",
    "graph into boundary/incidents matrix B (Ciwan) - \\[x\\] compute RSVD in\n",
    "scala (Hanna) - save matrix as parquet file - to RSVD in scala - save\n",
    "results as parquet file - configs in json file - \\[ \\] visualise\n",
    "eigenvalues of graph - \\[ \\] cluster eigenvectors?"
   ]
  }
 ],
 "nbformat": 4,
 "nbformat_minor": 5,
 "metadata": {}
}
