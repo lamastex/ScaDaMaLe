{
 "cells": [
  {
   "cell_type": "markdown",
   "metadata": {},
   "source": [
    "Analyse the eigenvalue spectrum\n",
    "===============================\n",
    "\n",
    "-   Load the singular values computed in 03*compute*rsvd, sort them and\n",
    "    convert to eigenvalues taking the square\n",
    "-   Plot the spectrum for each graph in a semi-log plot for comparison"
   ]
  },
  {
   "cell_type": "code",
   "execution_count": null,
   "metadata": {},
   "outputs": [],
   "source": [
    "import pyspark.sql.functions as F\n",
    "import numpy as np\n",
    "import pandas as pd\n",
    "import seaborn as sns\n",
    "%matplotlib inline\n",
    "import matplotlib.pyplot as plt"
   ]
  },
  {
   "cell_type": "markdown",
   "metadata": {},
   "source": [
    "  \n",
    "\n",
    "  \n",
    "\n",
    "### Function for getting sorted eigenvalues of graph Laplacian L from singular values of incidence matrix B"
   ]
  },
  {
   "cell_type": "code",
   "execution_count": null,
   "metadata": {},
   "outputs": [],
   "source": [
    "def to_eigen(singular_values):\n",
    "  singular_values = singular_values.sort_values(by='value', ascending=False)\n",
    "  eigen_values = np.power(singular_values, 2)\n",
    "  return eigen_values"
   ]
  },
  {
   "cell_type": "markdown",
   "metadata": {},
   "source": [
    "  \n",
    "\n",
    "  \n",
    "\n",
    "### Get eigenvalues of Ethereum graph"
   ]
  },
  {
   "cell_type": "code",
   "execution_count": null,
   "metadata": {},
   "outputs": [],
   "source": [
    "data_path = \"/projects/group21/test_ethereum_SingularValues\"\n",
    "singular_values_eth = spark.read.format('parquet').load(data_path).toPandas()\n",
    "eigen_values_eth = to_eigen(singular_values_eth)"
   ]
  },
  {
   "cell_type": "markdown",
   "metadata": {},
   "source": [
    "  \n",
    "\n",
    "  \n",
    "\n",
    "### Get eigenvalues of Erdös-Renyi graphs"
   ]
  },
  {
   "cell_type": "code",
   "execution_count": null,
   "metadata": {},
   "outputs": [],
   "source": [
    "eigen_values_uniform = []\n",
    "for i in range(10):\n",
    "  data_path = \"/projects/group21/uniform_random_graph_SingularValues\" + str(i)\n",
    "  singular_values = spark.read.format('parquet').load(data_path).toPandas()\n",
    "  eigen_values_uniform.append(to_eigen(singular_values))"
   ]
  },
  {
   "cell_type": "markdown",
   "metadata": {},
   "source": [
    "  \n",
    "\n",
    "  \n",
    "\n",
    "### Get eigenvalues of R-MAT graphs"
   ]
  },
  {
   "cell_type": "code",
   "execution_count": null,
   "metadata": {},
   "outputs": [],
   "source": [
    "eigen_values_rmat = []\n",
    "for i in range(10):\n",
    "  data_path = \"/projects/group21/rmat_random_graph_SingularValues\" + str(i)\n",
    "  singular_values = spark.read.format('parquet').load(data_path).toPandas()\n",
    "  eigen_values_rmat.append(to_eigen(singular_values))"
   ]
  },
  {
   "cell_type": "markdown",
   "metadata": {},
   "source": [
    "  \n",
    "\n",
    "  \n",
    "\n",
    "### Plot sorted eigenvalues for all graphs"
   ]
  },
  {
   "cell_type": "code",
   "execution_count": null,
   "metadata": {},
   "outputs": [],
   "source": [
    "colors = sns.color_palette()\n",
    "fig, ax = plt.subplots(figsize=(16, 9))\n",
    "x = np.arange(len(eigen_values_eth))\n",
    "ax = sns.lineplot(x=x, y=eigen_values_eth.to_numpy().ravel(), color=colors[0], label='ethereum')\n",
    "for i in range(9):\n",
    "  ax = sns.lineplot(x=x, y=eigen_values_uniform[i].to_numpy().ravel(), color=colors[1], alpha=0.4)\n",
    "  ax = sns.lineplot(x=x, y=eigen_values_rmat[i].to_numpy().ravel(), color=colors[2], alpha=0.4)\n",
    "  \n",
    "ax = sns.lineplot(x=x, y=eigen_values_uniform[9].to_numpy().ravel(), color=colors[1], alpha=0.4, label='erdös-renyi')\n",
    "ax = sns.lineplot(x=x, y=eigen_values_rmat[9].to_numpy().ravel(), color=colors[2], alpha=0.4, label='rmat')\n",
    "ax.set_yscale('log')\n",
    "ax.legend()\n"
   ]
  },
  {
   "cell_type": "markdown",
   "metadata": {},
   "source": [
    "  \n",
    "\n",
    "Conclusion\n",
    "----------\n",
    "\n",
    "We observe a large descrepency in the spectrums between the Erdös-Renyi,\n",
    "R-MAT and Ethereum transaction graphs. As can be expected, the spectrum\n",
    "of the Erdös-Renyi graphs is almost constant due to the isotropy of the\n",
    "graph topology. The Ethereum transaction graph has very large\n",
    "eigenvalues compared to the random graphs. A likely explanation is the\n",
    "presence of nodes of very high degree in the graph.\n",
    "\n",
    "We can see that the R-MAT graph lies in between uniform Erdös-Renyi and\n",
    "Ethereum graph. This is also as expected since the R-MAT model is\n",
    "designed to better mimic the behaviour of real graphs. In this project\n",
    "we used the default parameters for the R-MAT graph and it is likely that\n",
    "with further experimentation one could find a setting which better fit\n",
    "the spectum of the transaction graph."
   ]
  }
 ],
 "nbformat": 4,
 "nbformat_minor": 5,
 "metadata": {}
}
