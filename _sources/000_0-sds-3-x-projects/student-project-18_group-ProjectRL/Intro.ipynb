{
 "cells": [
  {
   "cell_type": "markdown",
   "metadata": {},
   "source": [
    "Introduction\n",
    "------------\n",
    "\n",
    "In this project we aim to analyse and improve a Movie Recommendation\n",
    "system. We:\n",
    "\n",
    "Mathematically analyse how the recommender works\n",
    "\n",
    "Create a system that takes user info and outputs suggestions.\n",
    "\n",
    "For first time users, the program gives the top rated movies over all\n",
    "users.\n",
    "\n",
    "Improve the existing model by including the reviewer's age and the\n",
    "movie's genres to give better recommendations.\n",
    "\n",
    "Problem description\n",
    "-------------------\n",
    "\n",
    "We have N users and M movies, and a rating matrix R where each component\n",
    "r\\_{ij} corresponds to the rating given by user i to the movie j. The\n",
    "problem is that some components of R are messing, meaning that not all\n",
    "users have rated all movies, and the objective is to estimate these\n",
    "ratings to know which movies to recommend to the users."
   ]
  }
 ],
 "nbformat": 4,
 "nbformat_minor": 5,
 "metadata": {}
}
