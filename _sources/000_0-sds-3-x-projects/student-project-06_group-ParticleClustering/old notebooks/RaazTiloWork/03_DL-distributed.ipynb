{
 "cells": [
  {
   "cell_type": "markdown",
   "metadata": {},
   "source": [
    "I am reading the following :\n",
    "\n",
    "-   https://docs.databricks.com/applications/machine-learning/train-model/distributed-training/horovod-runner.html\n",
    "-   make this a databricsk notebook:\n",
    "    https://docs.databricks.com/applications/machine-learning/train-model/distributed-training/mnist-tensorflow-keras.html\n",
    "-   https://horovod.readthedocs.io/en/stable/keras.html\n",
    "-   https://arxiv.org/abs/1802.05799\n",
    "-   https://github.com/horovod/horovod\n",
    "\n",
    "Hey all: I am working in `Workspace/scalable-data-science/sds-3-x-ddl`\n",
    "and trying to get horovod over tensorflow/keras examples and\n",
    "hoos/pointers going for all groups interested in distributed DL via\n",
    "horovod for now..."
   ]
  }
 ],
 "nbformat": 4,
 "nbformat_minor": 5,
 "metadata": {}
}
