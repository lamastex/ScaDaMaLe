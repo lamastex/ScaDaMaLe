{
 "cells": [
  {
   "cell_type": "markdown",
   "metadata": {},
   "source": [
    "Distributed deep learning training using TensorFlow and Keras with HorovodRunner\n",
    "================================================================================\n",
    "\n",
    "This notebook demonstrates how to train a model for the MNIST dataset\n",
    "using the `tensorflow.keras` API. It first shows how to train the model\n",
    "on a single node, and then shows how to adapt the code using\n",
    "HorovodRunner for distributed training.\n",
    "\n",
    "**Requirements** \\* This notebook runs on CPU or GPU clusters. \\* To run\n",
    "the notebook, create a cluster with - Two workers - Databricks Runtime\n",
    "6.3 ML or above\n",
    "\n",
    "Set up checkpoint location\n",
    "--------------------------\n",
    "\n",
    "The next cell creates a directory for saved checkpoint models."
   ]
  },
  {
   "cell_type": "code",
   "execution_count": null,
   "metadata": {},
   "outputs": [],
   "source": [
    "import os\n",
    "import time\n",
    "\n",
    "checkpoint_dir = '/dbfs/ml/MNISTDemo/train/{}/'.format(time.time())\n",
    "\n",
    "os.makedirs(checkpoint_dir)"
   ]
  },
  {
   "cell_type": "markdown",
   "metadata": {},
   "source": [
    "  \n",
    "\n",
    "Create function to prepare data\n",
    "-------------------------------\n",
    "\n",
    "This following cell creates a function that prepares the data for\n",
    "training. This function takes in `rank` and `size` arguments so it can\n",
    "be used for both single-node and distributed training. In Horovod,\n",
    "`rank` is a unique process ID and `size` is the total number of\n",
    "processes.\n",
    "\n",
    "This function downloads the data from `keras.datasets`, distributes the\n",
    "data across the available nodes, and converts the data to shapes and\n",
    "types needed for training."
   ]
  },
  {
   "cell_type": "code",
   "execution_count": null,
   "metadata": {},
   "outputs": [],
   "source": [
    "def get_dataset(num_classes, rank=0, size=1):\n",
    "  from tensorflow import keras\n",
    "  \n",
    "  (x_train, y_train), (x_test, y_test) = keras.datasets.mnist.load_data('MNIST-data-%d' % rank)\n",
    "  x_train = x_train[rank::size]\n",
    "  y_train = y_train[rank::size]\n",
    "  x_test = x_test[rank::size]\n",
    "  y_test = y_test[rank::size]\n",
    "  x_train = x_train.reshape(x_train.shape[0], 28, 28, 1)\n",
    "  x_test = x_test.reshape(x_test.shape[0], 28, 28, 1)\n",
    "  x_train = x_train.astype('float32')\n",
    "  x_test = x_test.astype('float32')\n",
    "  x_train /= 255\n",
    "  x_test /= 255\n",
    "  y_train = keras.utils.to_categorical(y_train, num_classes)\n",
    "  y_test = keras.utils.to_categorical(y_test, num_classes)\n",
    "  return (x_train, y_train), (x_test, y_test)"
   ]
  },
  {
   "cell_type": "markdown",
   "metadata": {},
   "source": [
    "  \n",
    "\n",
    "Create function to train model\n",
    "------------------------------\n",
    "\n",
    "The following cell defines the model using the `tensorflow.keras` API.\n",
    "This code is adapted from the [Keras MNIST convnet\n",
    "example](https://keras.io/examples/vision/mnist_convnet/). The model\n",
    "consists of 2 convolutional layers, a max-pooling layer, two dropout\n",
    "layers, and a final dense layer."
   ]
  },
  {
   "cell_type": "code",
   "execution_count": null,
   "metadata": {},
   "outputs": [],
   "source": [
    "def get_model(num_classes):\n",
    "  from tensorflow.keras import models\n",
    "  from tensorflow.keras import layers\n",
    "  \n",
    "  model = models.Sequential()\n",
    "  model.add(layers.Conv2D(32, kernel_size=(3, 3),\n",
    "                   activation='relu',\n",
    "                   input_shape=(28, 28, 1)))\n",
    "  model.add(layers.Conv2D(64, (3, 3), activation='relu'))\n",
    "  model.add(layers.MaxPooling2D(pool_size=(2, 2)))\n",
    "  model.add(layers.Dropout(0.25))\n",
    "  model.add(layers.Flatten())\n",
    "  model.add(layers.Dense(128, activation='relu'))\n",
    "  model.add(layers.Dropout(0.5))\n",
    "  model.add(layers.Dense(num_classes, activation='softmax'))\n",
    "  return model"
   ]
  },
  {
   "cell_type": "markdown",
   "metadata": {},
   "source": [
    "  \n",
    "\n",
    "Run training on single node\n",
    "---------------------------\n",
    "\n",
    "At this point, you have created functions to load and preprocess the\n",
    "dataset and to create the model.  \n",
    "This section illustrates single-node training code using\n",
    "`tensorflow.keras`."
   ]
  },
  {
   "cell_type": "code",
   "execution_count": null,
   "metadata": {},
   "outputs": [],
   "source": [
    "# Specify training parameters\n",
    "batch_size = 128\n",
    "epochs = 5\n",
    "num_classes = 10        \n",
    "\n",
    "\n",
    "def train(learning_rate=1.0):\n",
    "  from tensorflow import keras\n",
    "  \n",
    "  (x_train, y_train), (x_test, y_test) = get_dataset(num_classes)\n",
    "  model = get_model(num_classes)\n",
    "\n",
    "  # Specify the optimizer (Adadelta in this example), using the learning rate input parameter of the function so that Horovod can adjust the learning rate during training\n",
    "  optimizer = keras.optimizers.Adadelta(lr=learning_rate)\n",
    "\n",
    "  model.compile(optimizer=optimizer,\n",
    "                loss='categorical_crossentropy',\n",
    "                metrics=['accuracy'])\n",
    "\n",
    "  model.fit(x_train, y_train,\n",
    "            batch_size=batch_size,\n",
    "            epochs=epochs,\n",
    "            verbose=2,\n",
    "            validation_data=(x_test, y_test))"
   ]
  },
  {
   "cell_type": "markdown",
   "metadata": {},
   "source": [
    "  \n",
    "\n",
    "Run the `train` function you just created to train a model on the driver\n",
    "node. The process takes several minutes. The accuracy improves with each\n",
    "epoch."
   ]
  },
  {
   "cell_type": "code",
   "execution_count": null,
   "metadata": {},
   "outputs": [],
   "source": [
    "train(learning_rate=0.1)"
   ]
  },
  {
   "cell_type": "markdown",
   "metadata": {},
   "source": [
    "  \n",
    "\n",
    "Migrate to HorovodRunner for distributed training\n",
    "-------------------------------------------------\n",
    "\n",
    "This section shows how to modify the single-node code to use Horovod.\n",
    "For more information about Horovod, see the [Horovod\n",
    "documentation](https://horovod.readthedocs.io/en/stable/)."
   ]
  },
  {
   "cell_type": "code",
   "execution_count": null,
   "metadata": {},
   "outputs": [],
   "source": [
    "def train_hvd(learning_rate=1.0):\n",
    "  # Import tensorflow modules to each worker\n",
    "  from tensorflow.keras import backend as K\n",
    "  from tensorflow.keras.models import Sequential\n",
    "  import tensorflow as tf\n",
    "  from tensorflow import keras\n",
    "  import horovod.tensorflow.keras as hvd\n",
    "  \n",
    "  # Initialize Horovod\n",
    "  hvd.init()\n",
    "\n",
    "  # Pin GPU to be used to process local rank (one GPU per process)\n",
    "  # These steps are skipped on a CPU cluster\n",
    "  gpus = tf.config.experimental.list_physical_devices('GPU')\n",
    "  for gpu in gpus:\n",
    "    tf.config.experimental.set_memory_growth(gpu, True)\n",
    "  if gpus:\n",
    "    tf.config.experimental.set_visible_devices(gpus[hvd.local_rank()], 'GPU')\n",
    "\n",
    "  # Call the get_dataset function you created, this time with the Horovod rank and size\n",
    "  (x_train, y_train), (x_test, y_test) = get_dataset(num_classes, hvd.rank(), hvd.size())\n",
    "  model = get_model(num_classes)\n",
    "\n",
    "  # Adjust learning rate based on number of GPUs\n",
    "  optimizer = keras.optimizers.Adadelta(lr=learning_rate * hvd.size())\n",
    "\n",
    "  # Use the Horovod Distributed Optimizer\n",
    "  optimizer = hvd.DistributedOptimizer(optimizer)\n",
    "\n",
    "  model.compile(optimizer=optimizer,\n",
    "                loss='categorical_crossentropy',\n",
    "                metrics=['accuracy'])\n",
    "\n",
    "  # Create a callback to broadcast the initial variable states from rank 0 to all other processes.\n",
    "  # This is required to ensure consistent initialization of all workers when training is started with random weights or restored from a checkpoint.\n",
    "  callbacks = [\n",
    "      hvd.callbacks.BroadcastGlobalVariablesCallback(0),\n",
    "  ]\n",
    "\n",
    "  # Save checkpoints only on worker 0 to prevent conflicts between workers\n",
    "  if hvd.rank() == 0:\n",
    "      callbacks.append(keras.callbacks.ModelCheckpoint(checkpoint_dir + '/checkpoint-{epoch}.ckpt', save_weights_only = True))\n",
    "\n",
    "  model.fit(x_train, y_train,\n",
    "            batch_size=batch_size,\n",
    "            callbacks=callbacks,\n",
    "            epochs=epochs,\n",
    "            verbose=2,\n",
    "            validation_data=(x_test, y_test))"
   ]
  },
  {
   "cell_type": "markdown",
   "metadata": {},
   "source": [
    "  \n",
    "\n",
    "Now that you have defined a training function with Horovod, you can use\n",
    "HorovodRunner to distribute the work of training the model.\n",
    "\n",
    "The HorovodRunner parameter `np` sets the number of processes. This\n",
    "example uses a cluster with two workers, each with a single GPU, so set\n",
    "`np=2`. (If you use `np=-1`, HorovodRunner trains using a single process\n",
    "on the driver node.)"
   ]
  },
  {
   "cell_type": "code",
   "execution_count": null,
   "metadata": {},
   "outputs": [],
   "source": [
    "from sparkdl import HorovodRunner\n",
    "\n",
    "hr = HorovodRunner(np=2)\n",
    "hr.run(train_hvd, learning_rate=0.1)"
   ]
  },
  {
   "cell_type": "markdown",
   "metadata": {},
   "source": [
    "  \n",
    "\n",
    "Under the hood, HorovodRunner takes a Python method that contains deep\n",
    "learning training code with Horovod hooks. HorovodRunner pickles the\n",
    "method on the driver and distributes it to Spark workers. A Horovod MPI\n",
    "job is embedded as a Spark job using the barrier execution mode. The\n",
    "first executor collects the IP addresses of all task executors using\n",
    "BarrierTaskContext and triggers a Horovod job using `mpirun`. Each\n",
    "Python MPI process loads the pickled user program, deserializes it, and\n",
    "runs it.\n",
    "\n",
    "For more information, see [HorovodRunner API\n",
    "documentation](https://databricks.github.io/spark-deep-learning/#api-documentation)."
   ]
  }
 ],
 "nbformat": 4,
 "nbformat_minor": 5,
 "metadata": {}
}
