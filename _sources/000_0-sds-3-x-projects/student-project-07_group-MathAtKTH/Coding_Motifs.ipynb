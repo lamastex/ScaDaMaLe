{
 "cells": [
  {
   "cell_type": "markdown",
   "metadata": {},
   "source": [
    "Motif Finding\n",
    "=============\n",
    "\n",
    "Finding motifs in graphs is no just fun, it also has applications! Here\n",
    "we study the possibility to use GraphFrames as a tool to be used in\n",
    "practice.\n",
    "\n",
    "Math tells us that motifs has important implications on the general\n",
    "structure of the graphs. For example, two DAG models are the same if\n",
    "they have the same of two motifs, v-structures and skeletons.\n",
    "\n",
    "Motif finding in graphframes uses a domain specific language (DSL). Here\n",
    "we mention the restrictions of that language and why another might be\n",
    "desirable. One problem is that more complicated queries are (seemingly)\n",
    "not supported. Our man probem however will be the way we count the\n",
    "motifs. GraphFrames uses motif finding algorithms and returns a list of\n",
    "all found subgraphs. Thus we will quickly run out of memory. More\n",
    "specialized software can preform this counting, but uses highly\n",
    "specialized tools not suitable for general motif finding.\n",
    "\n",
    "First we load the packages we need."
   ]
  },
  {
   "cell_type": "code",
   "execution_count": null,
   "metadata": {},
   "outputs": [],
   "source": [
    "import org.apache.spark.sql._\n",
    "import org.apache.spark.sql.functions._\n",
    "\n",
    "import org.graphframes._"
   ]
  },
  {
   "cell_type": "markdown",
   "metadata": {},
   "source": [
    "  \n",
    "\n",
    ">     import org.apache.spark.sql._\n",
    ">     import org.apache.spark.sql.functions._\n",
    ">     import org.graphframes._\n",
    "\n",
    "  \n",
    "\n",
    "Special Graphs\n",
    "--------------\n",
    "\n",
    "Here we code some usual motifs that are common within graph theory."
   ]
  },
  {
   "cell_type": "code",
   "execution_count": null,
   "metadata": {},
   "outputs": [],
   "source": [
    "/* \n",
    "** A function counting the number of multiple edges.\n",
    "*/\n",
    "def count_mult_edges(input_graph: GraphFrame) = {\n",
    "  input_graph.find(\"(a)-[e1]->(b); (a)-[e2]->(b)\").filter(\"e1 != e2\").count\n",
    "}"
   ]
  },
  {
   "cell_type": "markdown",
   "metadata": {},
   "source": [
    "  \n",
    "\n",
    ">     count_mult_edges: (input_graph: org.graphframes.GraphFrame)Long"
   ]
  },
  {
   "cell_type": "code",
   "execution_count": null,
   "metadata": {},
   "outputs": [],
   "source": [
    "/* \n",
    "** A function counting the number of 3-cycles.\n",
    "*/\n",
    "def count_3_cycle(input_graph: GraphFrame): Long = {\n",
    "  input_graph.find(\"(a)-[]->(b); (b)-[]->(c); (c)-[]->(a)\").count\n",
    "}"
   ]
  },
  {
   "cell_type": "markdown",
   "metadata": {},
   "source": [
    "  \n",
    "\n",
    ">     count_3_cycle: (input_graph: org.graphframes.GraphFrame)Long"
   ]
  },
  {
   "cell_type": "code",
   "execution_count": null,
   "metadata": {},
   "outputs": [],
   "source": [
    "/* \n",
    "** A function counting the number of loop edges.\n",
    "*/\n",
    "def count_loop(input_graph: GraphFrame) = {\n",
    "  input_graph.find(\"(a)-[]->(a)\").count\n",
    "}"
   ]
  },
  {
   "cell_type": "markdown",
   "metadata": {},
   "source": [
    "  \n",
    "\n",
    ">     count_loop: (input_graph: org.graphframes.GraphFrame)Long"
   ]
  },
  {
   "cell_type": "code",
   "execution_count": null,
   "metadata": {},
   "outputs": [],
   "source": [
    "/* \n",
    "** A function counting the number of bidirected edges.\n",
    "*/\n",
    "def count_bidir_edges(input_graph: GraphFrame) = {\n",
    "  input_graph.find(\"(a)-[]->(b); (b)-[]->(a)\").filter(\"a.id != b.id\").count\n",
    "}"
   ]
  },
  {
   "cell_type": "markdown",
   "metadata": {},
   "source": [
    "  \n",
    "\n",
    ">     count_bidir_edges: (input_graph: org.graphframes.GraphFrame)Long\n",
    "\n",
    "  \n",
    "\n",
    "Complete graphs\n",
    "---------------\n",
    "\n",
    "We code the motifs of the simplest complete graphs, we include an edge\n",
    "i-&gt;j if i comes before j alphabetically. That is, we code for the\n",
    "edges a-&gt;b and a-&gt;c but not for c-&gt;b. As we will see later the\n",
    "graphs of interest does not contain any loops, thus we do not have to\n",
    "filter the result ensuring that all nodes are distinct.\n",
    "\n",
    "For simplicial abstract complexes these graphs correspond to the faces.\n",
    "Thus counting them corresponds to finding entries in the f-vector."
   ]
  },
  {
   "cell_type": "code",
   "execution_count": null,
   "metadata": {},
   "outputs": [],
   "source": [
    "/* \n",
    "** Two functions counting the number of 2- and 4-dimensional faces of a \n",
    "** simplicial graphical simplex. It is assumed the the input_graph does\n",
    "** not contain any loops.\n",
    "*/\n",
    "\n",
    "def count_K2(input_graph: GraphFrame): Long = { // Should be the same as the number of edges.\n",
    "  input_graph.find(\"(a)-[]->(b)\").count\n",
    "}\n",
    "\n",
    "def count_K3(input_graph: GraphFrame): Long = {\n",
    "  input_graph.find(\"(a)-[]->(b); (a)-[]->(c); (b)-[]->(c)\").count\n",
    "}\n",
    "\n",
    "def count_K4(input_graph: GraphFrame): Long = {\n",
    "  input_graph.find(\"(a)-[]->(b); (a)-[]->(c); (a)-[]->(d); (b)-[]->(c); (b)-[]->(d); (c)-[]->(d)\").count\n",
    "}"
   ]
  },
  {
   "cell_type": "markdown",
   "metadata": {},
   "source": [
    "  \n",
    "\n",
    ">     count_K2: (input_graph: org.graphframes.GraphFrame)Long\n",
    ">     count_K3: (input_graph: org.graphframes.GraphFrame)Long\n",
    ">     count_K4: (input_graph: org.graphframes.GraphFrame)Long\n",
    "\n",
    "  \n",
    "\n",
    "Application\n",
    "===========\n",
    "\n",
    "Here we will see an example where we have done motif fining in a rats\n",
    "brain-network. Here we will also see the restrictions of what we can do\n",
    "without more specialized code.\n",
    "\n",
    "Read the edges."
   ]
  },
  {
   "cell_type": "code",
   "execution_count": null,
   "metadata": {},
   "outputs": [],
   "source": [
    "/* \n",
    "** The file edges.csv contains lines on the form \"1,5,edge\" indicating\n",
    "** we have an edge from vertex 1 to vertex 5. As we do not care about the \n",
    "** third entry (i just says \"edge\") we choose just the two first entries.\n",
    "*/\n",
    "\n",
    "val edges = spark.read.format(\"csv\").option(\"sep\",\",\").load(\"/FileStore/shared_uploads/petterre@kth.se/edges.csv\").withColumnRenamed(\"_c0\", \"src\").withColumnRenamed(\"_c1\", \"dst\").select(\"src\", \"dst\")\n",
    "\n",
    "edges.count"
   ]
  },
  {
   "cell_type": "markdown",
   "metadata": {},
   "source": [
    "  \n",
    "\n",
    ">     edges: org.apache.spark.sql.DataFrame = [src: string, dst: string]\n",
    ">     res0: Long = 7822274\n",
    "\n",
    "  \n",
    "\n",
    "Get the vertices from the edges."
   ]
  },
  {
   "cell_type": "code",
   "execution_count": null,
   "metadata": {},
   "outputs": [],
   "source": [
    "/* \n",
    "** For simplicity we read all the nodes from the column \"scr\". Notice \n",
    "** that we use the fact that every node is the source of at least one \n",
    "** edge. Thus we can get the vertices like this.\n",
    "*/\n",
    "\n",
    "val vertices = edges.select(\"src\").groupBy(\"src\").count().select(\"src\").sort(desc(\"src\")).withColumnRenamed(\"src\", \"id\")\n",
    "\n",
    "vertices.count"
   ]
  },
  {
   "cell_type": "markdown",
   "metadata": {},
   "source": [
    "  \n",
    "\n",
    ">     vertices: org.apache.spark.sql.DataFrame = [id: string]\n",
    ">     res2: Long = 31346\n",
    "\n",
    "  \n",
    "\n",
    "Since every node is the source of another, we are good to go."
   ]
  },
  {
   "cell_type": "code",
   "execution_count": null,
   "metadata": {},
   "outputs": [],
   "source": [
    "/* \n",
    "** Now we can create out graph of interest.\n",
    "*/\n",
    "\n",
    "val rat_brain_graph = GraphFrame(vertices, edges)"
   ]
  },
  {
   "cell_type": "markdown",
   "metadata": {},
   "source": [
    "  \n",
    "\n",
    ">     rat_brain_graph: org.graphframes.GraphFrame = GraphFrame(v:[id: string], e:[src: string, dst: string])\n",
    "\n",
    "  \n",
    "\n",
    "Graph specifics\n",
    "---------------\n",
    "\n",
    "As we can see above we have 31,346 vertices and 7,822,274 edges. The\n",
    "adjacancy matrix would be very sparse with only 0.7% of it's entries\n",
    "being 1. Thus it is generally better to store this as a list of edges\n",
    "(as graphframes does) as opposed to an adjacancy matrix. Despite the\n",
    "matrix being sparse, this is a rather dense graph with the average\n",
    "degree of each node being just above 499.\n",
    "\n",
    "Here we will look closer at some specifics of this graph. Some of these\n",
    "are very important for designing better algorithms."
   ]
  },
  {
   "cell_type": "code",
   "execution_count": null,
   "metadata": {},
   "outputs": [],
   "source": [
    "/* \n",
    "** As mentioned before, we do not want loops in this graph. Thus we\n",
    "** call our above function and check whether we have any.\n",
    "*/\n",
    "count_loop(rat_brain_graph) // 0"
   ]
  },
  {
   "cell_type": "markdown",
   "metadata": {},
   "source": [
    "  \n",
    "\n",
    ">     res4: Long = 0"
   ]
  },
  {
   "cell_type": "code",
   "execution_count": null,
   "metadata": {},
   "outputs": [],
   "source": [
    "/* \n",
    "** A very relevant question is if this graph is connected. If it is not\n",
    "** it would be more efficient to just look at the induvidual components.\n",
    "** That is not the case.\n",
    "*/\n",
    "\n",
    "spark.sparkContext.setCheckpointDir(\"/FileStore/shared_uploads/petterre@kth.se/\")\n",
    "\n",
    "val rat_brain_graph_connected_components = rat_brain_graph.connectedComponents.run()\n",
    "rat_brain_graph_connected_components.select(\"component\").describe().show()"
   ]
  },
  {
   "cell_type": "markdown",
   "metadata": {},
   "source": [
    "  \n",
    "\n",
    ">     +-------+---------+\n",
    ">     |summary|component|\n",
    ">     +-------+---------+\n",
    ">     |  count|    31346|\n",
    ">     |   mean|      0.0|\n",
    ">     | stddev|      0.0|\n",
    ">     |    min|        0|\n",
    ">     |    max|        0|\n",
    ">     +-------+---------+\n",
    ">\n",
    ">     rat_brain_graph_connected_components: org.apache.spark.sql.DataFrame = [id: string, component: bigint]"
   ]
  },
  {
   "cell_type": "code",
   "execution_count": null,
   "metadata": {},
   "outputs": [],
   "source": [
    "/* \n",
    "** Let us continue to look at some stastistics for this graph. We can \n",
    "** count the number of 3-cycles.\n",
    "*/\n",
    "\n",
    "count_3_cycle(rat_brain_graph) //25 630 728"
   ]
  },
  {
   "cell_type": "markdown",
   "metadata": {},
   "source": []
  },
  {
   "cell_type": "code",
   "execution_count": null,
   "metadata": {},
   "outputs": [],
   "source": [
    "/* \n",
    "** Let us continue to look at some stastistics for this graph. We can \n",
    "** count the number of multiple edges.\n",
    "*/\n",
    "\n",
    "count_mult_edges(rat_brain_graph) // 0"
   ]
  },
  {
   "cell_type": "markdown",
   "metadata": {},
   "source": []
  },
  {
   "cell_type": "code",
   "execution_count": null,
   "metadata": {},
   "outputs": [],
   "source": [
    "/* \n",
    "** Let us continue to look at some stastistics for this graph. We can \n",
    "** count the number of bidirected edges.\n",
    "*/\n",
    "\n",
    "count_bidir_edges(rat_brain_graph) //165 220"
   ]
  },
  {
   "cell_type": "markdown",
   "metadata": {},
   "source": [
    "  \n",
    "\n",
    "Count complete graphs\n",
    "---------------------\n",
    "\n",
    "Now we will (try to) run the motif finding algorithms and see how they\n",
    "preform."
   ]
  },
  {
   "cell_type": "code",
   "execution_count": null,
   "metadata": {},
   "outputs": [],
   "source": [
    "/* \n",
    "** First we look after K2. As that is the graph a->b, we expect this to \n",
    "** be equal to the number of edges, otherwise something is wrong.\n",
    "*/\n",
    "count_K2(rat_brain_graph) //7 822 274"
   ]
  },
  {
   "cell_type": "markdown",
   "metadata": {},
   "source": []
  },
  {
   "cell_type": "code",
   "execution_count": null,
   "metadata": {},
   "outputs": [],
   "source": [
    "/* \n",
    "** Now we find K3. As we will see, this takes a lot of time, longer than\n",
    "** we want it to. This is because 'find' does a general search algorithm.\n",
    "** See below for a discussion.\n",
    "*/\n",
    "\n",
    "count_K3(rat_brain_graph) //35 976 731"
   ]
  },
  {
   "cell_type": "markdown",
   "metadata": {},
   "source": []
  },
  {
   "cell_type": "code",
   "execution_count": null,
   "metadata": {},
   "outputs": [],
   "source": [
    "//count_K4(rat_brain_graph)"
   ]
  },
  {
   "cell_type": "markdown",
   "metadata": {},
   "source": [
    "  \n",
    "\n",
    "Troubles and fixes\n",
    "------------------\n",
    "\n",
    "As we saw above finding K3 takes a lot of time, and when running\n",
    "\"count*K4(rat*brain*graph)\" we run out of memory. This is because we do\n",
    "not use any of the structure of the graphs. Finding graphical simplicies\n",
    "can be made a lot quicker since we can use the structure of the graph\n",
    "$K*n$ and the structure of the \"rat*brain*graph\".\n",
    "\n",
    "How this can be done quicker can be read in \"Computing persistent\n",
    "homology of directed flag complexes\" by Daniel Luetgehetmann, Dejan\n",
    "Govc, Jason Smith, and Ran Levi (https://arxiv.org/abs/1906.10458)."
   ]
  },
  {
   "cell_type": "code",
   "execution_count": null,
   "metadata": {},
   "outputs": [],
   "source": [
    "/*\n",
    "** A better implementation of counting cells. It is not parallelized but could be\n",
    "** if we start collecting the results in a better way.\n",
    "*/\n",
    "\n",
    "def count_cells(old_child_set: DataFrame, f_vector: List[Int], edges: DataFrame, cut_of: Int, dim: Int): List[Int] = {\n",
    "  // Make a new f-vector that is mutable\n",
    "  var f_vector_new = f_vector;\n",
    "  // For each new node\n",
    "  for (vert <- old_child_set.collect()){\n",
    "    // Update the f-vector \n",
    "    f_vector_new = f_vector_new.updated(dim, f_vector_new(dim) +1);\n",
    "    // If we have not reached our cut off limit\n",
    "    if (cut_of > dim){\n",
    "      // Find the children of \"vert\" and find the intersection.\n",
    "      val child_set = old_child_set.intersect(edges.filter(edges(\"src\") === vert(0)).select(\"dst\"));\n",
    "      // Call this function recursively\n",
    "      f_vector_new = count_cells(child_set, f_vector_new, edges, cut_of, dim+1);\n",
    "    }\n",
    "  }\n",
    "  // Return the f-vector\n",
    "  f_vector_new\n",
    "}"
   ]
  },
  {
   "cell_type": "markdown",
   "metadata": {},
   "source": []
  },
  {
   "cell_type": "code",
   "execution_count": null,
   "metadata": {},
   "outputs": [],
   "source": [
    "/*\n",
    "** Makes it easier to call \"count_cells\" on a GraphFrame object. Notice\n",
    "** that we can get wrong results if the input graph has loops. We recommend\n",
    "** running \"count_loops\" to see if that is the case.\n",
    "*/\n",
    "\n",
    "def f_vector_of_graphframe(graph: GraphFrame, cut_of: Int): List[Int] = {\n",
    "  var f_vector = List(0,0,0,0,0,0,0,0,0,0);\n",
    "  if (cut_of > 9){\n",
    "    print(\"Too big cut_of\")\n",
    "    f_vector\n",
    "  }\n",
    "  count_cells(graph.vertices.select(\"id\"), f_vector, graph.edges.select(\"src\", \"dst\"), cut_of, 0);\n",
    "}"
   ]
  },
  {
   "cell_type": "markdown",
   "metadata": {},
   "source": [
    "  \n",
    "\n",
    "Example\n",
    "-------\n",
    "\n",
    "Let us take a small example that we can run in a fair time and show."
   ]
  },
  {
   "cell_type": "code",
   "execution_count": null,
   "metadata": {},
   "outputs": [],
   "source": [
    "/*\n",
    "** First we will define a small graph that is manageable by hand. This \n",
    "** graph encodes for a simplicial complex with f-vector (6, 11, 7, 1).\n",
    "*/\n",
    "// Vertex DataFrame\n",
    "val v = sqlContext.createDataFrame(List(\n",
    "  (\"a\", 1),\n",
    "  (\"b\", 2),\n",
    "  (\"c\", 3),\n",
    "  (\"d\", 4),\n",
    "  (\"e\", 5),\n",
    "  (\"f\", 6)\n",
    ")).toDF(\"id\", \"no\")\n",
    "\n",
    "// Edge DataFrame\n",
    "val e = sqlContext.createDataFrame(List(\n",
    "  (\"a\", \"b\"),\n",
    "  (\"a\", \"c\"),\n",
    "  (\"b\", \"c\"),\n",
    "  (\"b\", \"d\"),\n",
    "  (\"d\", \"c\"),\n",
    "  (\"b\", \"e\"),\n",
    "  (\"c\", \"e\"),\n",
    "  (\"d\", \"e\"), \n",
    "  (\"a\", \"f\"),\n",
    "  (\"c\", \"a\"),\n",
    "  (\"c\", \"f\")\n",
    ")).toDF(\"src\", \"dst\")\n",
    "\n",
    "val g = GraphFrame(v, e);"
   ]
  },
  {
   "cell_type": "markdown",
   "metadata": {},
   "source": []
  },
  {
   "cell_type": "code",
   "execution_count": null,
   "metadata": {},
   "outputs": [],
   "source": [
    "f_vector_of_graphframe(g, 5)"
   ]
  },
  {
   "cell_type": "markdown",
   "metadata": {},
   "source": []
  },
  {
   "cell_type": "code",
   "execution_count": null,
   "metadata": {},
   "outputs": [],
   "source": [
    "g.vertices.count\n",
    "count_K2(g)\n",
    "count_K3(g)\n",
    "count_K4(g)\n",
    "\n",
    "Det här är inte kod!"
   ]
  },
  {
   "cell_type": "markdown",
   "metadata": {},
   "source": []
  },
  {
   "cell_type": "code",
   "execution_count": null,
   "metadata": {},
   "outputs": [],
   "source": [
    "f_vector_of_graphframe(rat_brain_graph, cut_of = 2)"
   ]
  },
  {
   "cell_type": "markdown",
   "metadata": {},
   "source": []
  }
 ],
 "nbformat": 4,
 "nbformat_minor": 5,
 "metadata": {}
}
