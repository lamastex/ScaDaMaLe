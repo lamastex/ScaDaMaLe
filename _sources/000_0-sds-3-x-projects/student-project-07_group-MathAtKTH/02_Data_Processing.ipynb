{
 "cells": [
  {
   "cell_type": "markdown",
   "metadata": {},
   "source": [
    "Data Processing\n",
    "===============\n",
    "\n",
    "Here we will load the data as it was given to us, as a \".npy\" file, and\n",
    "rewrite it in a simpler format. Why we do this is motivated in\n",
    "\"Coding\\_Motifs\", subsection \"application\"."
   ]
  },
  {
   "cell_type": "code",
   "execution_count": null,
   "metadata": {},
   "outputs": [],
   "source": [
    "# Load packages\n",
    "\n",
    "import numpy as np"
   ]
  },
  {
   "cell_type": "markdown",
   "metadata": {},
   "source": [
    "  \n",
    "\n",
    "Read the data as a numpy object (since we got it like that), and save it\n",
    "as a \".csv\" since scala can read that."
   ]
  },
  {
   "cell_type": "code",
   "execution_count": null,
   "metadata": {},
   "outputs": [],
   "source": [
    "\n",
    "\n",
    "M = np.load('/dbfs/FileStore/shared_uploads/adlindhe@kth.se/M.npy')\n",
    "np.savetxt(\"/dbfs/FileStore/shared_uploads/adlindhe@kth.se/M.csv\", M, delimiter=\",\")\n"
   ]
  },
  {
   "cell_type": "markdown",
   "metadata": {},
   "source": [
    "  \n",
    "\n",
    "Right now the data is an adjacency matrix of size 31346 times 31346 but\n",
    "only 0.7% of all entries are 1. Thus we would like to save it down as\n",
    "something a little easier to handle. We can read the adjacency matrix\n",
    "directly as a dataframe, but that does not work well with graphframes.\n",
    "Instead we want it as an edgelist."
   ]
  },
  {
   "cell_type": "code",
   "execution_count": null,
   "metadata": {},
   "outputs": [],
   "source": [
    "/*\n",
    "** Example on how we can read the data.\n",
    "*/\n",
    "val Ms = spark.read.format(\"csv\").option(\"sep\",\",\").option(\"MaxColumns\",40000).load(\"/FileStore/shared_uploads/adlindhe@kth.se/M.csv\")"
   ]
  },
  {
   "cell_type": "markdown",
   "metadata": {},
   "source": [
    "  \n",
    "\n",
    "Thus we rewrite it as a edgelist. Thus we can more easily load it into\n",
    "graphframes."
   ]
  },
  {
   "cell_type": "code",
   "execution_count": null,
   "metadata": {},
   "outputs": [],
   "source": [
    "# Loop over the whole matrix. This takes time (~ 1h).\n",
    "\n",
    "edges_file = open(\"/dbfs/FileStore/shared_uploads/petterre@kth.se/edges.csv\", \"w\")\n",
    "\n",
    "for i in range(len(M)):\n",
    "  for j in range(len(M[i])):\n",
    "    for k in range(M[i][j]):\n",
    "      edges_file.write(str(i) + \",\" + str(j) + \",edge\\n\")\n",
    "\n",
    "edges_file.close()\n"
   ]
  },
  {
   "cell_type": "markdown",
   "metadata": {},
   "source": [
    "  \n",
    "\n",
    "Look at it to see if it looks ok."
   ]
  },
  {
   "cell_type": "code",
   "execution_count": null,
   "metadata": {},
   "outputs": [],
   "source": [
    "head /dbfs/FileStore/shared_uploads/petterre@kth.se/edges.csv\n"
   ]
  },
  {
   "cell_type": "markdown",
   "metadata": {},
   "source": []
  },
  {
   "cell_type": "code",
   "execution_count": null,
   "metadata": {},
   "outputs": [],
   "source": [
    "Ms.cache // cache the DataFrame this time\n",
    "Ms.count // now after this action, the next count will be fast..."
   ]
  },
  {
   "cell_type": "markdown",
   "metadata": {},
   "source": []
  },
  {
   "cell_type": "code",
   "execution_count": null,
   "metadata": {},
   "outputs": [],
   "source": [
    "display(Ms)"
   ]
  },
  {
   "cell_type": "markdown",
   "metadata": {},
   "source": []
  }
 ],
 "nbformat": 4,
 "nbformat_minor": 5,
 "metadata": {}
}
