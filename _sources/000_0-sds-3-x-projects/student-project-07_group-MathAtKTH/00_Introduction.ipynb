{
 "cells": [
  {
   "cell_type": "markdown",
   "metadata": {},
   "source": [
    "The issues of not specilized software on specialized data\n",
    "=========================================================\n",
    "\n",
    "A. Lindhe F. Tombari P. Restadh\n",
    "\n",
    "Raaz and/or Kieran Barber (Raaz's research student who has been doing\n",
    "TDA data analysis work on the `rat brain network` paper) are adding\n",
    "links to papers, data and codes in this github repository for helping\n",
    "the MathAtKTH and TowardsScalableTDA groups become familiar a little\n",
    "faster with the data.\n",
    "\n",
    "Please see progress here: -\n",
    "https://github.com/lamastex/working-manuscript-TopologicalDataAnalysisOnABrainNetwork\n",
    "\n",
    "The first data ingestion task is to figure out how to use the data and\n",
    "tools linked from above to get data into 'dbfs:///'.\n",
    "\n",
    "Please email ka\\_barber@live.co.uk for a quick discussion early next\n",
    "week if you have questions about the content in the above GitHub\n",
    "repository.\n",
    "\n",
    "Topology\n",
    "========\n",
    "\n",
    "It is cool. Francesca can write something here?"
   ]
  }
 ],
 "nbformat": 4,
 "nbformat_minor": 5,
 "metadata": {}
}
