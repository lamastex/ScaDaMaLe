{
 "cells": [
  {
   "cell_type": "markdown",
   "metadata": {},
   "source": [
    "Intro\n",
    "=====\n",
    "\n",
    "In this notebook we create a code-writing program. Coding a specific\n",
    "motif generally makes for very long strings, the length grows as $n^2$.\n",
    "Thus coding them directly is very inefficient. We solved this problem\n",
    "via a simple program. Here we can simply feed the adjacancy matrix of\n",
    "the motif we want to find, and it gives us the scala code."
   ]
  },
  {
   "cell_type": "code",
   "execution_count": null,
   "metadata": {},
   "outputs": [],
   "source": [
    "import numpy as np"
   ]
  },
  {
   "cell_type": "markdown",
   "metadata": {},
   "source": [
    "  \n",
    "\n",
    "  \n",
    "\n",
    "In this funtion we input the adjacancy matrix of the motif we want to\n",
    "find. Then it produces the text of a scala command. Than command can\n",
    "then be copy-pasted into another notebook.\n",
    "\n",
    "Here we simply go through the adjacancy matrix and fix the string\n",
    "thereafter. In this function the motif we want to find is induced by the\n",
    "graph. Thus each edge is either wanted or forbidden.\n",
    "\n",
    "loops - Do we care about loops or not."
   ]
  },
  {
   "cell_type": "code",
   "execution_count": null,
   "metadata": {},
   "outputs": [],
   "source": [
    "\n",
    "def matrix_to_string(input_matrix, input_function_name, loops = True):\n",
    "  ret_string = \"def \" + input_function_name + \"(input_graph: GraphFrame) = {\\n\\tval string_\" +input_function_name+ \" = \\\"\"\n",
    "  filter_string = \"\"\n",
    "  pos_edges = \"\"\n",
    "  neg_edges = \"\"\n",
    "  alphabet = ['a','b','c','d','e','f','g','h','i','j','k','l','m','n','o','p','q','r','s','t','u','v','w','x','y','z']\n",
    "  \n",
    "  for i in range(len(input_matrix)):\n",
    "    for j in range(len(input_matrix[i])):\n",
    "      if i == j:\n",
    "        if loops and input_matrix[i][j] != 0:\n",
    "          pos_edges += \"(\" + alphabet[i] + \")-[]->(\" + alphabet[j] + \"); \"\n",
    "        elif loops:\n",
    "          neg_edges += \"!(\" + alphabet[i] + \")-[]->(\" + alphabet[j] + \"); \"\n",
    "      elif input_matrix[i][j] != 0:\n",
    "        pos_edges += \"(\" + alphabet[i] + \")-[]->(\" + alphabet[j] + \"); \"\n",
    "      else:\n",
    "        neg_edges += \"!(\" + alphabet[i] + \")-[]->(\" + alphabet[j] + \"); \"\n",
    "      if i > j:\n",
    "        filter_string += \".filter(\\\"\" + alphabet[j] + \".id != \" + alphabet[i] + \".id\\\")\"\n",
    "  ret_string += pos_edges + neg_edges\n",
    "  ret_string = ret_string[0:-2]\n",
    "  ret_string += \"\\\"\\n\\tinput_graph.find(g_1)\"\n",
    "  ret_string += filter_string\n",
    "  ret_string += \".count\\n}\\n\"\n",
    "  return ret_string\n",
    "  \n",
    "  \n",
    "  "
   ]
  },
  {
   "cell_type": "markdown",
   "metadata": {},
   "source": [
    "  \n",
    "\n",
    "  \n",
    "\n",
    "In this funtion we input the signed adjacancy matrix of the motif we\n",
    "want to find. Then it produces the text of a scala command. Than command\n",
    "can then be copy-pasted into another notebook.\n",
    "\n",
    "Here we simply go through the adjacancy matrix and fix the string\n",
    "thereafter. In this function each edge can either be demanded,\n",
    "forbidden, or allowed. The three states are represented by 1, -1, and\n",
    "all other values.\n",
    "\n",
    "loops - Do we care about loops or not."
   ]
  },
  {
   "cell_type": "code",
   "execution_count": null,
   "metadata": {},
   "outputs": [],
   "source": [
    "def matrix_to_string_signed(input_matrix, input_function_name):\n",
    "  ret_string = \"def \" + input_function_name + \"(input_graph: GraphFrame) = {\\n\\tval string_\" +input_function_name+ \" = \\\"\"\n",
    "  filter_string = \"\"\n",
    "  pos_edges = \"\"\n",
    "  neg_edges = \"\"\n",
    "  alphabet = ['a','b','c','d','e','f','g','h','i','j','k','l','m','n','o','p','q','r','s','t','u','v','w','x','y','z']\n",
    "  \n",
    "  for i in range(len(input_matrix)):\n",
    "    for j in range(len(input_matrix[i])):\n",
    "      if input_matrix[i][j] == 1:\n",
    "        pos_edges += \"(\" + alphabet[i] + \")-[]->(\" + alphabet[j] + \"); \"\n",
    "      elif input_matrix[i][j] == -1:\n",
    "        neg_edges += \"!(\" + alphabet[i] + \")-[]->(\" + alphabet[j] + \"); \"\n",
    "      if i > j:\n",
    "        filter_string += \".filter(\\\"\" + alphabet[j] + \".id != \" + alphabet[i] + \".id\\\")\"\n",
    "  ret_string += pos_edges + neg_edges\n",
    "  ret_string = ret_string[0:-2]\n",
    "  ret_string += \"\\\"\\n\\tinput_graph.find(g_1)\"\n",
    "  ret_string += filter_string\n",
    "  ret_string += \".count\\n}\\n\"\n",
    "  return ret_string"
   ]
  },
  {
   "cell_type": "markdown",
   "metadata": {},
   "source": [
    "  \n",
    "\n",
    "  \n",
    "\n",
    "Examples\n",
    "========\n",
    "\n",
    "Here is a quick example where we have coded for a \"claw\". Another name\n",
    "for the claw is a star of size 3, meaning it has 4 vertices."
   ]
  },
  {
   "cell_type": "code",
   "execution_count": null,
   "metadata": {},
   "outputs": [],
   "source": [
    "print(matrix_to_string([[0,0,0,1],[0,0,0,1],[0,0,0,1],[0,0,0,0]], \"count_claw\", loops = False))\n"
   ]
  },
  {
   "cell_type": "markdown",
   "metadata": {},
   "source": [
    "  \n",
    "\n",
    ">     def count_claw(input_graph: GraphFrame) = {\n",
    ">     \tval g_1 = \"(a)-[]->(d); (b)-[]->(d); (c)-[]->(d); !(a)-[]->(b); !(a)-[]->(c); !(b)-[]->(a); !(b)-[]->(c); !(c)-[]->(a); !(c)-[]->(b); !(d)-[]->(a); !(d)-[]->(b); !(d)-[]->(c)\"\n",
    ">     \tinput_graph.find(g_1).filter(\"a.id != b.id\").filter(\"a.id != c.id\").filter(\"b.id != c.id\").filter(\"a.id != d.id\").filter(\"b.id != d.id\").filter(\"c.id != d.id\").count\n",
    ">     }\n",
    "\n",
    "  \n",
    "\n",
    "Here we cave coded for a v-structure."
   ]
  },
  {
   "cell_type": "code",
   "execution_count": null,
   "metadata": {},
   "outputs": [],
   "source": [
    "print(matrix_to_string([[0,0,1],[0,0,1],[0,0,0]], \"count_v_struc\", loops = False))"
   ]
  },
  {
   "cell_type": "markdown",
   "metadata": {},
   "source": [
    "  \n",
    "\n",
    ">     def count_v_struc(input_graph: GraphFrame) = {\n",
    ">     \tval g_1 = \"(a)-[]->(c); (b)-[]->(c); !(a)-[]->(b); !(b)-[]->(a); !(c)-[]->(a); !(c)-[]->(b)\"\n",
    ">     \tinput_graph.find(g_1).filter(\"a.id != b.id\").filter(\"a.id != c.id\").filter(\"b.id != c.id\").count\n",
    ">     }\n",
    "\n",
    "  \n",
    "\n",
    "Counting how many loops"
   ]
  },
  {
   "cell_type": "code",
   "execution_count": null,
   "metadata": {},
   "outputs": [],
   "source": [
    "print(matrix_to_string([[1]], \"count_loop\"))"
   ]
  },
  {
   "cell_type": "markdown",
   "metadata": {},
   "source": [
    "  \n",
    "\n",
    ">     def count_loop(input_graph: GraphFrame) = {\n",
    ">     \tval g_1 = \"(a)-[]->(a)\"\n",
    ">     \tinput_graph.find(g_1).count\n",
    ">     }\n",
    "\n",
    "  \n",
    "\n",
    "A very important thing we want to look at is complete graphs.\n",
    "\n",
    "As these can grow big, we write a function to generate them."
   ]
  },
  {
   "cell_type": "code",
   "execution_count": null,
   "metadata": {},
   "outputs": [],
   "source": [
    "def adj_matrix_complete_graph(size):\n",
    "  adj_matrix = np.zeros((size,size))\n",
    "  for i in range(len(adj_matrix)):\n",
    "    for j in range(i+1, len(adj_matrix[i])):\n",
    "      adj_matrix[i][j] = 1\n",
    "  return adj_matrix\n",
    "  "
   ]
  },
  {
   "cell_type": "markdown",
   "metadata": {},
   "source": [
    "  \n",
    "\n",
    "  \n",
    "\n",
    "Now we can generate the code of interest."
   ]
  },
  {
   "cell_type": "code",
   "execution_count": null,
   "metadata": {},
   "outputs": [],
   "source": [
    "for i in range(3,7+1):\n",
    "  print(matrix_to_string_signed(adj_matrix_complete_graph(i), \"count_K\"+str(i)))"
   ]
  },
  {
   "cell_type": "markdown",
   "metadata": {},
   "source": [
    "  \n",
    "\n",
    ">     def count_K3(input_graph: GraphFrame) = {\n",
    ">     \tval g_1 = \"(a)-[]->(b); (a)-[]->(c); (b)-[]->(c)\"\n",
    ">     \tinput_graph.find(g_1).filter(\"a.id != b.id\").filter(\"a.id != c.id\").filter(\"b.id != c.id\").count\n",
    ">     }\n",
    ">\n",
    ">     def count_K4(input_graph: GraphFrame) = {\n",
    ">     \tval g_1 = \"(a)-[]->(b); (a)-[]->(c); (a)-[]->(d); (b)-[]->(c); (b)-[]->(d); (c)-[]->(d)\"\n",
    ">     \tinput_graph.find(g_1).filter(\"a.id != b.id\").filter(\"a.id != c.id\").filter(\"b.id != c.id\").filter(\"a.id != d.id\").filter(\"b.id != d.id\").filter(\"c.id != d.id\").count\n",
    ">     }\n",
    ">\n",
    ">     def count_K5(input_graph: GraphFrame) = {\n",
    ">     \tval g_1 = \"(a)-[]->(b); (a)-[]->(c); (a)-[]->(d); (a)-[]->(e); (b)-[]->(c); (b)-[]->(d); (b)-[]->(e); (c)-[]->(d); (c)-[]->(e); (d)-[]->(e)\"\n",
    ">     \tinput_graph.find(g_1).filter(\"a.id != b.id\").filter(\"a.id != c.id\").filter(\"b.id != c.id\").filter(\"a.id != d.id\").filter(\"b.id != d.id\").filter(\"c.id != d.id\").filter(\"a.id != e.id\").filter(\"b.id != e.id\").filter(\"c.id != e.id\").filter(\"d.id != e.id\").count\n",
    ">     }\n",
    ">\n",
    ">     def count_K6(input_graph: GraphFrame) = {\n",
    ">     \tval g_1 = \"(a)-[]->(b); (a)-[]->(c); (a)-[]->(d); (a)-[]->(e); (a)-[]->(f); (b)-[]->(c); (b)-[]->(d); (b)-[]->(e); (b)-[]->(f); (c)-[]->(d); (c)-[]->(e); (c)-[]->(f); (d)-[]->(e); (d)-[]->(f); (e)-[]->(f)\"\n",
    ">     \tinput_graph.find(g_1).filter(\"a.id != b.id\").filter(\"a.id != c.id\").filter(\"b.id != c.id\").filter(\"a.id != d.id\").filter(\"b.id != d.id\").filter(\"c.id != d.id\").filter(\"a.id != e.id\").filter(\"b.id != e.id\").filter(\"c.id != e.id\").filter(\"d.id != e.id\").filter(\"a.id != f.id\").filter(\"b.id != f.id\").filter(\"c.id != f.id\").filter(\"d.id != f.id\").filter(\"e.id != f.id\").count\n",
    ">     }\n",
    ">\n",
    ">     def count_K7(input_graph: GraphFrame) = {\n",
    ">     \tval g_1 = \"(a)-[]->(b); (a)-[]->(c); (a)-[]->(d); (a)-[]->(e); (a)-[]->(f); (a)-[]->(g); (b)-[]->(c); (b)-[]->(d); (b)-[]->(e); (b)-[]->(f); (b)-[]->(g); (c)-[]->(d); (c)-[]->(e); (c)-[]->(f); (c)-[]->(g); (d)-[]->(e); (d)-[]->(f); (d)-[]->(g); (e)-[]->(f); (e)-[]->(g); (f)-[]->(g)\"\n",
    ">     \tinput_graph.find(g_1).filter(\"a.id != b.id\").filter(\"a.id != c.id\").filter(\"b.id != c.id\").filter(\"a.id != d.id\").filter(\"b.id != d.id\").filter(\"c.id != d.id\").filter(\"a.id != e.id\").filter(\"b.id != e.id\").filter(\"c.id != e.id\").filter(\"d.id != e.id\").filter(\"a.id != f.id\").filter(\"b.id != f.id\").filter(\"c.id != f.id\").filter(\"d.id != f.id\").filter(\"e.id != f.id\").filter(\"a.id != g.id\").filter(\"b.id != g.id\").filter(\"c.id != g.id\").filter(\"d.id != g.id\").filter(\"e.id != g.id\").filter(\"f.id != g.id\").count\n",
    ">     }"
   ]
  }
 ],
 "nbformat": 4,
 "nbformat_minor": 5,
 "metadata": {}
}
