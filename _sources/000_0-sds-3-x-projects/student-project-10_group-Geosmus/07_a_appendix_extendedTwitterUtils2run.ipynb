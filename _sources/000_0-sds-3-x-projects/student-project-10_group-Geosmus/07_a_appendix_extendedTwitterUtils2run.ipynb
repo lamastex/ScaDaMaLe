{
 "cells": [
  {
   "cell_type": "markdown",
   "metadata": {},
   "source": [
    "Note, this notebook has been edited slightly from the one supplied by Raaz.\n",
    "---------------------------------------------------------------------------\n",
    "\n",
    "[ScaDaMaLe, Scalable Data Science and Distributed Machine Learning](https://lamastex.github.io/scalable-data-science/sds/3/x/)\n",
    "==============================================================================================================================\n",
    "\n",
    "Extended spark.streaming.twitter.TwitterUtils\n",
    "=============================================\n",
    "\n",
    "### 2016-2020 Ivan Sadikov and Raazesh Sainudiin\n",
    "\n",
    "We extend twitter utils from Spark to allow for filtering by user-ids\n",
    "using `.follow` and strings in the tweet using `.track` method of\n",
    "`twitter4j`.\n",
    "\n",
    "This is part of *Project MEP: Meme Evolution Programme* and supported by\n",
    "databricks, AWS and a Swedish VR grant.\n",
    "\n",
    "The analysis is available in the following databricks notebook: \\*\n",
    "[http://lamastex.org/lmse/mep/src/extendedTwitterUtils.html](http://lamastex.org/lmse/mep/src/extendedTwitterUtil.html)\n",
    "\n",
    "\\`\\`\\` Copyright 2016-2020 Ivan Sadikov and Raazesh Sainudiin\n",
    "\n",
    "Licensed under the Apache License, Version 2.0 (the \"License\"); you may\n",
    "not use this file except in compliance with the License. You may obtain\n",
    "a copy of the License at\n",
    "\n",
    "    http://www.apache.org/licenses/LICENSE-2.0\n",
    "\n",
    "Unless required by applicable law or agreed to in writing, software\n",
    "distributed under the License is distributed on an \"AS IS\" BASIS,\n",
    "WITHOUT WARRANTIES OR CONDITIONS OF ANY KIND, either express or implied.\n",
    "See the License for the specific language governing permissions and\n",
    "limitations under the License. \\`\\`\\`"
   ]
  },
  {
   "cell_type": "code",
   "execution_count": null,
   "metadata": {},
   "outputs": [],
   "source": [
    "import twitter4j._\n",
    "import twitter4j.auth.Authorization\n",
    "import twitter4j.conf.ConfigurationBuilder\n",
    "import twitter4j.auth.OAuthAuthorization\n",
    "\n",
    "import org.apache.spark.streaming._\n",
    "import org.apache.spark.streaming.dstream._\n",
    "import org.apache.spark.storage.StorageLevel\n",
    "import org.apache.spark.streaming.receiver.Receiver"
   ]
  },
  {
   "cell_type": "markdown",
   "metadata": {},
   "source": [
    "  \n",
    "\n",
    "### Twitter receiver and stream"
   ]
  },
  {
   "cell_type": "code",
   "execution_count": null,
   "metadata": {},
   "outputs": [],
   "source": [
    "// modifications inspired by https://github.com/apache/bahir/blob/master/streaming-twitter/src/main/scala/org/apache/spark/streaming/twitter/TwitterInputDStream.scala\n",
    "class ExtendedTwitterReceiver(\n",
    "    twitterAuth: Authorization,\n",
    "    query: Option[FilterQuery],\n",
    "    storageLevel: StorageLevel\n",
    "  ) extends Receiver[Status](storageLevel) {\n",
    "\n",
    "  @volatile private var twitterStream: TwitterStream = _\n",
    "  @volatile private var stopped = false\n",
    "\n",
    "  def onStart() {\n",
    "    try {\n",
    "      val newTwitterStream = new TwitterStreamFactory().getInstance(twitterAuth)\n",
    "      newTwitterStream.addListener(new StatusListener {\n",
    "        def onStatus(status: Status): Unit = {\n",
    "          store(status)\n",
    "        }\n",
    "        // Unimplemented\n",
    "        def onDeletionNotice(statusDeletionNotice: StatusDeletionNotice) {}\n",
    "        def onTrackLimitationNotice(i: Int) {}\n",
    "        def onScrubGeo(l: Long, l1: Long) {}\n",
    "        def onStallWarning(stallWarning: StallWarning) {}\n",
    "        def onException(e: Exception) {\n",
    "          if (!stopped) {\n",
    "            restart(\"Error receiving tweets\", e)\n",
    "          }\n",
    "        }\n",
    "      })\n",
    "\n",
    "      // do filtering only when filters are available\n",
    "      if (query.isDefined) {\n",
    "        newTwitterStream.filter(query.get)\n",
    "      } else {\n",
    "        newTwitterStream.sample()\n",
    "      }\n",
    "      setTwitterStream(newTwitterStream)\n",
    "      println(\"Twitter receiver started\")\n",
    "      stopped = false\n",
    "    } catch {\n",
    "      case e: Exception => restart(\"Error starting Twitter stream\", e)\n",
    "    }\n",
    "  }\n",
    "\n",
    "  def onStop() {\n",
    "    stopped = true\n",
    "    setTwitterStream(null)\n",
    "    println(\"Twitter receiver stopped\")\n",
    "  }\n",
    "\n",
    "  private def setTwitterStream(newTwitterStream: TwitterStream) = synchronized {\n",
    "    if (twitterStream != null) {\n",
    "      twitterStream.shutdown()\n",
    "    }\n",
    "    twitterStream = newTwitterStream\n",
    "  }\n",
    "}"
   ]
  },
  {
   "cell_type": "markdown",
   "metadata": {},
   "source": []
  },
  {
   "cell_type": "code",
   "execution_count": null,
   "metadata": {},
   "outputs": [],
   "source": [
    "class ExtendedTwitterInputDStream(\n",
    "    ssc_ : StreamingContext,\n",
    "    twitterAuth: Option[Authorization],\n",
    "    query: Option[FilterQuery],\n",
    "    storageLevel: StorageLevel\n",
    "  ) extends ReceiverInputDStream[Status](ssc_)  {\n",
    "\n",
    "  private def createOAuthAuthorization(): Authorization = {\n",
    "    new OAuthAuthorization(new ConfigurationBuilder().build())\n",
    "  }\n",
    "\n",
    "  private val authorization = twitterAuth.getOrElse(createOAuthAuthorization())\n",
    "\n",
    "  override def getReceiver(): Receiver[Status] = {\n",
    "    new ExtendedTwitterReceiver(authorization, query, storageLevel)\n",
    "  }\n",
    "}"
   ]
  },
  {
   "cell_type": "markdown",
   "metadata": {},
   "source": [
    "  \n",
    "\n",
    "### Extended twitter utils"
   ]
  },
  {
   "cell_type": "code",
   "execution_count": null,
   "metadata": {},
   "outputs": [],
   "source": [
    "import twitter4j.Status\n",
    "import twitter4j.auth.Authorization\n",
    "import org.apache.spark.storage.StorageLevel\n",
    "import org.apache.spark.streaming.StreamingContext\n",
    "import org.apache.spark.streaming.dstream.{ReceiverInputDStream, DStream}\n",
    "\n",
    "object ExtendedTwitterUtils {\n",
    "  def createStream(\n",
    "      ssc: StreamingContext,\n",
    "      twitterAuth: Option[Authorization],\n",
    "      query: Option[FilterQuery] = None,\n",
    "      storageLevel: StorageLevel = StorageLevel.MEMORY_AND_DISK_SER_2\n",
    "    ): ReceiverInputDStream[Status] = {\n",
    "    new ExtendedTwitterInputDStream(ssc, twitterAuth, query, storageLevel)\n",
    "  }\n",
    "}"
   ]
  },
  {
   "cell_type": "markdown",
   "metadata": {},
   "source": []
  },
  {
   "cell_type": "code",
   "execution_count": null,
   "metadata": {},
   "outputs": [],
   "source": [
    "println(\"done running the extendedTwitterUtils2run notebook - ready to stream from twitter\")"
   ]
  },
  {
   "cell_type": "markdown",
   "metadata": {},
   "source": []
  }
 ],
 "nbformat": 4,
 "nbformat_minor": 5,
 "metadata": {}
}
