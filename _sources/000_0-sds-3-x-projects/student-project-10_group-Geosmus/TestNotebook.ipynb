{
 "cells": [
  {
   "cell_type": "markdown",
   "metadata": {},
   "source": [
    "Project notebook test\n",
    "====================="
   ]
  },
  {
   "cell_type": "code",
   "execution_count": null,
   "metadata": {},
   "outputs": [],
   "source": [
    "var usr = dbutils.notebook.getContext.tags(\"user\")\n",
    "var keys_notebook_location = \"/Users/\" + usr + \"/KeysAndTokens\"\n",
    "dbutils.notebook.run(keys_notebook_location, 100) // needs upgraded databricks subscription"
   ]
  },
  {
   "cell_type": "markdown",
   "metadata": {},
   "source": []
  },
  {
   "cell_type": "code",
   "execution_count": null,
   "metadata": {},
   "outputs": [],
   "source": [
    "ls /dbfs/datasets/"
   ]
  },
  {
   "cell_type": "markdown",
   "metadata": {},
   "source": [
    "  \n",
    "\n",
    ">     05_lda\n",
    ">     MEP\n",
    ">     ScaDaMaLe\n",
    ">     batchFiles\n",
    ">     beijing\n",
    ">     graphhopper\n",
    ">     group10\n",
    ">     group12\n",
    ">     iris.csv\n",
    ">     magellan\n",
    ">     maps\n",
    ">     mini_newsgroups\n",
    ">     model\n",
    ">     osm\n",
    ">     physics\n",
    ">     sds\n",
    ">     sou\n",
    ">     spark-examples\n",
    ">     stoppord.csv\n",
    ">     streamingFiles\n",
    ">     streamingFilesNormalMixture\n",
    ">     student-project-01\n",
    ">     svwiki-20201120-pages-articles.xml\n",
    ">     tweetsStreamTmp\n",
    ">     twitterAccountsOfInterest.csv\n",
    ">     wiki-clickstream\n",
    "\n",
    "  \n",
    "\n",
    "Please take a look at this repos for scoring emotionally charged words.\n",
    "It's in Python and would be straightforward to redo in scala. You cal\n",
    "also just do the collection of tweets in scala and write the right input\n",
    "data by reading in the parquet files of the tweets (written in scala)\n",
    "via a pyspark dataframe and process it with the python code in this\n",
    "repo:\n",
    "\n",
    "-   https://github.com/lamastex/CoSENSE"
   ]
  }
 ],
 "nbformat": 4,
 "nbformat_minor": 5,
 "metadata": {}
}
