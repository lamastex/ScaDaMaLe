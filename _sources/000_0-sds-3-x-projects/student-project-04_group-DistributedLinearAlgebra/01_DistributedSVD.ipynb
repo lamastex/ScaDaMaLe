{
 "cells": [
  {
   "cell_type": "markdown",
   "metadata": {},
   "source": [
    "\\*\\* Authors: \\*\\* Måns Williamson, Jonatan Vallin\n",
    "\n",
    "The video presentation for this project can be found &lt;a\n",
    "href=\"https://vimeo.com/499834997\"&gt; here&lt;/a&gt;.\n",
    "\n",
    "Distributed singular value decomposition\n",
    "========================================\n",
    "\n",
    "This part of the project deals with distributed singular value\n",
    "decomposition. The singular value decomposition of a real matrix $A$ is\n",
    "given by \\\\\\[A= U S V^T,\\\\\\]\n",
    "\n",
    "where $S$ is a diagonal matrix of size $n\\\\times n$ and $U$ ($m\\\\times\n",
    "n$ ) and $V$ ($n\\\\times n$) are real matrices such that $U^T U =I$ and\n",
    "$V^T V=I$. (See for example &lt;a\n",
    "href=\"https://en.wikipedia.org/wiki/Singular*value*decomposition\"&gt;wikipedia\n",
    "&lt;/a&gt;, &lt;a\n",
    "href=\"https://web.mit.edu/be.400/www/SVD/Singular*Value*Decomposition.htm\"&gt;MIT\n",
    "&lt;/a&gt; and &lt;a\n",
    "href=\"https://mathworld.wolfram.com/SingularValueDecomposition.html\"&gt;WolframMathworld\n",
    "&lt;/a&gt;). A standard way of computing this is to first compute the\n",
    "product $A^T A= VDV^T$. The matrix S is then obtained by taking the\n",
    "square root of the diagonal of $D$ and finally we obtain $U$ by\n",
    "computing $U = AV S^{-1}$.\n",
    "\n",
    "When one has large matrices and wants to compute the SVD distributed one\n",
    "takes into account the structure of the matrix and choose an algorithm\n",
    "that takes advantage of this.\n",
    "\n",
    "One particular case is when one wants to compute the singular value\n",
    "decomposition of a so called \"tall and skinny\" matrix $A$. This means\n",
    "that the number of rows $m$ is much larger than the number of columns\n",
    "$n$. An example of where this is the case is the Audioscrobbler\n",
    "recommender system used by &lt;a\n",
    "href=\"https://en.wikipedia.org/wiki/Last.fm\"&gt;Last.fm &lt;/a&gt;. The\n",
    "typicall dataset will be a tall and skinny matrix where each row\n",
    "contains three entries; an identifier for a song, an identifier for a\n",
    "user and a player count (so each row tells us how many times a user has\n",
    "played a song).\n",
    "\n",
    "We will look at an algorithm in spark for computing the SVD where one\n",
    "make use of the structure of the tall and skinny matrix $A$. The\n",
    "algorithm has the following steps:\n",
    "\n",
    "-   It is computationally expensive to compute the product $A^T A$ so we\n",
    "    compute this distributed (map-reduce).\n",
    "\n",
    "-   $A^T A$ is of size $n\\\\times n$ ( $n$ is small) so we can compute\n",
    "    $V$ and $S$ locally by computing the eigenvectors and -values of\n",
    "    $A^TA$.\n",
    "\n",
    "-   We then compute $U= AVS^{-1}$ as distributed matrix multiplication\n",
    "    by broadcasting $VS^{-1}$ to each partition and compute the\n",
    "    multiplication with the rows of $A$.\n",
    "\n",
    "In the spark mllib library theres a package for distributed linear\n",
    "algebra (&lt;a\n",
    "href=\"https://spark.apache.org/docs/2.2.0/mllib-data-types.html\"&gt;Data\n",
    "Types&lt;/a&gt;) and an object that we will use is the IndexedRow-object\n",
    ". This takes two parameters; a vector and an index that indicates on\n",
    "which row of the matrix the index is located. We can then create an RDD\n",
    "in spark of IndexedRow-objects. Below we use the matrix\n",
    "\n",
    "$$A = \\\\begin{pmatrix} 1 & 2 \\\\\\\\ 3& 4 \\\\\\\\ 0& 0\\\\\\\\0&0 \\\\end{pmatrix}\n",
    "$$ to test the algorithm on. We start by creating the matrix as an array\n",
    "of tuples. We then map each partittion (tuple) to a dense vector that we\n",
    "zip with its index (so we have a (vector,index)-tuple) that we use to\n",
    "create an IndexedRow. (It's worth mentioning that there is an\n",
    "implementation of &lt;a\n",
    "href=\"https://spark.apache.org/docs/2.2.0/mllib-dimensionality-reduction.html\"&gt;SVD&lt;/a&gt;\n",
    "in Spark for &lt;a\n",
    "href=\"https://spark.apache.org/docs/2.2.0/api/scala/index.html\\#org.apache.spark.mllib.linalg.distributed.RowMatrix\"&gt;RowMatrices&lt;/a&gt;\n",
    "- an RDD of rows of a matrix without indices)."
   ]
  },
  {
   "cell_type": "code",
   "execution_count": null,
   "metadata": {},
   "outputs": [],
   "source": [
    "\n",
    "//Import the necessary objects:\n",
    "import org.apache.spark.mllib.linalg.distributed.IndexedRow\n",
    "import org.apache.spark.mllib.linalg.Matrices\n",
    "\n",
    "\n",
    "\n",
    "//Create the matrix A above as a dense matrix:\n",
    "val Amatrix = Matrices.dense(4,2,Array(1,3,0,0,2,4,0,0))\n",
    "\n",
    "//Zip each row of a with its index and map it to an indexed row object (x._2 is the index and x._1 the array).\n",
    "//Once we have an IndexedRow r we can get the index and vector by calling r.index and r.vector \n",
    "val A = sc.parallelize(Amatrix.rowIter.toArray.zipWithIndex.map(x=>new IndexedRow(x._2,x._1)))\n",
    "\n",
    " A.take(2)\n",
    "\n"
   ]
  },
  {
   "cell_type": "markdown",
   "metadata": {},
   "source": [
    "  \n",
    "\n",
    "  \n",
    "\n",
    "The first part of the algorithm that is \"expensive\" is the computation\n",
    "of the product $A^T A$ (we compute $A^T A$ rather than $A A^T$ since the\n",
    "former has the shape $n \\\\times n$ which we assume is small enough to\n",
    "fit on a local machine and $A A^T$ is of size $m\\\\times m$ ) . We note\n",
    "that  \n",
    "$$ \\\\left( A^T A\\\\right)*{j,k} = \\\\sum*{i=1}^m a*{ij} a*{ik}. $$\n",
    "\n",
    "This means that we can compute $A^T A$ by mapping a row (say the i:th\n",
    "row) $$a*i = \\\\left(a*{i1}, \\\\dots , a\\_{in} \\\\right) $$\n",
    "\n",
    "to all the products of its elements. We thus create a function that\n",
    "takes an IndexedRow $$a*i $$ and maps it to key-value pairs $$ ((j,k),\n",
    "a*{ij} a\\_{ik}), 1\\\\leq j \\\\leq m, 1\\\\leq k \\\\leq n. $$\n",
    "\n",
    "We then have an key-value RDD of ((Int,Int),Double)-tuples:"
   ]
  },
  {
   "cell_type": "code",
   "execution_count": null,
   "metadata": {},
   "outputs": [],
   "source": [
    "import scala.collection.mutable.ArrayBuffer\n",
    "\n",
    "\n",
    "//Function that maps an indexed row (index,(a_1,...,a_n)) to   ((j,k),a_j*a_k), j=1,..,n and k=1,...,n\n",
    "def f(v: IndexedRow): Array[((Int,Int),Double)]={\n",
    "var keyvaluepairs = ArrayBuffer[((Int,Int),Double)]()\n",
    "for(j<-0 to v.vector.size-1){\n",
    "  for(k<-0 to v.vector.size-1){\n",
    "  keyvaluepairs.append(((j,k),v.vector(j)*v.vector(k)))\n",
    "  }\n",
    "}\n",
    "keyvaluepairs.toArray\n",
    "}\n",
    "\n",
    "//map M to key-value rdd where key =(j,k) and value = a_ij*a_ik.\n",
    "//We use flatmap since we don't need to keep the row structure.\n",
    "val keyvalRDD = A.flatMap(row =>f(row))\n",
    "\n",
    "keyvalRDD.take(5)"
   ]
  },
  {
   "cell_type": "markdown",
   "metadata": {},
   "source": [
    "  \n",
    "\n",
    "We can now perform a reduceByKey-operation (join on $(j,k)$ ) and then\n",
    "sum over$$ ((j,k), a*{ij} a*{ik}) $$ for all $i$ to compute\n",
    "\n",
    "$$ \\\\left( A^T A\\\\right)*{j,k} = \\\\sum*{i=1}^m a*{ij} a*{ik}. $$\n",
    "\n",
    "We then have a key-value RDD of ((Int,Int),Double)-tuples, where the\n",
    "value is an entry in the matrix $A$ and the key indicates on what\n",
    "position in the matrix it is located:\n",
    "\n",
    "$$\\\\left( (j,k), \\\\left( A^T A\\\\right)\\_{j,k} \\\\right), 1\\\\leq j \\\\leq\n",
    "m, 1\\\\leq k \\\\leq n.$$"
   ]
  },
  {
   "cell_type": "code",
   "execution_count": null,
   "metadata": {},
   "outputs": [],
   "source": [
    "\n",
    "//Sum up all key-value pairs that have the same key (j,k) (corresponts to getting the element of A.T*A on the j:th row and k:th column).\n",
    "val keyvalSum = keyvalRDD.reduceByKey((x,y)=>x+y)\n",
    "\n",
    "keyvalSum.take(2)\n"
   ]
  },
  {
   "cell_type": "markdown",
   "metadata": {},
   "source": [
    "  \n",
    "\n",
    "We now make use of another object in the distributer linear algebra\n",
    "package in spark mllib; &lt;a\n",
    "href=\"https://spark.apache.org/docs/2.2.0/api/scala/index.html\\#org.apache.spark.mllib.linalg.distributed.MatrixEntry\"&gt;MatrixEntry\n",
    "&lt;/a&gt;. We map each key-value pair to a MatrixEntry-object (which\n",
    "has a row index, column index and a value). With this we can create a\n",
    "&lt;a\n",
    "href=\"https://spark.apache.org/docs/2.2.0/mllib-data-types.html\\#coordinatematrix\"&gt;CoordinateMatrix\n",
    "&lt;/a&gt;. We can transform this to a &lt;a\n",
    "href=\"https://spark.apache.org/docs/2.2.0/mllib-data-types.html\\#rowmatrix\"&gt;RowMatrix\n",
    "&lt;/a&gt; that we finally collect."
   ]
  },
  {
   "cell_type": "code",
   "execution_count": null,
   "metadata": {},
   "outputs": [],
   "source": [
    "import org.apache.spark.mllib.linalg.distributed.{CoordinateMatrix, MatrixEntry}\n",
    "import breeze.linalg.DenseMatrix\n",
    "\n",
    "//map to matrix entries\n",
    "val matrix = keyvalSum.map(el => MatrixEntry(el._1._1, el._1._2, el._2))   \n",
    "\n",
    "//Create a CoordinateMatrix\n",
    "val mat = new CoordinateMatrix(matrix)\n",
    "\n",
    "\n",
    "//Transform to RowMatrix and collect.\n",
    "val ATArowmatrix = mat.toRowMatrix().rows.collect()\n",
    "\n"
   ]
  },
  {
   "cell_type": "markdown",
   "metadata": {},
   "source": [
    "  \n",
    "\n",
    "We now want to calculate the eigen values and eigen vectors of $A^T A$\n",
    "(locally) and in order to do this we transform it to a DenseMatrix (from\n",
    "the Breeze linear algebra package):"
   ]
  },
  {
   "cell_type": "code",
   "execution_count": null,
   "metadata": {},
   "outputs": [],
   "source": [
    "val m = mat.numRows()\n",
    "val n = mat.numCols()\n",
    "\n",
    "//Create an empty DenseMatrix (in which we will store the product A.T*A).\n",
    "val ATA = DenseMatrix.zeros[Double](m.toInt,n.toInt)\n",
    "\n",
    "//Each row will be a sparse vector. For each row we iterate over the non-zeros indices (foreachActive) and fill the i:th row of the ATA-matrix.\n",
    "var i = 0\n",
    "ATArowmatrix.foreach { vec =>\n",
    "  vec.foreachActive { case (index, value) =>\n",
    "    ATA(i, index) = value\n",
    "  }\n",
    "  i += 1\n",
    "}"
   ]
  },
  {
   "cell_type": "markdown",
   "metadata": {},
   "source": [
    "  \n",
    "\n",
    "We compute the eigenvalues and eigenvectors. The matrix $S$ in the SVD\n",
    "is obtained by computing the square root of the eigenvalues and\n",
    "inserting them in a diagonal matrix and the matrix $V$ are the\n",
    "eigenvectors:"
   ]
  },
  {
   "cell_type": "code",
   "execution_count": null,
   "metadata": {},
   "outputs": [],
   "source": [
    "\n",
    "import scala.collection.mutable.ArrayBuffer\n",
    "import breeze.linalg._, eigSym.EigSym\n",
    "\n",
    "//lambda is a vector with the eigenvalues of A.T*A and evs the eigenvector matrix.\n",
    "val EigSym(lambda, evs) = eigSym(ATA) \n",
    "//det(evs)\n",
    "\n",
    "val w=lambda.map(x=>if(x >0) Math.sqrt(x) else 0) //square root of eigen values to compute the S matrix.\n",
    "val S =diag(w)  \n",
    "val V =evs\n",
    "\n"
   ]
  },
  {
   "cell_type": "markdown",
   "metadata": {},
   "source": [
    "  \n",
    "\n",
    "In the last step we need to compute $$U = AVS^{-1}.$$\n",
    "\n",
    "Since both $V$ and $S^{-1}$ are of size $n\\\\times n$ (and $n$ is\n",
    "relatively small) we can compute the product $VS^{-1}$ locally and then\n",
    "broadcast it to each partition of $A$ (which is an RDD of IndexedRow)."
   ]
  },
  {
   "cell_type": "code",
   "execution_count": null,
   "metadata": {},
   "outputs": [],
   "source": [
    "//Compute the inverse of S.\n",
    "val Sinv = S.map(x=>if(x==0) 0 else 1/x)   //invert the diagonal matrix.\n",
    "\n",
    "//Compute the product of V and inverse of S.\n",
    "val M = V*Sinv\n",
    "\n",
    "//Broadcast to the spark context.\n",
    "sc.broadcast(M)"
   ]
  },
  {
   "cell_type": "markdown",
   "metadata": {},
   "source": [
    "  \n",
    "\n",
    "We define a function that we can use to multiply an IndexedRow with a\n",
    "DenseMatrix on the left. We use this to map each row of $A$ to its\n",
    "product with $VS^{-1}$:"
   ]
  },
  {
   "cell_type": "code",
   "execution_count": null,
   "metadata": {},
   "outputs": [],
   "source": [
    "import org.apache.spark.mllib.linalg.distributed.{IndexedRowMatrix}\n",
    "\n",
    "//Function that multiplies an indexedRow object with a DenseMatrix (from breeze.linalg.DenseMatrix) on the left and returns an Array.\n",
    "def prod(u: IndexedRow, m: DenseMatrix[Double]): Array[Double]={\n",
    "var w = ArrayBuffer[Double]()\n",
    "for(i<-0 to m.cols-1){\n",
    "  var x: Double =0\n",
    "  for(j<-0 to m.rows-1){\n",
    "      x=x+m(j,i)*u.vector(j)\n",
    "  }\n",
    "  w.append(x)\n",
    "}\n",
    "w.toArray\n",
    "}\n",
    "\n",
    "\n",
    "//COmpute the matrix product by multiplying each indexed row with the Matrix M (and then collect the result)\n",
    "val Urows =A.map(row => prod(row,M)).collect() \n",
    "\n",
    "//Create a dense matrix U with the rows.\n",
    "val U = DenseMatrix(Urows:_*)   \n",
    "\n"
   ]
  },
  {
   "cell_type": "markdown",
   "metadata": {},
   "source": [
    "  \n",
    "\n",
    "Finally we print the product $USV^T$ and check that it corresponds to\n",
    "$A$"
   ]
  },
  {
   "cell_type": "code",
   "execution_count": null,
   "metadata": {},
   "outputs": [],
   "source": [
    "//Print the product USV.t to check that it equals A:\n",
    "println(U*S*V.t)\n"
   ]
  },
  {
   "cell_type": "markdown",
   "metadata": {},
   "source": []
  }
 ],
 "nbformat": 4,
 "nbformat_minor": 5,
 "metadata": {}
}
